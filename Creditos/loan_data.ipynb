{
 "cells": [
  {
   "cell_type": "markdown",
   "id": "fa7ba611",
   "metadata": {},
   "source": [
    "---\n",
    "---\n",
    "\n",
    "# ANALISIS DE DATOS BANCARIOS PARA DETERMINAR LA APROBACION O RECHAZO DE CREDITOS\n",
    "\n",
    "---\n",
    "---\n"
   ]
  },
  {
   "cell_type": "code",
   "execution_count": 1,
   "id": "09f105b9",
   "metadata": {},
   "outputs": [],
   "source": [
    "import pandas as pd\n",
    "import numpy as np\n",
    "import seaborn as sns # Librerias de graficos\n",
    "%matplotlib inline \n",
    "import matplotlib.pyplot as plt"
   ]
  },
  {
   "cell_type": "code",
   "execution_count": 2,
   "id": "92429f8e",
   "metadata": {},
   "outputs": [
    {
     "data": {
      "text/html": [
       "<div>\n",
       "<style scoped>\n",
       "    .dataframe tbody tr th:only-of-type {\n",
       "        vertical-align: middle;\n",
       "    }\n",
       "\n",
       "    .dataframe tbody tr th {\n",
       "        vertical-align: top;\n",
       "    }\n",
       "\n",
       "    .dataframe thead th {\n",
       "        text-align: right;\n",
       "    }\n",
       "</style>\n",
       "<table border=\"1\" class=\"dataframe\">\n",
       "  <thead>\n",
       "    <tr style=\"text-align: right;\">\n",
       "      <th></th>\n",
       "      <th>Text</th>\n",
       "      <th>Income</th>\n",
       "      <th>Credit_Score</th>\n",
       "      <th>Loan_Amount</th>\n",
       "      <th>DTI_Ratio</th>\n",
       "      <th>Employment_Status</th>\n",
       "      <th>Approval</th>\n",
       "    </tr>\n",
       "  </thead>\n",
       "  <tbody>\n",
       "    <tr>\n",
       "      <th>0</th>\n",
       "      <td>I need a loan to pay for an international vaca...</td>\n",
       "      <td>26556</td>\n",
       "      <td>581</td>\n",
       "      <td>8314</td>\n",
       "      <td>79.26</td>\n",
       "      <td>employed</td>\n",
       "      <td>Rejected</td>\n",
       "    </tr>\n",
       "    <tr>\n",
       "      <th>1</th>\n",
       "      <td>I want to make home improvements like installi...</td>\n",
       "      <td>197392</td>\n",
       "      <td>389</td>\n",
       "      <td>111604</td>\n",
       "      <td>22.14</td>\n",
       "      <td>employed</td>\n",
       "      <td>Rejected</td>\n",
       "    </tr>\n",
       "    <tr>\n",
       "      <th>2</th>\n",
       "      <td>I need a loan for home renovation, including a...</td>\n",
       "      <td>44561</td>\n",
       "      <td>523</td>\n",
       "      <td>34118</td>\n",
       "      <td>45.44</td>\n",
       "      <td>employed</td>\n",
       "      <td>Rejected</td>\n",
       "    </tr>\n",
       "    <tr>\n",
       "      <th>3</th>\n",
       "      <td>I need funds to buy new furniture and applianc...</td>\n",
       "      <td>190363</td>\n",
       "      <td>729</td>\n",
       "      <td>118757</td>\n",
       "      <td>10.22</td>\n",
       "      <td>unemployed</td>\n",
       "      <td>Rejected</td>\n",
       "    </tr>\n",
       "    <tr>\n",
       "      <th>4</th>\n",
       "      <td>I need a loan to start a small business.</td>\n",
       "      <td>61853</td>\n",
       "      <td>732</td>\n",
       "      <td>19210</td>\n",
       "      <td>44.13</td>\n",
       "      <td>employed</td>\n",
       "      <td>Approved</td>\n",
       "    </tr>\n",
       "  </tbody>\n",
       "</table>\n",
       "</div>"
      ],
      "text/plain": [
       "                                                Text  Income  Credit_Score  \\\n",
       "0  I need a loan to pay for an international vaca...   26556           581   \n",
       "1  I want to make home improvements like installi...  197392           389   \n",
       "2  I need a loan for home renovation, including a...   44561           523   \n",
       "3  I need funds to buy new furniture and applianc...  190363           729   \n",
       "4           I need a loan to start a small business.   61853           732   \n",
       "\n",
       "   Loan_Amount  DTI_Ratio Employment_Status  Approval  \n",
       "0         8314      79.26          employed  Rejected  \n",
       "1       111604      22.14          employed  Rejected  \n",
       "2        34118      45.44          employed  Rejected  \n",
       "3       118757      10.22        unemployed  Rejected  \n",
       "4        19210      44.13          employed  Approved  "
      ]
     },
     "execution_count": 2,
     "metadata": {},
     "output_type": "execute_result"
    }
   ],
   "source": [
    "df = pd.read_csv(\"loan_data.csv\")\n",
    "df.head(5)"
   ]
  },
  {
   "cell_type": "code",
   "execution_count": 3,
   "id": "cf4e3316",
   "metadata": {},
   "outputs": [],
   "source": [
    "# Elimino columna que no me sirve para el analisis\n",
    "df = df.drop(columns=['Text'])"
   ]
  },
  {
   "cell_type": "code",
   "execution_count": 4,
   "id": "dcaa0759",
   "metadata": {},
   "outputs": [],
   "source": [
    "# Cambio nombre de las columnas.\n",
    "headers = [\"Ingreso\", \"Score_Credito\", \"Monto_Deuda\", \"Deuda/Ingreso\", \"Empleo\", \"Credito\"]\n",
    "df.columns = headers"
   ]
  },
  {
   "cell_type": "code",
   "execution_count": 5,
   "id": "ac698634",
   "metadata": {},
   "outputs": [],
   "source": [
    "# Convierto los resultados de las ultimas columnas a valores numericos, ya que hay solo dos posibles resultados, 0 y 1 tanto\n",
    "# si es para el valor \"Aprobado\" y \"Rechazado\" como con la otra columna donde los valores son \"Empleado\" y \"Desempleado\"\n",
    "df.Credito = df.Credito.replace(['Rejected'], 0)\n",
    "df.Credito = df.Credito.replace(['Approved'], 1)\n",
    "\n",
    "df.Empleo = df.Empleo.replace(['unemployed'], 0)\n",
    "df.Empleo = df.Empleo.replace(['employed'], 1)"
   ]
  },
  {
   "cell_type": "code",
   "execution_count": 6,
   "id": "65d83726",
   "metadata": {},
   "outputs": [
    {
     "data": {
      "text/html": [
       "<div>\n",
       "<style scoped>\n",
       "    .dataframe tbody tr th:only-of-type {\n",
       "        vertical-align: middle;\n",
       "    }\n",
       "\n",
       "    .dataframe tbody tr th {\n",
       "        vertical-align: top;\n",
       "    }\n",
       "\n",
       "    .dataframe thead th {\n",
       "        text-align: right;\n",
       "    }\n",
       "</style>\n",
       "<table border=\"1\" class=\"dataframe\">\n",
       "  <thead>\n",
       "    <tr style=\"text-align: right;\">\n",
       "      <th></th>\n",
       "      <th>Ingreso</th>\n",
       "      <th>Score_Credito</th>\n",
       "      <th>Monto_Deuda</th>\n",
       "      <th>Deuda/Ingreso</th>\n",
       "      <th>Empleo</th>\n",
       "      <th>Credito</th>\n",
       "    </tr>\n",
       "  </thead>\n",
       "  <tbody>\n",
       "    <tr>\n",
       "      <th>6567</th>\n",
       "      <td>91592</td>\n",
       "      <td>823</td>\n",
       "      <td>47020</td>\n",
       "      <td>23.96</td>\n",
       "      <td>0</td>\n",
       "      <td>0</td>\n",
       "    </tr>\n",
       "    <tr>\n",
       "      <th>6181</th>\n",
       "      <td>155864</td>\n",
       "      <td>395</td>\n",
       "      <td>91840</td>\n",
       "      <td>31.93</td>\n",
       "      <td>0</td>\n",
       "      <td>0</td>\n",
       "    </tr>\n",
       "    <tr>\n",
       "      <th>19383</th>\n",
       "      <td>59574</td>\n",
       "      <td>691</td>\n",
       "      <td>1178</td>\n",
       "      <td>48.61</td>\n",
       "      <td>1</td>\n",
       "      <td>1</td>\n",
       "    </tr>\n",
       "    <tr>\n",
       "      <th>16222</th>\n",
       "      <td>193198</td>\n",
       "      <td>798</td>\n",
       "      <td>62203</td>\n",
       "      <td>23.92</td>\n",
       "      <td>1</td>\n",
       "      <td>1</td>\n",
       "    </tr>\n",
       "    <tr>\n",
       "      <th>6448</th>\n",
       "      <td>112825</td>\n",
       "      <td>690</td>\n",
       "      <td>62472</td>\n",
       "      <td>44.08</td>\n",
       "      <td>0</td>\n",
       "      <td>0</td>\n",
       "    </tr>\n",
       "  </tbody>\n",
       "</table>\n",
       "</div>"
      ],
      "text/plain": [
       "       Ingreso  Score_Credito  Monto_Deuda  Deuda/Ingreso  Empleo  Credito\n",
       "6567     91592            823        47020          23.96       0        0\n",
       "6181    155864            395        91840          31.93       0        0\n",
       "19383    59574            691         1178          48.61       1        1\n",
       "16222   193198            798        62203          23.92       1        1\n",
       "6448    112825            690        62472          44.08       0        0"
      ]
     },
     "execution_count": 6,
     "metadata": {},
     "output_type": "execute_result"
    }
   ],
   "source": [
    "df.sample(5)"
   ]
  },
  {
   "cell_type": "code",
   "execution_count": 7,
   "id": "04b50720",
   "metadata": {},
   "outputs": [
    {
     "name": "stdout",
     "output_type": "stream",
     "text": [
      "<class 'pandas.core.frame.DataFrame'>\n",
      "RangeIndex: 24000 entries, 0 to 23999\n",
      "Data columns (total 6 columns):\n",
      " #   Column         Non-Null Count  Dtype  \n",
      "---  ------         --------------  -----  \n",
      " 0   Ingreso        24000 non-null  int64  \n",
      " 1   Score_Credito  24000 non-null  int64  \n",
      " 2   Monto_Deuda    24000 non-null  int64  \n",
      " 3   Deuda/Ingreso  24000 non-null  float64\n",
      " 4   Empleo         24000 non-null  int64  \n",
      " 5   Credito        24000 non-null  int64  \n",
      "dtypes: float64(1), int64(5)\n",
      "memory usage: 1.1 MB\n"
     ]
    }
   ],
   "source": [
    "df.info()"
   ]
  },
  {
   "cell_type": "code",
   "execution_count": 8,
   "id": "ace017b7",
   "metadata": {},
   "outputs": [
    {
     "data": {
      "text/plain": [
       "0    12007\n",
       "1    11993\n",
       "Name: Empleo, dtype: int64"
      ]
     },
     "execution_count": 8,
     "metadata": {},
     "output_type": "execute_result"
    }
   ],
   "source": [
    "df.Empleo.value_counts()"
   ]
  },
  {
   "cell_type": "code",
   "execution_count": 9,
   "id": "7ef2fa91",
   "metadata": {},
   "outputs": [],
   "source": [
    "conteo = df.Empleo.value_counts()"
   ]
  },
  {
   "cell_type": "code",
   "execution_count": 10,
   "id": "ff51579d",
   "metadata": {},
   "outputs": [
    {
     "data": {
      "image/png": "[encoded data removed]",
      "text/plain": [
       "<Figure size 432x288 with 1 Axes>"
      ]
     },
     "metadata": {},
     "output_type": "display_data"
    }
   ],
   "source": [
    "etiquetas = ['Empleados' if val == 1 else 'Desempleado' for val in conteo.index]\n",
    "\n",
    "plt.pie(conteo, labels=etiquetas, autopct='%1.1f%%', startangle=90, colors=['#E0E0E0', '#616150'])\n",
    "plt.title('SITUACION LABORAL DE LOS SOLICITANTES')\n",
    "plt.axis('equal')  # Mantener forma de círculo\n",
    "\n",
    "plt.show()"
   ]
  },
  {
   "cell_type": "code",
   "execution_count": 11,
   "id": "8b790eaf",
   "metadata": {},
   "outputs": [
    {
     "data": {
      "text/plain": [
       "0    20067\n",
       "1     3933\n",
       "Name: Credito, dtype: int64"
      ]
     },
     "execution_count": 11,
     "metadata": {},
     "output_type": "execute_result"
    }
   ],
   "source": [
    "df.Credito.value_counts()"
   ]
  },
  {
   "cell_type": "code",
   "execution_count": 12,
   "id": "338390ae",
   "metadata": {},
   "outputs": [],
   "source": [
    "conteo = df.Credito.value_counts()"
   ]
  },
  {
   "cell_type": "code",
   "execution_count": 13,
   "id": "022c606c",
   "metadata": {},
   "outputs": [
    {
     "data": {
      "image/png": "[encoded data removed]",
      "text/plain": [
       "<Figure size 432x288 with 1 Axes>"
      ]
     },
     "metadata": {},
     "output_type": "display_data"
    }
   ],
   "source": [
    "etiquetas = ['Aprobado' if val == 1 else 'Rechazado' for val in conteo.index]\n",
    "\n",
    "plt.pie(conteo, labels=etiquetas, autopct='%1.1f%%', startangle=90, colors=['#E0E0E0', '#616150'])\n",
    "plt.title('RESULTADO DE LA EVALUACION CREDITICIA')\n",
    "plt.axis('equal')  # Mantener forma de círculo\n",
    "\n",
    "plt.show()"
   ]
  },
  {
   "cell_type": "markdown",
   "id": "1d51ccb5",
   "metadata": {},
   "source": [
    "---\n",
    "\n",
    "### REGRESION LOGISTICA\n",
    "\n",
    "---"
   ]
  },
  {
   "cell_type": "code",
   "execution_count": 14,
   "id": "0805dcd6",
   "metadata": {},
   "outputs": [],
   "source": [
    "import pandas as pd\n",
    "import numpy as np\n",
    "from sklearn.model_selection import train_test_split\n",
    "from sklearn.linear_model import LogisticRegression\n",
    "from sklearn.metrics import classification_report, confusion_matrix\n",
    "import matplotlib.pyplot as plt"
   ]
  },
  {
   "cell_type": "code",
   "execution_count": 15,
   "id": "96a62280",
   "metadata": {},
   "outputs": [],
   "source": [
    "X = df[['Score_Credito']]  # variable independiente (predictora) por ahora uso 1 sola variable\n",
    "y = df['Credito']          # variable dependiente (objetivo)"
   ]
  },
  {
   "cell_type": "code",
   "execution_count": 16,
   "id": "d695b227",
   "metadata": {},
   "outputs": [],
   "source": [
    "X_train, X_test, y_train, y_test = train_test_split(X, y, test_size=0.2, random_state=0)"
   ]
  },
  {
   "cell_type": "code",
   "execution_count": 17,
   "id": "9eff9389",
   "metadata": {},
   "outputs": [
    {
     "data": {
      "text/plain": [
       "LogisticRegression()"
      ]
     },
     "execution_count": 17,
     "metadata": {},
     "output_type": "execute_result"
    }
   ],
   "source": [
    "modelo = LogisticRegression()\n",
    "modelo.fit(X_train, y_train)  # entrenar el modelo"
   ]
  },
  {
   "cell_type": "code",
   "execution_count": 18,
   "id": "ff1004db",
   "metadata": {},
   "outputs": [],
   "source": [
    "y_pred = modelo.predict(X_test) # hacer que formule predicciones el modelo"
   ]
  },
  {
   "cell_type": "code",
   "execution_count": 19,
   "id": "726009c9",
   "metadata": {},
   "outputs": [
    {
     "name": "stdout",
     "output_type": "stream",
     "text": [
      "Matriz de confusión:\n",
      "[[3996    0]\n",
      " [ 804    0]]\n",
      "\n",
      "Reporte de clasificación:\n",
      "              precision    recall  f1-score   support\n",
      "\n",
      "           0       0.83      1.00      0.91      3996\n",
      "           1       0.00      0.00      0.00       804\n",
      "\n",
      "    accuracy                           0.83      4800\n",
      "   macro avg       0.42      0.50      0.45      4800\n",
      "weighted avg       0.69      0.83      0.76      4800\n",
      "\n"
     ]
    },
    {
     "name": "stderr",
     "output_type": "stream",
     "text": [
      "c:\\users\\hector\\appdata\\local\\programs\\python\\python39\\lib\\site-packages\\sklearn\\metrics\\_classification.py:1248: UndefinedMetricWarning: Precision and F-score are ill-defined and being set to 0.0 in labels with no predicted samples. Use `zero_division` parameter to control this behavior.\n",
      "  _warn_prf(average, modifier, msg_start, len(result))\n",
      "c:\\users\\hector\\appdata\\local\\programs\\python\\python39\\lib\\site-packages\\sklearn\\metrics\\_classification.py:1248: UndefinedMetricWarning: Precision and F-score are ill-defined and being set to 0.0 in labels with no predicted samples. Use `zero_division` parameter to control this behavior.\n",
      "  _warn_prf(average, modifier, msg_start, len(result))\n",
      "c:\\users\\hector\\appdata\\local\\programs\\python\\python39\\lib\\site-packages\\sklearn\\metrics\\_classification.py:1248: UndefinedMetricWarning: Precision and F-score are ill-defined and being set to 0.0 in labels with no predicted samples. Use `zero_division` parameter to control this behavior.\n",
      "  _warn_prf(average, modifier, msg_start, len(result))\n"
     ]
    }
   ],
   "source": [
    "print(\"Matriz de confusión:\")\n",
    "print(confusion_matrix(y_test, y_pred))\n",
    "print(\"\\nReporte de clasificación:\")\n",
    "print(classification_report(y_test, y_pred))\n",
    "\n",
    "# La matris es\n",
    "#           Prediccion=0     Prediccion=1\n",
    "#Real=0       TN (true Neg)  FP (false positiv)\n",
    "#Real=1       FN (false neg) TP (true positiv)"
   ]
  },
  {
   "cell_type": "markdown",
   "id": "92973932",
   "metadata": {},
   "source": [
    "Predice correctamente que no se concederia el credito (0) y efectivamente no se concedio el credito. El modelo falla cuando 804 casos de creditos fueron clasificados como no concedidos cuando deberias haberse otorgado."
   ]
  },
  {
   "cell_type": "code",
   "execution_count": 20,
   "id": "41afa8e3",
   "metadata": {},
   "outputs": [],
   "source": [
    "x_range = np.linspace(X['Score_Credito'].min(), X['Score_Credito'].max(), 300).reshape(-1, 1) # definir rango de valores"
   ]
  },
  {
   "cell_type": "code",
   "execution_count": 21,
   "id": "2a12ce24",
   "metadata": {},
   "outputs": [],
   "source": [
    "y_prob = modelo.predict_proba(x_range)[:, 1] # determinar la probabilidad que de 1."
   ]
  },
  {
   "cell_type": "code",
   "execution_count": 22,
   "id": "68038f82",
   "metadata": {},
   "outputs": [
    {
     "data": {
      "image/png": "[encoded data removed]",
      "text/plain": [
       "<Figure size 576x360 with 1 Axes>"
      ]
     },
     "metadata": {
      "needs_background": "light"
     },
     "output_type": "display_data"
    }
   ],
   "source": [
    "import matplotlib.pyplot as plt\n",
    "\n",
    "plt.figure(figsize=(8, 5))\n",
    "plt.plot(x_range, y_prob, label='Probabilidad de conceder crédito', color='black')\n",
    "plt.scatter(X_test, y_test, color='red', label='Datos reales')\n",
    "plt.xlabel('Score de crédito')\n",
    "plt.ylabel('Probabilidad')\n",
    "plt.title('Regresión logística - curva sigmoide')\n",
    "plt.grid(True)\n",
    "plt.legend()\n",
    "plt.show()"
   ]
  },
  {
   "cell_type": "markdown",
   "id": "c1712924",
   "metadata": {},
   "source": [
    "Todo este calculo fue con una sola variable, ahora hago lo mismo con todas las que pueda para mejorar la capacidad de prediccion del modelo."
   ]
  },
  {
   "cell_type": "code",
   "execution_count": 23,
   "id": "33c40ede",
   "metadata": {},
   "outputs": [],
   "source": [
    "X = df[['Score_Credito', 'Ingreso', 'Monto_Deuda', 'Deuda/Ingreso', 'Empleo' ]]  # variable independiente (predictora) por ahora uso 1 sola variable\n",
    "y = df['Credito']          # variable dependiente (objetivo)"
   ]
  },
  {
   "cell_type": "code",
   "execution_count": 24,
   "id": "a49107a5",
   "metadata": {},
   "outputs": [],
   "source": [
    "X_train, X_test, y_train, y_test = train_test_split(X, y, test_size=0.2, random_state=0)"
   ]
  },
  {
   "cell_type": "code",
   "execution_count": 25,
   "id": "c4dd14de",
   "metadata": {},
   "outputs": [
    {
     "data": {
      "text/plain": [
       "LogisticRegression()"
      ]
     },
     "execution_count": 25,
     "metadata": {},
     "output_type": "execute_result"
    }
   ],
   "source": [
    "modelo = LogisticRegression()\n",
    "modelo.fit(X_train, y_train)  # entrenar el modelo"
   ]
  },
  {
   "cell_type": "code",
   "execution_count": 26,
   "id": "23f84f94",
   "metadata": {},
   "outputs": [],
   "source": [
    "y_pred = modelo.predict(X_test) # hacer que formule predicciones el modelo"
   ]
  },
  {
   "cell_type": "code",
   "execution_count": 27,
   "id": "b9744075",
   "metadata": {},
   "outputs": [
    {
     "name": "stdout",
     "output_type": "stream",
     "text": [
      "Matriz de confusión:\n",
      "[[3806  190]\n",
      " [ 652  152]]\n",
      "\n",
      "Reporte de clasificación:\n",
      "              precision    recall  f1-score   support\n",
      "\n",
      "           0       0.85      0.95      0.90      3996\n",
      "           1       0.44      0.19      0.27       804\n",
      "\n",
      "    accuracy                           0.82      4800\n",
      "   macro avg       0.65      0.57      0.58      4800\n",
      "weighted avg       0.79      0.82      0.79      4800\n",
      "\n"
     ]
    }
   ],
   "source": [
    "print(\"Matriz de confusión:\")\n",
    "print(confusion_matrix(y_test, y_pred))\n",
    "print(\"\\nReporte de clasificación:\")\n",
    "print(classification_report(y_test, y_pred))"
   ]
  },
  {
   "cell_type": "markdown",
   "id": "2aae9701",
   "metadata": {},
   "source": [
    "\n",
    ">* TN=3806, el modelo predijo que 3806 casos fueron correctamente clasificados como \"no otorgado\".\n",
    ">* FP=190, se predijo que concedería crédito (1), pero no se concedió crédito (0), son pequeños errores\n",
    ">* FN=652, el modelo predijo que no se concedería crédito (0), pero sí se concedió crédito (1), otro pequeños errores.\n",
    ">* TP=152, muestra que 152 casos fueron clasificados bien como \"otorgados\".\n",
    "\n",
    ">Presicion: 85% de precision para predecir valores (0) osea para no otorgar el credito. Pero su precision baja a 44% cuando tiene que predecir que el valor sea (1) osea otorgar el credito.\n",
    "Entonces el modelo no es preciso y no tiene un numero considerable de errores. Las alternativas son:\n",
    ">* a) Reentrenar el modelo con mas variables, cosa que no puedo hacer puesto que utilice todas las columnas posibles.\n",
    ">* b) Ajustar el umbral de clasificación, que por defecto es 0,5. Esto a costa de tener mas falsos positivos.\n",
    ">* c) Intentar otros modelos (luego de probar el punto b, procedo a correr otro modelo)."
   ]
  },
  {
   "cell_type": "code",
   "execution_count": 28,
   "id": "19e88e2a",
   "metadata": {},
   "outputs": [],
   "source": [
    "# Ajustar el umbral de clasificación.\n",
    "umbral = 0.3  # Se puede ajustar este valor\n",
    "y_pred = (modelo.predict_proba(X_test)[:, 1] > umbral).astype(int)"
   ]
  },
  {
   "cell_type": "code",
   "execution_count": 29,
   "id": "d6d961be",
   "metadata": {},
   "outputs": [
    {
     "name": "stdout",
     "output_type": "stream",
     "text": [
      "Matriz de confusión:\n",
      "[[3306  690]\n",
      " [ 413  391]]\n",
      "\n",
      "Reporte de clasificación:\n",
      "              precision    recall  f1-score   support\n",
      "\n",
      "           0       0.89      0.83      0.86      3996\n",
      "           1       0.36      0.49      0.41       804\n",
      "\n",
      "    accuracy                           0.77      4800\n",
      "   macro avg       0.63      0.66      0.64      4800\n",
      "weighted avg       0.80      0.77      0.78      4800\n",
      "\n"
     ]
    }
   ],
   "source": [
    "print(\"Matriz de confusión:\")\n",
    "print(confusion_matrix(y_test, y_pred))\n",
    "print(\"\\nReporte de clasificación:\")\n",
    "print(classification_report(y_test, y_pred))"
   ]
  },
  {
   "cell_type": "markdown",
   "id": "f1735308",
   "metadata": {},
   "source": [
    "Interpretación\n",
    "- Matriz A (sin ajustar umbral): Más conservador y comete menos errores totales, pero ignora muchos casos de crédito concedido.\n",
    "- Matriz B (con umbral modificado): Más equilibrado, aumentó la cantidad de falsos positivos, pero captura más oportunidades de negocio.\n",
    "\n",
    "Que modelo sirve mas? va a depender de la prioridad del banco, si la prioridad es no dar creditos por error, conviene utilizar el modelo A sin modificar el umbral, ahora si el banco tiene como prioridad es detectar a quienes realmente califican para el credito utilizar el modelo B con el umbral de clasificación modificado. \n",
    "\n",
    "Igualmente utilizo otro modelo..."
   ]
  },
  {
   "cell_type": "markdown",
   "id": "0909e854",
   "metadata": {},
   "source": [
    "---\n",
    "\n",
    "### RANDOM FOREST\n",
    "\n",
    "---"
   ]
  },
  {
   "cell_type": "code",
   "execution_count": 30,
   "id": "17d9f000",
   "metadata": {},
   "outputs": [],
   "source": [
    "from sklearn.ensemble import RandomForestClassifier"
   ]
  },
  {
   "cell_type": "code",
   "execution_count": 31,
   "id": "54ecab3d",
   "metadata": {},
   "outputs": [],
   "source": [
    "# Cargamos los datos y los dividimos en conjuntos para entrenar y testear.\n",
    "y = df[\"Credito\"]\n",
    "X = df.drop([\"Credito\"], axis=1)\n",
    "(X_train, X_test,\n",
    " y_train, y_test) = train_test_split(X,\n",
    "                                     y,\n",
    "                                     stratify=y,\n",
    "                                     test_size=0.33,\n",
    "                                     random_state=11)"
   ]
  },
  {
   "cell_type": "code",
   "execution_count": 32,
   "id": "8573aea7",
   "metadata": {},
   "outputs": [
    {
     "data": {
      "text/html": [
       "<div>\n",
       "<style scoped>\n",
       "    .dataframe tbody tr th:only-of-type {\n",
       "        vertical-align: middle;\n",
       "    }\n",
       "\n",
       "    .dataframe tbody tr th {\n",
       "        vertical-align: top;\n",
       "    }\n",
       "\n",
       "    .dataframe thead th {\n",
       "        text-align: right;\n",
       "    }\n",
       "</style>\n",
       "<table border=\"1\" class=\"dataframe\">\n",
       "  <thead>\n",
       "    <tr style=\"text-align: right;\">\n",
       "      <th></th>\n",
       "      <th>Ingreso</th>\n",
       "      <th>Score_Credito</th>\n",
       "      <th>Monto_Deuda</th>\n",
       "      <th>Deuda/Ingreso</th>\n",
       "      <th>Empleo</th>\n",
       "      <th>Credito</th>\n",
       "    </tr>\n",
       "  </thead>\n",
       "  <tbody>\n",
       "    <tr>\n",
       "      <th>15851</th>\n",
       "      <td>191793</td>\n",
       "      <td>564</td>\n",
       "      <td>151122</td>\n",
       "      <td>11.07</td>\n",
       "      <td>1</td>\n",
       "      <td>0</td>\n",
       "    </tr>\n",
       "    <tr>\n",
       "      <th>7229</th>\n",
       "      <td>194196</td>\n",
       "      <td>369</td>\n",
       "      <td>150292</td>\n",
       "      <td>20.12</td>\n",
       "      <td>0</td>\n",
       "      <td>0</td>\n",
       "    </tr>\n",
       "    <tr>\n",
       "      <th>14493</th>\n",
       "      <td>112189</td>\n",
       "      <td>531</td>\n",
       "      <td>35370</td>\n",
       "      <td>7.13</td>\n",
       "      <td>0</td>\n",
       "      <td>0</td>\n",
       "    </tr>\n",
       "  </tbody>\n",
       "</table>\n",
       "</div>"
      ],
      "text/plain": [
       "       Ingreso  Score_Credito  Monto_Deuda  Deuda/Ingreso  Empleo  Credito\n",
       "15851   191793            564       151122          11.07       1        0\n",
       "7229    194196            369       150292          20.12       0        0\n",
       "14493   112189            531        35370           7.13       0        0"
      ]
     },
     "execution_count": 32,
     "metadata": {},
     "output_type": "execute_result"
    }
   ],
   "source": [
    "df.sample(3)"
   ]
  },
  {
   "cell_type": "code",
   "execution_count": 33,
   "id": "6e44b1a6",
   "metadata": {},
   "outputs": [
    {
     "name": "stdout",
     "output_type": "stream",
     "text": [
      "La precisión del Random Forest es: 0.9955808080808081\n"
     ]
    }
   ],
   "source": [
    "# Creo un modelo de 200 arboles de decisión.\n",
    "model = RandomForestClassifier(random_state=10, n_estimators=200,\n",
    "                               class_weight=\"balanced\", max_features=\"log2\")\n",
    "model.fit(X_train, y_train)\n",
    "print(f\"La precisión del Random Forest es: {model.score(X_test, y_test)}\")"
   ]
  },
  {
   "cell_type": "code",
   "execution_count": 34,
   "id": "72d44176",
   "metadata": {},
   "outputs": [],
   "source": [
    "classifier=model.fit(X_train, y_train) #Construimos el modelo sobre los datos de entrenamiento"
   ]
  },
  {
   "cell_type": "code",
   "execution_count": 35,
   "id": "b5c084f1",
   "metadata": {},
   "outputs": [],
   "source": [
    "predictions=classifier.predict(X_test)"
   ]
  },
  {
   "cell_type": "code",
   "execution_count": 36,
   "id": "7b26b81a",
   "metadata": {},
   "outputs": [
    {
     "name": "stdout",
     "output_type": "stream",
     "text": [
      "El error (rmse) de test es: 0.06647700293478881\n",
      "\n",
      "Cuanto menor sea el valor, mejor será el rendimiento del modelo. Un MSE igual a cero indica predicciones perfectas.\n"
     ]
    }
   ],
   "source": [
    "from sklearn.metrics import mean_squared_error\n",
    "rmse = mean_squared_error(\n",
    "        y_true  = y_test,\n",
    "        y_pred  = predictions,\n",
    "        squared = False\n",
    "       )\n",
    "print(f\"El error (rmse) de test es: {rmse}\")\n",
    "print()\n",
    "print (\"Cuanto menor sea el valor, mejor será el rendimiento del modelo. Un MSE igual a cero indica predicciones perfectas.\")"
   ]
  },
  {
   "cell_type": "code",
   "execution_count": 37,
   "id": "c1ed8785",
   "metadata": {},
   "outputs": [
    {
     "name": "stdout",
     "output_type": "stream",
     "text": [
      "Matriz de confusión\n",
      "[[6603   19]\n",
      " [  16 1282]]\n",
      "Los valores de la diagonal principal (a) y (d) se corresponden con los valores estimados de forma correcta por el modelo\n",
      "tanto los verdaderos positivos_ TP(d), como los verdaderos negativos_TN(a)\n",
      "La otra diagonal, por tanto, representa los casos en los que el modelo «se ha equivocado>>\n",
      "(c) son falsos negativos_FN, (b) seran los falsos positivos_FP\n",
      "\n"
     ]
    },
    {
     "data": {
      "image/png": "[encoded data removed]",
      "text/plain": [
       "<Figure size 432x288 with 2 Axes>"
      ]
     },
     "metadata": {
      "needs_background": "light"
     },
     "output_type": "display_data"
    },
    {
     "name": "stdout",
     "output_type": "stream",
     "text": [
      "\n",
      "Métricas de clasificación\n",
      "-----------------------------------------------------\n",
      "              precision    recall  f1-score   support\n",
      "\n",
      "           0       1.00      1.00      1.00      6622\n",
      "           1       0.99      0.99      0.99      1298\n",
      "\n",
      "    accuracy                           1.00      7920\n",
      "   macro avg       0.99      0.99      0.99      7920\n",
      "weighted avg       1.00      1.00      1.00      7920\n",
      "\n",
      "0.9955808080808081\n",
      "\n",
      "La exactitud («accuracy«) representa el porcentaje de predicciones correctas frente al total. Es el cociente entre los\n",
      "casos bien clasificados por el modelo (verdaderos positivos y verdaderos negativos, es decir, los valores en la \n",
      "diagonal de la matriz de confusión), y la suma de todos los casos.\n",
      "Cuando un conjunto de datos es poco equilibrado, no es una métrica útil\n",
      "\n",
      "La sensibilidad («Recuperacion|Recall«) representa la habilidad del modelo de detectar los casos relevantes, es mas util\n",
      "cuando los datos no son tan equilibrados. En otras palabras, representa la tasa de verdaderos positivos\n",
      "(True Positive Rate) ó TP. Es la proporción entre los casos positivos bien clasificados por el modelo, respecto al \n",
      "total de positivos.\n"
     ]
    }
   ],
   "source": [
    "from sklearn.metrics import classification_report, confusion_matrix, accuracy_score\n",
    "print(\"Matriz de confusión\")\n",
    "print(confusion_matrix(y_test,predictions))\n",
    "print(\"Los valores de la diagonal principal (a) y (d) se corresponden con los valores estimados de forma correcta por el modelo\")\n",
    "print(\"tanto los verdaderos positivos_ TP(d), como los verdaderos negativos_TN(a)\")\n",
    "print(\"La otra diagonal, por tanto, representa los casos en los que el modelo «se ha equivocado>>\")\n",
    "print(\"(c) son falsos negativos_FN, (b) seran los falsos positivos_FP\")\n",
    "print()\n",
    "# Obtener la matriz de confusión\n",
    "cm = confusion_matrix(y_test, predictions)\n",
    "\n",
    "# Crear el mapa de calor de la matriz de confusión\n",
    "sns.heatmap(cm, annot=True, fmt='d', cmap='cividis')\n",
    "\n",
    "# Agregar etiquetas y títulos\n",
    "plt.title('Matriz de Confusión')\n",
    "plt.xlabel('Clase Predicha')\n",
    "plt.ylabel('Clase Real')\n",
    "\n",
    "# Mostrar el gráfico\n",
    "plt.show()\n",
    "\n",
    "print()\n",
    "print(\"Métricas de clasificación\")\n",
    "print(\"-----------------------------------------------------\")\n",
    "print(classification_report(y_test,predictions))\n",
    "print(accuracy_score(y_test, predictions))\n",
    "\n",
    "print ()\n",
    "print (\"La exactitud («accuracy«) representa el porcentaje de predicciones correctas frente al total. Es el cociente entre los\")\n",
    "print (\"casos bien clasificados por el modelo (verdaderos positivos y verdaderos negativos, es decir, los valores en la \")\n",
    "print (\"diagonal de la matriz de confusión), y la suma de todos los casos.\")\n",
    "print (\"Cuando un conjunto de datos es poco equilibrado, no es una métrica útil\")\n",
    "print ()\n",
    "print (\"La sensibilidad («Recuperacion|Recall«) representa la habilidad del modelo de detectar los casos relevantes, es mas util\")\n",
    "print (\"cuando los datos no son tan equilibrados. En otras palabras, representa la tasa de verdaderos positivos\")\n",
    "print (\"(True Positive Rate) ó TP. Es la proporción entre los casos positivos bien clasificados por el modelo, respecto al \")\n",
    "print (\"total de positivos.\")"
   ]
  },
  {
   "cell_type": "markdown",
   "id": "0ba3e1a6",
   "metadata": {},
   "source": [
    "> #### Interpretando el modelo, con este se obtiene un excelente rendimiento, predice correctamente casi todos los casos, con errores mínimos. Esta listo para utilizarlo para predecir si al cliente se le otorga o no un crédito."
   ]
  },
  {
   "cell_type": "markdown",
   "id": "215261f3",
   "metadata": {},
   "source": [
    "<h1>Header 1,title<h1>"
   ]
  },
  {
   "cell_type": "markdown",
   "id": "4eed1b1c",
   "metadata": {},
   "source": [
    "<h5>Header 5<h5>"
   ]
  },
  {
   "cell_type": "markdown",
   "id": "a629b9e0",
   "metadata": {},
   "source": [
    "<code>Python\n",
    "str = \"This is a block level code\"\n",
    "print(str)\n",
    "</code>"
   ]
  },
  {
   "cell_type": "markdown",
   "id": "9ccd112b",
   "metadata": {},
   "source": [
    "<a id = \"division_ID\"text goes here></a>"
   ]
  },
  {
   "cell_type": "code",
   "execution_count": null,
   "id": "dd53e6de",
   "metadata": {},
   "outputs": [],
   "source": []
  }
 ],
 "metadata": {
  "kernelspec": {
   "display_name": "Python 3",
   "language": "python",
   "name": "python3"
  },
  "language_info": {
   "codemirror_mode": {
    "name": "ipython",
    "version": 3
   },
   "file_extension": ".py",
   "mimetype": "text/x-python",
   "name": "python",
   "nbconvert_exporter": "python",
   "pygments_lexer": "ipython3",
   "version": "3.9.4"
  }
 },
 "nbformat": 4,
 "nbformat_minor": 5
}
