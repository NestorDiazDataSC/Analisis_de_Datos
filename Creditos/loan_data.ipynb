{
 "cells": [
  {
   "cell_type": "code",
   "execution_count": 1,
   "id": "09f105b9",
   "metadata": {},
   "outputs": [],
   "source": [
    "import pandas as pd\n",
    "import numpy as np\n",
    "import seaborn as sns # Librerias de graficos\n",
    "%matplotlib inline \n",
    "import matplotlib.pyplot as plt"
   ]
  },
  {
   "cell_type": "code",
   "execution_count": 2,
   "id": "92429f8e",
   "metadata": {},
   "outputs": [
    {
     "data": {
      "text/html": [
       "<div>\n",
       "<style scoped>\n",
       "    .dataframe tbody tr th:only-of-type {\n",
       "        vertical-align: middle;\n",
       "    }\n",
       "\n",
       "    .dataframe tbody tr th {\n",
       "        vertical-align: top;\n",
       "    }\n",
       "\n",
       "    .dataframe thead th {\n",
       "        text-align: right;\n",
       "    }\n",
       "</style>\n",
       "<table border=\"1\" class=\"dataframe\">\n",
       "  <thead>\n",
       "    <tr style=\"text-align: right;\">\n",
       "      <th></th>\n",
       "      <th>Text</th>\n",
       "      <th>Income</th>\n",
       "      <th>Credit_Score</th>\n",
       "      <th>Loan_Amount</th>\n",
       "      <th>DTI_Ratio</th>\n",
       "      <th>Employment_Status</th>\n",
       "      <th>Approval</th>\n",
       "    </tr>\n",
       "  </thead>\n",
       "  <tbody>\n",
       "    <tr>\n",
       "      <th>0</th>\n",
       "      <td>I need a loan to pay for an international vaca...</td>\n",
       "      <td>26556</td>\n",
       "      <td>581</td>\n",
       "      <td>8314</td>\n",
       "      <td>79.26</td>\n",
       "      <td>employed</td>\n",
       "      <td>Rejected</td>\n",
       "    </tr>\n",
       "    <tr>\n",
       "      <th>1</th>\n",
       "      <td>I want to make home improvements like installi...</td>\n",
       "      <td>197392</td>\n",
       "      <td>389</td>\n",
       "      <td>111604</td>\n",
       "      <td>22.14</td>\n",
       "      <td>employed</td>\n",
       "      <td>Rejected</td>\n",
       "    </tr>\n",
       "    <tr>\n",
       "      <th>2</th>\n",
       "      <td>I need a loan for home renovation, including a...</td>\n",
       "      <td>44561</td>\n",
       "      <td>523</td>\n",
       "      <td>34118</td>\n",
       "      <td>45.44</td>\n",
       "      <td>employed</td>\n",
       "      <td>Rejected</td>\n",
       "    </tr>\n",
       "    <tr>\n",
       "      <th>3</th>\n",
       "      <td>I need funds to buy new furniture and applianc...</td>\n",
       "      <td>190363</td>\n",
       "      <td>729</td>\n",
       "      <td>118757</td>\n",
       "      <td>10.22</td>\n",
       "      <td>unemployed</td>\n",
       "      <td>Rejected</td>\n",
       "    </tr>\n",
       "    <tr>\n",
       "      <th>4</th>\n",
       "      <td>I need a loan to start a small business.</td>\n",
       "      <td>61853</td>\n",
       "      <td>732</td>\n",
       "      <td>19210</td>\n",
       "      <td>44.13</td>\n",
       "      <td>employed</td>\n",
       "      <td>Approved</td>\n",
       "    </tr>\n",
       "  </tbody>\n",
       "</table>\n",
       "</div>"
      ],
      "text/plain": [
       "                                                Text  Income  Credit_Score  \\\n",
       "0  I need a loan to pay for an international vaca...   26556           581   \n",
       "1  I want to make home improvements like installi...  197392           389   \n",
       "2  I need a loan for home renovation, including a...   44561           523   \n",
       "3  I need funds to buy new furniture and applianc...  190363           729   \n",
       "4           I need a loan to start a small business.   61853           732   \n",
       "\n",
       "   Loan_Amount  DTI_Ratio Employment_Status  Approval  \n",
       "0         8314      79.26          employed  Rejected  \n",
       "1       111604      22.14          employed  Rejected  \n",
       "2        34118      45.44          employed  Rejected  \n",
       "3       118757      10.22        unemployed  Rejected  \n",
       "4        19210      44.13          employed  Approved  "
      ]
     },
     "execution_count": 2,
     "metadata": {},
     "output_type": "execute_result"
    }
   ],
   "source": [
    "df = pd.read_csv(\"loan_data.csv\")\n",
    "df.head(5)"
   ]
  },
  {
   "cell_type": "code",
   "execution_count": 3,
   "id": "cf4e3316",
   "metadata": {},
   "outputs": [],
   "source": [
    "# Elimino columna que no me sirve para el analisis\n",
    "df = df.drop(columns=['Text'])"
   ]
  },
  {
   "cell_type": "code",
   "execution_count": 4,
   "id": "dcaa0759",
   "metadata": {},
   "outputs": [],
   "source": [
    "headers = [\"Ingreso\", \"Score_Credito\", \"Monto_Deuda\", \"Deuda/Ingreso\", \"Empleo\", \"Credito\"]\n",
    "df.columns = headers"
   ]
  },
  {
   "cell_type": "code",
   "execution_count": 5,
   "id": "ac698634",
   "metadata": {},
   "outputs": [],
   "source": [
    "# Convierto los resultados de las ultimas columnas a valores numericos, ya que hay solo dos posibles resultados, 0 y 1 tanto\n",
    "# si es para el valor \"Aprobado\" y \"Rechazado\" como con la otra columna donde los valores son \"Empleado\" y \"Desempleado\"\n",
    "df.Credito = df.Credito.replace(['Rejected'], 0)\n",
    "df.Credito = df.Credito.replace(['Approved'], 1)\n",
    "\n",
    "df.Empleo = df.Empleo.replace(['unemployed'], 0)\n",
    "df.Empleo = df.Empleo.replace(['employed'], 1)"
   ]
  },
  {
   "cell_type": "code",
   "execution_count": 6,
   "id": "65d83726",
   "metadata": {},
   "outputs": [
    {
     "data": {
      "text/html": [
       "<div>\n",
       "<style scoped>\n",
       "    .dataframe tbody tr th:only-of-type {\n",
       "        vertical-align: middle;\n",
       "    }\n",
       "\n",
       "    .dataframe tbody tr th {\n",
       "        vertical-align: top;\n",
       "    }\n",
       "\n",
       "    .dataframe thead th {\n",
       "        text-align: right;\n",
       "    }\n",
       "</style>\n",
       "<table border=\"1\" class=\"dataframe\">\n",
       "  <thead>\n",
       "    <tr style=\"text-align: right;\">\n",
       "      <th></th>\n",
       "      <th>Ingreso</th>\n",
       "      <th>Score_Credito</th>\n",
       "      <th>Monto_Deuda</th>\n",
       "      <th>Deuda/Ingreso</th>\n",
       "      <th>Empleo</th>\n",
       "      <th>Credito</th>\n",
       "    </tr>\n",
       "  </thead>\n",
       "  <tbody>\n",
       "    <tr>\n",
       "      <th>14194</th>\n",
       "      <td>168972</td>\n",
       "      <td>476</td>\n",
       "      <td>43461</td>\n",
       "      <td>16.26</td>\n",
       "      <td>0</td>\n",
       "      <td>0</td>\n",
       "    </tr>\n",
       "    <tr>\n",
       "      <th>17381</th>\n",
       "      <td>120013</td>\n",
       "      <td>447</td>\n",
       "      <td>61039</td>\n",
       "      <td>30.68</td>\n",
       "      <td>0</td>\n",
       "      <td>0</td>\n",
       "    </tr>\n",
       "    <tr>\n",
       "      <th>7743</th>\n",
       "      <td>78208</td>\n",
       "      <td>500</td>\n",
       "      <td>55313</td>\n",
       "      <td>41.82</td>\n",
       "      <td>0</td>\n",
       "      <td>0</td>\n",
       "    </tr>\n",
       "    <tr>\n",
       "      <th>9176</th>\n",
       "      <td>167105</td>\n",
       "      <td>828</td>\n",
       "      <td>23913</td>\n",
       "      <td>6.47</td>\n",
       "      <td>1</td>\n",
       "      <td>1</td>\n",
       "    </tr>\n",
       "    <tr>\n",
       "      <th>3518</th>\n",
       "      <td>100604</td>\n",
       "      <td>375</td>\n",
       "      <td>75917</td>\n",
       "      <td>18.11</td>\n",
       "      <td>1</td>\n",
       "      <td>0</td>\n",
       "    </tr>\n",
       "  </tbody>\n",
       "</table>\n",
       "</div>"
      ],
      "text/plain": [
       "       Ingreso  Score_Credito  Monto_Deuda  Deuda/Ingreso  Empleo  Credito\n",
       "14194   168972            476        43461          16.26       0        0\n",
       "17381   120013            447        61039          30.68       0        0\n",
       "7743     78208            500        55313          41.82       0        0\n",
       "9176    167105            828        23913           6.47       1        1\n",
       "3518    100604            375        75917          18.11       1        0"
      ]
     },
     "execution_count": 6,
     "metadata": {},
     "output_type": "execute_result"
    }
   ],
   "source": [
    "df.sample(5)"
   ]
  },
  {
   "cell_type": "code",
   "execution_count": 7,
   "id": "04b50720",
   "metadata": {},
   "outputs": [
    {
     "name": "stdout",
     "output_type": "stream",
     "text": [
      "<class 'pandas.core.frame.DataFrame'>\n",
      "RangeIndex: 24000 entries, 0 to 23999\n",
      "Data columns (total 6 columns):\n",
      " #   Column         Non-Null Count  Dtype  \n",
      "---  ------         --------------  -----  \n",
      " 0   Ingreso        24000 non-null  int64  \n",
      " 1   Score_Credito  24000 non-null  int64  \n",
      " 2   Monto_Deuda    24000 non-null  int64  \n",
      " 3   Deuda/Ingreso  24000 non-null  float64\n",
      " 4   Empleo         24000 non-null  int64  \n",
      " 5   Credito        24000 non-null  int64  \n",
      "dtypes: float64(1), int64(5)\n",
      "memory usage: 1.1 MB\n"
     ]
    }
   ],
   "source": [
    "df.info()"
   ]
  },
  {
   "cell_type": "code",
   "execution_count": 8,
   "id": "ace017b7",
   "metadata": {},
   "outputs": [
    {
     "data": {
      "text/plain": [
       "0    12007\n",
       "1    11993\n",
       "Name: Empleo, dtype: int64"
      ]
     },
     "execution_count": 8,
     "metadata": {},
     "output_type": "execute_result"
    }
   ],
   "source": [
    "df.Empleo.value_counts()"
   ]
  },
  {
   "cell_type": "code",
   "execution_count": 9,
   "id": "7ef2fa91",
   "metadata": {},
   "outputs": [],
   "source": [
    "conteo = df.Empleo.value_counts()"
   ]
  },
  {
   "cell_type": "code",
   "execution_count": 10,
   "id": "ff51579d",
   "metadata": {},
   "outputs": [
    {
     "data": {
      "image/png": "[encoded data removed]",
      "text/plain": [
       "<Figure size 432x288 with 1 Axes>"
      ]
     },
     "metadata": {},
     "output_type": "display_data"
    }
   ],
   "source": [
    "etiquetas = ['Empleados' if val == 1 else 'Desempleado' for val in conteo.index]\n",
    "\n",
    "plt.pie(conteo, labels=etiquetas, autopct='%1.1f%%', startangle=90, colors=['#E0E0E0', '#616150'])\n",
    "plt.title('SITUACION LABORAL DE LOS SOLICITANTES')\n",
    "plt.axis('equal')  # Mantener forma de círculo\n",
    "\n",
    "plt.show()"
   ]
  },
  {
   "cell_type": "code",
   "execution_count": 11,
   "id": "8b790eaf",
   "metadata": {},
   "outputs": [
    {
     "data": {
      "text/plain": [
       "0    20067\n",
       "1     3933\n",
       "Name: Credito, dtype: int64"
      ]
     },
     "execution_count": 11,
     "metadata": {},
     "output_type": "execute_result"
    }
   ],
   "source": [
    "df.Credito.value_counts()"
   ]
  },
  {
   "cell_type": "code",
   "execution_count": 12,
   "id": "338390ae",
   "metadata": {},
   "outputs": [],
   "source": [
    "conteo = df.Credito.value_counts()"
   ]
  },
  {
   "cell_type": "code",
   "execution_count": 13,
   "id": "022c606c",
   "metadata": {},
   "outputs": [
    {
     "data": {
      "image/png": "[encoded data removed]",
      "text/plain": [
       "<Figure size 432x288 with 1 Axes>"
      ]
     },
     "metadata": {},
     "output_type": "display_data"
    }
   ],
   "source": [
    "etiquetas = ['Aprobado' if val == 1 else 'Rechazado' for val in conteo.index]\n",
    "\n",
    "plt.pie(conteo, labels=etiquetas, autopct='%1.1f%%', startangle=90, colors=['#E0E0E0', '#616150'])\n",
    "plt.title('RESULTADO DE LA EVALUACION CREDITICIA')\n",
    "plt.axis('equal')  # Mantener forma de círculo\n",
    "\n",
    "plt.show()"
   ]
  },
  {
   "cell_type": "code",
   "execution_count": null,
   "id": "80b3e461",
   "metadata": {},
   "outputs": [],
   "source": []
  }
 ],
 "metadata": {
  "kernelspec": {
   "display_name": "Python 3",
   "language": "python",
   "name": "python3"
  },
  "language_info": {
   "codemirror_mode": {
    "name": "ipython",
    "version": 3
   },
   "file_extension": ".py",
   "mimetype": "text/x-python",
   "name": "python",
   "nbconvert_exporter": "python",
   "pygments_lexer": "ipython3",
   "version": "3.9.4"
  }
 },
 "nbformat": 4,
 "nbformat_minor": 5
}
