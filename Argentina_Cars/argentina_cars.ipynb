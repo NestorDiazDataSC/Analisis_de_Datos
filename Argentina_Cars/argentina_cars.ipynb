{
 "cells": [
  {
   "cell_type": "markdown",
   "id": "aad26298",
   "metadata": {},
   "source": [
    "# <div style = 'background-color:gray'> <center>Data Science en el Sector Bancario: Préstamos Personales</div>\n",
    "---"
   ]
  },
  {
   "cell_type": "markdown",
   "id": "36d33821",
   "metadata": {},
   "source": [
    "#### Análisis de regresión aplicado a un conjunto de datos obtenidos de Kaggle, los cuales provienen de un web scraping realizado a un sitio argentino de clasificados. Los datos incluyen diversas características de automóviles correspondientes a enero de 2023. El objetivo del estudio es predecir el precio de un automóvil determinado en función de sus características."
   ]
  },
  {
   "cell_type": "markdown",
   "id": "2142c04b",
   "metadata": {},
   "source": [
    "Como se componen los datos\n",
    "\n",
    "- money: the number of prices\n",
    "- brand: the brand of the car\n",
    "- model: the model of the car\n",
    "- year: the year of the car\n",
    "- color: the color of the car\n",
    "- fuel_type: the fuel type of the car\n",
    "- door: the door of the car\n",
    "- gear: the gear type of the car\n",
    "- motor: the motor type of the car\n",
    "- body_type: the body type of the car\n",
    "- kilometers: the kilometer of the car\n",
    "- currency: the currency of the price of car"
   ]
  },
  {
   "cell_type": "markdown",
   "id": "536ef053",
   "metadata": {},
   "source": [
    "## <div style = 'background-color:black'> <center><font color='white'>① Preparación y limpieza de los datos </font></div>\n",
    "Se parte con la preparación del conjunto de datos para el modelado para garantizar que la información sea coherente, completa y utilizable. Se incluyen tareas:\n",
    "\n",
    "- Tratamiento de valores faltantes.\n",
    "- Codificación de variables categóricas.\n",
    "- Escalado o normalización de variables numéricas."
   ]
  },
  {
   "cell_type": "code",
   "execution_count": 1,
   "id": "03fcffaa",
   "metadata": {},
   "outputs": [],
   "source": [
    "import numpy as np\n",
    "import pandas as pd\n",
    "import seaborn as sns # Importamos librerias de graficos\n",
    "%matplotlib inline \n",
    "import matplotlib.pyplot as plt"
   ]
  },
  {
   "cell_type": "code",
   "execution_count": 2,
   "id": "80dcb164",
   "metadata": {},
   "outputs": [
    {
     "data": {
      "text/html": [
       "<div>\n",
       "<style scoped>\n",
       "    .dataframe tbody tr th:only-of-type {\n",
       "        vertical-align: middle;\n",
       "    }\n",
       "\n",
       "    .dataframe tbody tr th {\n",
       "        vertical-align: top;\n",
       "    }\n",
       "\n",
       "    .dataframe thead th {\n",
       "        text-align: right;\n",
       "    }\n",
       "</style>\n",
       "<table border=\"1\" class=\"dataframe\">\n",
       "  <thead>\n",
       "    <tr style=\"text-align: right;\">\n",
       "      <th></th>\n",
       "      <th>money</th>\n",
       "      <th>brand</th>\n",
       "      <th>model</th>\n",
       "      <th>year</th>\n",
       "      <th>color</th>\n",
       "      <th>fuel_type</th>\n",
       "      <th>door</th>\n",
       "      <th>gear</th>\n",
       "      <th>motor</th>\n",
       "      <th>body_type</th>\n",
       "      <th>kilometres</th>\n",
       "      <th>currency</th>\n",
       "    </tr>\n",
       "  </thead>\n",
       "  <tbody>\n",
       "    <tr>\n",
       "      <th>0</th>\n",
       "      <td>10350000</td>\n",
       "      <td>Toyota</td>\n",
       "      <td>Corolla Cross</td>\n",
       "      <td>2022</td>\n",
       "      <td>Plateado</td>\n",
       "      <td>Nafta</td>\n",
       "      <td>5.0</td>\n",
       "      <td>Automática</td>\n",
       "      <td>NaN</td>\n",
       "      <td>SUV</td>\n",
       "      <td>500</td>\n",
       "      <td>pesos</td>\n",
       "    </tr>\n",
       "    <tr>\n",
       "      <th>1</th>\n",
       "      <td>10850000</td>\n",
       "      <td>Jeep</td>\n",
       "      <td>Compass</td>\n",
       "      <td>2022</td>\n",
       "      <td>Blanco</td>\n",
       "      <td>Nafta</td>\n",
       "      <td>5.0</td>\n",
       "      <td>Automática</td>\n",
       "      <td>2.4</td>\n",
       "      <td>SUV</td>\n",
       "      <td>500</td>\n",
       "      <td>pesos</td>\n",
       "    </tr>\n",
       "    <tr>\n",
       "      <th>2</th>\n",
       "      <td>35500</td>\n",
       "      <td>Jeep</td>\n",
       "      <td>Compass</td>\n",
       "      <td>2022</td>\n",
       "      <td>Gris oscuro</td>\n",
       "      <td>Nafta</td>\n",
       "      <td>5.0</td>\n",
       "      <td>Automática</td>\n",
       "      <td>2.4</td>\n",
       "      <td>SUV</td>\n",
       "      <td>500</td>\n",
       "      <td>dólares</td>\n",
       "    </tr>\n",
       "  </tbody>\n",
       "</table>\n",
       "</div>"
      ],
      "text/plain": [
       "      money   brand          model  year        color fuel_type  door  \\\n",
       "0  10350000  Toyota  Corolla Cross  2022     Plateado     Nafta   5.0   \n",
       "1  10850000    Jeep        Compass  2022       Blanco     Nafta   5.0   \n",
       "2     35500    Jeep        Compass  2022  Gris oscuro     Nafta   5.0   \n",
       "\n",
       "         gear motor body_type  kilometres currency  \n",
       "0  Automática   NaN       SUV         500    pesos  \n",
       "1  Automática   2.4       SUV         500    pesos  \n",
       "2  Automática   2.4       SUV         500  dólares  "
      ]
     },
     "execution_count": 2,
     "metadata": {},
     "output_type": "execute_result"
    }
   ],
   "source": [
    "df = pd.read_csv('argentina_cars.csv')\n",
    "df.head(3)"
   ]
  },
  {
   "cell_type": "code",
   "execution_count": 3,
   "id": "7668589e",
   "metadata": {},
   "outputs": [],
   "source": [
    "headers = [\"Precio\", \"Marca\", \"Modelo\", \"Año\", \"Color\", \"Combustible\", \"Puertas\", \"Transmision\", \"Motor\", \"Carroceria\", \"Km\", \"Moneda\"]\n",
    "df.columns = headers"
   ]
  },
  {
   "cell_type": "code",
   "execution_count": 4,
   "id": "b8a4e630",
   "metadata": {},
   "outputs": [
    {
     "data": {
      "text/html": [
       "<div>\n",
       "<style scoped>\n",
       "    .dataframe tbody tr th:only-of-type {\n",
       "        vertical-align: middle;\n",
       "    }\n",
       "\n",
       "    .dataframe tbody tr th {\n",
       "        vertical-align: top;\n",
       "    }\n",
       "\n",
       "    .dataframe thead th {\n",
       "        text-align: right;\n",
       "    }\n",
       "</style>\n",
       "<table border=\"1\" class=\"dataframe\">\n",
       "  <thead>\n",
       "    <tr style=\"text-align: right;\">\n",
       "      <th></th>\n",
       "      <th>Precio</th>\n",
       "      <th>Marca</th>\n",
       "      <th>Modelo</th>\n",
       "      <th>Año</th>\n",
       "      <th>Color</th>\n",
       "      <th>Combustible</th>\n",
       "      <th>Puertas</th>\n",
       "      <th>Transmision</th>\n",
       "      <th>Motor</th>\n",
       "      <th>Carroceria</th>\n",
       "      <th>Km</th>\n",
       "      <th>Moneda</th>\n",
       "    </tr>\n",
       "  </thead>\n",
       "  <tbody>\n",
       "    <tr>\n",
       "      <th>0</th>\n",
       "      <td>10350000</td>\n",
       "      <td>Toyota</td>\n",
       "      <td>Corolla Cross</td>\n",
       "      <td>2022</td>\n",
       "      <td>Plateado</td>\n",
       "      <td>Nafta</td>\n",
       "      <td>5.0</td>\n",
       "      <td>Automática</td>\n",
       "      <td>NaN</td>\n",
       "      <td>SUV</td>\n",
       "      <td>500</td>\n",
       "      <td>pesos</td>\n",
       "    </tr>\n",
       "    <tr>\n",
       "      <th>1</th>\n",
       "      <td>10850000</td>\n",
       "      <td>Jeep</td>\n",
       "      <td>Compass</td>\n",
       "      <td>2022</td>\n",
       "      <td>Blanco</td>\n",
       "      <td>Nafta</td>\n",
       "      <td>5.0</td>\n",
       "      <td>Automática</td>\n",
       "      <td>2.4</td>\n",
       "      <td>SUV</td>\n",
       "      <td>500</td>\n",
       "      <td>pesos</td>\n",
       "    </tr>\n",
       "    <tr>\n",
       "      <th>2</th>\n",
       "      <td>35500</td>\n",
       "      <td>Jeep</td>\n",
       "      <td>Compass</td>\n",
       "      <td>2022</td>\n",
       "      <td>Gris oscuro</td>\n",
       "      <td>Nafta</td>\n",
       "      <td>5.0</td>\n",
       "      <td>Automática</td>\n",
       "      <td>2.4</td>\n",
       "      <td>SUV</td>\n",
       "      <td>500</td>\n",
       "      <td>dólares</td>\n",
       "    </tr>\n",
       "    <tr>\n",
       "      <th>3</th>\n",
       "      <td>19000</td>\n",
       "      <td>Citroën</td>\n",
       "      <td>C4 Cactus</td>\n",
       "      <td>2022</td>\n",
       "      <td>Gris oscuro</td>\n",
       "      <td>Nafta</td>\n",
       "      <td>5.0</td>\n",
       "      <td>Automática</td>\n",
       "      <td>NaN</td>\n",
       "      <td>SUV</td>\n",
       "      <td>550</td>\n",
       "      <td>dólares</td>\n",
       "    </tr>\n",
       "    <tr>\n",
       "      <th>4</th>\n",
       "      <td>5800000</td>\n",
       "      <td>Toyota</td>\n",
       "      <td>Corolla</td>\n",
       "      <td>2019</td>\n",
       "      <td>Gris</td>\n",
       "      <td>Nafta</td>\n",
       "      <td>4.0</td>\n",
       "      <td>Manual</td>\n",
       "      <td>1.8</td>\n",
       "      <td>Sedán</td>\n",
       "      <td>9000</td>\n",
       "      <td>pesos</td>\n",
       "    </tr>\n",
       "  </tbody>\n",
       "</table>\n",
       "</div>"
      ],
      "text/plain": [
       "     Precio    Marca         Modelo   Año        Color Combustible  Puertas  \\\n",
       "0  10350000   Toyota  Corolla Cross  2022     Plateado       Nafta      5.0   \n",
       "1  10850000     Jeep        Compass  2022       Blanco       Nafta      5.0   \n",
       "2     35500     Jeep        Compass  2022  Gris oscuro       Nafta      5.0   \n",
       "3     19000  Citroën      C4 Cactus  2022  Gris oscuro       Nafta      5.0   \n",
       "4   5800000   Toyota        Corolla  2019         Gris       Nafta      4.0   \n",
       "\n",
       "  Transmision Motor Carroceria    Km   Moneda  \n",
       "0  Automática   NaN        SUV   500    pesos  \n",
       "1  Automática   2.4        SUV   500    pesos  \n",
       "2  Automática   2.4        SUV   500  dólares  \n",
       "3  Automática   NaN        SUV   550  dólares  \n",
       "4      Manual   1.8      Sedán  9000    pesos  "
      ]
     },
     "execution_count": 4,
     "metadata": {},
     "output_type": "execute_result"
    }
   ],
   "source": [
    "df.head()"
   ]
  },
  {
   "cell_type": "code",
   "execution_count": 5,
   "id": "de058968",
   "metadata": {},
   "outputs": [
    {
     "name": "stdout",
     "output_type": "stream",
     "text": [
      "<class 'pandas.core.frame.DataFrame'>\n",
      "RangeIndex: 510 entries, 0 to 509\n",
      "Data columns (total 12 columns):\n",
      " #   Column       Non-Null Count  Dtype  \n",
      "---  ------       --------------  -----  \n",
      " 0   Precio       510 non-null    int64  \n",
      " 1   Marca        510 non-null    object \n",
      " 2   Modelo       510 non-null    object \n",
      " 3   Año          510 non-null    int64  \n",
      " 4   Color        499 non-null    object \n",
      " 5   Combustible  510 non-null    object \n",
      " 6   Puertas      510 non-null    float64\n",
      " 7   Transmision  509 non-null    object \n",
      " 8   Motor        499 non-null    object \n",
      " 9   Carroceria   509 non-null    object \n",
      " 10  Km           510 non-null    int64  \n",
      " 11  Moneda       510 non-null    object \n",
      "dtypes: float64(1), int64(3), object(8)\n",
      "memory usage: 47.9+ KB\n"
     ]
    }
   ],
   "source": [
    "df.info()"
   ]
  },
  {
   "cell_type": "code",
   "execution_count": 6,
   "id": "f7a77e28",
   "metadata": {
    "scrolled": true
   },
   "outputs": [
    {
     "data": {
      "text/plain": [
       "Precio          0\n",
       "Marca           0\n",
       "Modelo          0\n",
       "Año             0\n",
       "Color          11\n",
       "Combustible     0\n",
       "Puertas         0\n",
       "Transmision     1\n",
       "Motor          11\n",
       "Carroceria      1\n",
       "Km              0\n",
       "Moneda          0\n",
       "dtype: int64"
      ]
     },
     "execution_count": 6,
     "metadata": {},
     "output_type": "execute_result"
    }
   ],
   "source": [
    "df.isnull().sum() # Para ver cuantos datos faltan y determinar en que columna estan."
   ]
  },
  {
   "cell_type": "code",
   "execution_count": 7,
   "id": "5b454bd3",
   "metadata": {},
   "outputs": [
    {
     "name": "stdout",
     "output_type": "stream",
     "text": [
      "           Color Transmision         Motor   Carroceria\n",
      "0       Plateado  Automática           NaN          SUV\n",
      "3    Gris oscuro  Automática           NaN          SUV\n",
      "12      Plateado      Manual           NaN        Sedán\n",
      "14         Negro  Automática           NaN    Hatchback\n",
      "16          Gris  Automática           NaN          SUV\n",
      "24         Negro      Manual           NaN    Hatchback\n",
      "31         Negro      Manual           NaN      Pick-Up\n",
      "34          Rojo      Manual           NaN    Hatchback\n",
      "55          Gris      Manual           NaN        Coupé\n",
      "56        Blanco  Automática           NaN        Sedán\n",
      "208          NaN      Manual           4.4          SUV\n",
      "211        Negro         NaN  2.8tdi 223cv      Pick-Up\n",
      "231          NaN  Automática           1.8        Sedán\n",
      "256          NaN      Manual           2.0        Sedán\n",
      "278         Rojo      Manual           NaN          NaN\n",
      "290          NaN      Manual           1.6        Sedán\n",
      "295          NaN      Manual           1.4    Hatchback\n",
      "329          NaN  Automática           2.0  Monovolumen\n",
      "331          NaN      Manual           1.6    Hatchback\n",
      "344          NaN      Manual           1.6       Furgón\n",
      "384          NaN      Manual           1.6  Monovolumen\n",
      "443          NaN      Manual           1.6    Hatchback\n",
      "467          NaN      Manual           2.3        Sedán\n"
     ]
    }
   ],
   "source": [
    "null_columns=df.columns[df.isnull().any()]\n",
    "df[null_columns].isnull().sum()\n",
    "print(df[df.isnull().any(axis=1)][null_columns].head(24))\n",
    "# Con esta sentencia veo que datos son los que estan nulos (NAN), como son pocos en realidad le pido que me muestre\n",
    "# los 24 valores asi analizo y veo que hacer si rellenar o borrar los datos faltantes."
   ]
  },
  {
   "cell_type": "code",
   "execution_count": 8,
   "id": "3dc4d933",
   "metadata": {},
   "outputs": [],
   "source": [
    "# Hay muchos valores nulos, para no optar por borrarlos del dataset, elijo hacer un rellenado manual segun lo que es mas\n",
    "# habitual en cada caracteristica.\n",
    "\n",
    "df['Color'] = df['Color'].fillna(\"Gris\") # En este caso lleno con el color mas comun.\n",
    "df['Transmision'] = df['Transmision'].fillna(\"Manual\") # En este caso lleno con el tipo de transmisión mas común.\n",
    "df['Motor'] = df['Motor'].fillna(1.6) # Aqui relleno con el tipo de motor más vendido o usado\n",
    "df['Carroceria'] = df['Carroceria'].fillna(\"Sedan\")"
   ]
  },
  {
   "cell_type": "code",
   "execution_count": 9,
   "id": "dac8ec4c",
   "metadata": {},
   "outputs": [
    {
     "data": {
      "text/plain": [
       "Precio         0\n",
       "Marca          0\n",
       "Modelo         0\n",
       "Año            0\n",
       "Color          0\n",
       "Combustible    0\n",
       "Puertas        0\n",
       "Transmision    0\n",
       "Motor          0\n",
       "Carroceria     0\n",
       "Km             0\n",
       "Moneda         0\n",
       "dtype: int64"
      ]
     },
     "execution_count": 9,
     "metadata": {},
     "output_type": "execute_result"
    }
   ],
   "source": [
    "df.isnull().sum()\n",
    "# Vuelvo a pasar esta sentencia para verificar que ya no hay valores NAN (Not A Number)"
   ]
  },
  {
   "cell_type": "code",
   "execution_count": 10,
   "id": "a5f67467",
   "metadata": {},
   "outputs": [
    {
     "data": {
      "text/html": [
       "<div>\n",
       "<style scoped>\n",
       "    .dataframe tbody tr th:only-of-type {\n",
       "        vertical-align: middle;\n",
       "    }\n",
       "\n",
       "    .dataframe tbody tr th {\n",
       "        vertical-align: top;\n",
       "    }\n",
       "\n",
       "    .dataframe thead th {\n",
       "        text-align: right;\n",
       "    }\n",
       "</style>\n",
       "<table border=\"1\" class=\"dataframe\">\n",
       "  <thead>\n",
       "    <tr style=\"text-align: right;\">\n",
       "      <th></th>\n",
       "      <th>Precio</th>\n",
       "      <th>Marca</th>\n",
       "      <th>Modelo</th>\n",
       "      <th>Año</th>\n",
       "      <th>Color</th>\n",
       "      <th>Combustible</th>\n",
       "      <th>Puertas</th>\n",
       "      <th>Transmision</th>\n",
       "      <th>Motor</th>\n",
       "      <th>Carroceria</th>\n",
       "      <th>Km</th>\n",
       "      <th>Moneda</th>\n",
       "    </tr>\n",
       "  </thead>\n",
       "  <tbody>\n",
       "    <tr>\n",
       "      <th>127</th>\n",
       "      <td>2700000</td>\n",
       "      <td>Renault</td>\n",
       "      <td>Sandero</td>\n",
       "      <td>2018</td>\n",
       "      <td>Negro</td>\n",
       "      <td>Nafta</td>\n",
       "      <td>5.0</td>\n",
       "      <td>Manual</td>\n",
       "      <td>1.6</td>\n",
       "      <td>Hatchback</td>\n",
       "      <td>44000</td>\n",
       "      <td>pesos</td>\n",
       "    </tr>\n",
       "    <tr>\n",
       "      <th>173</th>\n",
       "      <td>3689900</td>\n",
       "      <td>Volkswagen</td>\n",
       "      <td>Polo</td>\n",
       "      <td>2017</td>\n",
       "      <td>Dorado</td>\n",
       "      <td>Nafta</td>\n",
       "      <td>4.0</td>\n",
       "      <td>Automática</td>\n",
       "      <td>1.6</td>\n",
       "      <td>Hatchback</td>\n",
       "      <td>45000</td>\n",
       "      <td>pesos</td>\n",
       "    </tr>\n",
       "    <tr>\n",
       "      <th>358</th>\n",
       "      <td>11195000</td>\n",
       "      <td>Volkswagen</td>\n",
       "      <td>Golf</td>\n",
       "      <td>2019</td>\n",
       "      <td>Blanco</td>\n",
       "      <td>Nafta</td>\n",
       "      <td>5.0</td>\n",
       "      <td>Automática</td>\n",
       "      <td>2.0</td>\n",
       "      <td>Hatchback</td>\n",
       "      <td>58000</td>\n",
       "      <td>pesos</td>\n",
       "    </tr>\n",
       "  </tbody>\n",
       "</table>\n",
       "</div>"
      ],
      "text/plain": [
       "       Precio       Marca   Modelo   Año   Color Combustible  Puertas  \\\n",
       "127   2700000     Renault  Sandero  2018   Negro       Nafta      5.0   \n",
       "173   3689900  Volkswagen     Polo  2017  Dorado       Nafta      4.0   \n",
       "358  11195000  Volkswagen     Golf  2019  Blanco       Nafta      5.0   \n",
       "\n",
       "    Transmision Motor Carroceria     Km Moneda  \n",
       "127      Manual   1.6  Hatchback  44000  pesos  \n",
       "173  Automática   1.6  Hatchback  45000  pesos  \n",
       "358  Automática   2.0  Hatchback  58000  pesos  "
      ]
     },
     "execution_count": 10,
     "metadata": {},
     "output_type": "execute_result"
    }
   ],
   "source": [
    "df.sample(3)"
   ]
  },
  {
   "cell_type": "markdown",
   "id": "89d6a32a",
   "metadata": {},
   "source": [
    "## <div style = 'background-color:black'> <center><font color='white'>② Analisis exploratorio de los datos (EDA) </font></div>\n",
    "Se examinara la estructura del dataset para ver las variables disponibles.  \n",
    "En esta etapa se buscara:\n",
    "- Conocer la cantidad de registros y variables.  \n",
    "- Identificar valores nulos o duplicados.  \n",
    "- Revisar tipos de datos.  \n",
    "- Obtener estadísticas descriptivas básicas.  \n",
    "- Visualizar relaciones entre las variables mediante gráficos."
   ]
  },
  {
   "cell_type": "code",
   "execution_count": 11,
   "id": "287a9e18",
   "metadata": {},
   "outputs": [
    {
     "data": {
      "text/plain": [
       "Volkswagen       88\n",
       "Ford             57\n",
       "Chevrolet        51\n",
       "Peugeot          49\n",
       "Toyota           47\n",
       "Renault          45\n",
       "Citroën          32\n",
       "Fiat             25\n",
       "Jeep             20\n",
       "Honda            18\n",
       "Mercedes-Benz    14\n",
       "BMW              13\n",
       "Hyundai           9\n",
       "Nissan            8\n",
       "Audi              8\n",
       "RAM               6\n",
       "Dodge             4\n",
       "Kia               3\n",
       "Volvo             2\n",
       "DS                2\n",
       "Mitsubishi        2\n",
       "Mini              2\n",
       "Porsche           1\n",
       "Chery             1\n",
       "Suzuki            1\n",
       "Subaru            1\n",
       "Baic              1\n",
       "Name: Marca, dtype: int64"
      ]
     },
     "execution_count": 11,
     "metadata": {},
     "output_type": "execute_result"
    }
   ],
   "source": [
    "df.Marca.value_counts()"
   ]
  },
  {
   "cell_type": "code",
   "execution_count": 12,
   "id": "d2cdc095",
   "metadata": {},
   "outputs": [
    {
     "data": {
      "image/png": "[encoded data removed]",
      "text/plain": [
       "<Figure size 1440x576 with 1 Axes>"
      ]
     },
     "metadata": {
      "needs_background": "light"
     },
     "output_type": "display_data"
    },
    {
     "data": {
      "text/plain": [
       "<Figure size 576x396 with 0 Axes>"
      ]
     },
     "metadata": {},
     "output_type": "display_data"
    }
   ],
   "source": [
    "df['Marca'].hist(bins=50, color='black') # Vemos graficamente su distribución\n",
    "plt.title('MARCAS MAS VENDIDAS EN EL PAIS', fontsize=18)\n",
    "plt.grid(False)\n",
    "\n",
    "plt.gcf().set_size_inches(20, 8)  # Tamaño de la figura (ancho, alto)\n",
    "plt.style.use('seaborn')  # Cambiar un estilo predefinido de fondo(como 'ggplot', 'seaborn', etc.)\n",
    "plt.xticks(rotation=30) # Para rotar las etiquetas del eje X porque si no se superponen unas con otras.\n",
    "\n",
    "plt.show()\n",
    "plt.clf()"
   ]
  },
  {
   "cell_type": "code",
   "execution_count": 13,
   "id": "47547bf9",
   "metadata": {},
   "outputs": [
    {
     "data": {
      "text/plain": [
       "Nafta            416\n",
       "Diésel            72\n",
       "Nafta/GNC         19\n",
       "Híbrido/Nafta      3\n",
       "Name: Combustible, dtype: int64"
      ]
     },
     "execution_count": 13,
     "metadata": {},
     "output_type": "execute_result"
    }
   ],
   "source": [
    "df.Combustible.value_counts()"
   ]
  },
  {
   "cell_type": "code",
   "execution_count": 14,
   "id": "db9b0efc",
   "metadata": {},
   "outputs": [
    {
     "data": {
      "image/png": "[encoded data removed]",
      "text/plain": [
       "<Figure size 1440x576 with 1 Axes>"
      ]
     },
     "metadata": {},
     "output_type": "display_data"
    },
    {
     "data": {
      "text/plain": [
       "<Figure size 576x396 with 0 Axes>"
      ]
     },
     "metadata": {},
     "output_type": "display_data"
    }
   ],
   "source": [
    "df['Combustible'].hist(bins=15, color='black') # Vemos graficamente su distribución\n",
    "plt.title('COMBUSTIBLE UTILIZADO', fontsize=18)\n",
    "plt.grid(False)\n",
    "\n",
    "plt.gcf().set_size_inches(20, 8)  # Tamaño de la figura (ancho, alto)\n",
    "plt.style.use('seaborn')  # Cambiar un estilo predefinido de fondo(como 'ggplot', 'seaborn', etc.)\n",
    "plt.xticks(rotation=30) # Para rotar las etiquetas del eje X porque si no se superponen unas con otras.\n",
    "\n",
    "plt.show()\n",
    "plt.clf()"
   ]
  },
  {
   "cell_type": "code",
   "execution_count": 15,
   "id": "0e8c5c95",
   "metadata": {},
   "outputs": [
    {
     "data": {
      "text/plain": [
       "Hatchback      184\n",
       "SUV            130\n",
       "Sedán           98\n",
       "Pick-Up         55\n",
       "Monovolumen     18\n",
       "Coupé           11\n",
       "Furgón           8\n",
       "Rural            3\n",
       "Minivan          1\n",
       "Sedan            1\n",
       "Crossover        1\n",
       "Name: Carroceria, dtype: int64"
      ]
     },
     "execution_count": 15,
     "metadata": {},
     "output_type": "execute_result"
    }
   ],
   "source": [
    "df.Carroceria.value_counts()"
   ]
  },
  {
   "cell_type": "code",
   "execution_count": 16,
   "id": "72e13058",
   "metadata": {},
   "outputs": [],
   "source": [
    "# En este caso hay 3 tipos de carroceria que voy a eliminar y agregar en otras mas representativas.\n",
    "df.Carroceria = df.Carroceria.replace([\"Sedan\"], \"Sedán\")\n",
    "df.Carroceria = df.Carroceria.replace([\"Minivan\", \"Crossover\"], \"SUV\")"
   ]
  },
  {
   "cell_type": "code",
   "execution_count": 17,
   "id": "15eb1cd4",
   "metadata": {},
   "outputs": [
    {
     "data": {
      "text/plain": [
       "Hatchback      184\n",
       "SUV            132\n",
       "Sedán           99\n",
       "Pick-Up         55\n",
       "Monovolumen     18\n",
       "Coupé           11\n",
       "Furgón           8\n",
       "Rural            3\n",
       "Name: Carroceria, dtype: int64"
      ]
     },
     "execution_count": 17,
     "metadata": {},
     "output_type": "execute_result"
    }
   ],
   "source": [
    "# Vuelvo para ver como quedan los valores de esa columna.\n",
    "df.Carroceria.value_counts()"
   ]
  },
  {
   "cell_type": "code",
   "execution_count": 18,
   "id": "ab0d2a98",
   "metadata": {},
   "outputs": [
    {
     "data": {
      "image/png": "[encoded data removed]",
      "text/plain": [
       "<Figure size 1440x576 with 1 Axes>"
      ]
     },
     "metadata": {},
     "output_type": "display_data"
    },
    {
     "data": {
      "text/plain": [
       "<Figure size 576x396 with 0 Axes>"
      ]
     },
     "metadata": {},
     "output_type": "display_data"
    }
   ],
   "source": [
    "df['Carroceria'].hist(bins=30, color='black') # Vemos graficamente su distribución\n",
    "plt.title('TIPO DE CARROCERIAS', fontsize=18)\n",
    "plt.grid(False)\n",
    "\n",
    "plt.gcf().set_size_inches(20, 8)  # Tamaño de la figura (ancho, alto)\n",
    "plt.style.use('seaborn')  # Cambiar un estilo predefinido de fondo(como 'ggplot', 'seaborn', etc.)\n",
    "plt.xticks(rotation=30) # Para rotar las etiquetas del eje X porque si no se superponen unas con otras.\n",
    "\n",
    "plt.show()\n",
    "plt.clf()"
   ]
  },
  {
   "cell_type": "code",
   "execution_count": 19,
   "id": "2776548a",
   "metadata": {},
   "outputs": [
    {
     "data": {
      "text/plain": [
       "Gris           169\n",
       "Blanco         150\n",
       "Negro           60\n",
       "Plateado        53\n",
       "Azul            25\n",
       "Rojo            24\n",
       "Dorado           8\n",
       "Violeta          4\n",
       "Marrón           4\n",
       "Celeste          4\n",
       "Gris oscuro      3\n",
       "Naranja          3\n",
       "Verde            2\n",
       "Beige            1\n",
       "Name: Color, dtype: int64"
      ]
     },
     "execution_count": 19,
     "metadata": {},
     "output_type": "execute_result"
    }
   ],
   "source": [
    "df.Color.value_counts()"
   ]
  },
  {
   "cell_type": "code",
   "execution_count": 20,
   "id": "4eab53e3",
   "metadata": {},
   "outputs": [
    {
     "data": {
      "image/png": "[encoded data removed]",
      "text/plain": [
       "<Figure size 1440x576 with 1 Axes>"
      ]
     },
     "metadata": {},
     "output_type": "display_data"
    },
    {
     "data": {
      "text/plain": [
       "<Figure size 576x396 with 0 Axes>"
      ]
     },
     "metadata": {},
     "output_type": "display_data"
    }
   ],
   "source": [
    "df['Color'].hist(bins=30, color='black') # Vemos graficamente su distribución\n",
    "plt.title('DISTRIBUCION DE COLORES DE CARROCERIAS', fontsize=18)\n",
    "plt.grid(False)\n",
    "\n",
    "plt.gcf().set_size_inches(20, 8)  # Tamaño de la figura (ancho, alto)\n",
    "plt.style.use('seaborn')  # Cambiar un estilo predefinido de fondo(como 'ggplot', 'seaborn', etc.)\n",
    "plt.xticks(rotation=30) # Para rotar las etiquetas del eje X porque si no se superponen unas con otras.\n",
    "\n",
    "plt.show()\n",
    "plt.clf()"
   ]
  },
  {
   "cell_type": "code",
   "execution_count": 21,
   "id": "c090a6b4",
   "metadata": {},
   "outputs": [
    {
     "data": {
      "text/html": [
       "<div>\n",
       "<style scoped>\n",
       "    .dataframe tbody tr th:only-of-type {\n",
       "        vertical-align: middle;\n",
       "    }\n",
       "\n",
       "    .dataframe tbody tr th {\n",
       "        vertical-align: top;\n",
       "    }\n",
       "\n",
       "    .dataframe thead th {\n",
       "        text-align: right;\n",
       "    }\n",
       "</style>\n",
       "<table border=\"1\" class=\"dataframe\">\n",
       "  <thead>\n",
       "    <tr style=\"text-align: right;\">\n",
       "      <th></th>\n",
       "      <th>Precio</th>\n",
       "      <th>Año</th>\n",
       "      <th>Puertas</th>\n",
       "      <th>Km</th>\n",
       "    </tr>\n",
       "  </thead>\n",
       "  <tbody>\n",
       "    <tr>\n",
       "      <th>Precio</th>\n",
       "      <td>1.000000</td>\n",
       "      <td>0.428133</td>\n",
       "      <td>0.070264</td>\n",
       "      <td>-0.219567</td>\n",
       "    </tr>\n",
       "    <tr>\n",
       "      <th>Año</th>\n",
       "      <td>0.428133</td>\n",
       "      <td>1.000000</td>\n",
       "      <td>0.083977</td>\n",
       "      <td>-0.679453</td>\n",
       "    </tr>\n",
       "    <tr>\n",
       "      <th>Puertas</th>\n",
       "      <td>0.070264</td>\n",
       "      <td>0.083977</td>\n",
       "      <td>1.000000</td>\n",
       "      <td>-0.078398</td>\n",
       "    </tr>\n",
       "    <tr>\n",
       "      <th>Km</th>\n",
       "      <td>-0.219567</td>\n",
       "      <td>-0.679453</td>\n",
       "      <td>-0.078398</td>\n",
       "      <td>1.000000</td>\n",
       "    </tr>\n",
       "  </tbody>\n",
       "</table>\n",
       "</div>"
      ],
      "text/plain": [
       "           Precio       Año   Puertas        Km\n",
       "Precio   1.000000  0.428133  0.070264 -0.219567\n",
       "Año      0.428133  1.000000  0.083977 -0.679453\n",
       "Puertas  0.070264  0.083977  1.000000 -0.078398\n",
       "Km      -0.219567 -0.679453 -0.078398  1.000000"
      ]
     },
     "execution_count": 21,
     "metadata": {},
     "output_type": "execute_result"
    }
   ],
   "source": [
    "df.corr()"
   ]
  },
  {
   "cell_type": "code",
   "execution_count": 22,
   "id": "8a74e9c2",
   "metadata": {},
   "outputs": [
    {
     "data": {
      "image/png": "[encoded data removed]",
      "text/plain": [
       "<Figure size 576x396 with 1 Axes>"
      ]
     },
     "metadata": {},
     "output_type": "display_data"
    }
   ],
   "source": [
    "sns.regplot(x=\"Km\", y=\"Precio\", data=df, line_kws={\"color\": \"orange\"}, scatter_kws={\"color\": \"black\"})\n",
    "plt.ylim(0,)\n",
    "plt.title(\"Relación entre el Precio y los Kilometros del Vehiculo\")\n",
    "sns.set_style(\"whitegrid\") # Fondo con cuadrícula\n",
    "\n",
    "plt.savefig(\"argentina_cars.png\")  #Aca guardo el grafico en una imagen para volver a usarlo sin modificaciones mas abajo\n",
    "plt.show()"
   ]
  },
  {
   "cell_type": "code",
   "execution_count": 23,
   "id": "1299eaa2",
   "metadata": {
    "scrolled": false
   },
   "outputs": [
    {
     "data": {
      "image/png": "[encoded data removed]",
      "text/plain": [
       "<Figure size 432x432 with 3 Axes>"
      ]
     },
     "metadata": {},
     "output_type": "display_data"
    },
    {
     "data": {
      "image/png": "[encoded data removed]",
      "text/plain": [
       "<Figure size 432x432 with 3 Axes>"
      ]
     },
     "metadata": {},
     "output_type": "display_data"
    }
   ],
   "source": [
    "# Graficos para ver bien la relación entre 2 variables y al mismo tiempo mostrar la distribución de cada variable por separado.\n",
    "sns.jointplot(x=\"Km\", y=\"Precio\", data=df, kind=\"hex\", cmap=\"gist_yarg\")\n",
    "plt.show()\n",
    "\n",
    "sns.jointplot(x=\"Km\", y=\"Precio\", data=df, kind=\"kde\") # Crea un mapa de calor que indica donde se concentran mas los autos.\n",
    "plt.show()\n"
   ]
  },
  {
   "cell_type": "markdown",
   "id": "73435e2f",
   "metadata": {},
   "source": [
    "## <div style = 'background-color:black'> <center><font color='white'>③ Modelado y evaluación </font></div>\n",
    "  \n",
    "Aca intentare buscar el mejor modelo de regresión con el objetivo de predecir el precio de un automovil de acuerdo a sus caracteristicas, partiendo de lo mas simple a los algoritmos mas complejos.\n",
    "\n",
    "Modelos posibles:\n",
    "\n",
    "- Regresión Lineal\n",
    "- Regresión Polinomica\n",
    "- Gradient Boosting\n",
    "- XGBoost\n",
    "\n",
    "Se evalúan utilizando métricas como:\n",
    "\n",
    "- Mean Scuared Error (Error cuadrático medio)"
   ]
  },
  {
   "cell_type": "markdown",
   "id": "3483bf52",
   "metadata": {},
   "source": [
    "## ❑ Regresión Lineal"
   ]
  },
  {
   "cell_type": "markdown",
   "id": "a39369c8",
   "metadata": {},
   "source": [
    "Si bien la relación entre los kilómetros recorridos y el precio del vehículo resulta evidente, a modo de demostración y práctica se realiza el cálculo de una regresión lineal considerando estas variables"
   ]
  },
  {
   "cell_type": "code",
   "execution_count": 24,
   "id": "83b2073a",
   "metadata": {},
   "outputs": [
    {
     "data": {
      "text/plain": [
       "LinearRegression()"
      ]
     },
     "execution_count": 24,
     "metadata": {},
     "output_type": "execute_result"
    }
   ],
   "source": [
    "# Regresión lineal\n",
    "from sklearn.linear_model import LinearRegression\n",
    "lm = LinearRegression()\n",
    "lm"
   ]
  },
  {
   "cell_type": "code",
   "execution_count": 25,
   "id": "e69d40c4",
   "metadata": {},
   "outputs": [],
   "source": [
    "X = df[['Km']]\n",
    "Y = df['Precio']"
   ]
  },
  {
   "cell_type": "code",
   "execution_count": 26,
   "id": "8f042759",
   "metadata": {},
   "outputs": [
    {
     "data": {
      "text/plain": [
       "LinearRegression()"
      ]
     },
     "execution_count": 26,
     "metadata": {},
     "output_type": "execute_result"
    }
   ],
   "source": [
    "lm.fit(X,Y) # Entrenamos el modelo"
   ]
  },
  {
   "cell_type": "code",
   "execution_count": 27,
   "id": "d742f47d",
   "metadata": {},
   "outputs": [
    {
     "data": {
      "text/plain": [
       "array([4983153.12497787, 4983153.12497787, 4983153.12497787,\n",
       "       4982468.10030982, 4866698.93140833])"
      ]
     },
     "execution_count": 27,
     "metadata": {},
     "output_type": "execute_result"
    }
   ],
   "source": [
    "Yhat=lm.predict(X)\n",
    "Yhat[0:5] # Selecciona las primeras 5 predicciones de la matriz"
   ]
  },
  {
   "cell_type": "code",
   "execution_count": 28,
   "id": "1630a40f",
   "metadata": {},
   "outputs": [
    {
     "name": "stdout",
     "output_type": "stream",
     "text": [
      "Intercepcion:  4990003.371658436 o lo que es lo mismo, cuando X=0, Y tendra este valor\n",
      "Coeficiente:  [-13.70049336]\n"
     ]
    }
   ],
   "source": [
    "print ('Intercepcion: ',lm.intercept_, 'o lo que es lo mismo, cuando X=0, Y tendra este valor')\n",
    "print ('Coeficiente: ', lm.coef_)"
   ]
  },
  {
   "cell_type": "markdown",
   "id": "74ac62d3",
   "metadata": {},
   "source": [
    "<div class=\"alert alert-warning\">Sera una regresión lineal con la formula Y=a+bX, donde a=intercept y donde b=coef\n",
    "\n",
    "Que seria como decir\n",
    "Y = 4990003.37 - 13.9663xBeneficio/Acciones\n",
    "\n",
    "Con esta formula podremos predecir el precio\n",
    "</div>"
   ]
  },
  {
   "cell_type": "code",
   "execution_count": 29,
   "id": "760004ba",
   "metadata": {},
   "outputs": [
    {
     "data": {
      "text/plain": [
       "array([4983153.12497787, 4983153.12497787, 4983153.12497787,\n",
       "       4982468.10030982, 4866698.93140833, 4846148.19136665,\n",
       "       2852726.40732326, 2606117.52682305, 4085770.80982432,\n",
       "       4510486.10401913, 4231078.24241239, 2769427.40768764,\n",
       "       3467727.85381071, 3467727.85381071, 4513226.20269136,\n",
       "       3606253.54218502, 3989867.35629646, 3852862.42268524,\n",
       "       3633654.52890727, 2523914.56665631, 3893963.9027686 ,\n",
       "       3551451.56874053, 3921364.88949085, 2660919.50026754,\n",
       "       3291142.1948792 , 4154273.27662994, 4469384.62393577,\n",
       "       2523914.56665631, 4236476.23679668, 3688456.50235176,\n",
       "       2432121.26113679, 4702293.01107485, 3482949.10193492,\n",
       "       4140572.78326882, 4058369.82310208, 3277441.70151807,\n",
       "       4455684.13057464, 2976030.84757337, 4113171.79654657,\n",
       "       3756958.96915738, 4674892.02435261, 3852862.42268524,\n",
       "       3633654.52890727, 3962466.36957422, 4209075.25007443,\n",
       "       3647355.02226839, 3825461.43596299, 4983016.12004426,\n",
       "       4387181.66376903, 4263877.22351892, 4172111.31898612,\n",
       "       4165206.27033212, 4852998.43804721, 3213309.69209466,\n",
       "       4735256.39810172, 3561452.92889415, 4179742.49378827,\n",
       "       3482949.10193492, 3058233.80774011, 3674756.00899064,\n",
       "       4195374.75671331, 4888619.72078613, 4469384.62393577,\n",
       "       3167837.75462909, 3071934.30110123, 4359780.67704678,\n",
       "       3085634.79446235, 4126872.28990769, 4181674.26335219,\n",
       "       4113171.79654657, 4332379.69032454, 4332379.69032454,\n",
       "       3715857.48907401, 4263877.22351892, 4441983.63721352,\n",
       "       4387181.66376903, 3866562.91604636, 4167973.76999106,\n",
       "       4318679.19696341, 3907664.39612973, 4181674.26335219,\n",
       "       3071934.30110123, 4962602.38493619, 4332379.69032454,\n",
       "       3893963.9027686 , 4811896.95796384, 3811760.94260187,\n",
       "       3373345.15504593, 4281687.86488838, 3167837.75462909,\n",
       "       4633790.54426924, 4647491.03763036, 4236476.23679668,\n",
       "       3482949.10193492, 4441983.63721352, 4729693.9977971 ,\n",
       "       4876289.27676112, 4524186.59738026, 4209075.25007443,\n",
       "       4633790.54426924, 3852862.42268524, 4092621.05650489,\n",
       "       3798060.44924074, 4243326.48347724, 3907664.39612973,\n",
       "       3798060.44924074, 4209075.25007443, 3729557.98243513,\n",
       "       3592553.0488239 , 3825461.43596299, 4277577.71688005,\n",
       "       3250040.71479583, 4868068.98074444, 4250176.7301578 ,\n",
       "       3263741.20815695, 4181674.26335219, 4030968.83637983,\n",
       "       4565288.07746363, 3921364.88949085, 3222639.72807358,\n",
       "       4181674.26335219, 4277577.71688005, 4181674.26335219,\n",
       "       3414446.6351293 , 3455548.11521267, 3455548.11521267,\n",
       "       3263741.20815695, 4387181.66376903, 3798060.44924074,\n",
       "       3428147.12849043, 3524050.58201829, 3224009.77740969,\n",
       "       4531804.07168904, 3085634.79446235, 4839297.94468608,\n",
       "       4414582.65049127, 4483085.11729689, 2797924.43387877,\n",
       "       3784359.95587962, 3482949.10193492, 4126872.28990769,\n",
       "       3784359.95587962, 3092923.45693047, 2893827.88740663,\n",
       "       3688456.50235176, 3592553.0488239 , 4531036.84406082,\n",
       "       3825461.43596299, 4373481.17040791, 4455684.13057464,\n",
       "       3510350.08865716, 4181674.26335219, 3907664.39612973,\n",
       "       4469384.62393577, 3907664.39612973, 4058369.82310208,\n",
       "       4304978.70360229, 3414446.6351293 , 4044669.32974096,\n",
       "       4222775.74343555, 4798196.46460272, 2674619.99362867,\n",
       "       4167973.76999106, 4154273.27662994, 3373345.15504593,\n",
       "       2893827.88740663, 4565288.07746363, 4458424.22924687,\n",
       "       3962466.36957422, 4976302.87829731, 4126872.28990769,\n",
       "       3784359.95587962, 3907664.39612973, 4373481.17040791,\n",
       "       3414446.6351293 , 4373481.17040791, 2633518.5135453 ,\n",
       "       4169343.81932717, 4428283.1438524 , 3743258.47579625,\n",
       "       3907664.39612973, 3876673.88014687, 4167973.76999106,\n",
       "       4128927.36391186, 3756958.96915738, 4322638.63954478,\n",
       "       4030968.83637983, 4167973.76999106, 3976166.86293534,\n",
       "       4044669.32974096, 4263877.22351892, 4167973.76999106,\n",
       "       4743394.49115822, 3674756.00899064, 3811760.94260187,\n",
       "       3770659.4625185 , 3647355.02226839, 4181674.26335219,\n",
       "       4148943.78471246, 4148943.78471246, 4455684.13057464,\n",
       "       3099335.28782348, 4510486.10401913, 3482949.10193492,\n",
       "       4221405.69409944, 4400882.15713015, 3373345.15504593,\n",
       "       3359644.66168481, 3181538.24799021, 4279851.99877799,\n",
       "       2702020.98035091, 4935201.39821394, 3606253.54218502,\n",
       "       4702293.01107485, 4136462.63526048, 4378865.46429883,\n",
       "       3208939.23471246, 3455548.11521267, 2386909.63304509,\n",
       "       4017268.34301871, 4743394.49115822, 4974782.12353423,\n",
       "       4674892.02435261, 3907664.39612973, 4455684.13057464,\n",
       "       3907664.39612973, 4181674.26335219, 4113171.79654657,\n",
       "       3756958.96915738, 4209075.25007443, 3277441.70151807,\n",
       "       4763945.23119991, 3414446.6351293 , 4359780.67704678,\n",
       "       4195374.75671331, 4784495.97124159, 4167973.76999106,\n",
       "       4469384.62393577, 4825597.45132496, 4455684.13057464,\n",
       "       3948765.8762131 , 4195374.75671331, 3765179.26517405,\n",
       "       3759699.0678296 , 3113035.7811846 , 2499253.67860629,\n",
       "       4167973.76999106, 4483085.11729689, 3906294.34679361,\n",
       "       2660919.50026754, 1564880.03137771, 4578988.57082475,\n",
       "       4414582.65049127, 3208939.23471246, 4291278.21024117,\n",
       "       3866398.51012602, 3217159.53072913, 3770659.4625185 ,\n",
       "       3496649.59529604, 3811760.94260187, 3907664.39612973,\n",
       "       3866562.91604636, 3839161.92932411, 4140572.78326882,\n",
       "       4154273.27662994, 2304706.67287835, 4318679.19696341,\n",
       "       4455684.13057464, 4044669.32974096, 4962602.38493619,\n",
       "       3907664.39612973, 4199484.90472164, 3113035.7811846 ,\n",
       "       3907664.39612973, 4044669.32974096, 4674892.02435261,\n",
       "       4167973.76999106, 2195102.72598937, 3236340.2214347 ,\n",
       "       4113171.79654657, 4140572.78326882, 3647355.02226839,\n",
       "       4044669.32974096, 4359780.67704678, 3770659.4625185 ,\n",
       "       2784223.94051765, 4983153.12497787, 3071934.30110123,\n",
       "       3208939.23471246, 3632284.47957116, 4478974.96928855,\n",
       "       3935065.38285197, 4099471.30318545, 4387181.66376903,\n",
       "       3784359.95587962, 3496649.59529604, 3688456.50235176,\n",
       "       4362520.77571901, 3455548.11521267, 3907664.39612973,\n",
       "       4283057.91422449, 4318679.19696341, 4322789.34497175,\n",
       "       3811760.94260187, 3669275.81164619, 4633790.54426924,\n",
       "       3359644.66168481, 3976166.86293534, 4236476.23679668,\n",
       "       4428283.1438524 , 4181674.26335219, 4236476.23679668,\n",
       "       4154273.27662994, 2907528.38076776, 4589948.96551365,\n",
       "       4135092.58592437, 4277577.71688005, 3551451.56874053,\n",
       "       4167973.76999106, 4469384.62393577, 4647491.03763036,\n",
       "       4880399.42476945, 4441983.63721352, 4955752.13825563,\n",
       "       4387181.66376903, 4426913.09451628, 3898074.05077694,\n",
       "       4332379.69032454, 4304978.70360229, 4085770.80982432,\n",
       "       3647355.02226839, 3688456.50235176, 4113171.79654657,\n",
       "       1674483.9782667 , 4373481.17040791, 3769289.41318239,\n",
       "       3819981.23861854, 4840667.9940222 , 2551315.55337856,\n",
       "       3672933.84337361, 3936216.22429431, 3497567.52835124,\n",
       "       4013993.9251054 , 3637764.67691561, 4976302.87829731,\n",
       "       4483085.11729689, 4674892.02435261, 2386909.63304509,\n",
       "       4380331.41708847, 4606389.55754699, 4976152.17287034,\n",
       "       4688592.51771373, 4236476.23679668, 4359780.67704678,\n",
       "       4167973.76999106, 3332243.67496257, 4925611.05286116,\n",
       "       4154273.27662994, 4195374.75671331, 4140572.78326882,\n",
       "       3414446.6351293 ,  400338.09568227, 4606389.55754699,\n",
       "       3756958.96915738, 4907800.4114917 , 4974782.12353423,\n",
       "       4976302.87829731, 3318543.18160144, 4983153.12497787,\n",
       "       4155643.32596605, 3989867.35629646, 3811760.94260187,\n",
       "       4017268.34301871, 4455684.13057464, 3263741.20815695,\n",
       "       3277441.70151807, 3852862.42268524, 3263741.20815695,\n",
       "       3592553.0488239 , 2685580.38831756, 4372111.12107179,\n",
       "       4974782.12353423, 4925611.05286116, 3962466.36957422,\n",
       "       3345944.16832369, 3126736.27454572, 4585427.80270448,\n",
       "       4602279.40953866, 3624064.18355448, 4043299.28040484,\n",
       "       4578988.57082475, 3632284.47957116, 4181674.26335219,\n",
       "       3030832.82101786, 3907664.39612973, 3113035.7811846 ,\n",
       "       4933831.34887783, 4825597.45132496, 4099471.30318545,\n",
       "       4565288.07746363, 4265247.27285504, 4955752.13825563,\n",
       "       4640640.7909498 , 4726953.89912488, 3619954.03554615,\n",
       "       4715993.50443598, 4565288.07746363, 3359644.66168481,\n",
       "       4346080.18368566, 4209075.25007443, 3345944.16832369,\n",
       "       3866562.91604636, 4072070.3164632 , 3737778.2784518 ,\n",
       "       4400882.15713015, 4140572.78326882, 4325529.44364398,\n",
       "       3647355.02226839, 4496785.61065801, 4167973.76999106,\n",
       "       4496785.61065801, 2934929.36749   , 4976302.87829731,\n",
       "       3373345.15504593, 4447463.83455797, 4018049.27114029,\n",
       "       4403622.25580238, 3146670.49238616, 3359644.66168481,\n",
       "       3250040.71479583, 3852862.42268524, 4154273.27662994,\n",
       "       3345944.16832369, 4044669.32974096, 2962330.35421225,\n",
       "       3989867.35629646, 3906294.34679361, 2619818.02018418,\n",
       "       4783125.92190548, 4322104.3203037 , 3277441.70151807,\n",
       "       4784495.97124159, 2044397.29901701, 3661055.51562952,\n",
       "       3140436.76790684, 2660919.50026754, 4840709.09550228,\n",
       "       3976166.86293534, 3784359.95587962, 3359644.66168481,\n",
       "       4852998.43804721, 4044669.32974096, 3851492.37334912,\n",
       "       4591045.00498254, 3469248.60857379, 4126872.28990769,\n",
       "       4965342.48360841, 2536245.01068133, 3989867.35629646,\n",
       "       3770659.4625185 , 4428283.1438524 , 4948901.89157507,\n",
       "       2688320.48698979, 3811760.94260187, 3332243.67496257,\n",
       "       3537751.07537941, 4606389.55754699, 3633654.52890727,\n",
       "       4236476.23679668, 4072070.3164632 , 4970822.68095286,\n",
       "       3811760.94260187, 4510486.10401913, 4702293.01107485,\n",
       "       4030968.83637983, 4743394.49115822, 3030832.82101786,\n",
       "       4483085.11729689, 1975894.8322114 , 4417322.7491635 ,\n",
       "       4188524.51003275, 4578988.57082475, 3948765.8762131 ,\n",
       "       4780385.82323326, 4058369.82310208, 4277577.71688005,\n",
       "       4510486.10401913, 4483085.11729689, 3419926.83247375,\n",
       "       2976030.84757337, 4195374.75671331, 3893963.9027686 ,\n",
       "       4537887.09074138, 3893963.9027686 , 4236476.23679668,\n",
       "       4524186.59738026, 4332379.69032454, 4291278.21024117,\n",
       "       4839297.94468608, 4976302.87829731, 3798060.44924074,\n",
       "       4070946.87600759, 3140436.76790684, 2873948.47153964,\n",
       "       3524050.58201829, 4277577.71688005, 4318679.19696341,\n",
       "       3957561.59295094, 4202225.00339387, 3839161.92932411])"
      ]
     },
     "execution_count": 29,
     "metadata": {},
     "output_type": "execute_result"
    }
   ],
   "source": [
    "# Pido predecir el modelo de regresión lineal (lm) previamente entrenado\n",
    "Yhat=lm.predict(X)\n",
    "lm.predict(X)\n"
   ]
  },
  {
   "cell_type": "code",
   "execution_count": 30,
   "id": "d562bc8f",
   "metadata": {},
   "outputs": [
    {
     "data": {
      "text/plain": [
       "(0.0, 15070417.415119803)"
      ]
     },
     "execution_count": 30,
     "metadata": {},
     "output_type": "execute_result"
    },
    {
     "data": {
      "image/png": "[encoded data removed]",
      "text/plain": [
       "<Figure size 576x396 with 1 Axes>"
      ]
     },
     "metadata": {},
     "output_type": "display_data"
    }
   ],
   "source": [
    "sns.regplot (x=\"Km\", y=\"Precio\", data=df, color=\"black\")\n",
    "plt.ylim (0, )"
   ]
  },
  {
   "cell_type": "markdown",
   "id": "c2dd5213",
   "metadata": {},
   "source": [
    "Luego se compara Yhat (los valores estimados por el modelo) con los valores reales para determinar qué tan bien se ajusta la regresión a los datos."
   ]
  },
  {
   "cell_type": "markdown",
   "id": "055bb148",
   "metadata": {},
   "source": [
    "<div class=\"alert alert-warning\">El Mean Squared Error (MSE) mide la diferencia promedio entre los valores reales y los valores predichos por el modelo.\n",
    "\n",
    "Para cada observación, se calcula la diferencia entre el valor real y el valor estimado, y luego esa diferencia se eleva al cuadrado para eliminar los signos negativos y penalizar los errores grandes.\n",
    "\n",
    "Por ejemplo, si el valor real es 150 y la predicción del modelo es 50, la diferencia es \n",
    "150 − 50 = 100. Al elevarla al cuadrado, obtenemos 100² = 10.000\n",
    "\n",
    "Finalmente, se calcula el promedio de todos esos errores al cuadrado.\n",
    "\n",
    "Cuanto menor sea el MSE, mejor se ajusta el modelo a los datos, ya que indica que las predicciones están más cerca de los valores reales.\n",
    "</div>"
   ]
  },
  {
   "cell_type": "code",
   "execution_count": 31,
   "id": "08bfe54a",
   "metadata": {},
   "outputs": [],
   "source": [
    "from sklearn.metrics import mean_squared_error"
   ]
  },
  {
   "cell_type": "code",
   "execution_count": 32,
   "id": "9da957a0",
   "metadata": {
    "scrolled": true
   },
   "outputs": [
    {
     "name": "stdout",
     "output_type": "stream",
     "text": [
      "El MSE (Error Cuadratico Medio) del precio y el valor que se predijo es:  8090860395338.652\n"
     ]
    }
   ],
   "source": [
    "mse = mean_squared_error(df['Precio'], Yhat)\n",
    "print('El MSE (Error Cuadratico Medio) del precio y el valor que se predijo es: ', mse)"
   ]
  },
  {
   "cell_type": "markdown",
   "id": "ba7ab726",
   "metadata": {},
   "source": [
    "<div class=\"alert alert-warning\">El valor obtenido del MSE, 8.090.860.395.338,652, es extremadamente elevado. Esto indica que existe una gran discrepancia entre los valores reales de df['Precio'] y las predicciones generadas por el modelo (Yhat). En consecuencia, el modelo no logra un buen ajuste a los datos, presentando errores de predicción considerables.\n",
    "</div>\n"
   ]
  },
  {
   "cell_type": "markdown",
   "id": "6b62d07f",
   "metadata": {},
   "source": [
    "---\n",
    "**Interpretación del MSE:**\n",
    "\n",
    "MSE alto\n",
    "\n",
    "Indica que el modelo tiene un mal desempeño.\n",
    "\n",
    "Los errores entre los valores reales y los predichos son muy grandes.\n",
    "\n",
    "Esto puede deberse a:\n",
    "\n",
    "- Un modelo que no se ajusta bien a los datos.\n",
    "\n",
    "- Datos con mucha variabilidad o ruido.\n",
    "\n",
    "- Variables independientes que no tienen una relación lineal con la variable dependiente.\n",
    "\n",
    "MSE bajo\n",
    "\n",
    "- Indica que el modelo tiene un buen desempeño.\n",
    "\n",
    "- Los errores entre los valores reales y los predichos son pequeños."
   ]
  },
  {
   "cell_type": "markdown",
   "id": "c4448689",
   "metadata": {},
   "source": [
    "---\n",
    "Esto se debe en principio a que en los datos hay una columna que esta expresada en pesos y otra en dolares, asi que procedo\n",
    "a modificar esta columna para expresar todo en una sola moneda, pasando a dolares todos los valores que no lo esten, utilizando\n",
    "de modo arbitrario un tipo de cambio de $1200 por cada dolar, aproximadamente acorde a lo que en este momento cotiza en el pais.\n",
    "---"
   ]
  },
  {
   "cell_type": "code",
   "execution_count": 33,
   "id": "1988c260",
   "metadata": {},
   "outputs": [
    {
     "data": {
      "text/html": [
       "<div>\n",
       "<style scoped>\n",
       "    .dataframe tbody tr th:only-of-type {\n",
       "        vertical-align: middle;\n",
       "    }\n",
       "\n",
       "    .dataframe tbody tr th {\n",
       "        vertical-align: top;\n",
       "    }\n",
       "\n",
       "    .dataframe thead th {\n",
       "        text-align: right;\n",
       "    }\n",
       "</style>\n",
       "<table border=\"1\" class=\"dataframe\">\n",
       "  <thead>\n",
       "    <tr style=\"text-align: right;\">\n",
       "      <th></th>\n",
       "      <th>Precio</th>\n",
       "      <th>Marca</th>\n",
       "      <th>Modelo</th>\n",
       "      <th>Año</th>\n",
       "      <th>Color</th>\n",
       "      <th>Combustible</th>\n",
       "      <th>Puertas</th>\n",
       "      <th>Transmision</th>\n",
       "      <th>Motor</th>\n",
       "      <th>Carroceria</th>\n",
       "      <th>Km</th>\n",
       "      <th>Moneda</th>\n",
       "    </tr>\n",
       "  </thead>\n",
       "  <tbody>\n",
       "    <tr>\n",
       "      <th>0</th>\n",
       "      <td>10350000</td>\n",
       "      <td>Toyota</td>\n",
       "      <td>Corolla Cross</td>\n",
       "      <td>2022</td>\n",
       "      <td>Plateado</td>\n",
       "      <td>Nafta</td>\n",
       "      <td>5.0</td>\n",
       "      <td>Automática</td>\n",
       "      <td>1.6</td>\n",
       "      <td>SUV</td>\n",
       "      <td>500</td>\n",
       "      <td>pesos</td>\n",
       "    </tr>\n",
       "    <tr>\n",
       "      <th>1</th>\n",
       "      <td>10850000</td>\n",
       "      <td>Jeep</td>\n",
       "      <td>Compass</td>\n",
       "      <td>2022</td>\n",
       "      <td>Blanco</td>\n",
       "      <td>Nafta</td>\n",
       "      <td>5.0</td>\n",
       "      <td>Automática</td>\n",
       "      <td>2.4</td>\n",
       "      <td>SUV</td>\n",
       "      <td>500</td>\n",
       "      <td>pesos</td>\n",
       "    </tr>\n",
       "    <tr>\n",
       "      <th>2</th>\n",
       "      <td>35500</td>\n",
       "      <td>Jeep</td>\n",
       "      <td>Compass</td>\n",
       "      <td>2022</td>\n",
       "      <td>Gris oscuro</td>\n",
       "      <td>Nafta</td>\n",
       "      <td>5.0</td>\n",
       "      <td>Automática</td>\n",
       "      <td>2.4</td>\n",
       "      <td>SUV</td>\n",
       "      <td>500</td>\n",
       "      <td>dólares</td>\n",
       "    </tr>\n",
       "  </tbody>\n",
       "</table>\n",
       "</div>"
      ],
      "text/plain": [
       "     Precio   Marca         Modelo   Año        Color Combustible  Puertas  \\\n",
       "0  10350000  Toyota  Corolla Cross  2022     Plateado       Nafta      5.0   \n",
       "1  10850000    Jeep        Compass  2022       Blanco       Nafta      5.0   \n",
       "2     35500    Jeep        Compass  2022  Gris oscuro       Nafta      5.0   \n",
       "\n",
       "  Transmision Motor Carroceria   Km   Moneda  \n",
       "0  Automática   1.6        SUV  500    pesos  \n",
       "1  Automática   2.4        SUV  500    pesos  \n",
       "2  Automática   2.4        SUV  500  dólares  "
      ]
     },
     "execution_count": 33,
     "metadata": {},
     "output_type": "execute_result"
    }
   ],
   "source": [
    "# Como estan actualmente los datos\n",
    "df.head(3)"
   ]
  },
  {
   "cell_type": "code",
   "execution_count": 34,
   "id": "20ebd418",
   "metadata": {},
   "outputs": [],
   "source": [
    "df.loc[df[\"Moneda\"] == \"pesos\", \"Precio\"] = df[\"Precio\"] / 1200 #Tomo solo los valores en pesos y los convierto a dolares\n",
    "df.loc[df[\"Moneda\"] == \"pesos\", \"Moneda\"] = \"dólares\" # Cambia el valor en la columna \"Moneda\" para reflejar que esta en dolares"
   ]
  },
  {
   "cell_type": "code",
   "execution_count": 35,
   "id": "c1079631",
   "metadata": {},
   "outputs": [
    {
     "data": {
      "text/html": [
       "<div>\n",
       "<style scoped>\n",
       "    .dataframe tbody tr th:only-of-type {\n",
       "        vertical-align: middle;\n",
       "    }\n",
       "\n",
       "    .dataframe tbody tr th {\n",
       "        vertical-align: top;\n",
       "    }\n",
       "\n",
       "    .dataframe thead th {\n",
       "        text-align: right;\n",
       "    }\n",
       "</style>\n",
       "<table border=\"1\" class=\"dataframe\">\n",
       "  <thead>\n",
       "    <tr style=\"text-align: right;\">\n",
       "      <th></th>\n",
       "      <th>Precio</th>\n",
       "      <th>Marca</th>\n",
       "      <th>Modelo</th>\n",
       "      <th>Año</th>\n",
       "      <th>Color</th>\n",
       "      <th>Combustible</th>\n",
       "      <th>Puertas</th>\n",
       "      <th>Transmision</th>\n",
       "      <th>Motor</th>\n",
       "      <th>Carroceria</th>\n",
       "      <th>Km</th>\n",
       "      <th>Moneda</th>\n",
       "    </tr>\n",
       "  </thead>\n",
       "  <tbody>\n",
       "    <tr>\n",
       "      <th>0</th>\n",
       "      <td>8625.000000</td>\n",
       "      <td>Toyota</td>\n",
       "      <td>Corolla Cross</td>\n",
       "      <td>2022</td>\n",
       "      <td>Plateado</td>\n",
       "      <td>Nafta</td>\n",
       "      <td>5.0</td>\n",
       "      <td>Automática</td>\n",
       "      <td>1.6</td>\n",
       "      <td>SUV</td>\n",
       "      <td>500</td>\n",
       "      <td>dólares</td>\n",
       "    </tr>\n",
       "    <tr>\n",
       "      <th>1</th>\n",
       "      <td>9041.666667</td>\n",
       "      <td>Jeep</td>\n",
       "      <td>Compass</td>\n",
       "      <td>2022</td>\n",
       "      <td>Blanco</td>\n",
       "      <td>Nafta</td>\n",
       "      <td>5.0</td>\n",
       "      <td>Automática</td>\n",
       "      <td>2.4</td>\n",
       "      <td>SUV</td>\n",
       "      <td>500</td>\n",
       "      <td>dólares</td>\n",
       "    </tr>\n",
       "    <tr>\n",
       "      <th>2</th>\n",
       "      <td>35500.000000</td>\n",
       "      <td>Jeep</td>\n",
       "      <td>Compass</td>\n",
       "      <td>2022</td>\n",
       "      <td>Gris oscuro</td>\n",
       "      <td>Nafta</td>\n",
       "      <td>5.0</td>\n",
       "      <td>Automática</td>\n",
       "      <td>2.4</td>\n",
       "      <td>SUV</td>\n",
       "      <td>500</td>\n",
       "      <td>dólares</td>\n",
       "    </tr>\n",
       "  </tbody>\n",
       "</table>\n",
       "</div>"
      ],
      "text/plain": [
       "         Precio   Marca         Modelo   Año        Color Combustible  \\\n",
       "0   8625.000000  Toyota  Corolla Cross  2022     Plateado       Nafta   \n",
       "1   9041.666667    Jeep        Compass  2022       Blanco       Nafta   \n",
       "2  35500.000000    Jeep        Compass  2022  Gris oscuro       Nafta   \n",
       "\n",
       "   Puertas Transmision Motor Carroceria   Km   Moneda  \n",
       "0      5.0  Automática   1.6        SUV  500  dólares  \n",
       "1      5.0  Automática   2.4        SUV  500  dólares  \n",
       "2      5.0  Automática   2.4        SUV  500  dólares  "
      ]
     },
     "execution_count": 35,
     "metadata": {},
     "output_type": "execute_result"
    }
   ],
   "source": [
    "# Ver el resultado, figura expresado en dolares pero con muchos decimales que dificulta ver y entender bien los valores\n",
    "df.head(3) \n"
   ]
  },
  {
   "cell_type": "code",
   "execution_count": 36,
   "id": "ae152835",
   "metadata": {},
   "outputs": [],
   "source": [
    "df[\"Precio\"] = df[\"Precio\"].round(0).astype(int) # Para eliminar los decimales"
   ]
  },
  {
   "cell_type": "code",
   "execution_count": 37,
   "id": "bc306d84",
   "metadata": {},
   "outputs": [
    {
     "data": {
      "text/html": [
       "<div>\n",
       "<style scoped>\n",
       "    .dataframe tbody tr th:only-of-type {\n",
       "        vertical-align: middle;\n",
       "    }\n",
       "\n",
       "    .dataframe tbody tr th {\n",
       "        vertical-align: top;\n",
       "    }\n",
       "\n",
       "    .dataframe thead th {\n",
       "        text-align: right;\n",
       "    }\n",
       "</style>\n",
       "<table border=\"1\" class=\"dataframe\">\n",
       "  <thead>\n",
       "    <tr style=\"text-align: right;\">\n",
       "      <th></th>\n",
       "      <th>Precio</th>\n",
       "      <th>Marca</th>\n",
       "      <th>Modelo</th>\n",
       "      <th>Año</th>\n",
       "      <th>Color</th>\n",
       "      <th>Combustible</th>\n",
       "      <th>Puertas</th>\n",
       "      <th>Transmision</th>\n",
       "      <th>Motor</th>\n",
       "      <th>Carroceria</th>\n",
       "      <th>Km</th>\n",
       "      <th>Moneda</th>\n",
       "    </tr>\n",
       "  </thead>\n",
       "  <tbody>\n",
       "    <tr>\n",
       "      <th>0</th>\n",
       "      <td>8625</td>\n",
       "      <td>Toyota</td>\n",
       "      <td>Corolla Cross</td>\n",
       "      <td>2022</td>\n",
       "      <td>Plateado</td>\n",
       "      <td>Nafta</td>\n",
       "      <td>5.0</td>\n",
       "      <td>Automática</td>\n",
       "      <td>1.6</td>\n",
       "      <td>SUV</td>\n",
       "      <td>500</td>\n",
       "      <td>dólares</td>\n",
       "    </tr>\n",
       "    <tr>\n",
       "      <th>1</th>\n",
       "      <td>9042</td>\n",
       "      <td>Jeep</td>\n",
       "      <td>Compass</td>\n",
       "      <td>2022</td>\n",
       "      <td>Blanco</td>\n",
       "      <td>Nafta</td>\n",
       "      <td>5.0</td>\n",
       "      <td>Automática</td>\n",
       "      <td>2.4</td>\n",
       "      <td>SUV</td>\n",
       "      <td>500</td>\n",
       "      <td>dólares</td>\n",
       "    </tr>\n",
       "    <tr>\n",
       "      <th>2</th>\n",
       "      <td>35500</td>\n",
       "      <td>Jeep</td>\n",
       "      <td>Compass</td>\n",
       "      <td>2022</td>\n",
       "      <td>Gris oscuro</td>\n",
       "      <td>Nafta</td>\n",
       "      <td>5.0</td>\n",
       "      <td>Automática</td>\n",
       "      <td>2.4</td>\n",
       "      <td>SUV</td>\n",
       "      <td>500</td>\n",
       "      <td>dólares</td>\n",
       "    </tr>\n",
       "  </tbody>\n",
       "</table>\n",
       "</div>"
      ],
      "text/plain": [
       "   Precio   Marca         Modelo   Año        Color Combustible  Puertas  \\\n",
       "0    8625  Toyota  Corolla Cross  2022     Plateado       Nafta      5.0   \n",
       "1    9042    Jeep        Compass  2022       Blanco       Nafta      5.0   \n",
       "2   35500    Jeep        Compass  2022  Gris oscuro       Nafta      5.0   \n",
       "\n",
       "  Transmision Motor Carroceria   Km   Moneda  \n",
       "0  Automática   1.6        SUV  500  dólares  \n",
       "1  Automática   2.4        SUV  500  dólares  \n",
       "2  Automática   2.4        SUV  500  dólares  "
      ]
     },
     "execution_count": 37,
     "metadata": {},
     "output_type": "execute_result"
    }
   ],
   "source": [
    "df.head(3)"
   ]
  },
  {
   "cell_type": "code",
   "execution_count": 38,
   "id": "1155b860",
   "metadata": {},
   "outputs": [
    {
     "data": {
      "text/html": [
       "<div>\n",
       "<style scoped>\n",
       "    .dataframe tbody tr th:only-of-type {\n",
       "        vertical-align: middle;\n",
       "    }\n",
       "\n",
       "    .dataframe tbody tr th {\n",
       "        vertical-align: top;\n",
       "    }\n",
       "\n",
       "    .dataframe thead th {\n",
       "        text-align: right;\n",
       "    }\n",
       "</style>\n",
       "<table border=\"1\" class=\"dataframe\">\n",
       "  <thead>\n",
       "    <tr style=\"text-align: right;\">\n",
       "      <th></th>\n",
       "      <th>Precio</th>\n",
       "      <th>Año</th>\n",
       "      <th>Puertas</th>\n",
       "      <th>Km</th>\n",
       "    </tr>\n",
       "  </thead>\n",
       "  <tbody>\n",
       "    <tr>\n",
       "      <th>Precio</th>\n",
       "      <td>1.000000</td>\n",
       "      <td>0.145336</td>\n",
       "      <td>-0.290603</td>\n",
       "      <td>-0.224759</td>\n",
       "    </tr>\n",
       "    <tr>\n",
       "      <th>Año</th>\n",
       "      <td>0.145336</td>\n",
       "      <td>1.000000</td>\n",
       "      <td>0.083977</td>\n",
       "      <td>-0.679453</td>\n",
       "    </tr>\n",
       "    <tr>\n",
       "      <th>Puertas</th>\n",
       "      <td>-0.290603</td>\n",
       "      <td>0.083977</td>\n",
       "      <td>1.000000</td>\n",
       "      <td>-0.078398</td>\n",
       "    </tr>\n",
       "    <tr>\n",
       "      <th>Km</th>\n",
       "      <td>-0.224759</td>\n",
       "      <td>-0.679453</td>\n",
       "      <td>-0.078398</td>\n",
       "      <td>1.000000</td>\n",
       "    </tr>\n",
       "  </tbody>\n",
       "</table>\n",
       "</div>"
      ],
      "text/plain": [
       "           Precio       Año   Puertas        Km\n",
       "Precio   1.000000  0.145336 -0.290603 -0.224759\n",
       "Año      0.145336  1.000000  0.083977 -0.679453\n",
       "Puertas -0.290603  0.083977  1.000000 -0.078398\n",
       "Km      -0.224759 -0.679453 -0.078398  1.000000"
      ]
     },
     "execution_count": 38,
     "metadata": {},
     "output_type": "execute_result"
    }
   ],
   "source": [
    "df.corr()"
   ]
  },
  {
   "cell_type": "code",
   "execution_count": 39,
   "id": "ebb8fe3a",
   "metadata": {},
   "outputs": [
    {
     "data": {
      "image/png": "[encoded data removed]",
      "text/plain": [
       "<Figure size 576x396 with 1 Axes>"
      ]
     },
     "metadata": {},
     "output_type": "display_data"
    }
   ],
   "source": [
    "sns.regplot(x=\"Km\", y=\"Precio\", data=df, line_kws={\"color\": \"orange\"}, scatter_kws={\"color\": \"black\"})\n",
    "plt.ylim(0,)\n",
    "plt.title(\"Relación entre el Precio y los Kilometros del Vehiculo\")\n",
    "sns.set_style(\"whitegrid\") # Fondo con cuadrícula"
   ]
  },
  {
   "cell_type": "code",
   "execution_count": 40,
   "id": "766f0eed",
   "metadata": {},
   "outputs": [
    {
     "data": {
      "image/png": "[encoded data removed]",
      "text/plain": [
       "<PIL.PngImagePlugin.PngImageFile image mode=RGBA size=576x396 at 0x29A6F2F0F70>"
      ]
     },
     "metadata": {},
     "output_type": "display_data"
    }
   ],
   "source": [
    "from IPython.display import display\n",
    "from PIL import Image\n",
    "\n",
    "# Cargar y mostrar la imagen guardada\n",
    "img = Image.open(\"argentina_cars.png\")\n",
    "display(img)"
   ]
  },
  {
   "cell_type": "markdown",
   "id": "ac7e200a",
   "metadata": {},
   "source": [
    "Como puede observarse en los dos últimos gráficos, el primero presenta los valores ya normalizados y expresados en dólares, mientras que el segundo se incluye con el propósito de comparar la distribución de los datos antes del proceso de normalización."
   ]
  },
  {
   "cell_type": "code",
   "execution_count": 41,
   "id": "87ed6e09",
   "metadata": {},
   "outputs": [
    {
     "data": {
      "text/plain": [
       "LinearRegression()"
      ]
     },
     "execution_count": 41,
     "metadata": {},
     "output_type": "execute_result"
    }
   ],
   "source": [
    "# Regresión lineal (vuelvo a calcular con datos corregidos)\n",
    "from sklearn.linear_model import LinearRegression\n",
    "lm = LinearRegression()\n",
    "lm"
   ]
  },
  {
   "cell_type": "code",
   "execution_count": 42,
   "id": "2735a7a1",
   "metadata": {},
   "outputs": [],
   "source": [
    "X = df[['Km']]\n",
    "Y = df['Precio']"
   ]
  },
  {
   "cell_type": "code",
   "execution_count": 43,
   "id": "07bf727e",
   "metadata": {},
   "outputs": [
    {
     "data": {
      "text/plain": [
       "LinearRegression()"
      ]
     },
     "execution_count": 43,
     "metadata": {},
     "output_type": "execute_result"
    }
   ],
   "source": [
    "lm.fit(X,Y) # Entrenamos el modelo"
   ]
  },
  {
   "cell_type": "code",
   "execution_count": 44,
   "id": "e93d4d12",
   "metadata": {},
   "outputs": [
    {
     "data": {
      "text/plain": [
       "array([20945.24071138, 20945.24071138, 20945.24071138, 20938.53694   ,\n",
       "       19805.59957523])"
      ]
     },
     "execution_count": 44,
     "metadata": {},
     "output_type": "execute_result"
    }
   ],
   "source": [
    "Yhat=lm.predict(X)\n",
    "Yhat[0:5] # Selecciona las primeras 5 predicciones de la matriz"
   ]
  },
  {
   "cell_type": "code",
   "execution_count": 45,
   "id": "71d99b73",
   "metadata": {},
   "outputs": [
    {
     "name": "stdout",
     "output_type": "stream",
     "text": [
      "Intercepcion:  21012.278425276272 o lo que es lo mismo, cuando X=0, Y tendra ese valor\n",
      "Coeficiente:  [-0.13407543]\n"
     ]
    }
   ],
   "source": [
    "print ('Intercepcion: ',lm.intercept_, 'o lo que es lo mismo, cuando X=0, Y tendra ese valor')\n",
    "print ('Coeficiente: ', lm.coef_)"
   ]
  },
  {
   "cell_type": "code",
   "execution_count": 46,
   "id": "02487925",
   "metadata": {},
   "outputs": [
    {
     "data": {
      "text/plain": [
       "array([ 20945.24071138,  20945.24071138,  20945.24071138,  20938.53694   ,\n",
       "        19805.59957523,  19604.48643356,     96.5116912 ,  -2316.84600889,\n",
       "        12163.30019163,  16319.63845289,  13585.30417869,   -718.66690972,\n",
       "         6115.02356893,   6115.02356893,  16346.45353844,   7470.66021924,\n",
       "        11224.77219715,   9884.01791932,   7738.8110748 ,  -3121.29857558,\n",
       "        10286.24420267,   6934.35850811,  10554.39505824,  -1780.54429776,\n",
       "         4386.92538024,  12833.67733054,  15917.41216954,  -3121.29857558,\n",
       "        13638.12989724,   8275.11278593,  -4019.60394173,  18196.69444184,\n",
       "         6263.9813692 ,  12699.60190276,  11895.14933606,   4252.84995246,\n",
       "        15783.33674176,   1303.19054124,  12431.45104719,   8945.48992485,\n",
       "        17928.54358628,   9884.01791932,   7738.8110748 ,  10956.62134159,\n",
       "        13369.97904167,   7872.88650259,   9615.86706376,  20943.89995711,\n",
       "        15112.95960284,  13906.2807528 ,  13008.24353751,  12940.66952191,\n",
       "        19671.52414745,   3625.24287501,  18519.27992109,   7032.23357039,\n",
       "        13082.92355079,   6263.9813692 ,   2107.64310794,   8141.03735815,\n",
       "        13235.90361389,  20020.12025969,  15917.41216954,   3180.2465302 ,\n",
       "         2241.71853572,  14844.80874728,   2375.7939635 ,  12565.52647498,\n",
       "        13101.82818611,  12431.45104719,  14576.65789171,  14576.65789171,\n",
       "         8543.2636415 ,  13906.2807528 ,  15649.26131397,  15112.95960284,\n",
       "        10018.09334711,  12967.75275832,  14442.58246393,  10420.31963046,\n",
       "        13101.82818611,   2241.71853572,  20744.12756971,  14576.65789171,\n",
       "        10286.24420267,  19269.2978641 ,   9481.79163598,   5191.37794694,\n",
       "        14080.57880892,   3180.2465302 ,  17526.31730293,  17660.39273071,\n",
       "        13638.12989724,   6263.9813692 ,  15649.26131397,  18464.84529741,\n",
       "        19899.45237468,  16453.71388067,  13369.97904167,  17526.31730293,\n",
       "         9884.01791932,  12230.33790552,   9347.71620819,  13705.16761113,\n",
       "        10420.31963046,   9347.71620819,  13369.97904167,   8677.33906928,\n",
       "         7336.58479146,   9615.86706376,  14040.35618058,   3984.69909689,\n",
       "        19819.00711801,  13772.20532502,   4118.77452468,  13101.82818611,\n",
       "        11626.9984805 ,  16855.94016402,  10554.39505824,   3716.54824133,\n",
       "        13101.82818611,  14040.35618058,  13101.82818611,   5593.60423028,\n",
       "         5995.83051363,   5995.83051363,   4118.77452468,  15112.95960284,\n",
       "         9347.71620819,   5727.67965807,   6666.20765254,   3729.95578411,\n",
       "        16528.25981852,   2375.7939635 ,  19537.44871967,  15381.11045841,\n",
       "        16051.48759732,   -439.79001993,   9213.64078041,   6263.9813692 ,\n",
       "        12565.52647498,   9213.64078041,   2447.12209108,    498.73797455,\n",
       "         8275.11278593,   7336.58479146,  16520.75159456,   9615.86706376,\n",
       "        14978.88417506,  15783.33674176,   6532.13222476,  13101.82818611,\n",
       "        10420.31963046,  15917.41216954,  10420.31963046,  11895.14933606,\n",
       "        14308.50703615,   5593.60423028,  11761.07390828,  13504.05446945,\n",
       "        19135.22243632,  -1646.46886997,  12967.75275832,  12833.67733054,\n",
       "         5191.37794694,    498.73797455,  16855.94016402,  15810.15182731,\n",
       "        10956.62134159,  20878.20299749,  12565.52647498,   9213.64078041,\n",
       "        10420.31963046,  14978.88417506,   5593.60423028,  14978.88417506,\n",
       "        -2048.69515332,  12981.1603011 ,  15515.18588619,   8811.41449706,\n",
       "        10420.31963046,  10117.04101281,  12967.75275832,  12585.63778914,\n",
       "         8945.48992485,  14481.33026256,  11626.9984805 ,  12967.75275832,\n",
       "        11090.69676937,  11761.07390828,  13906.2807528 ,  12967.75275832,\n",
       "        18598.92072519,   8141.03735815,   9481.79163598,   9079.56535263,\n",
       "         7872.88650259,  13101.82818611,  12781.52198913,  12781.52198913,\n",
       "        15783.33674176,   2509.86939128,  16319.63845289,   6263.9813692 ,\n",
       "        13490.64692668,  15247.03503063,   5191.37794694,   5057.30251915,\n",
       "         3314.32195798,  14062.6127016 ,  -1378.31801441,  20475.97671415,\n",
       "         7470.66021924,  18196.69444184,  12659.37927442,  15031.57581818,\n",
       "         3582.47281355,   5995.83051363,  -4462.05285341,  11492.92305272,\n",
       "        18598.92072519,  20863.32062501,  17928.54358628,  10420.31963046,\n",
       "        15783.33674176,  10420.31963046,  13101.82818611,  12431.45104719,\n",
       "         8945.48992485,  13369.97904167,   4252.84995246,  18800.03386686,\n",
       "         5593.60423028,  14844.80874728,  13235.90361389,  19001.14700854,\n",
       "        12967.75275832,  15917.41216954,  19403.37329189,  15783.33674176,\n",
       "        10822.5459138 ,  13235.90361389,   9025.93518152,   8972.3050104 ,\n",
       "         2643.94481907,  -3362.63434559,  12967.75275832,  16051.48759732,\n",
       "        10406.91208768,  -1780.54429776, -12506.57852036,  16990.0155918 ,\n",
       "        15381.11045841,   3582.47281355,  14174.43160837,  10016.48444197,\n",
       "         3662.91807021,   9079.56535263,   6398.05679698,   9481.79163598,\n",
       "        10420.31963046,  10018.09334711,   9749.94249154,  12699.60190276,\n",
       "        12833.67733054,  -5266.5054201 ,  14442.58246393,  15783.33674176,\n",
       "        11761.07390828,  20744.12756971,  10420.31963046,  13276.12624222,\n",
       "         2643.94481907,  10420.31963046,  11761.07390828,  17928.54358628,\n",
       "        12967.75275832,  -6339.10884236,   3850.62366911,  12431.45104719,\n",
       "        12699.60190276,   7872.88650259,  11761.07390828,  14844.80874728,\n",
       "         9079.56535263,   -573.86544771,  20945.24071138,   2241.71853572,\n",
       "         3582.47281355,   7725.40353203,  16011.26496899,  10688.47048602,\n",
       "        12297.37561941,  15112.95960284,   9213.64078041,   6398.05679698,\n",
       "         8275.11278593,  14871.62383284,   5995.83051363,  10420.31963046,\n",
       "        14093.9863517 ,  14442.58246393,  14482.80509227,   9481.79163598,\n",
       "         8087.40718704,  17526.31730293,   5057.30251915,  11090.69676937,\n",
       "        13638.12989724,  15515.18588619,  13101.82818611,  13638.12989724,\n",
       "        12833.67733054,    632.81340233,  17097.27593403,  12645.97173165,\n",
       "        14040.35618058,   6934.35850811,  12967.75275832,  15917.41216954,\n",
       "        17660.39273071,  19939.67500302,  15649.26131397,  20677.08985582,\n",
       "        15112.95960284,  15501.77834341,  10326.46683101,  14576.65789171,\n",
       "        14308.50703615,  12163.30019163,   7872.88650259,   8275.11278593,\n",
       "        12431.45104719, -11433.9750981 ,  14978.88417506,   9066.15780985,\n",
       "         9562.23689265,  19550.85626245,  -2853.14772002,   8123.20532626,\n",
       "        10699.73282195,   6407.03985064,  11460.87902548,   7779.03370314,\n",
       "        20878.20299749,  16051.48759732,  17928.54358628,  -4462.05285341,\n",
       "        15045.92188895,  17258.16644736,  20876.72816779,  18062.61901406,\n",
       "        13638.12989724,  14844.80874728,  12967.75275832,   4789.15166359,\n",
       "        20382.1239147 ,  12833.67733054,  13235.90361389,  12699.60190276,\n",
       "         5593.60423028, -23902.98988188,  17258.16644736,   8945.48992485,\n",
       "        20207.82585858,  20863.32062501,  20878.20299749,   4655.07623581,\n",
       "        20945.24071138,  12847.08487332,  11224.77219715,   9481.79163598,\n",
       "        11492.92305272,  15783.33674176,   4118.77452468,   4252.84995246,\n",
       "         9884.01791932,   4118.77452468,   7336.58479146,  -1539.20852775,\n",
       "        14965.47663228,  20863.32062501,  20382.1239147 ,  10956.62134159,\n",
       "         4923.22709137,   2778.02024685,  17053.03104286,  17217.94381903,\n",
       "         7644.95827536,  11747.6663655 ,  16990.0155918 ,   7725.40353203,\n",
       "        13101.82818611,   1839.49225237,  10420.31963046,   2643.94481907,\n",
       "        20462.56917137,  19403.37329189,  12297.37561941,  16855.94016402,\n",
       "        13919.68829558,  20677.08985582,  17593.35501682,  18438.03021185,\n",
       "         7604.73564702,  18330.76986963,  16855.94016402,   5057.30251915,\n",
       "        14710.7333195 ,  13369.97904167,   4923.22709137,  10018.09334711,\n",
       "        12029.22476385,   8757.78432595,  15247.03503063,  12699.60190276,\n",
       "        14509.62017782,   7872.88650259,  16185.5630251 ,  12967.75275832,\n",
       "        16185.5630251 ,    900.96425789,  20878.20299749,   5191.37794694,\n",
       "        15702.89148509,  11500.5653521 ,  15273.85011618,   2973.09999427,\n",
       "         5057.30251915,   3984.69909689,   9884.01791932,  12833.67733054,\n",
       "         4923.22709137,  11761.07390828,   1169.11511346,  11224.77219715,\n",
       "        10406.91208768,  -2182.7705811 ,  18987.73946576,  14476.10132088,\n",
       "         4252.84995246,  19001.14700854,  -7813.93854797,   8006.96193037,\n",
       "         2912.09567463,  -1780.54429776,  19551.25848873,  11090.69676937,\n",
       "         9213.64078041,   5057.30251915,  19671.52414745,  11761.07390828,\n",
       "         9870.61037655,  17108.00196825,   6129.90594141,  12565.52647498,\n",
       "        20770.94265527,  -3000.63069058,  11224.77219715,   9079.56535263,\n",
       "        15515.18588619,  20610.05214193,  -1512.39344219,   9481.79163598,\n",
       "         4789.15166359,   6800.28308033,  17258.16644736,   7738.8110748 ,\n",
       "        13638.12989724,  12029.22476385,  20824.57282638,   9481.79163598,\n",
       "        16319.63845289,  18196.69444184,  11626.9984805 ,  18598.92072519,\n",
       "         1839.49225237,  16051.48759732,  -8484.31568688,  15407.92554397,\n",
       "        13168.8659    ,  16990.0155918 ,  10822.5459138 ,  18960.9243802 ,\n",
       "        11895.14933606,  14040.35618058,  16319.63845289,  16051.48759732,\n",
       "         5647.2344014 ,   1303.19054124,  13235.90361389,  10286.24420267,\n",
       "        16587.78930845,  10286.24420267,  13638.12989724,  16453.71388067,\n",
       "        14576.65789171,  14174.43160837,  19537.44871967,  20878.20299749,\n",
       "         9347.71620819,  12018.23057877,   2912.09567463,    304.19452883,\n",
       "         6666.20765254,  14040.35618058,  14442.58246393,  10908.62233844,\n",
       "        13302.94132778,   9749.94249154])"
      ]
     },
     "execution_count": 46,
     "metadata": {},
     "output_type": "execute_result"
    }
   ],
   "source": [
    "# Pido predecir el modelo de regresión lineal (lm) previamente entrenado\n",
    "Yhat=lm.predict(X)\n",
    "lm.predict(X)"
   ]
  },
  {
   "cell_type": "code",
   "execution_count": 47,
   "id": "27f2f523",
   "metadata": {},
   "outputs": [],
   "source": [
    "# Ahora evaluo los resultados\n",
    "from sklearn.metrics import mean_squared_error"
   ]
  },
  {
   "cell_type": "code",
   "execution_count": 48,
   "id": "931bc8b6",
   "metadata": {},
   "outputs": [
    {
     "name": "stdout",
     "output_type": "stream",
     "text": [
      "El MSE (Error Cuadratico Medio) del precio y el valor que se predijo es:  737676895.8393358\n"
     ]
    }
   ],
   "source": [
    "mse = mean_squared_error(df['Precio'], Yhat)\n",
    "print('El MSE (Error Cuadratico Medio) del precio y el valor que se predijo es: ', mse)"
   ]
  },
  {
   "cell_type": "markdown",
   "id": "24cd8e10",
   "metadata": {},
   "source": [
    "<div class=\"alert alert-warning\">Si bien el error cuadrático medio disminuyó tras la corrección, su valor sigue siendo considerablemente alto. Esto indica que el modelo continúa presentando un desempeño deficiente y no resulta adecuado para aplicarse a este conjunto de datos\n",
    "</div>"
   ]
  },
  {
   "cell_type": "code",
   "execution_count": 49,
   "id": "8dcad5aa",
   "metadata": {},
   "outputs": [
    {
     "data": {
      "image/png": "[encoded data removed]",
      "text/plain": [
       "<Figure size 576x396 with 1 Axes>"
      ]
     },
     "metadata": {},
     "output_type": "display_data"
    }
   ],
   "source": [
    "plt.hist(df['Precio'], bins=50, color='black', alpha=0.7)\n",
    "plt.xlabel('Pesos')\n",
    "plt.ylabel('Frecuencia')\n",
    "plt.title('Distribución de Precios de Venta de Autos')\n",
    "plt.show()"
   ]
  },
  {
   "cell_type": "code",
   "execution_count": 50,
   "id": "bd60dc67",
   "metadata": {},
   "outputs": [
    {
     "data": {
      "text/html": [
       "<div>\n",
       "<style scoped>\n",
       "    .dataframe tbody tr th:only-of-type {\n",
       "        vertical-align: middle;\n",
       "    }\n",
       "\n",
       "    .dataframe tbody tr th {\n",
       "        vertical-align: top;\n",
       "    }\n",
       "\n",
       "    .dataframe thead th {\n",
       "        text-align: right;\n",
       "    }\n",
       "</style>\n",
       "<table border=\"1\" class=\"dataframe\">\n",
       "  <thead>\n",
       "    <tr style=\"text-align: right;\">\n",
       "      <th></th>\n",
       "      <th>Precio</th>\n",
       "      <th>Marca</th>\n",
       "      <th>Modelo</th>\n",
       "      <th>Año</th>\n",
       "      <th>Color</th>\n",
       "      <th>Combustible</th>\n",
       "      <th>Puertas</th>\n",
       "      <th>Transmision</th>\n",
       "      <th>Motor</th>\n",
       "      <th>Carroceria</th>\n",
       "      <th>Km</th>\n",
       "      <th>Moneda</th>\n",
       "    </tr>\n",
       "  </thead>\n",
       "  <tbody>\n",
       "    <tr>\n",
       "      <th>0</th>\n",
       "      <td>8625</td>\n",
       "      <td>Toyota</td>\n",
       "      <td>Corolla Cross</td>\n",
       "      <td>2022</td>\n",
       "      <td>Plateado</td>\n",
       "      <td>Nafta</td>\n",
       "      <td>5.0</td>\n",
       "      <td>Automática</td>\n",
       "      <td>1.6</td>\n",
       "      <td>SUV</td>\n",
       "      <td>500</td>\n",
       "      <td>dólares</td>\n",
       "    </tr>\n",
       "    <tr>\n",
       "      <th>1</th>\n",
       "      <td>9042</td>\n",
       "      <td>Jeep</td>\n",
       "      <td>Compass</td>\n",
       "      <td>2022</td>\n",
       "      <td>Blanco</td>\n",
       "      <td>Nafta</td>\n",
       "      <td>5.0</td>\n",
       "      <td>Automática</td>\n",
       "      <td>2.4</td>\n",
       "      <td>SUV</td>\n",
       "      <td>500</td>\n",
       "      <td>dólares</td>\n",
       "    </tr>\n",
       "    <tr>\n",
       "      <th>2</th>\n",
       "      <td>35500</td>\n",
       "      <td>Jeep</td>\n",
       "      <td>Compass</td>\n",
       "      <td>2022</td>\n",
       "      <td>Gris oscuro</td>\n",
       "      <td>Nafta</td>\n",
       "      <td>5.0</td>\n",
       "      <td>Automática</td>\n",
       "      <td>2.4</td>\n",
       "      <td>SUV</td>\n",
       "      <td>500</td>\n",
       "      <td>dólares</td>\n",
       "    </tr>\n",
       "    <tr>\n",
       "      <th>3</th>\n",
       "      <td>19000</td>\n",
       "      <td>Citroën</td>\n",
       "      <td>C4 Cactus</td>\n",
       "      <td>2022</td>\n",
       "      <td>Gris oscuro</td>\n",
       "      <td>Nafta</td>\n",
       "      <td>5.0</td>\n",
       "      <td>Automática</td>\n",
       "      <td>1.6</td>\n",
       "      <td>SUV</td>\n",
       "      <td>550</td>\n",
       "      <td>dólares</td>\n",
       "    </tr>\n",
       "    <tr>\n",
       "      <th>4</th>\n",
       "      <td>4833</td>\n",
       "      <td>Toyota</td>\n",
       "      <td>Corolla</td>\n",
       "      <td>2019</td>\n",
       "      <td>Gris</td>\n",
       "      <td>Nafta</td>\n",
       "      <td>4.0</td>\n",
       "      <td>Manual</td>\n",
       "      <td>1.8</td>\n",
       "      <td>Sedán</td>\n",
       "      <td>9000</td>\n",
       "      <td>dólares</td>\n",
       "    </tr>\n",
       "    <tr>\n",
       "      <th>...</th>\n",
       "      <td>...</td>\n",
       "      <td>...</td>\n",
       "      <td>...</td>\n",
       "      <td>...</td>\n",
       "      <td>...</td>\n",
       "      <td>...</td>\n",
       "      <td>...</td>\n",
       "      <td>...</td>\n",
       "      <td>...</td>\n",
       "      <td>...</td>\n",
       "      <td>...</td>\n",
       "      <td>...</td>\n",
       "    </tr>\n",
       "    <tr>\n",
       "      <th>95</th>\n",
       "      <td>4908</td>\n",
       "      <td>Toyota</td>\n",
       "      <td>Yaris</td>\n",
       "      <td>2021</td>\n",
       "      <td>Blanco</td>\n",
       "      <td>Nafta</td>\n",
       "      <td>5.0</td>\n",
       "      <td>Automática</td>\n",
       "      <td>1.5</td>\n",
       "      <td>Hatchback</td>\n",
       "      <td>19000</td>\n",
       "      <td>dólares</td>\n",
       "    </tr>\n",
       "    <tr>\n",
       "      <th>96</th>\n",
       "      <td>78500</td>\n",
       "      <td>RAM</td>\n",
       "      <td>1500</td>\n",
       "      <td>2022</td>\n",
       "      <td>Gris</td>\n",
       "      <td>Nafta</td>\n",
       "      <td>4.0</td>\n",
       "      <td>Automática</td>\n",
       "      <td>5.7</td>\n",
       "      <td>Pick-Up</td>\n",
       "      <td>8300</td>\n",
       "      <td>dólares</td>\n",
       "    </tr>\n",
       "    <tr>\n",
       "      <th>97</th>\n",
       "      <td>6292</td>\n",
       "      <td>Volkswagen</td>\n",
       "      <td>Nivus</td>\n",
       "      <td>2021</td>\n",
       "      <td>Blanco</td>\n",
       "      <td>Nafta</td>\n",
       "      <td>5.0</td>\n",
       "      <td>Automática</td>\n",
       "      <td>1.0</td>\n",
       "      <td>SUV</td>\n",
       "      <td>34000</td>\n",
       "      <td>dólares</td>\n",
       "    </tr>\n",
       "    <tr>\n",
       "      <th>98</th>\n",
       "      <td>2992</td>\n",
       "      <td>Renault</td>\n",
       "      <td>Sandero</td>\n",
       "      <td>2018</td>\n",
       "      <td>Gris</td>\n",
       "      <td>Nafta</td>\n",
       "      <td>5.0</td>\n",
       "      <td>Manual</td>\n",
       "      <td>1.6</td>\n",
       "      <td>Hatchback</td>\n",
       "      <td>57000</td>\n",
       "      <td>dólares</td>\n",
       "    </tr>\n",
       "    <tr>\n",
       "      <th>99</th>\n",
       "      <td>5158</td>\n",
       "      <td>Renault</td>\n",
       "      <td>Duster Oroch</td>\n",
       "      <td>2021</td>\n",
       "      <td>Negro</td>\n",
       "      <td>Nafta</td>\n",
       "      <td>4.0</td>\n",
       "      <td>Manual</td>\n",
       "      <td>2.0</td>\n",
       "      <td>SUV</td>\n",
       "      <td>26000</td>\n",
       "      <td>dólares</td>\n",
       "    </tr>\n",
       "  </tbody>\n",
       "</table>\n",
       "<p>100 rows × 12 columns</p>\n",
       "</div>"
      ],
      "text/plain": [
       "    Precio       Marca         Modelo   Año        Color Combustible  Puertas  \\\n",
       "0     8625      Toyota  Corolla Cross  2022     Plateado       Nafta      5.0   \n",
       "1     9042        Jeep        Compass  2022       Blanco       Nafta      5.0   \n",
       "2    35500        Jeep        Compass  2022  Gris oscuro       Nafta      5.0   \n",
       "3    19000     Citroën      C4 Cactus  2022  Gris oscuro       Nafta      5.0   \n",
       "4     4833      Toyota        Corolla  2019         Gris       Nafta      4.0   \n",
       "..     ...         ...            ...   ...          ...         ...      ...   \n",
       "95    4908      Toyota          Yaris  2021       Blanco       Nafta      5.0   \n",
       "96   78500         RAM           1500  2022         Gris       Nafta      4.0   \n",
       "97    6292  Volkswagen          Nivus  2021       Blanco       Nafta      5.0   \n",
       "98    2992     Renault        Sandero  2018         Gris       Nafta      5.0   \n",
       "99    5158     Renault   Duster Oroch  2021        Negro       Nafta      4.0   \n",
       "\n",
       "   Transmision Motor Carroceria     Km   Moneda  \n",
       "0   Automática   1.6        SUV    500  dólares  \n",
       "1   Automática   2.4        SUV    500  dólares  \n",
       "2   Automática   2.4        SUV    500  dólares  \n",
       "3   Automática   1.6        SUV    550  dólares  \n",
       "4       Manual   1.8      Sedán   9000  dólares  \n",
       "..         ...   ...        ...    ...      ...  \n",
       "95  Automática   1.5  Hatchback  19000  dólares  \n",
       "96  Automática   5.7    Pick-Up   8300  dólares  \n",
       "97  Automática   1.0        SUV  34000  dólares  \n",
       "98      Manual   1.6  Hatchback  57000  dólares  \n",
       "99      Manual   2.0        SUV  26000  dólares  \n",
       "\n",
       "[100 rows x 12 columns]"
      ]
     },
     "execution_count": 50,
     "metadata": {},
     "output_type": "execute_result"
    }
   ],
   "source": [
    "df.head(100)"
   ]
  },
  {
   "cell_type": "markdown",
   "id": "73847df6",
   "metadata": {},
   "source": [
    "Como se puede observar en el ultimo grafico mostrado y en el dataframe arriba impreso, los precios de los autos con menor valor de venta son los que mas frecuentemente se negocian y que las ventas de autos mas caros son pocos en realidad y con precios muy altos."
   ]
  },
  {
   "cell_type": "markdown",
   "id": "4427a20a",
   "metadata": {},
   "source": [
    "Voy a intentar mejorar el modelo incluyendo una variable mas para ver si mejoran las mediciones y poder utilizarlo. En el caso de este set de datos, una variable que deberia estar muy correlacionada al precio serian el año de fabricacion."
   ]
  },
  {
   "cell_type": "code",
   "execution_count": 51,
   "id": "4a29d407",
   "metadata": {},
   "outputs": [],
   "source": [
    "X = df[['Km', \"Año\", \"Puertas\"]]\n",
    "Y = df['Precio']"
   ]
  },
  {
   "cell_type": "code",
   "execution_count": 52,
   "id": "da637903",
   "metadata": {},
   "outputs": [
    {
     "data": {
      "text/plain": [
       "LinearRegression()"
      ]
     },
     "execution_count": 52,
     "metadata": {},
     "output_type": "execute_result"
    }
   ],
   "source": [
    "lm.fit(X,Y) # Entrenamos el modelo"
   ]
  },
  {
   "cell_type": "code",
   "execution_count": 53,
   "id": "bf668c0c",
   "metadata": {},
   "outputs": [
    {
     "data": {
      "text/plain": [
       "array([16095.43635927, 16095.43635927, 16095.43635927, 16088.08804019,\n",
       "       26123.82394548])"
      ]
     },
     "execution_count": 53,
     "metadata": {},
     "output_type": "execute_result"
    }
   ],
   "source": [
    "Yhat=lm.predict(X)\n",
    "Yhat[0:5] # Selecciona las primeras 5 predicciones de la matriz"
   ]
  },
  {
   "cell_type": "code",
   "execution_count": 54,
   "id": "c92cf659",
   "metadata": {},
   "outputs": [
    {
     "name": "stdout",
     "output_type": "stream",
     "text": [
      "Intercepcion:  12574.996292883647 o lo que es lo mismo, cuando X=0, Y tendra ese valor\n",
      "Coeficiente:  [-1.46966382e-01  2.98863639e+01 -1.13672609e+04]\n"
     ]
    }
   ],
   "source": [
    "print ('Intercepcion: ',lm.intercept_, 'o lo que es lo mismo, cuando X=0, Y tendra ese valor')\n",
    "print ('Coeficiente: ', lm.coef_)"
   ]
  },
  {
   "cell_type": "code",
   "execution_count": 55,
   "id": "783e8e19",
   "metadata": {},
   "outputs": [
    {
     "data": {
      "text/plain": [
       "array([ 1.60954364e+04,  1.60954364e+04,  1.60954364e+04,  1.60880880e+04,\n",
       "        2.61238239e+04,  1.46257725e+04, -6.99692690e+03,  1.54562097e+03,\n",
       "        4.03916029e+04,  1.09354371e+04,  7.87843198e+03, -7.92036886e+03,\n",
       "       -1.60662082e+02, -1.60662082e+02,  1.09947167e+04,  1.23638259e+04,\n",
       "        5.35071460e+03,  3.76150533e+03,  1.38015685e+03, -1.06137792e+04,\n",
       "        4.29206356e+03,  4.68472201e+02,  4.58599633e+03,  2.40246377e+03,\n",
       "       -2.32388905e+03,  7.11431118e+03,  1.03451061e+04,  1.21805154e+04,\n",
       "        1.94231431e+04,  1.33053969e+04, -1.15386812e+04,  2.44498865e+04,\n",
       "       -3.26132435e+02,  6.90757207e+03,  5.99588741e+03, -2.56051452e+03,\n",
       "        1.03475716e+04,  5.69303146e+03,  6.58375294e+03,  1.41000016e+04,\n",
       "        1.27588064e+04,  3.76150533e+03,  2.40250196e+04,  4.99700911e+03,\n",
       "        1.89498922e+04,  1.52712324e+03,  3.40779983e+03,  1.60939667e+04,\n",
       "        9.49319421e+03,  8.26015587e+03,  1.86430360e+04,  7.20170399e+03,\n",
       "        2.59768576e+04,  8.23834222e+03,  2.47138285e+04,  3.46476541e+04,\n",
       "        1.84858053e+04, -2.06586980e+02, -4.91197663e+03,  1.79116964e+03,\n",
       "        7.49543759e+03,  1.50514820e+04,  1.05244243e+04, -3.61670012e+03,\n",
       "       -4.67535116e+03,  9.25903417e+03, -4.55827114e+03,  6.82037841e+03,\n",
       "        1.87456185e+04,  1.80107866e+04,  2.03323623e+04,  9.02487414e+03,\n",
       "        2.23206878e+03,  8.26015587e+03,  2.15678661e+04,  2.09501142e+04,\n",
       "        3.87858534e+03,  7.23139119e+03,  8.84802139e+03,  4.31948449e+03,\n",
       "        1.87755049e+04, -4.64546479e+03,  1.58749868e+04,  8.93521505e+03,\n",
       "        4.26217720e+03,  1.41686975e+04,  3.35049254e+03, -1.41220440e+03,\n",
       "        1.98483594e+04, -3.76613194e+03,  1.22880209e+04,  1.24349873e+04,\n",
       "        1.93334840e+04, -2.66359708e+02,  1.01707188e+04,  1.33466719e+04,\n",
       "        2.63163595e+04,  1.11421762e+04,  7.67229034e+03,  2.36851682e+04,\n",
       "        3.70173260e+03,  6.33341700e+03,  1.45110144e+04,  1.93173081e+04,\n",
       "        4.43902994e+03,  1.46604462e+04,  1.89200058e+04,  2.43880789e+03,\n",
       "        8.79484982e+02,  2.61722080e+04,  8.37723588e+03, -2.67512910e+03,\n",
       "        2.60189751e+04,  1.94505640e+04, -2.52816272e+03,  7.31858485e+03,\n",
       "        1.71289883e+04,  1.13738708e+04,  4.55610996e+03,  8.39819905e+03,\n",
       "        1.87456185e+04,  1.98042695e+04,  1.87456185e+04,  1.04557284e+04,\n",
       "        2.22937748e+04,  2.22937748e+04, -2.52816272e+03,  9.58285330e+03,\n",
       "        3.20352616e+03,  1.06026948e+04,  2.04425801e+02,  8.41289569e+03,\n",
       "        1.11641168e+04,  6.86876251e+03,  4.85046403e+04,  2.12440470e+04,\n",
       "        1.05817316e+04,  3.63303668e+03,  2.99678705e+03, -2.96246071e+02,\n",
       "        1.81577530e+04,  2.57313089e+04,  6.97683499e+03,  4.72157408e+03,\n",
       "        2.47025442e+04,  1.14846226e+03,  1.11558867e+04,  2.61124353e+04,\n",
       "        3.21405224e+04,  1.02877988e+04,  1.17232148e+02,  1.87157321e+04,\n",
       "        4.43902994e+03,  2.18319125e+04,  4.31948449e+03,  6.02577378e+03,\n",
       "        2.00982023e+04, -9.11532524e+02,  5.90869376e+03,  7.75948399e+03,\n",
       "        2.54188784e+04,  2.48965742e+03,  1.85986521e+04,  2.97591739e+04,\n",
       "       -1.41220440e+03, -6.58591412e+03,  2.27411317e+04,  1.03769649e+04,\n",
       "        1.63343837e+04,  2.73892141e+04,  1.80382075e+04,  2.57014225e+04,\n",
       "        4.31948449e+03,  2.07732615e+04, -1.00119162e+03,  9.40600056e+03,\n",
       "        2.07864464e+03,  7.24608783e+03,  9.99386608e+03,  1.39530352e+04,\n",
       "        2.69942336e+04,  2.66916820e+04,  7.17161847e+03,  6.87230974e+03,\n",
       "        2.79251338e+03,  8.98015377e+03,  2.83468174e+04,  7.20150483e+03,\n",
       "        1.64813500e+04,  1.73058410e+04,  1.96573032e+04,  1.86285385e+04,\n",
       "        1.34338656e+04,  1.31883169e+04,  1.48074126e+04,  1.41871952e+04,\n",
       "        1.58689596e+03,  7.37835758e+03,  6.99736853e+03,  1.82749704e+04,\n",
       "        1.02579125e+04, -4.47107749e+03,  4.50671062e+04, -2.66359708e+02,\n",
       "        7.77467372e+03,  9.69993332e+03,  1.00447156e+04, -1.70860260e+03,\n",
       "       -3.88814284e+03,  8.34185958e+03,  2.66404473e+03,  2.69483149e+04,\n",
       "        2.37609732e+04,  4.71844083e+04,  6.89336852e+03,  9.46375834e+03,\n",
       "       -3.23557370e+03, -5.90178835e+02, -1.20834430e+04,  5.67453372e+03,\n",
       "        2.48907856e+04,  1.60056399e+04,  1.26990337e+04,  1.57764045e+04,\n",
       "        1.03774579e+04,  4.28959812e+03,  1.87157321e+04,  6.55386658e+03,\n",
       "        2.79251338e+03,  7.67229034e+03,  2.01740073e+04,  2.49916897e+04,\n",
       "        3.32201366e+04,  9.28892054e+03,  7.55521032e+03,  1.39345375e+04,\n",
       "        7.20150483e+03,  2.18319125e+04,  1.43455502e+04,  1.02877988e+04,\n",
       "        4.82015636e+03,  7.49543759e+03,  2.82092048e+03,  2.76213393e+03,\n",
       "       -4.29422474e+03,  6.38374103e+02,  7.26127756e+03,  4.47731735e+04,\n",
       "        4.27490149e+03,  2.40246377e+03, -9.62382404e+03,  2.30674163e+04,\n",
       "        9.84689970e+03,  1.95587209e+04,  8.46442954e+03,  3.84693538e+03,\n",
       "        8.24975341e+03,  1.41274225e+04,  3.00384938e+01,  3.32060618e+03,\n",
       "        1.58062909e+04,  3.84869898e+03,  3.67431167e+03,  1.83346057e+04,\n",
       "        1.83321403e+04, -1.56809397e+03,  2.01853960e+04,  1.03774579e+04,\n",
       "        1.72161820e+04,  1.58749868e+04,  4.25971176e+03,  1.89964475e+04,\n",
       "       -4.29422474e+03,  4.34937085e+03,  2.85236701e+04,  1.27588064e+04,\n",
       "        7.17161847e+03, -1.41409723e+04, -3.00141367e+03,  1.80406730e+04,\n",
       "        6.90757207e+03,  1.40757778e+03,  1.72460683e+04,  3.19636697e+04,\n",
       "        2.76016158e+03, -7.67198608e+03,  1.60954364e+04, -4.73512389e+03,\n",
       "       -3.20568734e+03,  1.26430620e+04,  2.18750163e+04,  4.70307634e+03,\n",
       "        6.40690019e+03,  9.55296694e+03,  1.45134798e+04,  2.26151285e+04,\n",
       "        1.32755106e+04,  9.37808654e+03, -4.40747015e+02,  4.28959812e+03,\n",
       "        1.98630561e+04,  2.02451687e+04,  8.98177040e+03,  3.75419344e+04,\n",
       "        1.85192854e+03,  1.21983618e+04, -1.55917078e+03,  5.05431640e+03,\n",
       "        7.96622310e+03,  9.99386608e+03,  7.40824394e+03,  7.96622310e+03,\n",
       "        1.85413448e+04,  5.01797228e+03,  2.32148758e+04,  6.93844461e+03,\n",
       "        8.40712225e+03,  1.17161877e+04,  7.20150483e+03,  1.04945380e+04,\n",
       "        3.50499637e+04,  2.63604494e+04,  1.02304916e+04,  4.98734000e+04,\n",
       "        2.09501142e+04,  9.94928308e+03,  3.81689590e+04,  2.03622487e+04,\n",
       "        2.00683159e+04,  6.23004745e+03,  1.29242705e+04,  2.46427715e+04,\n",
       "        1.78613548e+04,  1.45852925e+04,  2.06537160e+04,  2.89489676e+03,\n",
       "        3.46855874e+03,  1.45370996e+04,  2.36623909e+04,  1.86128220e+03,\n",
       "        1.60527961e+04,  1.13772598e+04,  5.54974967e+03,  1.28512804e+04,\n",
       "        3.87564750e+04,  1.06116180e+04,  3.54933283e+04, -1.21432157e+04,\n",
       "        9.47948375e+03,  2.33912354e+04,  1.60203365e+04,  1.28758864e+04,\n",
       "        7.99610947e+03,  2.06561815e+04,  7.23139119e+03, -2.03242173e+03,\n",
       "        2.68454385e+04,  7.08442481e+03,  7.55521032e+03,  6.93745843e+03,\n",
       "        1.04258420e+04,  2.89805363e+02,  1.19642018e+04,  2.79251338e+03,\n",
       "        1.52273485e+04,  2.73729008e+04,  1.60219532e+04, -2.05984265e+03,\n",
       "        2.74626973e+04,  7.12900782e+03,  5.35071460e+03,  1.48372989e+04,\n",
       "        5.52510190e+03,  2.14757416e+04, -2.52816272e+03,  8.92629185e+03,\n",
       "        1.51885390e+04,  8.80921184e+03,  9.09371346e+02,  2.48768507e+03,\n",
       "        9.39130392e+03,  2.73729008e+04,  2.68454385e+04,  4.99700911e+03,\n",
       "       -1.70613716e+03, -4.11737199e+03,  1.17393432e+04,  1.18902255e+04,\n",
       "        1.39682584e+03,  5.92388349e+03,  1.16702690e+04,  1.28522666e+04,\n",
       "        7.34847121e+03,  6.34066971e+03,  1.58062909e+04, -4.29422474e+03,\n",
       "        4.96382538e+04,  1.42558912e+04,  1.78339338e+04,  2.28905635e+04,\n",
       "        1.97018862e+04,  4.98734000e+04,  3.50362532e+04,  4.71201978e+04,\n",
       "        1.26602241e+04,  1.31698192e+04,  2.28905635e+04,  9.80809014e+03,\n",
       "        9.11206779e+03,  1.90694376e+04, -1.61647807e+03,  3.93835807e+03,\n",
       "        6.11296743e+03,  3.64195659e+04,  9.61027423e+03,  6.87768570e+03,\n",
       "        9.01116368e+03,  1.46735051e+03,  1.07884707e+04,  7.17161847e+03,\n",
       "        1.07884707e+04,  1.64400751e+04,  1.60219532e+04, -1.41220440e+03,\n",
       "        1.02295054e+04,  1.69306263e+04,  9.72932660e+03, -3.81387682e+03,\n",
       "       -1.55917078e+03,  8.81167727e+03,  1.52483117e+04,  7.02465209e+03,\n",
       "        9.78066922e+03,  5.78914830e+03, -5.88096857e+03,  5.26105551e+03,\n",
       "        1.57617079e+04, -9.67467357e+03,  1.39198408e+04,  8.97442208e+03,\n",
       "       -3.00880998e+03,  1.39345375e+04, -4.24090977e+03,  2.43189524e+04,\n",
       "        7.51640076e+03, -9.20388806e+03,  1.45674269e+04,  5.14397549e+03,\n",
       "        3.14621887e+03, -1.61894351e+03,  1.46693694e+04,  5.93858012e+03,\n",
       "        3.80658141e+03,  2.32266331e+04, -2.63894270e+02,  1.80979802e+04,\n",
       "        1.59043801e+04,  2.37398188e+04,  1.63892255e+04,  1.41274225e+04,\n",
       "        9.99386608e+03,  4.97700304e+04, -8.82029621e+03,  3.23094709e+03,\n",
       "        9.60381647e+03,  3.21505819e+02,  1.19642018e+04,  1.22094632e+04,\n",
       "        1.93035977e+04,  6.20262652e+03,  1.59631666e+04,  1.46579807e+04,\n",
       "        2.23026980e+04,  2.44200001e+04,  5.73184101e+03,  2.48907856e+04,\n",
       "        6.25101062e+03,  1.06713907e+04, -1.65522071e+04,  9.90617934e+03,\n",
       "        7.39206804e+03,  1.16403826e+04,  4.76038363e+03,  1.38007885e+04,\n",
       "        5.99588741e+03,  8.40712225e+03,  1.08756644e+04,  2.20087653e+04,\n",
       "       -1.00217779e+03,  5.63325873e+03,  7.52532396e+03,  1.54501199e+04,\n",
       "        1.11994835e+04,  4.23229083e+03,  7.87656401e+03,  1.09030853e+04,\n",
       "        9.02487414e+03,  8.46442954e+03,  1.44925166e+04,  1.60219532e+04,\n",
       "        3.23341253e+03,  6.19057528e+03, -3.94051925e+03, -6.67961688e+03,\n",
       "        2.04425801e+02,  8.40712225e+03,  2.02451687e+04,  4.94439514e+03,\n",
       "        1.89959544e+04,  3.61453894e+03])"
      ]
     },
     "execution_count": 55,
     "metadata": {},
     "output_type": "execute_result"
    }
   ],
   "source": [
    "# Pido predecir el modelo de regresión lineal (lm) previamente entrenado\n",
    "Yhat=lm.predict(X)\n",
    "lm.predict(X)"
   ]
  },
  {
   "cell_type": "code",
   "execution_count": 56,
   "id": "2c56d892",
   "metadata": {},
   "outputs": [],
   "source": [
    "# Ahora evalúo los resultados\n",
    "from sklearn.metrics import mean_squared_error"
   ]
  },
  {
   "cell_type": "code",
   "execution_count": 57,
   "id": "96fec93f",
   "metadata": {},
   "outputs": [
    {
     "name": "stdout",
     "output_type": "stream",
     "text": [
      "El MSE (Error Cuadratico Medio) del precio y el valor que se predijo es:  663404475.7780166\n"
     ]
    }
   ],
   "source": [
    "mse = mean_squared_error(df['Precio'], Yhat)\n",
    "print('El MSE (Error Cuadratico Medio) del precio y el valor que se predijo es: ', mse)"
   ]
  },
  {
   "cell_type": "markdown",
   "id": "8c2cdc20",
   "metadata": {},
   "source": [
    "<div class=\"alert alert-warning\">Si bien se observa una mejora en el modelo, ésta no resulta suficiente como para considerarlo adecuado. Por ello, se procederá a revisar y tratar el conjunto de datos, analizando la posible influencia de valores atípicos (outliers) que podrían estar afectando los resultados del análisis.\n",
    "</div>"
   ]
  },
  {
   "cell_type": "code",
   "execution_count": 58,
   "id": "1d776fd1",
   "metadata": {},
   "outputs": [
    {
     "data": {
      "image/png": "[encoded data removed]",
      "text/plain": [
       "<Figure size 1296x144 with 1 Axes>"
      ]
     },
     "metadata": {},
     "output_type": "display_data"
    }
   ],
   "source": [
    "# Grafico para ver los outliers, son todos los puntos fuera del grafico (fuera del diagrama de caja)\n",
    "plt.figure(figsize=(18, 2))  \n",
    "sns.boxplot(x=df['Km'], color=\"black\")\n",
    "plt.title(\"Distribución de Kilometraje\")\n",
    "plt.show()"
   ]
  },
  {
   "cell_type": "markdown",
   "id": "30607d70",
   "metadata": {},
   "source": [
    "Para tratar los valores extremos en los datos sin eliminarlos, se aplica la técnica conocida como \"Winsorization\". Los outliers no se consideran errores, sino observaciones extremas que podrían influir en el modelo.\n",
    "\n",
    "En la sentencia siguiente se establecen los límites mínimo y máximo permitidos para los datos de kilometraje (0 y 170.000 km), de manera que los valores fuera de este rango se ajusten a estos extremos."
   ]
  },
  {
   "cell_type": "code",
   "execution_count": 59,
   "id": "2997b15a",
   "metadata": {},
   "outputs": [],
   "source": [
    "df['Km'] = df['Km'].clip(lower=0, upper=170000)"
   ]
  },
  {
   "cell_type": "code",
   "execution_count": 60,
   "id": "ca3eb60c",
   "metadata": {},
   "outputs": [
    {
     "data": {
      "image/png": "[encoded data removed]",
      "text/plain": [
       "<Figure size 1296x144 with 1 Axes>"
      ]
     },
     "metadata": {},
     "output_type": "display_data"
    }
   ],
   "source": [
    "# Vuelvo a pasar la sentencia del grafico y se puede ver que ya no tiene outliers, pero a la vez no se borraron los datos.\n",
    "plt.figure(figsize=(18, 2))  \n",
    "sns.boxplot(x=df['Km'], color=\"black\")\n",
    "plt.show()"
   ]
  },
  {
   "cell_type": "code",
   "execution_count": 61,
   "id": "73d3ae00",
   "metadata": {
    "scrolled": true
   },
   "outputs": [
    {
     "data": {
      "image/png": "[encoded data removed]",
      "text/plain": [
       "<Figure size 1296x144 with 1 Axes>"
      ]
     },
     "metadata": {},
     "output_type": "display_data"
    }
   ],
   "source": [
    "# Ahora con los valores de la columna \"Precio\". Acá también grafico para ver los outliers de la columna \"Precios\", estos son\n",
    "# todos los puntos fuera del grafico (los que estan por fuera del diagrama de caja).\n",
    "plt.figure(figsize=(18, 2))  \n",
    "sns.boxplot(x=df['Precio'], color=\"black\")\n",
    "plt.show()"
   ]
  },
  {
   "cell_type": "code",
   "execution_count": 62,
   "id": "b886d24e",
   "metadata": {},
   "outputs": [],
   "source": [
    "df['Precio'] = df['Precio'].clip(lower=0, upper=180000) # Establezco los limites para el precio"
   ]
  },
  {
   "cell_type": "code",
   "execution_count": 63,
   "id": "da67e5bd",
   "metadata": {
    "scrolled": true
   },
   "outputs": [
    {
     "data": {
      "image/png": "[encoded data removed]",
      "text/plain": [
       "<Figure size 1296x144 with 1 Axes>"
      ]
     },
     "metadata": {},
     "output_type": "display_data"
    }
   ],
   "source": [
    "# Vuelvo a pasar la sentencia del grafico y se puede ver que ya no tiene outliers, pero a la vez no se borraron los datos.\n",
    "plt.figure(figsize=(18, 2))  \n",
    "sns.boxplot(x=df['Km'], color=\"Black\")\n",
    "plt.show()"
   ]
  },
  {
   "cell_type": "markdown",
   "id": "e303c5c1",
   "metadata": {},
   "source": [
    "Luego de trabajar con los outliers en los datos, se procede a seguir analizando"
   ]
  },
  {
   "cell_type": "code",
   "execution_count": 64,
   "id": "12f369aa",
   "metadata": {},
   "outputs": [
    {
     "data": {
      "text/html": [
       "<div>\n",
       "<style scoped>\n",
       "    .dataframe tbody tr th:only-of-type {\n",
       "        vertical-align: middle;\n",
       "    }\n",
       "\n",
       "    .dataframe tbody tr th {\n",
       "        vertical-align: top;\n",
       "    }\n",
       "\n",
       "    .dataframe thead th {\n",
       "        text-align: right;\n",
       "    }\n",
       "</style>\n",
       "<table border=\"1\" class=\"dataframe\">\n",
       "  <thead>\n",
       "    <tr style=\"text-align: right;\">\n",
       "      <th></th>\n",
       "      <th>Precio</th>\n",
       "      <th>Marca</th>\n",
       "      <th>Modelo</th>\n",
       "      <th>Año</th>\n",
       "      <th>Color</th>\n",
       "      <th>Combustible</th>\n",
       "      <th>Puertas</th>\n",
       "      <th>Transmision</th>\n",
       "      <th>Motor</th>\n",
       "      <th>Carroceria</th>\n",
       "      <th>Km</th>\n",
       "      <th>Moneda</th>\n",
       "    </tr>\n",
       "  </thead>\n",
       "  <tbody>\n",
       "    <tr>\n",
       "      <th>0</th>\n",
       "      <td>8625</td>\n",
       "      <td>Toyota</td>\n",
       "      <td>Corolla Cross</td>\n",
       "      <td>2022</td>\n",
       "      <td>Plateado</td>\n",
       "      <td>Nafta</td>\n",
       "      <td>5.0</td>\n",
       "      <td>Automática</td>\n",
       "      <td>1.6</td>\n",
       "      <td>SUV</td>\n",
       "      <td>500</td>\n",
       "      <td>dólares</td>\n",
       "    </tr>\n",
       "    <tr>\n",
       "      <th>1</th>\n",
       "      <td>9042</td>\n",
       "      <td>Jeep</td>\n",
       "      <td>Compass</td>\n",
       "      <td>2022</td>\n",
       "      <td>Blanco</td>\n",
       "      <td>Nafta</td>\n",
       "      <td>5.0</td>\n",
       "      <td>Automática</td>\n",
       "      <td>2.4</td>\n",
       "      <td>SUV</td>\n",
       "      <td>500</td>\n",
       "      <td>dólares</td>\n",
       "    </tr>\n",
       "    <tr>\n",
       "      <th>2</th>\n",
       "      <td>35500</td>\n",
       "      <td>Jeep</td>\n",
       "      <td>Compass</td>\n",
       "      <td>2022</td>\n",
       "      <td>Gris oscuro</td>\n",
       "      <td>Nafta</td>\n",
       "      <td>5.0</td>\n",
       "      <td>Automática</td>\n",
       "      <td>2.4</td>\n",
       "      <td>SUV</td>\n",
       "      <td>500</td>\n",
       "      <td>dólares</td>\n",
       "    </tr>\n",
       "  </tbody>\n",
       "</table>\n",
       "</div>"
      ],
      "text/plain": [
       "   Precio   Marca         Modelo   Año        Color Combustible  Puertas  \\\n",
       "0    8625  Toyota  Corolla Cross  2022     Plateado       Nafta      5.0   \n",
       "1    9042    Jeep        Compass  2022       Blanco       Nafta      5.0   \n",
       "2   35500    Jeep        Compass  2022  Gris oscuro       Nafta      5.0   \n",
       "\n",
       "  Transmision Motor Carroceria   Km   Moneda  \n",
       "0  Automática   1.6        SUV  500  dólares  \n",
       "1  Automática   2.4        SUV  500  dólares  \n",
       "2  Automática   2.4        SUV  500  dólares  "
      ]
     },
     "execution_count": 64,
     "metadata": {},
     "output_type": "execute_result"
    }
   ],
   "source": [
    "df.head(3)"
   ]
  },
  {
   "cell_type": "code",
   "execution_count": 65,
   "id": "cd7804e0",
   "metadata": {},
   "outputs": [],
   "source": [
    "X = df[['Km', \"Año\", 'Puertas']]\n",
    "Y = df['Precio']"
   ]
  },
  {
   "cell_type": "code",
   "execution_count": 66,
   "id": "2ceb4506",
   "metadata": {},
   "outputs": [
    {
     "data": {
      "text/plain": [
       "LinearRegression()"
      ]
     },
     "execution_count": 66,
     "metadata": {},
     "output_type": "execute_result"
    }
   ],
   "source": [
    "lm.fit(X,Y) # Entrenamos el modelo"
   ]
  },
  {
   "cell_type": "code",
   "execution_count": 67,
   "id": "6d265b13",
   "metadata": {},
   "outputs": [
    {
     "data": {
      "text/plain": [
       "array([16346.14228293, 16346.14228293, 16346.14228293, 16339.27869204,\n",
       "       23450.21624862])"
      ]
     },
     "execution_count": 67,
     "metadata": {},
     "output_type": "execute_result"
    }
   ],
   "source": [
    "Yhat=lm.predict(X)\n",
    "Yhat[0:5] # Selecciona las primeras 5 predicciones de la matriz"
   ]
  },
  {
   "cell_type": "code",
   "execution_count": 68,
   "id": "52b020b5",
   "metadata": {},
   "outputs": [
    {
     "name": "stdout",
     "output_type": "stream",
     "text": [
      "Intercepcion:  -76716.43045134417 o lo que es lo mismo, cuando X=0, Y tendra ese valor\n",
      "Coeficiente:  [-1.37271818e-01  6.70082864e+01 -8.47190928e+03]\n"
     ]
    }
   ],
   "source": [
    "print ('Intercepcion: ',lm.intercept_, 'o lo que es lo mismo, cuando X=0, Y tendra ese valor')\n",
    "print ('Coeficiente: ', lm.coef_)"
   ]
  },
  {
   "cell_type": "code",
   "execution_count": 69,
   "id": "15f6659f",
   "metadata": {},
   "outputs": [
    {
     "data": {
      "text/plain": [
       "array([ 1.63461423e+04,  1.63461423e+04,  1.63461423e+04,  1.63392787e+04,\n",
       "        2.34502162e+04,  1.49734241e+04, -5.53569166e+03,  6.12362444e+02,\n",
       "        3.23685163e+04,  1.14092397e+04,  8.47570169e+03, -6.43731260e+03,\n",
       "        1.16236925e+03,  1.16236925e+03,  1.15037024e+04,  1.02851427e+04,\n",
       "        6.19291064e+03,  4.55215932e+03,  2.28880195e+03, -7.65852197e+03,\n",
       "        5.16499963e+03,  1.39816275e+03,  5.43954326e+03,  1.21543702e+03,\n",
       "       -1.21000178e+03,  7.84017245e+03,  1.06623828e+04,  9.41931315e+03,\n",
       "        1.72697292e+04,  1.12427902e+04, -7.52450540e+03,  2.20039793e+04,\n",
       "        5.77787092e+02,  7.56888406e+03,  6.67824487e+03, -1.54829846e+03,\n",
       "        1.08601524e+04,  4.17166397e+03,  7.22733214e+03,  1.20631659e+04,\n",
       "        1.31905181e+04,  4.55215932e+03,  1.90315956e+04,  5.78435043e+03,\n",
       "        1.65931359e+04,  2.42607376e+03,  4.14359911e+03,  1.63447696e+04,\n",
       "        9.90576021e+03,  8.87133871e+03,  1.64238013e+04,  7.88270708e+03,\n",
       "        2.33129444e+04,  6.54907458e+03,  2.21332304e+04,  2.68470907e+04,\n",
       "        1.59641955e+04,  8.45820237e+02, -3.74464754e+03,  2.63360911e+03,\n",
       "        8.11797133e+03,  1.53319585e+04,  1.10644325e+04, -2.37843986e+03,\n",
       "       -3.40635087e+03,  9.76523314e+03, -3.33608734e+03,  7.56562882e+03,\n",
       "        1.65196171e+04,  1.58332580e+04,  1.79625988e+04,  9.62470608e+03,\n",
       "        3.04542457e+03,  8.87133871e+03,  1.91947899e+04,  1.85786943e+04,\n",
       "        4.62242285e+03,  7.91043598e+03,  9.42042598e+03,  5.03423830e+03,\n",
       "        1.65866254e+04, -3.33934258e+03,  1.61402346e+04,  9.42368122e+03,\n",
       "        5.09799134e+03,  1.44292197e+04,  4.20735215e+03, -3.19362591e+02,\n",
       "        1.75887096e+04, -2.71348129e+03,  1.27116944e+04,  1.28489662e+04,\n",
       "        1.70687043e+04,  7.11803664e+02,  1.06558723e+04,  1.37396054e+04,\n",
       "        2.37473314e+04,  1.16805281e+04,  8.32225144e+03,  2.12506119e+04,\n",
       "        4.41814274e+03,  6.95441613e+03,  1.24079730e+04,  1.69363154e+04,\n",
       "        5.30227145e+03,  1.27430145e+04,  1.65261276e+04,  3.31671296e+03,\n",
       "        1.74296992e+03,  2.11544259e+04,  8.94160224e+03, -1.42079238e+03,\n",
       "        2.31959103e+04,  1.71389679e+04, -1.28352056e+03,  7.91369123e+03,\n",
       "        1.50096271e+04,  1.16232856e+04,  5.37253498e+03,  6.77657326e+03,\n",
       "        1.65196171e+04,  1.75475281e+04,  1.65196171e+04,  8.69837871e+03,\n",
       "        1.76491117e+04,  1.76491117e+04, -1.28352056e+03,  1.01067851e+04,\n",
       "        4.07008033e+03,  8.83565053e+03,  1.19062740e+03,  6.79030044e+03,\n",
       "        1.16228347e+04,  5.26983851e+03,  3.99854746e+04,  1.88532380e+04,\n",
       "        1.10006795e+04,  2.05208891e+03,  3.79879194e+03,  6.44795378e+02,\n",
       "        1.59705298e+04,  2.07426105e+04,  5.40987541e+03,  3.14700820e+03,\n",
       "        1.97817078e+04,  2.34604450e+03,  1.16151474e+04,  2.10204094e+04,\n",
       "        2.68463235e+04,  1.07261359e+04,  1.18737216e+03,  1.64526088e+04,\n",
       "        5.30227145e+03,  1.94023252e+04,  5.03423830e+03,  6.74525315e+03,\n",
       "        1.78220717e+04,  2.26469435e+02,  6.67498962e+03,  8.32550668e+03,\n",
       "        2.28308654e+04,  1.21869227e+03,  1.63823453e+04,  2.45829661e+04,\n",
       "       -3.19362591e+02, -5.19088450e+03,  2.00951948e+04,  1.08876068e+04,\n",
       "        1.41892514e+04,  2.47494156e+04,  1.57024967e+04,  2.06756022e+04,\n",
       "        5.03423830e+03,  1.83744142e+04,  2.54445756e+01,  9.90250496e+03,\n",
       "        1.14842873e+03,  7.92416316e+03,  1.04515922e+04,  1.19258940e+04,\n",
       "        2.18440403e+04,  2.16005397e+04,  7.77641941e+03,  7.65322787e+03,\n",
       "        3.72527316e+03,  9.66112239e+03,  2.31464949e+04,  7.84342770e+03,\n",
       "        1.43265232e+04,  1.52139072e+04,  1.74102563e+04,  1.64493535e+04,\n",
       "        1.37428606e+04,  1.11725267e+04,  1.28802863e+04,  1.20664211e+04,\n",
       "        2.56009034e+03,  8.04770780e+03,  7.65275714e+03,  1.59236416e+04,\n",
       "        1.06591276e+04, -3.33283209e+03,  3.68919758e+04,  7.11803664e+02,\n",
       "        8.37878779e+03,  1.01770486e+04,  8.35357154e+03, -7.91675841e+02,\n",
       "       -3.17928405e+03,  8.83037279e+03,  1.22520276e+03,  2.43376002e+04,\n",
       "        1.88240603e+04,  3.89477978e+04,  7.59471080e+03,  9.95645279e+03,\n",
       "       -2.10064098e+03,  3.70251742e+02, -7.65852197e+03,  6.53446256e+03,\n",
       "        2.24157947e+04,  1.62622692e+04,  1.30565015e+04,  1.37071724e+04,\n",
       "        1.09271607e+04,  4.96723001e+03,  1.64526088e+04,  7.16032385e+03,\n",
       "        3.72527316e+03,  8.32225144e+03,  1.53955201e+04,  2.23536693e+04,\n",
       "        2.57092055e+04,  9.83224143e+03,  8.25198790e+03,  1.42886926e+04,\n",
       "        7.84342770e+03,  1.94023252e+04,  1.46334998e+04,  1.07261359e+04,\n",
       "        5.58007033e+03,  8.11797133e+03,  3.67361968e+03,  3.61871096e+03,\n",
       "       -3.12855199e+03,  1.14842873e+03,  7.97744427e+03,  3.66174322e+04,\n",
       "        4.95350283e+03,  1.21543702e+03,  6.12362444e+02,  2.06345164e+04,\n",
       "        1.03143204e+04,  1.49771941e+04,  8.94485748e+03,  4.55376730e+03,\n",
       "        6.52063968e+03,  1.19324045e+04,  1.18411691e+03,  4.14034386e+03,\n",
       "        1.37741807e+04,  4.55541456e+03,  4.54890407e+03,  1.61748099e+04,\n",
       "        1.59770403e+04,  8.80395590e+02,  1.78253270e+04,  1.09271607e+04,\n",
       "        1.50128823e+04,  1.61402346e+04,  4.90022173e+03,  1.68320870e+04,\n",
       "       -3.12855199e+03,  5.10124659e+03,  2.33507750e+04,  1.31905181e+04,\n",
       "        7.77641941e+03, -7.65852197e+03, -1.96011391e+03,  1.59002663e+04,\n",
       "        7.56888406e+03,  2.15804062e+03,  1.50798906e+04,  2.66420434e+04,\n",
       "        3.46049526e+03, -6.08803418e+03,  1.63461423e+04, -3.54036744e+03,\n",
       "       -2.03363269e+03,  1.05459592e+04,  1.93643989e+04,  5.50980679e+03,\n",
       "        7.02305203e+03,  1.00397768e+04,  1.26057426e+04,  1.77928940e+04,\n",
       "        1.11757819e+04,  9.99371237e+03,  7.05293174e+02,  4.96723001e+03,\n",
       "        1.76024368e+04,  1.79593435e+04,  9.66263238e+03,  2.98241048e+04,\n",
       "        2.84673353e+03,  1.25106695e+04, -4.56634409e+02,  5.72059739e+03,\n",
       "        8.59679507e+03,  1.04515922e+04,  8.11471609e+03,  8.59679507e+03,\n",
       "        1.64460983e+04,  3.61932145e+03,  2.08113421e+04,  7.71500019e+03,\n",
       "        9.00861052e+03,  9.60203888e+03,  7.84342770e+03,  1.09974243e+04,\n",
       "        2.95247516e+04,  2.37885129e+04,  1.07898889e+04,  4.14203182e+04,\n",
       "        1.85786943e+04,  1.03708568e+04,  3.00188344e+04,  1.80296071e+04,\n",
       "        1.77550634e+04,  6.81877193e+03,  1.09649913e+04,  1.96476912e+04,\n",
       "        1.54982166e+04,  1.82262639e+04,  1.81063811e+04,  3.78180951e+03,\n",
       "        4.35672353e+03,  1.48515071e+04,  1.74891727e+04,  2.81637682e+03,\n",
       "        1.39262386e+04,  9.59821511e+03,  6.30062974e+03,  1.09359093e+04,\n",
       "        3.32213249e+04,  1.10676878e+04,  3.01343366e+04, -7.79253855e+03,\n",
       "        9.97114087e+03,  2.09760683e+04,  1.62759964e+04,  1.32607816e+04,\n",
       "        8.66380336e+03,  1.83041507e+04,  7.91043598e+03, -1.13322776e+03,\n",
       "        2.42415099e+04,  7.77316416e+03,  8.25198790e+03,  7.63589235e+03,\n",
       "        8.63137042e+03,  1.68190898e+04,  1.23701424e+04,  3.72527316e+03,\n",
       "        1.54571307e+04,  2.47341785e+04,  1.62775064e+04, -1.00246643e+03,\n",
       "        2.48180516e+04,  7.85389963e+03,  6.19291064e+03,  1.29472946e+04,\n",
       "        6.19942113e+03,  1.87959954e+04, -1.28352056e+03,  7.19164396e+03,\n",
       "        1.31580852e+04,  7.12138043e+03,  1.80997821e+03,  1.06047658e+03,\n",
       "        9.88877778e+03,  2.47341785e+04,  2.42415099e+04,  5.78435043e+03,\n",
       "       -5.93906227e+02, -2.92427188e+03,  1.21601166e+04,  1.22619526e+04,\n",
       "        2.46074482e+03,  6.72827073e+03,  1.20955988e+04,  1.10150172e+04,\n",
       "        7.98069951e+03,  4.85476781e+03,  1.37741807e+04, -3.12855199e+03,\n",
       "        4.12006833e+04,  1.44324749e+04,  1.56289779e+04,  2.04302363e+04,\n",
       "        1.74909917e+04,  4.14203182e+04,  2.95901322e+04,  3.84577960e+04,\n",
       "        1.07574560e+04,  1.35353253e+04,  2.04302363e+04,  8.01527487e+03,\n",
       "        9.62796133e+03,  1.68611690e+04, -3.92881368e+02,  4.75643942e+03,\n",
       "        6.74850840e+03,  2.83457459e+04,  9.97602374e+03,  7.50187577e+03,\n",
       "        9.69008675e+03,  2.29205719e+03,  1.12719679e+04,  7.77641941e+03,\n",
       "        1.12719679e+04,  1.18297081e+04,  1.62775064e+04, -3.19362591e+02,\n",
       "        1.07107811e+04,  1.47461632e+04,  1.02045030e+04, -2.52351653e+03,\n",
       "       -4.56634409e+02,  7.31915004e+03,  1.32921017e+04,  7.63914759e+03,\n",
       "        8.14603619e+03,  6.40695648e+03, -4.57153370e+03,  5.99188578e+03,\n",
       "        1.36934453e+04, -7.85954683e+03,  1.42749655e+04,  9.65576879e+03,\n",
       "       -2.55342276e+03,  1.42886926e+04,  1.14842873e+03,  1.93061393e+04,\n",
       "        5.95294236e+03, -7.79253855e+03,  1.49189272e+04,  5.92162225e+03,\n",
       "        4.13383337e+03, -5.90650982e+02,  1.49750517e+04,  6.74199791e+03,\n",
       "        4.67244871e+03,  2.08223238e+04,  9.09573278e+02,  1.58365132e+04,\n",
       "        1.61676889e+04,  1.80252390e+04,  1.39277288e+04,  1.19324045e+04,\n",
       "        1.04515922e+04,  4.12846740e+04, -7.31697005e+03,  3.93931900e+03,\n",
       "        7.94175609e+03,  1.26089094e+03,  1.23701424e+04,  9.55456207e+03,\n",
       "        1.70016961e+04,  6.94953326e+03,  1.62225976e+04,  1.25452449e+04,\n",
       "        1.98811490e+04,  2.19369710e+04,  6.47070952e+03,  2.24157947e+04,\n",
       "        4.65374295e+03,  1.12017044e+04, -7.79253855e+03,  1.04087831e+04,\n",
       "        7.98232714e+03,  1.20285905e+04,  5.44605375e+03,  1.40464862e+04,\n",
       "        6.67824487e+03,  9.00861052e+03,  1.12752231e+04,  1.96066054e+04,\n",
       "       -5.36632701e+01,  4.03764740e+03,  8.18497962e+03,  1.31678509e+04,\n",
       "        1.16167751e+04,  5.03098306e+03,  8.39577021e+03,  1.11444618e+04,\n",
       "        9.62470608e+03,  8.94485748e+03,  1.47707716e+04,  1.62775064e+04,\n",
       "        4.13708862e+03,  6.93827697e+03, -2.71999178e+03, -5.12203276e+03,\n",
       "        1.19062740e+03,  9.00861052e+03,  1.79593435e+04,  5.73520712e+03,\n",
       "        1.67925331e+04,  4.41488750e+03])"
      ]
     },
     "execution_count": 69,
     "metadata": {},
     "output_type": "execute_result"
    }
   ],
   "source": [
    "# Pido predecir el modelo de regresión lineal (lm) previamente entrenado\n",
    "Yhat=lm.predict(X)\n",
    "lm.predict(X)"
   ]
  },
  {
   "cell_type": "code",
   "execution_count": 70,
   "id": "9eba1af6",
   "metadata": {},
   "outputs": [
    {
     "name": "stdout",
     "output_type": "stream",
     "text": [
      "El MSE (Error Cuadratico Medio) del precio y el valor que se predijo es:  367588770.76562\n"
     ]
    }
   ],
   "source": [
    "mse = mean_squared_error(df['Precio'], Yhat)\n",
    "print('El MSE (Error Cuadratico Medio) del precio y el valor que se predijo es: ', mse)"
   ]
  },
  {
   "cell_type": "markdown",
   "id": "4a74f7ab",
   "metadata": {},
   "source": [
    "<div class=\"alert alert-warning\">Tras corregir los outliers, el Mean Squared Error mejora significativamente; sin embargo, el valor aún no es lo suficientemente bajo. Por ello, se procederá a probar otro algoritmo con el fin de continuar el análisis del caso.</div>"
   ]
  },
  {
   "cell_type": "markdown",
   "id": "e285b3c5",
   "metadata": {},
   "source": [
    "## ❑ Regresión Polinomica"
   ]
  },
  {
   "cell_type": "code",
   "execution_count": 71,
   "id": "8534a76e",
   "metadata": {
    "scrolled": true
   },
   "outputs": [
    {
     "data": {
      "text/html": [
       "<div>\n",
       "<style scoped>\n",
       "    .dataframe tbody tr th:only-of-type {\n",
       "        vertical-align: middle;\n",
       "    }\n",
       "\n",
       "    .dataframe tbody tr th {\n",
       "        vertical-align: top;\n",
       "    }\n",
       "\n",
       "    .dataframe thead th {\n",
       "        text-align: right;\n",
       "    }\n",
       "</style>\n",
       "<table border=\"1\" class=\"dataframe\">\n",
       "  <thead>\n",
       "    <tr style=\"text-align: right;\">\n",
       "      <th></th>\n",
       "      <th>Precio</th>\n",
       "      <th>Marca</th>\n",
       "      <th>Modelo</th>\n",
       "      <th>Año</th>\n",
       "      <th>Color</th>\n",
       "      <th>Combustible</th>\n",
       "      <th>Puertas</th>\n",
       "      <th>Transmision</th>\n",
       "      <th>Motor</th>\n",
       "      <th>Carroceria</th>\n",
       "      <th>Km</th>\n",
       "      <th>Moneda</th>\n",
       "    </tr>\n",
       "  </thead>\n",
       "  <tbody>\n",
       "    <tr>\n",
       "      <th>0</th>\n",
       "      <td>8625</td>\n",
       "      <td>Toyota</td>\n",
       "      <td>Corolla Cross</td>\n",
       "      <td>2022</td>\n",
       "      <td>Plateado</td>\n",
       "      <td>Nafta</td>\n",
       "      <td>5.0</td>\n",
       "      <td>Automática</td>\n",
       "      <td>1.6</td>\n",
       "      <td>SUV</td>\n",
       "      <td>500</td>\n",
       "      <td>dólares</td>\n",
       "    </tr>\n",
       "    <tr>\n",
       "      <th>1</th>\n",
       "      <td>9042</td>\n",
       "      <td>Jeep</td>\n",
       "      <td>Compass</td>\n",
       "      <td>2022</td>\n",
       "      <td>Blanco</td>\n",
       "      <td>Nafta</td>\n",
       "      <td>5.0</td>\n",
       "      <td>Automática</td>\n",
       "      <td>2.4</td>\n",
       "      <td>SUV</td>\n",
       "      <td>500</td>\n",
       "      <td>dólares</td>\n",
       "    </tr>\n",
       "    <tr>\n",
       "      <th>2</th>\n",
       "      <td>35500</td>\n",
       "      <td>Jeep</td>\n",
       "      <td>Compass</td>\n",
       "      <td>2022</td>\n",
       "      <td>Gris oscuro</td>\n",
       "      <td>Nafta</td>\n",
       "      <td>5.0</td>\n",
       "      <td>Automática</td>\n",
       "      <td>2.4</td>\n",
       "      <td>SUV</td>\n",
       "      <td>500</td>\n",
       "      <td>dólares</td>\n",
       "    </tr>\n",
       "  </tbody>\n",
       "</table>\n",
       "</div>"
      ],
      "text/plain": [
       "   Precio   Marca         Modelo   Año        Color Combustible  Puertas  \\\n",
       "0    8625  Toyota  Corolla Cross  2022     Plateado       Nafta      5.0   \n",
       "1    9042    Jeep        Compass  2022       Blanco       Nafta      5.0   \n",
       "2   35500    Jeep        Compass  2022  Gris oscuro       Nafta      5.0   \n",
       "\n",
       "  Transmision Motor Carroceria   Km   Moneda  \n",
       "0  Automática   1.6        SUV  500  dólares  \n",
       "1  Automática   2.4        SUV  500  dólares  \n",
       "2  Automática   2.4        SUV  500  dólares  "
      ]
     },
     "execution_count": 71,
     "metadata": {},
     "output_type": "execute_result"
    }
   ],
   "source": [
    "df.head(3)"
   ]
  },
  {
   "cell_type": "code",
   "execution_count": 72,
   "id": "1b0339fc",
   "metadata": {},
   "outputs": [
    {
     "data": {
      "text/plain": [
       "LinearRegression()"
      ]
     },
     "execution_count": 72,
     "metadata": {},
     "output_type": "execute_result"
    }
   ],
   "source": [
    "from sklearn.preprocessing import PolynomialFeatures\n",
    "from sklearn.linear_model import LinearRegression\n",
    "import numpy as np\n",
    "\n",
    "# Datos de ejemplo\n",
    "X = df[['Km']]  # Variable independiente\n",
    "y = df['Precio']    # Variable dependiente\n",
    "\n",
    "# Convertir a polinomio de grado 2\n",
    "poly = PolynomialFeatures(degree=2)\n",
    "X_poly = poly.fit_transform(X)\n",
    "\n",
    "# Crear modelo de regresión lineal (aunque se use regresion lineal, al aplicarlo sobre X_poly se obtiene una polinómica)\n",
    "modelo = LinearRegression()\n",
    "modelo.fit(X_poly, y)"
   ]
  },
  {
   "cell_type": "code",
   "execution_count": 73,
   "id": "60602f63",
   "metadata": {},
   "outputs": [
    {
     "data": {
      "image/png": "[encoded data removed]",
      "text/plain": [
       "<Figure size 720x432 with 1 Axes>"
      ]
     },
     "metadata": {},
     "output_type": "display_data"
    }
   ],
   "source": [
    "X_range = np.linspace(df['Km'].min(), df['Km'].max(), 500).reshape(-1, 1)\n",
    "X_range_poly = poly.transform(X_range)  # Transformar a polinomio\n",
    "\n",
    "# Predecir precios usando el modelo polinómico\n",
    "y_pred = modelo.predict(X_range_poly)\n",
    "\n",
    "# Graficar\n",
    "plt.figure(figsize=(10,6))\n",
    "sns.scatterplot(x='Km', y='Precio', data=df, color='black', alpha=0.7, label='Datos reales')\n",
    "plt.plot(X_range, y_pred, color='red', linewidth=1, label='Regresión polinómica grado 2')\n",
    "plt.xlabel('Kilómetros')\n",
    "plt.ylabel('Precio')\n",
    "plt.title('Regresión Polinómica: Precio vs Kilómetros')\n",
    "plt.legend()\n",
    "plt.show()"
   ]
  },
  {
   "cell_type": "markdown",
   "id": "40448149",
   "metadata": {},
   "source": [
    "<div class=\"alert alert-warning\">La curva intenta ajustarse a la tendencia de los datos, capturando posibles relaciones no lineales.\n",
    "\n",
    "Por ejemplo, si los autos con pocos kilómetros tienen precios muy altos y luego bajan más rápido a medida que aumentan los kilómetros, la curva reflejará esa forma.</div>\n",
    "\n"
   ]
  },
  {
   "cell_type": "code",
   "execution_count": 74,
   "id": "8297716e",
   "metadata": {},
   "outputs": [
    {
     "name": "stdout",
     "output_type": "stream",
     "text": [
      "MSE: 376884976.31882495\n"
     ]
    }
   ],
   "source": [
    "from sklearn.metrics import mean_squared_error\n",
    "\n",
    "# Predicciones\n",
    "y_pred = modelo.predict(X_poly)\n",
    "\n",
    "# Calcular el MSE\n",
    "mse = mean_squared_error(y, y_pred)\n",
    "print(\"MSE:\", mse)"
   ]
  },
  {
   "cell_type": "markdown",
   "id": "136cac0d",
   "metadata": {},
   "source": [
    "<div class=\"alert alert-warning\">Aunque la curva polinómica pueda seguir mejor la tendencia de los datos, el error promedio sigue siendo elevado.\n",
    "\n",
    "Esto significa que las predicciones se desvían significativamente de los valores reales de Precio.\n",
    "\n",
    "Es un indicio de que el modelo actual no captura bien la relación entre Kilómetros y Precio con estos datos.</div>"
   ]
  },
  {
   "cell_type": "code",
   "execution_count": 75,
   "id": "0eba1cb8",
   "metadata": {},
   "outputs": [],
   "source": [
    "# Busco estandarizar el df haciendo el precio una porcion de 1000 para ver como se comporta el resultado del MSE.\n",
    "df[\"Precio\"]=df[\"Precio\"]/1000"
   ]
  },
  {
   "cell_type": "code",
   "execution_count": 76,
   "id": "14c71aa0",
   "metadata": {},
   "outputs": [
    {
     "data": {
      "text/html": [
       "<div>\n",
       "<style scoped>\n",
       "    .dataframe tbody tr th:only-of-type {\n",
       "        vertical-align: middle;\n",
       "    }\n",
       "\n",
       "    .dataframe tbody tr th {\n",
       "        vertical-align: top;\n",
       "    }\n",
       "\n",
       "    .dataframe thead th {\n",
       "        text-align: right;\n",
       "    }\n",
       "</style>\n",
       "<table border=\"1\" class=\"dataframe\">\n",
       "  <thead>\n",
       "    <tr style=\"text-align: right;\">\n",
       "      <th></th>\n",
       "      <th>Precio</th>\n",
       "      <th>Marca</th>\n",
       "      <th>Modelo</th>\n",
       "      <th>Año</th>\n",
       "      <th>Color</th>\n",
       "      <th>Combustible</th>\n",
       "      <th>Puertas</th>\n",
       "      <th>Transmision</th>\n",
       "      <th>Motor</th>\n",
       "      <th>Carroceria</th>\n",
       "      <th>Km</th>\n",
       "      <th>Moneda</th>\n",
       "    </tr>\n",
       "  </thead>\n",
       "  <tbody>\n",
       "    <tr>\n",
       "      <th>0</th>\n",
       "      <td>8.625</td>\n",
       "      <td>Toyota</td>\n",
       "      <td>Corolla Cross</td>\n",
       "      <td>2022</td>\n",
       "      <td>Plateado</td>\n",
       "      <td>Nafta</td>\n",
       "      <td>5.0</td>\n",
       "      <td>Automática</td>\n",
       "      <td>1.6</td>\n",
       "      <td>SUV</td>\n",
       "      <td>500</td>\n",
       "      <td>dólares</td>\n",
       "    </tr>\n",
       "    <tr>\n",
       "      <th>1</th>\n",
       "      <td>9.042</td>\n",
       "      <td>Jeep</td>\n",
       "      <td>Compass</td>\n",
       "      <td>2022</td>\n",
       "      <td>Blanco</td>\n",
       "      <td>Nafta</td>\n",
       "      <td>5.0</td>\n",
       "      <td>Automática</td>\n",
       "      <td>2.4</td>\n",
       "      <td>SUV</td>\n",
       "      <td>500</td>\n",
       "      <td>dólares</td>\n",
       "    </tr>\n",
       "    <tr>\n",
       "      <th>2</th>\n",
       "      <td>35.500</td>\n",
       "      <td>Jeep</td>\n",
       "      <td>Compass</td>\n",
       "      <td>2022</td>\n",
       "      <td>Gris oscuro</td>\n",
       "      <td>Nafta</td>\n",
       "      <td>5.0</td>\n",
       "      <td>Automática</td>\n",
       "      <td>2.4</td>\n",
       "      <td>SUV</td>\n",
       "      <td>500</td>\n",
       "      <td>dólares</td>\n",
       "    </tr>\n",
       "  </tbody>\n",
       "</table>\n",
       "</div>"
      ],
      "text/plain": [
       "   Precio   Marca         Modelo   Año        Color Combustible  Puertas  \\\n",
       "0   8.625  Toyota  Corolla Cross  2022     Plateado       Nafta      5.0   \n",
       "1   9.042    Jeep        Compass  2022       Blanco       Nafta      5.0   \n",
       "2  35.500    Jeep        Compass  2022  Gris oscuro       Nafta      5.0   \n",
       "\n",
       "  Transmision Motor Carroceria   Km   Moneda  \n",
       "0  Automática   1.6        SUV  500  dólares  \n",
       "1  Automática   2.4        SUV  500  dólares  \n",
       "2  Automática   2.4        SUV  500  dólares  "
      ]
     },
     "execution_count": 76,
     "metadata": {},
     "output_type": "execute_result"
    }
   ],
   "source": [
    "df.head(3)"
   ]
  },
  {
   "cell_type": "code",
   "execution_count": 77,
   "id": "08247955",
   "metadata": {},
   "outputs": [
    {
     "data": {
      "text/plain": [
       "LinearRegression()"
      ]
     },
     "execution_count": 77,
     "metadata": {},
     "output_type": "execute_result"
    }
   ],
   "source": [
    "from sklearn.preprocessing import PolynomialFeatures\n",
    "from sklearn.linear_model import LinearRegression\n",
    "import numpy as np\n",
    "\n",
    "# Datos de ejemplo\n",
    "X = df[['Km']]  # Variable independiente\n",
    "y = df['Precio']    # Variable dependiente\n",
    "\n",
    "# Convertir a polinomio de grado 2\n",
    "poly = PolynomialFeatures(degree=2)\n",
    "X_poly = poly.fit_transform(X)\n",
    "\n",
    "# Crear modelo de regresión lineal\n",
    "modelo = LinearRegression()\n",
    "modelo.fit(X_poly, y)"
   ]
  },
  {
   "cell_type": "code",
   "execution_count": 78,
   "id": "e1a20346",
   "metadata": {},
   "outputs": [
    {
     "name": "stdout",
     "output_type": "stream",
     "text": [
      "MSE: 376.88497631882484\n"
     ]
    }
   ],
   "source": [
    "from sklearn.metrics import mean_squared_error\n",
    "\n",
    "# Predicciones\n",
    "y_pred = modelo.predict(X_poly)\n",
    "\n",
    "# Calcular el MSE\n",
    "mse = mean_squared_error(y, y_pred)\n",
    "print(\"MSE:\", mse)"
   ]
  },
  {
   "cell_type": "code",
   "execution_count": 79,
   "id": "6df6e4e1",
   "metadata": {},
   "outputs": [
    {
     "data": {
      "text/plain": [
       "Precio        10.424347\n",
       "Año         2016.296078\n",
       "Puertas        4.474510\n",
       "Km         73286.174510\n",
       "dtype: float64"
      ]
     },
     "execution_count": 79,
     "metadata": {},
     "output_type": "execute_result"
    }
   ],
   "source": [
    "df.mean()"
   ]
  },
  {
   "cell_type": "markdown",
   "id": "ed8a3595",
   "metadata": {},
   "source": [
    "<div class=\"alert alert-warning\">\n",
    "    \n",
    "- MSE = 376.88 (Raiz cuadrada de MSE es 19.41 unidades) \n",
    "    \n",
    "- Promedio = 10.42 (Precio)\n",
    "\n",
    "Quiere decir que el modelo esta cometiendo un error promedio de 19.41 unidades, cuando el valor promedio real es solo 10.42 unidades. Significa en otras palabras que el modelo esta dando un error mas grande que usar el promedio directamente.\n",
    "Procedo a utilizar otro algoritmo.</div>"
   ]
  },
  {
   "cell_type": "markdown",
   "id": "30fd63dc",
   "metadata": {},
   "source": [
    "## ❑ Gradient Boosting"
   ]
  },
  {
   "cell_type": "markdown",
   "id": "d8b538a5",
   "metadata": {},
   "source": [
    "Es un algoritmo de aprendizaje supervisado que se utiliza principalmente para regresión y clasificación. Combina muchos modelos simples (normalmente árboles de decisión pequeños, llamados weak learners) para formar un modelo mucho más preciso y robusto.\n",
    "Se usa mucho cuando los modelos lineales o polinómicos no capturan bien la complejidad de los datos."
   ]
  },
  {
   "cell_type": "code",
   "execution_count": 80,
   "id": "42e94603",
   "metadata": {},
   "outputs": [],
   "source": [
    "from sklearn.ensemble import GradientBoostingRegressor\n",
    "from sklearn.metrics import mean_squared_error"
   ]
  },
  {
   "cell_type": "code",
   "execution_count": 81,
   "id": "47c7acef",
   "metadata": {},
   "outputs": [],
   "source": [
    "X = df[['Km']]\n",
    "y = df['Precio']"
   ]
  },
  {
   "cell_type": "code",
   "execution_count": 82,
   "id": "193ba000",
   "metadata": {},
   "outputs": [],
   "source": [
    "# Con esto creo el modelo\n",
    "gb_model = GradientBoostingRegressor(\n",
    "    n_estimators=200,   # número de árboles de decisión usados\n",
    "    learning_rate=0.1,  # tamaño del paso (cuanto corrige cada arbol al anterior, grande tiende a sobreajuste, paso pequeño avanza despacio con mas precisión)\n",
    "    max_depth=3,        # profundidad máxima de cada árbol\n",
    "    random_state=42\n",
    ")"
   ]
  },
  {
   "cell_type": "code",
   "execution_count": 83,
   "id": "48baff0d",
   "metadata": {},
   "outputs": [
    {
     "data": {
      "text/plain": [
       "GradientBoostingRegressor(n_estimators=200, random_state=42)"
      ]
     },
     "execution_count": 83,
     "metadata": {},
     "output_type": "execute_result"
    }
   ],
   "source": [
    "gb_model.fit(X, y) # Entreno el modelo"
   ]
  },
  {
   "cell_type": "code",
   "execution_count": 84,
   "id": "c6679bb2",
   "metadata": {},
   "outputs": [],
   "source": [
    "y_pred = gb_model.predict(X) # Predecir sobre los mismos datos"
   ]
  },
  {
   "cell_type": "code",
   "execution_count": 85,
   "id": "d8b97e54",
   "metadata": {},
   "outputs": [
    {
     "name": "stdout",
     "output_type": "stream",
     "text": [
      "MSE Gradient Boosting: 87.41\n"
     ]
    }
   ],
   "source": [
    "mse_gb = mean_squared_error(y, y_pred)\n",
    "print(f\"MSE Gradient Boosting: {mse_gb:.2f}\")"
   ]
  },
  {
   "cell_type": "markdown",
   "id": "ae9fc557",
   "metadata": {},
   "source": [
    "<div class=\"alert alert-warning\">Los modelos anteriores (regresión lineal y polinómica) tenían MSE extremadamente alto, en este caso con Gradient Boosting se obtiene un MSE de 87.41 que representa una mejora enorme. Indica que las predicciones del modelo están mucho más cerca de los valores reales de Precio (Ver línea roja en el gráfico como se acerca a los valores reales) , tambien captura mejor la relación entre Kilómetros y Precio, incluso frente a outliers o relaciones no lineales que pueda tener el dataset.</div>"
   ]
  },
  {
   "cell_type": "code",
   "execution_count": 86,
   "id": "c9d1c284",
   "metadata": {},
   "outputs": [
    {
     "data": {
      "image/png": "[encoded data removed]",
      "text/plain": [
       "<Figure size 1296x576 with 1 Axes>"
      ]
     },
     "metadata": {},
     "output_type": "display_data"
    }
   ],
   "source": [
    "X_range = np.linspace(X.min(), X.max(), 500).reshape(-1,1)\n",
    "y_range_pred = gb_model.predict(X_range)\n",
    "\n",
    "plt.figure(figsize=(18,8))\n",
    "sns.scatterplot(x='Km', y='Precio', data=df, color='black', alpha=0.7, label='Datos reales')\n",
    "plt.plot(X_range, y_range_pred, color='red', linewidth=1, label='Gradient Boosting')\n",
    "plt.xlabel('Kilómetros')\n",
    "plt.ylabel('Precio')\n",
    "plt.title('Gradient Boosting Regressor: Precio vs Kilómetros')\n",
    "plt.legend()\n",
    "plt.show()"
   ]
  },
  {
   "cell_type": "markdown",
   "id": "9c0ad651",
   "metadata": {},
   "source": [
    "## ❑ XGBoost Regressor"
   ]
  },
  {
   "cell_type": "markdown",
   "id": "e2ff4c91",
   "metadata": {},
   "source": [
    "Si bien el Gradient Boosting obtiene muy buenos resultados, se puede aplicar XGBoost Regressor que es una versión optimizada y \n",
    "más rápida de Gradient Boosting. Mantiene las ventajas de Gradient Boosting y añade mejoras importantes, que podría mejorar aún\n",
    "más la precisión y la estabilidad del modelo. "
   ]
  },
  {
   "cell_type": "code",
   "execution_count": 87,
   "id": "2347613f",
   "metadata": {},
   "outputs": [
    {
     "ename": "ModuleNotFoundError",
     "evalue": "No module named 'xgboost'",
     "output_type": "error",
     "traceback": [
      "\u001b[1;31m---------------------------------------------------------------------------\u001b[0m",
      "\u001b[1;31mModuleNotFoundError\u001b[0m                       Traceback (most recent call last)",
      "\u001b[1;32m<ipython-input-87-2c02f0670723>\u001b[0m in \u001b[0;36m<module>\u001b[1;34m\u001b[0m\n\u001b[1;32m----> 1\u001b[1;33m \u001b[1;32mfrom\u001b[0m \u001b[0mxgboost\u001b[0m \u001b[1;32mimport\u001b[0m \u001b[0mXGBRegressor\u001b[0m\u001b[1;33m\u001b[0m\u001b[1;33m\u001b[0m\u001b[0m\n\u001b[0m",
      "\u001b[1;31mModuleNotFoundError\u001b[0m: No module named 'xgboost'"
     ]
    }
   ],
   "source": [
    "from xgboost import XGBRegressor"
   ]
  },
  {
   "cell_type": "code",
   "execution_count": null,
   "id": "bca9f4d7",
   "metadata": {},
   "outputs": [],
   "source": [
    "X = df[['Km']]\n",
    "y = df['Precio']"
   ]
  },
  {
   "cell_type": "code",
   "execution_count": null,
   "id": "0efa03d6",
   "metadata": {},
   "outputs": [],
   "source": [
    "# Sentencia para crear el modelo XGBoost\n",
    "xgb_model = XGBRegressor(\n",
    "    n_estimators=300, # Numero de arboles\n",
    "    learning_rate=0.5, # Tamaño del paso\n",
    "    max_depth=4, # Profundidad del arbol de decisión\n",
    "    random_state=42\n",
    ")"
   ]
  },
  {
   "cell_type": "code",
   "execution_count": null,
   "id": "c0267dba",
   "metadata": {},
   "outputs": [],
   "source": [
    "xgb_model.fit(X, y) # Entrenar el modelo"
   ]
  },
  {
   "cell_type": "code",
   "execution_count": null,
   "id": "bceedebf",
   "metadata": {},
   "outputs": [],
   "source": [
    "y_pred_xgb = xgb_model.predict(X)"
   ]
  },
  {
   "cell_type": "code",
   "execution_count": null,
   "id": "b6297289",
   "metadata": {},
   "outputs": [],
   "source": [
    "mse_xgb = mean_squared_error(y, y_pred_xgb)\n",
    "print(f\"MSE XGBoost: {mse_xgb:.2f}\")"
   ]
  },
  {
   "cell_type": "markdown",
   "id": "b808b77f",
   "metadata": {},
   "source": [
    "<div class=\"alert alert-warning\">Con los hiperparámetros iniciales, arroja un MSE ligeramente superior a Gradient Boosting (≈ 100.35), pero sigue siendo muy superior a los modelos lineales. Entonces planteo directamente un ajuste en los hiperparámetros (n_estimators=300, learning_rate=0.5, max_depth=4) y se obtiene un MSE ≈ 75.77, mejorando el desempeño.Más modificaciones de hiperparámetros no producen mejoras significativas, indicando que el modelo está cerca de su capacidad óptima de ajuste</div>\n",
    "\n",
    "\n"
   ]
  },
  {
   "cell_type": "code",
   "execution_count": null,
   "id": "6723330a",
   "metadata": {},
   "outputs": [],
   "source": [
    "X_range = np.linspace(df['Km'].min(), df['Km'].max(), 500).reshape(-1, 1)\n",
    "y_pred_xgb_range = xgb_model.predict(X_range)"
   ]
  },
  {
   "cell_type": "code",
   "execution_count": null,
   "id": "1d83e73c",
   "metadata": {},
   "outputs": [],
   "source": [
    "plt.figure(figsize=(18,8))\n",
    "sns.scatterplot(x='Km', y='Precio', data=df, color='black', alpha=0.7, label='Datos reales')\n",
    "plt.plot(X_range, y_pred_xgb_range, color='red', linewidth=1, label='XGBoost')\n",
    "plt.xlabel('Kilómetros')\n",
    "plt.ylabel('Precio')\n",
    "plt.title('XGBoost Regressor: Precio vs Kilómetros')\n",
    "plt.legend()\n",
    "plt.show()"
   ]
  },
  {
   "cell_type": "markdown",
   "id": "a9b2dcc4",
   "metadata": {},
   "source": [
    "## <div style = 'background-color:black'> <center><font color='white'>④ Conclusiones </font></div>\n",
    "  \n",
    "#### Entre los modelos evaluados —Árboles de decisión, Random Forest, K-Nearest Neighbors y Naive Bayes, EL de Random Forest se destacó por ofrecer la mejor precisión y un bajo ratio de errores, por lo que se recomienda utilizar este algoritmo para futuras predicciones, asegurando resultados confiables y consistentes para este conjunto de datos.\n",
    "\n",
    "#### En cuanto a la importancia de los predictores, la variable “Income” (ingresos) resultó ser la más influyente, seguida a distancia por el nivel de educación de los clientes.\n",
    "\n",
    "#### Recomendaciones para la entidad bancaria: Centrar los esfuerzos de análisis en determinar con precisión el nivel de ingresos de los clientes, ya que es el factor más determinante para la aceptación de préstamos. Considerar también el nivel de educación como segundo factor relevante.\n",
    "\n",
    "#### Aplicando este enfoque, será posible optimizar la asignación de créditos, reduciendo la probabilidad de errores como falsos negativos y mejorando la eficiencia en la toma de decisiones crediticias."
   ]
  },
  {
   "cell_type": "code",
   "execution_count": null,
   "id": "bfa1febe",
   "metadata": {},
   "outputs": [],
   "source": [
    "# Sentencia para poner los kilometros del auto que deseo predecir el precio\n",
    "km_nuevo = np.array([[126000]])  "
   ]
  },
  {
   "cell_type": "code",
   "execution_count": null,
   "id": "6a0ec0ea",
   "metadata": {},
   "outputs": [],
   "source": [
    "precio_predicho = xgb_model.predict(km_nuevo)"
   ]
  },
  {
   "cell_type": "code",
   "execution_count": null,
   "id": "cd60f161",
   "metadata": {},
   "outputs": [],
   "source": [
    "print(f\"Precio estimado para un auto con {km_nuevo[0][0]} km: ${precio_predicho[0] * 1200:.2f}\")\n",
    "# Multiplicado por 1200 para representar el valor en pesos."
   ]
  },
  {
   "cell_type": "markdown",
   "id": "44a1db3e",
   "metadata": {},
   "source": [
    "Estos resultados son teniendo en cuenta los campos Km y Precio, pero como ya tengo el modelo a utilizar, puedo plantear que\n",
    "el algoritmo tenga en cuenta mas variables con lo que se va a obtener mejores respuestas."
   ]
  },
  {
   "cell_type": "code",
   "execution_count": null,
   "id": "78961a14",
   "metadata": {},
   "outputs": [],
   "source": [
    "df.sample(2)"
   ]
  },
  {
   "cell_type": "code",
   "execution_count": null,
   "id": "4e642543",
   "metadata": {},
   "outputs": [],
   "source": [
    "df.dtypes"
   ]
  },
  {
   "cell_type": "code",
   "execution_count": null,
   "id": "17ea321e",
   "metadata": {},
   "outputs": [],
   "source": [
    "df.Motor.value_counts()"
   ]
  },
  {
   "cell_type": "code",
   "execution_count": null,
   "id": "eeee5005",
   "metadata": {},
   "outputs": [],
   "source": [
    "# En este caso hay 3 tipos de carroceria que voy a eliminar y agregar en otras mas representativas.\n",
    "df.Motor = df.Motor.replace([\"TURBO\"], \"1.6\")\n",
    "df.Motor = df.Motor.replace([\"TOYOTA 2.8\"], \"2.8\")\n",
    "df.Motor = df.Motor.replace([\"3.0 TD\"], \"3.0\")\n",
    "df.Motor = df.Motor.replace([\"2.8tdi 223cv\"], \"2.8\")\n",
    "df.Motor = df.Motor.replace([\"1.6 MSI Nafta\"], \"2.8\")"
   ]
  },
  {
   "cell_type": "code",
   "execution_count": null,
   "id": "3d597490",
   "metadata": {},
   "outputs": [],
   "source": [
    "df.Motor.value_counts()"
   ]
  },
  {
   "cell_type": "code",
   "execution_count": null,
   "id": "73e51677",
   "metadata": {},
   "outputs": [],
   "source": [
    "print(df['Motor'].unique())\n",
    "print(df['Motor'].dtype)"
   ]
  },
  {
   "cell_type": "code",
   "execution_count": null,
   "id": "3322e11a",
   "metadata": {},
   "outputs": [],
   "source": [
    "X = df[['Km', 'Motor']] # Agrego mas campos (solo numéricos)\n",
    "y = df['Precio']"
   ]
  },
  {
   "cell_type": "code",
   "execution_count": null,
   "id": "318972e2",
   "metadata": {},
   "outputs": [],
   "source": [
    "xgb_model = XGBRegressor(\n",
    "    n_estimators=300,\n",
    "    learning_rate=0.5,\n",
    "    max_depth=4,\n",
    "    enable_categorical=True,  # 👈 clave\n",
    "    random_state=42\n",
    ")"
   ]
  },
  {
   "cell_type": "code",
   "execution_count": null,
   "id": "006319b3",
   "metadata": {},
   "outputs": [],
   "source": [
    "xgb_model.fit(X, y) # Entrenar el modelo"
   ]
  },
  {
   "cell_type": "code",
   "execution_count": null,
   "id": "f66cca3e",
   "metadata": {},
   "outputs": [],
   "source": []
  }
 ],
 "metadata": {
  "kernelspec": {
   "display_name": "Python 3",
   "language": "python",
   "name": "python3"
  },
  "language_info": {
   "codemirror_mode": {
    "name": "ipython",
    "version": 3
   },
   "file_extension": ".py",
   "mimetype": "text/x-python",
   "name": "python",
   "nbconvert_exporter": "python",
   "pygments_lexer": "ipython3",
   "version": "3.9.4"
  }
 },
 "nbformat": 4,
 "nbformat_minor": 5
}
