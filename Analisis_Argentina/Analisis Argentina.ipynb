{
 "cells": [
  {
   "cell_type": "markdown",
   "id": "6b2b739c-9e8e-4150-91ca-3840201d8a36",
   "metadata": {},
   "source": [
    "# <div style = 'background-color:orange'> <center><font color='white' >Data Science: Regresion Lineal Univariable y Multivariable</div>\n",
    "---"
   ]
  },
  {
   "cell_type": "markdown",
   "id": "4b6e6b06-b7bd-480d-95e1-134876bad869",
   "metadata": {},
   "source": [
    "#### El presente análisis tiene como objetivo aplicar y demostrar conocimientos en técnicas de regresión lineal univariable y multivariable utilizando un dataset de datos socioeconómicos y demográficos de la República Argentina, desagregado por provincia. Este estudio busca explorar la relación entre distintas variables económicas y sociales —tales como nivel de ingreso promedio, tasa de desempleo, nivel educativo y densidad poblacional— y su impacto sobre una variable dependiente seleccionada.\n",
    "#### La regresión lineal, como técnica fundamental dentro del aprendizaje supervisado, permite modelar relaciones entre variables independientes (predictoras) y una variable dependiente (respuesta) bajo el supuesto de linealidad."
   ]
  },
  {
   "cell_type": "markdown",
   "id": "c939df5b-606d-47b0-8d49-8465b18f18bc",
   "metadata": {},
   "source": [
    "## <div style = 'background-color:Orange'> <center><font color='white'>① Analisis exploratorio de los datos (EDA) </font></div>\n",
    "Para comenzar, se examina la estructura del dataset y se describen las variables disponibles.  \n",
    "- Conocer la cantidad de registros y variables.  \n",
    "- Identificar valores nulos o duplicados.  \n",
    "- Revisar tipos de datos.  \n",
    "- Obtener estadísticas descriptivas básicas.  \n",
    "- Visualizar relaciones entre las variables mediante gráficos."
   ]
  },
  {
   "cell_type": "code",
   "execution_count": 1,
   "id": "e2c6cf16",
   "metadata": {
    "scrolled": true
   },
   "outputs": [
    {
     "data": {
      "text/html": [
       "<div>\n",
       "<style scoped>\n",
       "    .dataframe tbody tr th:only-of-type {\n",
       "        vertical-align: middle;\n",
       "    }\n",
       "\n",
       "    .dataframe tbody tr th {\n",
       "        vertical-align: top;\n",
       "    }\n",
       "\n",
       "    .dataframe thead th {\n",
       "        text-align: right;\n",
       "    }\n",
       "</style>\n",
       "<table border=\"1\" class=\"dataframe\">\n",
       "  <thead>\n",
       "    <tr style=\"text-align: right;\">\n",
       "      <th></th>\n",
       "      <th>Provincia</th>\n",
       "      <th>PBI</th>\n",
       "      <th>Analfabetismo</th>\n",
       "      <th>Pobreza</th>\n",
       "      <th>Falta de infraestructura</th>\n",
       "      <th>Desercion escolar</th>\n",
       "      <th>Sin atencion medica</th>\n",
       "      <th>Mortalidad al nacer</th>\n",
       "      <th>Poblacion</th>\n",
       "      <th>Cines por persona</th>\n",
       "      <th>Doctores por persona</th>\n",
       "    </tr>\n",
       "  </thead>\n",
       "  <tbody>\n",
       "    <tr>\n",
       "      <th>0</th>\n",
       "      <td>Buenos Aires</td>\n",
       "      <td>2.926899e+08</td>\n",
       "      <td>1.383240</td>\n",
       "      <td>8.167798</td>\n",
       "      <td>5.511856</td>\n",
       "      <td>0.766168</td>\n",
       "      <td>48.7947</td>\n",
       "      <td>4.4</td>\n",
       "      <td>15625084</td>\n",
       "      <td>0.000006</td>\n",
       "      <td>0.004836</td>\n",
       "    </tr>\n",
       "    <tr>\n",
       "      <th>1</th>\n",
       "      <td>Catamarca</td>\n",
       "      <td>6.150949e+06</td>\n",
       "      <td>2.344140</td>\n",
       "      <td>9.234095</td>\n",
       "      <td>10.464484</td>\n",
       "      <td>0.951963</td>\n",
       "      <td>45.0456</td>\n",
       "      <td>1.5</td>\n",
       "      <td>367828</td>\n",
       "      <td>0.000005</td>\n",
       "      <td>0.004502</td>\n",
       "    </tr>\n",
       "    <tr>\n",
       "      <th>2</th>\n",
       "      <td>Córdoba</td>\n",
       "      <td>6.936374e+07</td>\n",
       "      <td>2.714140</td>\n",
       "      <td>5.382380</td>\n",
       "      <td>10.436086</td>\n",
       "      <td>1.035056</td>\n",
       "      <td>45.7640</td>\n",
       "      <td>4.8</td>\n",
       "      <td>3308876</td>\n",
       "      <td>0.000011</td>\n",
       "      <td>0.010175</td>\n",
       "    </tr>\n",
       "    <tr>\n",
       "      <th>3</th>\n",
       "      <td>Corrientes</td>\n",
       "      <td>7.968013e+06</td>\n",
       "      <td>5.602420</td>\n",
       "      <td>12.747191</td>\n",
       "      <td>17.438858</td>\n",
       "      <td>3.864265</td>\n",
       "      <td>62.1103</td>\n",
       "      <td>5.9</td>\n",
       "      <td>992595</td>\n",
       "      <td>0.000004</td>\n",
       "      <td>0.004495</td>\n",
       "    </tr>\n",
       "    <tr>\n",
       "      <th>4</th>\n",
       "      <td>Chaco</td>\n",
       "      <td>9.832643e+06</td>\n",
       "      <td>7.517580</td>\n",
       "      <td>15.862619</td>\n",
       "      <td>31.479527</td>\n",
       "      <td>2.577462</td>\n",
       "      <td>65.5104</td>\n",
       "      <td>7.5</td>\n",
       "      <td>1055259</td>\n",
       "      <td>0.000003</td>\n",
       "      <td>0.003605</td>\n",
       "    </tr>\n",
       "    <tr>\n",
       "      <th>5</th>\n",
       "      <td>Chubut</td>\n",
       "      <td>1.774785e+07</td>\n",
       "      <td>1.548060</td>\n",
       "      <td>8.051752</td>\n",
       "      <td>8.044618</td>\n",
       "      <td>0.586309</td>\n",
       "      <td>39.5473</td>\n",
       "      <td>3.0</td>\n",
       "      <td>509108</td>\n",
       "      <td>0.000016</td>\n",
       "      <td>0.004498</td>\n",
       "    </tr>\n",
       "    <tr>\n",
       "      <th>6</th>\n",
       "      <td>Entre Ríos</td>\n",
       "      <td>2.074341e+07</td>\n",
       "      <td>3.185580</td>\n",
       "      <td>7.288751</td>\n",
       "      <td>18.794568</td>\n",
       "      <td>1.887188</td>\n",
       "      <td>48.6571</td>\n",
       "      <td>3.1</td>\n",
       "      <td>1235994</td>\n",
       "      <td>0.000006</td>\n",
       "      <td>0.004679</td>\n",
       "    </tr>\n",
       "    <tr>\n",
       "      <th>7</th>\n",
       "      <td>Formosa</td>\n",
       "      <td>3.807057e+06</td>\n",
       "      <td>4.610640</td>\n",
       "      <td>17.035583</td>\n",
       "      <td>28.004985</td>\n",
       "      <td>2.268974</td>\n",
       "      <td>65.8126</td>\n",
       "      <td>16.2</td>\n",
       "      <td>530162</td>\n",
       "      <td>0.000004</td>\n",
       "      <td>0.003440</td>\n",
       "    </tr>\n",
       "    <tr>\n",
       "      <th>8</th>\n",
       "      <td>Jujuy</td>\n",
       "      <td>6.484938e+06</td>\n",
       "      <td>2.151390</td>\n",
       "      <td>13.367965</td>\n",
       "      <td>12.483179</td>\n",
       "      <td>0.721295</td>\n",
       "      <td>54.1615</td>\n",
       "      <td>3.7</td>\n",
       "      <td>673307</td>\n",
       "      <td>0.000003</td>\n",
       "      <td>0.003958</td>\n",
       "    </tr>\n",
       "    <tr>\n",
       "      <th>9</th>\n",
       "      <td>La Pampa</td>\n",
       "      <td>6.990262e+06</td>\n",
       "      <td>1.539300</td>\n",
       "      <td>3.398774</td>\n",
       "      <td>16.505714</td>\n",
       "      <td>0.204093</td>\n",
       "      <td>45.4764</td>\n",
       "      <td>7.2</td>\n",
       "      <td>318951</td>\n",
       "      <td>0.000019</td>\n",
       "      <td>0.005415</td>\n",
       "    </tr>\n",
       "    <tr>\n",
       "      <th>10</th>\n",
       "      <td>La Rioja</td>\n",
       "      <td>5.590516e+06</td>\n",
       "      <td>2.773210</td>\n",
       "      <td>10.875152</td>\n",
       "      <td>7.403254</td>\n",
       "      <td>3.844949</td>\n",
       "      <td>40.8341</td>\n",
       "      <td>11.4</td>\n",
       "      <td>333642</td>\n",
       "      <td>0.000012</td>\n",
       "      <td>0.005092</td>\n",
       "    </tr>\n",
       "    <tr>\n",
       "      <th>11</th>\n",
       "      <td>Mendoza</td>\n",
       "      <td>3.343137e+07</td>\n",
       "      <td>2.200200</td>\n",
       "      <td>5.692798</td>\n",
       "      <td>3.839852</td>\n",
       "      <td>1.063718</td>\n",
       "      <td>50.5843</td>\n",
       "      <td>4.4</td>\n",
       "      <td>1738929</td>\n",
       "      <td>0.000008</td>\n",
       "      <td>0.005720</td>\n",
       "    </tr>\n",
       "    <tr>\n",
       "      <th>12</th>\n",
       "      <td>Misiones</td>\n",
       "      <td>9.646826e+06</td>\n",
       "      <td>6.863950</td>\n",
       "      <td>13.529788</td>\n",
       "      <td>8.325740</td>\n",
       "      <td>3.129124</td>\n",
       "      <td>57.8339</td>\n",
       "      <td>8.1</td>\n",
       "      <td>1101593</td>\n",
       "      <td>0.000002</td>\n",
       "      <td>0.002880</td>\n",
       "    </tr>\n",
       "    <tr>\n",
       "      <th>13</th>\n",
       "      <td>Neuquén</td>\n",
       "      <td>2.256411e+07</td>\n",
       "      <td>1.943750</td>\n",
       "      <td>9.456635</td>\n",
       "      <td>11.267278</td>\n",
       "      <td>1.393504</td>\n",
       "      <td>48.7431</td>\n",
       "      <td>3.3</td>\n",
       "      <td>551266</td>\n",
       "      <td>0.000009</td>\n",
       "      <td>0.005067</td>\n",
       "    </tr>\n",
       "    <tr>\n",
       "      <th>14</th>\n",
       "      <td>Río Negro</td>\n",
       "      <td>1.026458e+07</td>\n",
       "      <td>2.031420</td>\n",
       "      <td>8.678391</td>\n",
       "      <td>14.885444</td>\n",
       "      <td>0.408042</td>\n",
       "      <td>49.9463</td>\n",
       "      <td>0.8</td>\n",
       "      <td>638645</td>\n",
       "      <td>0.000009</td>\n",
       "      <td>0.004898</td>\n",
       "    </tr>\n",
       "    <tr>\n",
       "      <th>15</th>\n",
       "      <td>Salta</td>\n",
       "      <td>1.343883e+07</td>\n",
       "      <td>3.346090</td>\n",
       "      <td>16.870500</td>\n",
       "      <td>14.182303</td>\n",
       "      <td>1.482030</td>\n",
       "      <td>60.4230</td>\n",
       "      <td>5.8</td>\n",
       "      <td>1214441</td>\n",
       "      <td>0.000004</td>\n",
       "      <td>0.003991</td>\n",
       "    </tr>\n",
       "    <tr>\n",
       "      <th>16</th>\n",
       "      <td>San Juan</td>\n",
       "      <td>8.262309e+06</td>\n",
       "      <td>2.963260</td>\n",
       "      <td>9.050784</td>\n",
       "      <td>3.914390</td>\n",
       "      <td>3.298413</td>\n",
       "      <td>52.9684</td>\n",
       "      <td>4.2</td>\n",
       "      <td>681055</td>\n",
       "      <td>0.000006</td>\n",
       "      <td>0.005044</td>\n",
       "    </tr>\n",
       "    <tr>\n",
       "      <th>17</th>\n",
       "      <td>San Luis</td>\n",
       "      <td>1.178085e+07</td>\n",
       "      <td>3.433650</td>\n",
       "      <td>6.593771</td>\n",
       "      <td>9.679894</td>\n",
       "      <td>2.000172</td>\n",
       "      <td>51.6154</td>\n",
       "      <td>3.8</td>\n",
       "      <td>432310</td>\n",
       "      <td>0.000005</td>\n",
       "      <td>0.006102</td>\n",
       "    </tr>\n",
       "    <tr>\n",
       "      <th>18</th>\n",
       "      <td>Santa Cruz</td>\n",
       "      <td>1.166374e+07</td>\n",
       "      <td>0.791485</td>\n",
       "      <td>8.024762</td>\n",
       "      <td>7.411364</td>\n",
       "      <td>0.289262</td>\n",
       "      <td>29.2321</td>\n",
       "      <td>3.3</td>\n",
       "      <td>273964</td>\n",
       "      <td>0.000011</td>\n",
       "      <td>0.004271</td>\n",
       "    </tr>\n",
       "    <tr>\n",
       "      <th>19</th>\n",
       "      <td>Santa Fe</td>\n",
       "      <td>8.158869e+07</td>\n",
       "      <td>1.975940</td>\n",
       "      <td>6.081012</td>\n",
       "      <td>11.869195</td>\n",
       "      <td>2.872181</td>\n",
       "      <td>41.9660</td>\n",
       "      <td>2.6</td>\n",
       "      <td>3194537</td>\n",
       "      <td>0.000007</td>\n",
       "      <td>0.006672</td>\n",
       "    </tr>\n",
       "    <tr>\n",
       "      <th>20</th>\n",
       "      <td>Santiago del Estero</td>\n",
       "      <td>8.387859e+06</td>\n",
       "      <td>6.272090</td>\n",
       "      <td>11.759000</td>\n",
       "      <td>20.491433</td>\n",
       "      <td>2.325598</td>\n",
       "      <td>63.6637</td>\n",
       "      <td>1.7</td>\n",
       "      <td>874006</td>\n",
       "      <td>0.000003</td>\n",
       "      <td>0.002821</td>\n",
       "    </tr>\n",
       "    <tr>\n",
       "      <th>21</th>\n",
       "      <td>Tucumán</td>\n",
       "      <td>1.385620e+07</td>\n",
       "      <td>3.770370</td>\n",
       "      <td>11.214239</td>\n",
       "      <td>6.466665</td>\n",
       "      <td>0.977285</td>\n",
       "      <td>48.2242</td>\n",
       "      <td>3.0</td>\n",
       "      <td>1448188</td>\n",
       "      <td>0.000005</td>\n",
       "      <td>0.005501</td>\n",
       "    </tr>\n",
       "  </tbody>\n",
       "</table>\n",
       "</div>"
      ],
      "text/plain": [
       "              Provincia           PBI  Analfabetismo    Pobreza  \\\n",
       "0          Buenos Aires  2.926899e+08       1.383240   8.167798   \n",
       "1             Catamarca  6.150949e+06       2.344140   9.234095   \n",
       "2               Córdoba  6.936374e+07       2.714140   5.382380   \n",
       "3            Corrientes  7.968013e+06       5.602420  12.747191   \n",
       "4                 Chaco  9.832643e+06       7.517580  15.862619   \n",
       "5                Chubut  1.774785e+07       1.548060   8.051752   \n",
       "6            Entre Ríos  2.074341e+07       3.185580   7.288751   \n",
       "7               Formosa  3.807057e+06       4.610640  17.035583   \n",
       "8                 Jujuy  6.484938e+06       2.151390  13.367965   \n",
       "9              La Pampa  6.990262e+06       1.539300   3.398774   \n",
       "10             La Rioja  5.590516e+06       2.773210  10.875152   \n",
       "11              Mendoza  3.343137e+07       2.200200   5.692798   \n",
       "12             Misiones  9.646826e+06       6.863950  13.529788   \n",
       "13              Neuquén  2.256411e+07       1.943750   9.456635   \n",
       "14            Río Negro  1.026458e+07       2.031420   8.678391   \n",
       "15                Salta  1.343883e+07       3.346090  16.870500   \n",
       "16             San Juan  8.262309e+06       2.963260   9.050784   \n",
       "17             San Luis  1.178085e+07       3.433650   6.593771   \n",
       "18           Santa Cruz  1.166374e+07       0.791485   8.024762   \n",
       "19             Santa Fe  8.158869e+07       1.975940   6.081012   \n",
       "20  Santiago del Estero  8.387859e+06       6.272090  11.759000   \n",
       "21              Tucumán  1.385620e+07       3.770370  11.214239   \n",
       "\n",
       "    Falta de infraestructura  Desercion escolar  Sin atencion medica  \\\n",
       "0                   5.511856           0.766168              48.7947   \n",
       "1                  10.464484           0.951963              45.0456   \n",
       "2                  10.436086           1.035056              45.7640   \n",
       "3                  17.438858           3.864265              62.1103   \n",
       "4                  31.479527           2.577462              65.5104   \n",
       "5                   8.044618           0.586309              39.5473   \n",
       "6                  18.794568           1.887188              48.6571   \n",
       "7                  28.004985           2.268974              65.8126   \n",
       "8                  12.483179           0.721295              54.1615   \n",
       "9                  16.505714           0.204093              45.4764   \n",
       "10                  7.403254           3.844949              40.8341   \n",
       "11                  3.839852           1.063718              50.5843   \n",
       "12                  8.325740           3.129124              57.8339   \n",
       "13                 11.267278           1.393504              48.7431   \n",
       "14                 14.885444           0.408042              49.9463   \n",
       "15                 14.182303           1.482030              60.4230   \n",
       "16                  3.914390           3.298413              52.9684   \n",
       "17                  9.679894           2.000172              51.6154   \n",
       "18                  7.411364           0.289262              29.2321   \n",
       "19                 11.869195           2.872181              41.9660   \n",
       "20                 20.491433           2.325598              63.6637   \n",
       "21                  6.466665           0.977285              48.2242   \n",
       "\n",
       "    Mortalidad al nacer  Poblacion  Cines por persona  Doctores por persona  \n",
       "0                   4.4   15625084           0.000006              0.004836  \n",
       "1                   1.5     367828           0.000005              0.004502  \n",
       "2                   4.8    3308876           0.000011              0.010175  \n",
       "3                   5.9     992595           0.000004              0.004495  \n",
       "4                   7.5    1055259           0.000003              0.003605  \n",
       "5                   3.0     509108           0.000016              0.004498  \n",
       "6                   3.1    1235994           0.000006              0.004679  \n",
       "7                  16.2     530162           0.000004              0.003440  \n",
       "8                   3.7     673307           0.000003              0.003958  \n",
       "9                   7.2     318951           0.000019              0.005415  \n",
       "10                 11.4     333642           0.000012              0.005092  \n",
       "11                  4.4    1738929           0.000008              0.005720  \n",
       "12                  8.1    1101593           0.000002              0.002880  \n",
       "13                  3.3     551266           0.000009              0.005067  \n",
       "14                  0.8     638645           0.000009              0.004898  \n",
       "15                  5.8    1214441           0.000004              0.003991  \n",
       "16                  4.2     681055           0.000006              0.005044  \n",
       "17                  3.8     432310           0.000005              0.006102  \n",
       "18                  3.3     273964           0.000011              0.004271  \n",
       "19                  2.6    3194537           0.000007              0.006672  \n",
       "20                  1.7     874006           0.000003              0.002821  \n",
       "21                  3.0    1448188           0.000005              0.005501  "
      ]
     },
     "execution_count": 1,
     "metadata": {},
     "output_type": "execute_result"
    }
   ],
   "source": [
    "import numpy as np   # Importamos librerias de calculo\n",
    "import pandas as pd  # Importamos librerias de uso de tablas o dataframes\n",
    "import sklearn\n",
    "\n",
    "df = pd.read_csv(\"Analisis_Argentina.csv\")  # Leer el archivo\n",
    "df\n",
    "headers = [\"Provincia\", \"PBI\",\"Analfabetismo\", \"Pobreza\", \"Falta de infraestructura\", \"Desercion escolar\", \"Sin atencion medica\", \"Mortalidad al nacer\", \"Poblacion\", \"Cines por persona\", \"Doctores por persona\"]\n",
    "df.columns = headers # Cambiar los headers por los nombres de columna para ser mas descriptivos\n",
    "df\n"
   ]
  },
  {
   "cell_type": "code",
   "execution_count": 2,
   "id": "9d984d98",
   "metadata": {
    "scrolled": true
   },
   "outputs": [
    {
     "data": {
      "text/html": [
       "<div>\n",
       "<style scoped>\n",
       "    .dataframe tbody tr th:only-of-type {\n",
       "        vertical-align: middle;\n",
       "    }\n",
       "\n",
       "    .dataframe tbody tr th {\n",
       "        vertical-align: top;\n",
       "    }\n",
       "\n",
       "    .dataframe thead th {\n",
       "        text-align: right;\n",
       "    }\n",
       "</style>\n",
       "<table border=\"1\" class=\"dataframe\">\n",
       "  <thead>\n",
       "    <tr style=\"text-align: right;\">\n",
       "      <th></th>\n",
       "      <th>PBI</th>\n",
       "      <th>Analfabetismo</th>\n",
       "      <th>Pobreza</th>\n",
       "      <th>Falta de infraestructura</th>\n",
       "      <th>Desercion escolar</th>\n",
       "      <th>Sin atencion medica</th>\n",
       "      <th>Mortalidad al nacer</th>\n",
       "      <th>Poblacion</th>\n",
       "      <th>Cines por persona</th>\n",
       "      <th>Doctores por persona</th>\n",
       "    </tr>\n",
       "  </thead>\n",
       "  <tbody>\n",
       "    <tr>\n",
       "      <th>count</th>\n",
       "      <td>2.200000e+01</td>\n",
       "      <td>22.000000</td>\n",
       "      <td>22.000000</td>\n",
       "      <td>22.000000</td>\n",
       "      <td>22.000000</td>\n",
       "      <td>22.000000</td>\n",
       "      <td>22.000000</td>\n",
       "      <td>2.200000e+01</td>\n",
       "      <td>22.000000</td>\n",
       "      <td>22.000000</td>\n",
       "    </tr>\n",
       "    <tr>\n",
       "      <th>mean</th>\n",
       "      <td>3.055703e+07</td>\n",
       "      <td>3.225541</td>\n",
       "      <td>9.925625</td>\n",
       "      <td>12.677304</td>\n",
       "      <td>1.724866</td>\n",
       "      <td>50.768836</td>\n",
       "      <td>4.986364</td>\n",
       "      <td>1.686352e+06</td>\n",
       "      <td>0.000007</td>\n",
       "      <td>0.004894</td>\n",
       "    </tr>\n",
       "    <tr>\n",
       "      <th>std</th>\n",
       "      <td>6.183100e+07</td>\n",
       "      <td>1.851496</td>\n",
       "      <td>3.779530</td>\n",
       "      <td>7.216860</td>\n",
       "      <td>1.152438</td>\n",
       "      <td>9.181037</td>\n",
       "      <td>3.498339</td>\n",
       "      <td>3.219828e+06</td>\n",
       "      <td>0.000004</td>\n",
       "      <td>0.001522</td>\n",
       "    </tr>\n",
       "    <tr>\n",
       "      <th>min</th>\n",
       "      <td>3.807057e+06</td>\n",
       "      <td>0.791485</td>\n",
       "      <td>3.398774</td>\n",
       "      <td>3.839852</td>\n",
       "      <td>0.204093</td>\n",
       "      <td>29.232100</td>\n",
       "      <td>0.800000</td>\n",
       "      <td>2.739640e+05</td>\n",
       "      <td>0.000002</td>\n",
       "      <td>0.002821</td>\n",
       "    </tr>\n",
       "    <tr>\n",
       "      <th>25%</th>\n",
       "      <td>8.041587e+06</td>\n",
       "      <td>1.989810</td>\n",
       "      <td>7.472754</td>\n",
       "      <td>7.569677</td>\n",
       "      <td>0.812617</td>\n",
       "      <td>45.548300</td>\n",
       "      <td>3.025000</td>\n",
       "      <td>5.143715e+05</td>\n",
       "      <td>0.000004</td>\n",
       "      <td>0.004061</td>\n",
       "    </tr>\n",
       "    <tr>\n",
       "      <th>50%</th>\n",
       "      <td>1.096416e+07</td>\n",
       "      <td>2.743675</td>\n",
       "      <td>9.142440</td>\n",
       "      <td>10.865881</td>\n",
       "      <td>1.437767</td>\n",
       "      <td>49.370500</td>\n",
       "      <td>4.000000</td>\n",
       "      <td>7.775305e+05</td>\n",
       "      <td>0.000006</td>\n",
       "      <td>0.004757</td>\n",
       "    </tr>\n",
       "    <tr>\n",
       "      <th>75%</th>\n",
       "      <td>1.999452e+07</td>\n",
       "      <td>3.686190</td>\n",
       "      <td>12.500143</td>\n",
       "      <td>16.100647</td>\n",
       "      <td>2.514496</td>\n",
       "      <td>56.915800</td>\n",
       "      <td>5.875000</td>\n",
       "      <td>1.230606e+06</td>\n",
       "      <td>0.000009</td>\n",
       "      <td>0.005334</td>\n",
       "    </tr>\n",
       "    <tr>\n",
       "      <th>max</th>\n",
       "      <td>2.926899e+08</td>\n",
       "      <td>7.517580</td>\n",
       "      <td>17.035583</td>\n",
       "      <td>31.479527</td>\n",
       "      <td>3.864265</td>\n",
       "      <td>65.812600</td>\n",
       "      <td>16.200000</td>\n",
       "      <td>1.562508e+07</td>\n",
       "      <td>0.000019</td>\n",
       "      <td>0.010175</td>\n",
       "    </tr>\n",
       "  </tbody>\n",
       "</table>\n",
       "</div>"
      ],
      "text/plain": [
       "                PBI  Analfabetismo    Pobreza  Falta de infraestructura  \\\n",
       "count  2.200000e+01      22.000000  22.000000                 22.000000   \n",
       "mean   3.055703e+07       3.225541   9.925625                 12.677304   \n",
       "std    6.183100e+07       1.851496   3.779530                  7.216860   \n",
       "min    3.807057e+06       0.791485   3.398774                  3.839852   \n",
       "25%    8.041587e+06       1.989810   7.472754                  7.569677   \n",
       "50%    1.096416e+07       2.743675   9.142440                 10.865881   \n",
       "75%    1.999452e+07       3.686190  12.500143                 16.100647   \n",
       "max    2.926899e+08       7.517580  17.035583                 31.479527   \n",
       "\n",
       "       Desercion escolar  Sin atencion medica  Mortalidad al nacer  \\\n",
       "count          22.000000            22.000000            22.000000   \n",
       "mean            1.724866            50.768836             4.986364   \n",
       "std             1.152438             9.181037             3.498339   \n",
       "min             0.204093            29.232100             0.800000   \n",
       "25%             0.812617            45.548300             3.025000   \n",
       "50%             1.437767            49.370500             4.000000   \n",
       "75%             2.514496            56.915800             5.875000   \n",
       "max             3.864265            65.812600            16.200000   \n",
       "\n",
       "          Poblacion  Cines por persona  Doctores por persona  \n",
       "count  2.200000e+01          22.000000             22.000000  \n",
       "mean   1.686352e+06           0.000007              0.004894  \n",
       "std    3.219828e+06           0.000004              0.001522  \n",
       "min    2.739640e+05           0.000002              0.002821  \n",
       "25%    5.143715e+05           0.000004              0.004061  \n",
       "50%    7.775305e+05           0.000006              0.004757  \n",
       "75%    1.230606e+06           0.000009              0.005334  \n",
       "max    1.562508e+07           0.000019              0.010175  "
      ]
     },
     "execution_count": 2,
     "metadata": {},
     "output_type": "execute_result"
    }
   ],
   "source": [
    "df.describe()         # Muestra estadistica basica del dataframe"
   ]
  },
  {
   "cell_type": "code",
   "execution_count": 3,
   "id": "8bb6e02f-6ecc-43ce-b355-caeba25eb69d",
   "metadata": {},
   "outputs": [
    {
     "data": {
      "text/plain": [
       "Provincia                   0\n",
       "PBI                         0\n",
       "Analfabetismo               0\n",
       "Pobreza                     0\n",
       "Falta de infraestructura    0\n",
       "Desercion escolar           0\n",
       "Sin atencion medica         0\n",
       "Mortalidad al nacer         0\n",
       "Poblacion                   0\n",
       "Cines por persona           0\n",
       "Doctores por persona        0\n",
       "dtype: int64"
      ]
     },
     "execution_count": 3,
     "metadata": {},
     "output_type": "execute_result"
    }
   ],
   "source": [
    "df.isnull().sum() # Chequeo de valores nulos."
   ]
  },
  {
   "cell_type": "code",
   "execution_count": 4,
   "id": "b5f60f2d",
   "metadata": {
    "scrolled": true
   },
   "outputs": [
    {
     "data": {
      "text/html": [
       "<div>\n",
       "<style scoped>\n",
       "    .dataframe tbody tr th:only-of-type {\n",
       "        vertical-align: middle;\n",
       "    }\n",
       "\n",
       "    .dataframe tbody tr th {\n",
       "        vertical-align: top;\n",
       "    }\n",
       "\n",
       "    .dataframe thead th {\n",
       "        text-align: right;\n",
       "    }\n",
       "</style>\n",
       "<table border=\"1\" class=\"dataframe\">\n",
       "  <thead>\n",
       "    <tr style=\"text-align: right;\">\n",
       "      <th></th>\n",
       "      <th>Provincia</th>\n",
       "      <th>PBI</th>\n",
       "      <th>Analfabetismo</th>\n",
       "      <th>Pobreza</th>\n",
       "      <th>Falta de infraestructura</th>\n",
       "      <th>Desercion escolar</th>\n",
       "      <th>Sin atencion medica</th>\n",
       "      <th>Mortalidad al nacer</th>\n",
       "      <th>Poblacion</th>\n",
       "      <th>Cines por persona</th>\n",
       "      <th>Doctores por persona</th>\n",
       "    </tr>\n",
       "  </thead>\n",
       "  <tbody>\n",
       "    <tr>\n",
       "      <th>0</th>\n",
       "      <td>Buenos Aires</td>\n",
       "      <td>2.926899e+08</td>\n",
       "      <td>1.383240</td>\n",
       "      <td>8.167798</td>\n",
       "      <td>5.511856</td>\n",
       "      <td>0.766168</td>\n",
       "      <td>48.7947</td>\n",
       "      <td>4.4</td>\n",
       "      <td>15625084</td>\n",
       "      <td>0.000006</td>\n",
       "      <td>0.004836</td>\n",
       "    </tr>\n",
       "    <tr>\n",
       "      <th>1</th>\n",
       "      <td>Catamarca</td>\n",
       "      <td>6.150949e+06</td>\n",
       "      <td>2.344140</td>\n",
       "      <td>9.234095</td>\n",
       "      <td>10.464484</td>\n",
       "      <td>0.951963</td>\n",
       "      <td>45.0456</td>\n",
       "      <td>1.5</td>\n",
       "      <td>367828</td>\n",
       "      <td>0.000005</td>\n",
       "      <td>0.004502</td>\n",
       "    </tr>\n",
       "    <tr>\n",
       "      <th>2</th>\n",
       "      <td>Córdoba</td>\n",
       "      <td>6.936374e+07</td>\n",
       "      <td>2.714140</td>\n",
       "      <td>5.382380</td>\n",
       "      <td>10.436086</td>\n",
       "      <td>1.035056</td>\n",
       "      <td>45.7640</td>\n",
       "      <td>4.8</td>\n",
       "      <td>3308876</td>\n",
       "      <td>0.000011</td>\n",
       "      <td>0.010175</td>\n",
       "    </tr>\n",
       "    <tr>\n",
       "      <th>3</th>\n",
       "      <td>Corrientes</td>\n",
       "      <td>7.968013e+06</td>\n",
       "      <td>5.602420</td>\n",
       "      <td>12.747191</td>\n",
       "      <td>17.438858</td>\n",
       "      <td>3.864265</td>\n",
       "      <td>62.1103</td>\n",
       "      <td>5.9</td>\n",
       "      <td>992595</td>\n",
       "      <td>0.000004</td>\n",
       "      <td>0.004495</td>\n",
       "    </tr>\n",
       "    <tr>\n",
       "      <th>4</th>\n",
       "      <td>Chaco</td>\n",
       "      <td>9.832643e+06</td>\n",
       "      <td>7.517580</td>\n",
       "      <td>15.862619</td>\n",
       "      <td>31.479527</td>\n",
       "      <td>2.577462</td>\n",
       "      <td>65.5104</td>\n",
       "      <td>7.5</td>\n",
       "      <td>1055259</td>\n",
       "      <td>0.000003</td>\n",
       "      <td>0.003605</td>\n",
       "    </tr>\n",
       "    <tr>\n",
       "      <th>5</th>\n",
       "      <td>Chubut</td>\n",
       "      <td>1.774785e+07</td>\n",
       "      <td>1.548060</td>\n",
       "      <td>8.051752</td>\n",
       "      <td>8.044618</td>\n",
       "      <td>0.586309</td>\n",
       "      <td>39.5473</td>\n",
       "      <td>3.0</td>\n",
       "      <td>509108</td>\n",
       "      <td>0.000016</td>\n",
       "      <td>0.004498</td>\n",
       "    </tr>\n",
       "    <tr>\n",
       "      <th>6</th>\n",
       "      <td>Entre Ríos</td>\n",
       "      <td>2.074341e+07</td>\n",
       "      <td>3.185580</td>\n",
       "      <td>7.288751</td>\n",
       "      <td>18.794568</td>\n",
       "      <td>1.887188</td>\n",
       "      <td>48.6571</td>\n",
       "      <td>3.1</td>\n",
       "      <td>1235994</td>\n",
       "      <td>0.000006</td>\n",
       "      <td>0.004679</td>\n",
       "    </tr>\n",
       "    <tr>\n",
       "      <th>7</th>\n",
       "      <td>Formosa</td>\n",
       "      <td>3.807057e+06</td>\n",
       "      <td>4.610640</td>\n",
       "      <td>17.035583</td>\n",
       "      <td>28.004985</td>\n",
       "      <td>2.268974</td>\n",
       "      <td>65.8126</td>\n",
       "      <td>16.2</td>\n",
       "      <td>530162</td>\n",
       "      <td>0.000004</td>\n",
       "      <td>0.003440</td>\n",
       "    </tr>\n",
       "    <tr>\n",
       "      <th>8</th>\n",
       "      <td>Jujuy</td>\n",
       "      <td>6.484938e+06</td>\n",
       "      <td>2.151390</td>\n",
       "      <td>13.367965</td>\n",
       "      <td>12.483179</td>\n",
       "      <td>0.721295</td>\n",
       "      <td>54.1615</td>\n",
       "      <td>3.7</td>\n",
       "      <td>673307</td>\n",
       "      <td>0.000003</td>\n",
       "      <td>0.003958</td>\n",
       "    </tr>\n",
       "    <tr>\n",
       "      <th>9</th>\n",
       "      <td>La Pampa</td>\n",
       "      <td>6.990262e+06</td>\n",
       "      <td>1.539300</td>\n",
       "      <td>3.398774</td>\n",
       "      <td>16.505714</td>\n",
       "      <td>0.204093</td>\n",
       "      <td>45.4764</td>\n",
       "      <td>7.2</td>\n",
       "      <td>318951</td>\n",
       "      <td>0.000019</td>\n",
       "      <td>0.005415</td>\n",
       "    </tr>\n",
       "    <tr>\n",
       "      <th>10</th>\n",
       "      <td>La Rioja</td>\n",
       "      <td>5.590516e+06</td>\n",
       "      <td>2.773210</td>\n",
       "      <td>10.875152</td>\n",
       "      <td>7.403254</td>\n",
       "      <td>3.844949</td>\n",
       "      <td>40.8341</td>\n",
       "      <td>11.4</td>\n",
       "      <td>333642</td>\n",
       "      <td>0.000012</td>\n",
       "      <td>0.005092</td>\n",
       "    </tr>\n",
       "    <tr>\n",
       "      <th>11</th>\n",
       "      <td>Mendoza</td>\n",
       "      <td>3.343137e+07</td>\n",
       "      <td>2.200200</td>\n",
       "      <td>5.692798</td>\n",
       "      <td>3.839852</td>\n",
       "      <td>1.063718</td>\n",
       "      <td>50.5843</td>\n",
       "      <td>4.4</td>\n",
       "      <td>1738929</td>\n",
       "      <td>0.000008</td>\n",
       "      <td>0.005720</td>\n",
       "    </tr>\n",
       "    <tr>\n",
       "      <th>12</th>\n",
       "      <td>Misiones</td>\n",
       "      <td>9.646826e+06</td>\n",
       "      <td>6.863950</td>\n",
       "      <td>13.529788</td>\n",
       "      <td>8.325740</td>\n",
       "      <td>3.129124</td>\n",
       "      <td>57.8339</td>\n",
       "      <td>8.1</td>\n",
       "      <td>1101593</td>\n",
       "      <td>0.000002</td>\n",
       "      <td>0.002880</td>\n",
       "    </tr>\n",
       "    <tr>\n",
       "      <th>13</th>\n",
       "      <td>Neuquén</td>\n",
       "      <td>2.256411e+07</td>\n",
       "      <td>1.943750</td>\n",
       "      <td>9.456635</td>\n",
       "      <td>11.267278</td>\n",
       "      <td>1.393504</td>\n",
       "      <td>48.7431</td>\n",
       "      <td>3.3</td>\n",
       "      <td>551266</td>\n",
       "      <td>0.000009</td>\n",
       "      <td>0.005067</td>\n",
       "    </tr>\n",
       "    <tr>\n",
       "      <th>14</th>\n",
       "      <td>Río Negro</td>\n",
       "      <td>1.026458e+07</td>\n",
       "      <td>2.031420</td>\n",
       "      <td>8.678391</td>\n",
       "      <td>14.885444</td>\n",
       "      <td>0.408042</td>\n",
       "      <td>49.9463</td>\n",
       "      <td>0.8</td>\n",
       "      <td>638645</td>\n",
       "      <td>0.000009</td>\n",
       "      <td>0.004898</td>\n",
       "    </tr>\n",
       "    <tr>\n",
       "      <th>15</th>\n",
       "      <td>Salta</td>\n",
       "      <td>1.343883e+07</td>\n",
       "      <td>3.346090</td>\n",
       "      <td>16.870500</td>\n",
       "      <td>14.182303</td>\n",
       "      <td>1.482030</td>\n",
       "      <td>60.4230</td>\n",
       "      <td>5.8</td>\n",
       "      <td>1214441</td>\n",
       "      <td>0.000004</td>\n",
       "      <td>0.003991</td>\n",
       "    </tr>\n",
       "    <tr>\n",
       "      <th>16</th>\n",
       "      <td>San Juan</td>\n",
       "      <td>8.262309e+06</td>\n",
       "      <td>2.963260</td>\n",
       "      <td>9.050784</td>\n",
       "      <td>3.914390</td>\n",
       "      <td>3.298413</td>\n",
       "      <td>52.9684</td>\n",
       "      <td>4.2</td>\n",
       "      <td>681055</td>\n",
       "      <td>0.000006</td>\n",
       "      <td>0.005044</td>\n",
       "    </tr>\n",
       "    <tr>\n",
       "      <th>17</th>\n",
       "      <td>San Luis</td>\n",
       "      <td>1.178085e+07</td>\n",
       "      <td>3.433650</td>\n",
       "      <td>6.593771</td>\n",
       "      <td>9.679894</td>\n",
       "      <td>2.000172</td>\n",
       "      <td>51.6154</td>\n",
       "      <td>3.8</td>\n",
       "      <td>432310</td>\n",
       "      <td>0.000005</td>\n",
       "      <td>0.006102</td>\n",
       "    </tr>\n",
       "    <tr>\n",
       "      <th>18</th>\n",
       "      <td>Santa Cruz</td>\n",
       "      <td>1.166374e+07</td>\n",
       "      <td>0.791485</td>\n",
       "      <td>8.024762</td>\n",
       "      <td>7.411364</td>\n",
       "      <td>0.289262</td>\n",
       "      <td>29.2321</td>\n",
       "      <td>3.3</td>\n",
       "      <td>273964</td>\n",
       "      <td>0.000011</td>\n",
       "      <td>0.004271</td>\n",
       "    </tr>\n",
       "    <tr>\n",
       "      <th>19</th>\n",
       "      <td>Santa Fe</td>\n",
       "      <td>8.158869e+07</td>\n",
       "      <td>1.975940</td>\n",
       "      <td>6.081012</td>\n",
       "      <td>11.869195</td>\n",
       "      <td>2.872181</td>\n",
       "      <td>41.9660</td>\n",
       "      <td>2.6</td>\n",
       "      <td>3194537</td>\n",
       "      <td>0.000007</td>\n",
       "      <td>0.006672</td>\n",
       "    </tr>\n",
       "    <tr>\n",
       "      <th>20</th>\n",
       "      <td>Santiago del Estero</td>\n",
       "      <td>8.387859e+06</td>\n",
       "      <td>6.272090</td>\n",
       "      <td>11.759000</td>\n",
       "      <td>20.491433</td>\n",
       "      <td>2.325598</td>\n",
       "      <td>63.6637</td>\n",
       "      <td>1.7</td>\n",
       "      <td>874006</td>\n",
       "      <td>0.000003</td>\n",
       "      <td>0.002821</td>\n",
       "    </tr>\n",
       "    <tr>\n",
       "      <th>21</th>\n",
       "      <td>Tucumán</td>\n",
       "      <td>1.385620e+07</td>\n",
       "      <td>3.770370</td>\n",
       "      <td>11.214239</td>\n",
       "      <td>6.466665</td>\n",
       "      <td>0.977285</td>\n",
       "      <td>48.2242</td>\n",
       "      <td>3.0</td>\n",
       "      <td>1448188</td>\n",
       "      <td>0.000005</td>\n",
       "      <td>0.005501</td>\n",
       "    </tr>\n",
       "  </tbody>\n",
       "</table>\n",
       "</div>"
      ],
      "text/plain": [
       "              Provincia           PBI  Analfabetismo    Pobreza  \\\n",
       "0          Buenos Aires  2.926899e+08       1.383240   8.167798   \n",
       "1             Catamarca  6.150949e+06       2.344140   9.234095   \n",
       "2               Córdoba  6.936374e+07       2.714140   5.382380   \n",
       "3            Corrientes  7.968013e+06       5.602420  12.747191   \n",
       "4                 Chaco  9.832643e+06       7.517580  15.862619   \n",
       "5                Chubut  1.774785e+07       1.548060   8.051752   \n",
       "6            Entre Ríos  2.074341e+07       3.185580   7.288751   \n",
       "7               Formosa  3.807057e+06       4.610640  17.035583   \n",
       "8                 Jujuy  6.484938e+06       2.151390  13.367965   \n",
       "9              La Pampa  6.990262e+06       1.539300   3.398774   \n",
       "10             La Rioja  5.590516e+06       2.773210  10.875152   \n",
       "11              Mendoza  3.343137e+07       2.200200   5.692798   \n",
       "12             Misiones  9.646826e+06       6.863950  13.529788   \n",
       "13              Neuquén  2.256411e+07       1.943750   9.456635   \n",
       "14            Río Negro  1.026458e+07       2.031420   8.678391   \n",
       "15                Salta  1.343883e+07       3.346090  16.870500   \n",
       "16             San Juan  8.262309e+06       2.963260   9.050784   \n",
       "17             San Luis  1.178085e+07       3.433650   6.593771   \n",
       "18           Santa Cruz  1.166374e+07       0.791485   8.024762   \n",
       "19             Santa Fe  8.158869e+07       1.975940   6.081012   \n",
       "20  Santiago del Estero  8.387859e+06       6.272090  11.759000   \n",
       "21              Tucumán  1.385620e+07       3.770370  11.214239   \n",
       "\n",
       "    Falta de infraestructura  Desercion escolar  Sin atencion medica  \\\n",
       "0                   5.511856           0.766168              48.7947   \n",
       "1                  10.464484           0.951963              45.0456   \n",
       "2                  10.436086           1.035056              45.7640   \n",
       "3                  17.438858           3.864265              62.1103   \n",
       "4                  31.479527           2.577462              65.5104   \n",
       "5                   8.044618           0.586309              39.5473   \n",
       "6                  18.794568           1.887188              48.6571   \n",
       "7                  28.004985           2.268974              65.8126   \n",
       "8                  12.483179           0.721295              54.1615   \n",
       "9                  16.505714           0.204093              45.4764   \n",
       "10                  7.403254           3.844949              40.8341   \n",
       "11                  3.839852           1.063718              50.5843   \n",
       "12                  8.325740           3.129124              57.8339   \n",
       "13                 11.267278           1.393504              48.7431   \n",
       "14                 14.885444           0.408042              49.9463   \n",
       "15                 14.182303           1.482030              60.4230   \n",
       "16                  3.914390           3.298413              52.9684   \n",
       "17                  9.679894           2.000172              51.6154   \n",
       "18                  7.411364           0.289262              29.2321   \n",
       "19                 11.869195           2.872181              41.9660   \n",
       "20                 20.491433           2.325598              63.6637   \n",
       "21                  6.466665           0.977285              48.2242   \n",
       "\n",
       "    Mortalidad al nacer  Poblacion  Cines por persona  Doctores por persona  \n",
       "0                   4.4   15625084           0.000006              0.004836  \n",
       "1                   1.5     367828           0.000005              0.004502  \n",
       "2                   4.8    3308876           0.000011              0.010175  \n",
       "3                   5.9     992595           0.000004              0.004495  \n",
       "4                   7.5    1055259           0.000003              0.003605  \n",
       "5                   3.0     509108           0.000016              0.004498  \n",
       "6                   3.1    1235994           0.000006              0.004679  \n",
       "7                  16.2     530162           0.000004              0.003440  \n",
       "8                   3.7     673307           0.000003              0.003958  \n",
       "9                   7.2     318951           0.000019              0.005415  \n",
       "10                 11.4     333642           0.000012              0.005092  \n",
       "11                  4.4    1738929           0.000008              0.005720  \n",
       "12                  8.1    1101593           0.000002              0.002880  \n",
       "13                  3.3     551266           0.000009              0.005067  \n",
       "14                  0.8     638645           0.000009              0.004898  \n",
       "15                  5.8    1214441           0.000004              0.003991  \n",
       "16                  4.2     681055           0.000006              0.005044  \n",
       "17                  3.8     432310           0.000005              0.006102  \n",
       "18                  3.3     273964           0.000011              0.004271  \n",
       "19                  2.6    3194537           0.000007              0.006672  \n",
       "20                  1.7     874006           0.000003              0.002821  \n",
       "21                  3.0    1448188           0.000005              0.005501  "
      ]
     },
     "execution_count": 4,
     "metadata": {},
     "output_type": "execute_result"
    }
   ],
   "source": [
    "df.dropna()        # A modo de ejemplo le aplicamos a los datos el comando que borra las variables que tienen error"
   ]
  },
  {
   "cell_type": "code",
   "execution_count": 5,
   "id": "fc358b16",
   "metadata": {},
   "outputs": [
    {
     "data": {
      "text/plain": [
       "Provincia                    object\n",
       "PBI                         float64\n",
       "Analfabetismo               float64\n",
       "Pobreza                     float64\n",
       "Falta de infraestructura    float64\n",
       "Desercion escolar           float64\n",
       "Sin atencion medica         float64\n",
       "Mortalidad al nacer         float64\n",
       "Poblacion                     int64\n",
       "Cines por persona           float64\n",
       "Doctores por persona        float64\n",
       "dtype: object"
      ]
     },
     "execution_count": 5,
     "metadata": {},
     "output_type": "execute_result"
    }
   ],
   "source": [
    "df.dtypes         # Muestra que tipo de variables hay en el dataframe"
   ]
  },
  {
   "cell_type": "code",
   "execution_count": 6,
   "id": "946c82f7",
   "metadata": {},
   "outputs": [
    {
     "name": "stdout",
     "output_type": "stream",
     "text": [
      "<class 'pandas.core.frame.DataFrame'>\n",
      "RangeIndex: 22 entries, 0 to 21\n",
      "Data columns (total 11 columns):\n",
      " #   Column                    Non-Null Count  Dtype  \n",
      "---  ------                    --------------  -----  \n",
      " 0   Provincia                 22 non-null     object \n",
      " 1   PBI                       22 non-null     float64\n",
      " 2   Analfabetismo             22 non-null     float64\n",
      " 3   Pobreza                   22 non-null     float64\n",
      " 4   Falta de infraestructura  22 non-null     float64\n",
      " 5   Desercion escolar         22 non-null     float64\n",
      " 6   Sin atencion medica       22 non-null     float64\n",
      " 7   Mortalidad al nacer       22 non-null     float64\n",
      " 8   Poblacion                 22 non-null     int64  \n",
      " 9   Cines por persona         22 non-null     float64\n",
      " 10  Doctores por persona      22 non-null     float64\n",
      "dtypes: float64(9), int64(1), object(1)\n",
      "memory usage: 2.0+ KB\n"
     ]
    }
   ],
   "source": [
    "df.info()        # Muestra que tipo de variables hay y mas información"
   ]
  },
  {
   "cell_type": "code",
   "execution_count": 7,
   "id": "c1bc4aca",
   "metadata": {},
   "outputs": [
    {
     "data": {
      "text/html": [
       "<div>\n",
       "<style scoped>\n",
       "    .dataframe tbody tr th:only-of-type {\n",
       "        vertical-align: middle;\n",
       "    }\n",
       "\n",
       "    .dataframe tbody tr th {\n",
       "        vertical-align: top;\n",
       "    }\n",
       "\n",
       "    .dataframe thead th {\n",
       "        text-align: right;\n",
       "    }\n",
       "</style>\n",
       "<table border=\"1\" class=\"dataframe\">\n",
       "  <thead>\n",
       "    <tr style=\"text-align: right;\">\n",
       "      <th></th>\n",
       "      <th>Provincia</th>\n",
       "      <th>PBI</th>\n",
       "      <th>Analfabetismo</th>\n",
       "      <th>Pobreza</th>\n",
       "      <th>Falta de infraestructura</th>\n",
       "      <th>Desercion escolar</th>\n",
       "      <th>Sin atencion medica</th>\n",
       "      <th>Mortalidad al nacer</th>\n",
       "      <th>Poblacion</th>\n",
       "      <th>Cines por persona</th>\n",
       "      <th>Doctores por persona</th>\n",
       "    </tr>\n",
       "  </thead>\n",
       "  <tbody>\n",
       "    <tr>\n",
       "      <th>17</th>\n",
       "      <td>San Luis</td>\n",
       "      <td>0.040250</td>\n",
       "      <td>3.43365</td>\n",
       "      <td>6.593771</td>\n",
       "      <td>9.679894</td>\n",
       "      <td>2.000172</td>\n",
       "      <td>51.6154</td>\n",
       "      <td>3.8</td>\n",
       "      <td>432310</td>\n",
       "      <td>0.000005</td>\n",
       "      <td>0.006102</td>\n",
       "    </tr>\n",
       "    <tr>\n",
       "      <th>4</th>\n",
       "      <td>Chaco</td>\n",
       "      <td>0.033594</td>\n",
       "      <td>7.51758</td>\n",
       "      <td>15.862619</td>\n",
       "      <td>31.479527</td>\n",
       "      <td>2.577462</td>\n",
       "      <td>65.5104</td>\n",
       "      <td>7.5</td>\n",
       "      <td>1055259</td>\n",
       "      <td>0.000003</td>\n",
       "      <td>0.003605</td>\n",
       "    </tr>\n",
       "    <tr>\n",
       "      <th>3</th>\n",
       "      <td>Corrientes</td>\n",
       "      <td>0.027223</td>\n",
       "      <td>5.60242</td>\n",
       "      <td>12.747191</td>\n",
       "      <td>17.438858</td>\n",
       "      <td>3.864265</td>\n",
       "      <td>62.1103</td>\n",
       "      <td>5.9</td>\n",
       "      <td>992595</td>\n",
       "      <td>0.000004</td>\n",
       "      <td>0.004495</td>\n",
       "    </tr>\n",
       "  </tbody>\n",
       "</table>\n",
       "</div>"
      ],
      "text/plain": [
       "     Provincia       PBI  Analfabetismo    Pobreza  Falta de infraestructura  \\\n",
       "17    San Luis  0.040250        3.43365   6.593771                  9.679894   \n",
       "4        Chaco  0.033594        7.51758  15.862619                 31.479527   \n",
       "3   Corrientes  0.027223        5.60242  12.747191                 17.438858   \n",
       "\n",
       "    Desercion escolar  Sin atencion medica  Mortalidad al nacer  Poblacion  \\\n",
       "17           2.000172              51.6154                  3.8     432310   \n",
       "4            2.577462              65.5104                  7.5    1055259   \n",
       "3            3.864265              62.1103                  5.9     992595   \n",
       "\n",
       "    Cines por persona  Doctores por persona  \n",
       "17           0.000005              0.006102  \n",
       "4            0.000003              0.003605  \n",
       "3            0.000004              0.004495  "
      ]
     },
     "execution_count": 7,
     "metadata": {},
     "output_type": "execute_result"
    }
   ],
   "source": [
    "df [\"PBI\"] = df [\"PBI\"] / df [\"PBI\"].max()          # Estandarizo la variable PBI para manejarla mejor con los demas datos\n",
    "df.sample(3)"
   ]
  },
  {
   "cell_type": "code",
   "execution_count": 8,
   "id": "1aef3eb2",
   "metadata": {},
   "outputs": [],
   "source": [
    "import matplotlib.pyplot as plt\n",
    "import seaborn as sns\n",
    "%matplotlib inline"
   ]
  },
  {
   "cell_type": "code",
   "execution_count": 9,
   "id": "164c6bd6",
   "metadata": {},
   "outputs": [
    {
     "data": {
      "text/html": [
       "<div>\n",
       "<style scoped>\n",
       "    .dataframe tbody tr th:only-of-type {\n",
       "        vertical-align: middle;\n",
       "    }\n",
       "\n",
       "    .dataframe tbody tr th {\n",
       "        vertical-align: top;\n",
       "    }\n",
       "\n",
       "    .dataframe thead th {\n",
       "        text-align: right;\n",
       "    }\n",
       "</style>\n",
       "<table border=\"1\" class=\"dataframe\">\n",
       "  <thead>\n",
       "    <tr style=\"text-align: right;\">\n",
       "      <th></th>\n",
       "      <th>PBI</th>\n",
       "      <th>Analfabetismo</th>\n",
       "      <th>Pobreza</th>\n",
       "      <th>Falta de infraestructura</th>\n",
       "      <th>Desercion escolar</th>\n",
       "      <th>Sin atencion medica</th>\n",
       "      <th>Mortalidad al nacer</th>\n",
       "      <th>Poblacion</th>\n",
       "      <th>Cines por persona</th>\n",
       "      <th>Doctores por persona</th>\n",
       "    </tr>\n",
       "  </thead>\n",
       "  <tbody>\n",
       "    <tr>\n",
       "      <th>PBI</th>\n",
       "      <td>1.000000</td>\n",
       "      <td>-0.291704</td>\n",
       "      <td>-0.248149</td>\n",
       "      <td>-0.269605</td>\n",
       "      <td>-0.182342</td>\n",
       "      <td>-0.143599</td>\n",
       "      <td>-0.112779</td>\n",
       "      <td>0.990457</td>\n",
       "      <td>-0.006717</td>\n",
       "      <td>0.231281</td>\n",
       "    </tr>\n",
       "    <tr>\n",
       "      <th>Analfabetismo</th>\n",
       "      <td>-0.291704</td>\n",
       "      <td>1.000000</td>\n",
       "      <td>0.639461</td>\n",
       "      <td>0.576317</td>\n",
       "      <td>0.619712</td>\n",
       "      <td>0.791507</td>\n",
       "      <td>0.338452</td>\n",
       "      <td>-0.206791</td>\n",
       "      <td>-0.634247</td>\n",
       "      <td>-0.422702</td>\n",
       "    </tr>\n",
       "    <tr>\n",
       "      <th>Pobreza</th>\n",
       "      <td>-0.248149</td>\n",
       "      <td>0.639461</td>\n",
       "      <td>1.000000</td>\n",
       "      <td>0.501767</td>\n",
       "      <td>0.378745</td>\n",
       "      <td>0.693974</td>\n",
       "      <td>0.472627</td>\n",
       "      <td>-0.160277</td>\n",
       "      <td>-0.647118</td>\n",
       "      <td>-0.643937</td>\n",
       "    </tr>\n",
       "    <tr>\n",
       "      <th>Falta de infraestructura</th>\n",
       "      <td>-0.269605</td>\n",
       "      <td>0.576317</td>\n",
       "      <td>0.501767</td>\n",
       "      <td>1.000000</td>\n",
       "      <td>0.185644</td>\n",
       "      <td>0.626746</td>\n",
       "      <td>0.381544</td>\n",
       "      <td>-0.233857</td>\n",
       "      <td>-0.265632</td>\n",
       "      <td>-0.348995</td>\n",
       "    </tr>\n",
       "    <tr>\n",
       "      <th>Desercion escolar</th>\n",
       "      <td>-0.182342</td>\n",
       "      <td>0.619712</td>\n",
       "      <td>0.378745</td>\n",
       "      <td>0.185644</td>\n",
       "      <td>1.000000</td>\n",
       "      <td>0.424930</td>\n",
       "      <td>0.417245</td>\n",
       "      <td>-0.155070</td>\n",
       "      <td>-0.435447</td>\n",
       "      <td>-0.175279</td>\n",
       "    </tr>\n",
       "    <tr>\n",
       "      <th>Sin atencion medica</th>\n",
       "      <td>-0.143599</td>\n",
       "      <td>0.791507</td>\n",
       "      <td>0.693974</td>\n",
       "      <td>0.626746</td>\n",
       "      <td>0.424930</td>\n",
       "      <td>1.000000</td>\n",
       "      <td>0.353931</td>\n",
       "      <td>-0.052823</td>\n",
       "      <td>-0.677575</td>\n",
       "      <td>-0.426163</td>\n",
       "    </tr>\n",
       "    <tr>\n",
       "      <th>Mortalidad al nacer</th>\n",
       "      <td>-0.112779</td>\n",
       "      <td>0.338452</td>\n",
       "      <td>0.472627</td>\n",
       "      <td>0.381544</td>\n",
       "      <td>0.417245</td>\n",
       "      <td>0.353931</td>\n",
       "      <td>1.000000</td>\n",
       "      <td>-0.076125</td>\n",
       "      <td>-0.043900</td>\n",
       "      <td>-0.193167</td>\n",
       "    </tr>\n",
       "    <tr>\n",
       "      <th>Poblacion</th>\n",
       "      <td>0.990457</td>\n",
       "      <td>-0.206791</td>\n",
       "      <td>-0.160277</td>\n",
       "      <td>-0.233857</td>\n",
       "      <td>-0.155070</td>\n",
       "      <td>-0.052823</td>\n",
       "      <td>-0.076125</td>\n",
       "      <td>1.000000</td>\n",
       "      <td>-0.081282</td>\n",
       "      <td>0.159901</td>\n",
       "    </tr>\n",
       "    <tr>\n",
       "      <th>Cines por persona</th>\n",
       "      <td>-0.006717</td>\n",
       "      <td>-0.634247</td>\n",
       "      <td>-0.647118</td>\n",
       "      <td>-0.265632</td>\n",
       "      <td>-0.435447</td>\n",
       "      <td>-0.677575</td>\n",
       "      <td>-0.043900</td>\n",
       "      <td>-0.081282</td>\n",
       "      <td>1.000000</td>\n",
       "      <td>0.399421</td>\n",
       "    </tr>\n",
       "    <tr>\n",
       "      <th>Doctores por persona</th>\n",
       "      <td>0.231281</td>\n",
       "      <td>-0.422702</td>\n",
       "      <td>-0.643937</td>\n",
       "      <td>-0.348995</td>\n",
       "      <td>-0.175279</td>\n",
       "      <td>-0.426163</td>\n",
       "      <td>-0.193167</td>\n",
       "      <td>0.159901</td>\n",
       "      <td>0.399421</td>\n",
       "      <td>1.000000</td>\n",
       "    </tr>\n",
       "  </tbody>\n",
       "</table>\n",
       "</div>"
      ],
      "text/plain": [
       "                               PBI  Analfabetismo   Pobreza  \\\n",
       "PBI                       1.000000      -0.291704 -0.248149   \n",
       "Analfabetismo            -0.291704       1.000000  0.639461   \n",
       "Pobreza                  -0.248149       0.639461  1.000000   \n",
       "Falta de infraestructura -0.269605       0.576317  0.501767   \n",
       "Desercion escolar        -0.182342       0.619712  0.378745   \n",
       "Sin atencion medica      -0.143599       0.791507  0.693974   \n",
       "Mortalidad al nacer      -0.112779       0.338452  0.472627   \n",
       "Poblacion                 0.990457      -0.206791 -0.160277   \n",
       "Cines por persona        -0.006717      -0.634247 -0.647118   \n",
       "Doctores por persona      0.231281      -0.422702 -0.643937   \n",
       "\n",
       "                          Falta de infraestructura  Desercion escolar  \\\n",
       "PBI                                      -0.269605          -0.182342   \n",
       "Analfabetismo                             0.576317           0.619712   \n",
       "Pobreza                                   0.501767           0.378745   \n",
       "Falta de infraestructura                  1.000000           0.185644   \n",
       "Desercion escolar                         0.185644           1.000000   \n",
       "Sin atencion medica                       0.626746           0.424930   \n",
       "Mortalidad al nacer                       0.381544           0.417245   \n",
       "Poblacion                                -0.233857          -0.155070   \n",
       "Cines por persona                        -0.265632          -0.435447   \n",
       "Doctores por persona                     -0.348995          -0.175279   \n",
       "\n",
       "                          Sin atencion medica  Mortalidad al nacer  Poblacion  \\\n",
       "PBI                                 -0.143599            -0.112779   0.990457   \n",
       "Analfabetismo                        0.791507             0.338452  -0.206791   \n",
       "Pobreza                              0.693974             0.472627  -0.160277   \n",
       "Falta de infraestructura             0.626746             0.381544  -0.233857   \n",
       "Desercion escolar                    0.424930             0.417245  -0.155070   \n",
       "Sin atencion medica                  1.000000             0.353931  -0.052823   \n",
       "Mortalidad al nacer                  0.353931             1.000000  -0.076125   \n",
       "Poblacion                           -0.052823            -0.076125   1.000000   \n",
       "Cines por persona                   -0.677575            -0.043900  -0.081282   \n",
       "Doctores por persona                -0.426163            -0.193167   0.159901   \n",
       "\n",
       "                          Cines por persona  Doctores por persona  \n",
       "PBI                               -0.006717              0.231281  \n",
       "Analfabetismo                     -0.634247             -0.422702  \n",
       "Pobreza                           -0.647118             -0.643937  \n",
       "Falta de infraestructura          -0.265632             -0.348995  \n",
       "Desercion escolar                 -0.435447             -0.175279  \n",
       "Sin atencion medica               -0.677575             -0.426163  \n",
       "Mortalidad al nacer               -0.043900             -0.193167  \n",
       "Poblacion                         -0.081282              0.159901  \n",
       "Cines por persona                  1.000000              0.399421  \n",
       "Doctores por persona               0.399421              1.000000  "
      ]
     },
     "execution_count": 9,
     "metadata": {},
     "output_type": "execute_result"
    }
   ],
   "source": [
    "df.corr()         # Calcula la correlacion entre todas las variables del dataframe"
   ]
  },
  {
   "cell_type": "code",
   "execution_count": 10,
   "id": "2010312a",
   "metadata": {
    "scrolled": true
   },
   "outputs": [
    {
     "data": {
      "text/html": [
       "<div>\n",
       "<style scoped>\n",
       "    .dataframe tbody tr th:only-of-type {\n",
       "        vertical-align: middle;\n",
       "    }\n",
       "\n",
       "    .dataframe tbody tr th {\n",
       "        vertical-align: top;\n",
       "    }\n",
       "\n",
       "    .dataframe thead th {\n",
       "        text-align: right;\n",
       "    }\n",
       "</style>\n",
       "<table border=\"1\" class=\"dataframe\">\n",
       "  <thead>\n",
       "    <tr style=\"text-align: right;\">\n",
       "      <th></th>\n",
       "      <th>PBI</th>\n",
       "      <th>Analfabetismo</th>\n",
       "      <th>Pobreza</th>\n",
       "      <th>Poblacion</th>\n",
       "      <th>Sin atencion medica</th>\n",
       "    </tr>\n",
       "  </thead>\n",
       "  <tbody>\n",
       "    <tr>\n",
       "      <th>PBI</th>\n",
       "      <td>1.000000</td>\n",
       "      <td>-0.291704</td>\n",
       "      <td>-0.248149</td>\n",
       "      <td>0.990457</td>\n",
       "      <td>-0.143599</td>\n",
       "    </tr>\n",
       "    <tr>\n",
       "      <th>Analfabetismo</th>\n",
       "      <td>-0.291704</td>\n",
       "      <td>1.000000</td>\n",
       "      <td>0.639461</td>\n",
       "      <td>-0.206791</td>\n",
       "      <td>0.791507</td>\n",
       "    </tr>\n",
       "    <tr>\n",
       "      <th>Pobreza</th>\n",
       "      <td>-0.248149</td>\n",
       "      <td>0.639461</td>\n",
       "      <td>1.000000</td>\n",
       "      <td>-0.160277</td>\n",
       "      <td>0.693974</td>\n",
       "    </tr>\n",
       "    <tr>\n",
       "      <th>Poblacion</th>\n",
       "      <td>0.990457</td>\n",
       "      <td>-0.206791</td>\n",
       "      <td>-0.160277</td>\n",
       "      <td>1.000000</td>\n",
       "      <td>-0.052823</td>\n",
       "    </tr>\n",
       "    <tr>\n",
       "      <th>Sin atencion medica</th>\n",
       "      <td>-0.143599</td>\n",
       "      <td>0.791507</td>\n",
       "      <td>0.693974</td>\n",
       "      <td>-0.052823</td>\n",
       "      <td>1.000000</td>\n",
       "    </tr>\n",
       "  </tbody>\n",
       "</table>\n",
       "</div>"
      ],
      "text/plain": [
       "                          PBI  Analfabetismo   Pobreza  Poblacion  \\\n",
       "PBI                  1.000000      -0.291704 -0.248149   0.990457   \n",
       "Analfabetismo       -0.291704       1.000000  0.639461  -0.206791   \n",
       "Pobreza             -0.248149       0.639461  1.000000  -0.160277   \n",
       "Poblacion            0.990457      -0.206791 -0.160277   1.000000   \n",
       "Sin atencion medica -0.143599       0.791507  0.693974  -0.052823   \n",
       "\n",
       "                     Sin atencion medica  \n",
       "PBI                            -0.143599  \n",
       "Analfabetismo                   0.791507  \n",
       "Pobreza                         0.693974  \n",
       "Poblacion                      -0.052823  \n",
       "Sin atencion medica             1.000000  "
      ]
     },
     "execution_count": 10,
     "metadata": {},
     "output_type": "execute_result"
    }
   ],
   "source": [
    "df [[\"PBI\", \"Analfabetismo\", \"Pobreza\", \"Poblacion\", \"Sin atencion medica\"]].corr()     # Calcula la correlación solo de las columnas que quiero ver"
   ]
  },
  {
   "cell_type": "code",
   "execution_count": 11,
   "id": "d8a527b8",
   "metadata": {},
   "outputs": [
    {
     "data": {
      "text/plain": [
       "(0.0, 16399390.75935994)"
      ]
     },
     "execution_count": 11,
     "metadata": {},
     "output_type": "execute_result"
    },
    {
     "data": {
      "image/png": "[encoded data removed]",
      "text/plain": [
       "<Figure size 432x288 with 1 Axes>"
      ]
     },
     "metadata": {
      "needs_background": "light"
     },
     "output_type": "display_data"
    }
   ],
   "source": [
    "sns.regplot(x=\"PBI\", y=\"Poblacion\", data=df, \n",
    "            color=\"orange\",marker=\"x\",  # color de los puntos, linea y tipo de puntos (o, s, x, ^)\n",
    "            line_kws={\"color\": \"orange\", \"lw\": 1}, # Para personalizar la linea.\n",
    "           scatter_kws={\"alpha\": 0.7, \"s\": 25})   # Tamaño y transparencia de los puntos.\n",
    "plt.ylim(0)          "
   ]
  },
  {
   "cell_type": "code",
   "execution_count": 12,
   "id": "bbb8824a",
   "metadata": {},
   "outputs": [
    {
     "data": {
      "text/plain": [
       "(0.0, 78.27583026259609)"
      ]
     },
     "execution_count": 12,
     "metadata": {},
     "output_type": "execute_result"
    },
    {
     "data": {
      "image/png": "[encoded data removed]",
      "text/plain": [
       "<Figure size 432x288 with 1 Axes>"
      ]
     },
     "metadata": {
      "needs_background": "light"
     },
     "output_type": "display_data"
    }
   ],
   "source": [
    "sns.regplot(x=\"Analfabetismo\", y=\"Sin atencion medica\", data=df, \n",
    "            color=\"orange\",marker=\"x\",  # color de los puntos, linea y tipo de puntos (o, s, x, ^)\n",
    "            line_kws={\"color\": \"orange\", \"lw\": 1}, # Para personalizar la linea.\n",
    "           scatter_kws={\"alpha\": 0.7, \"s\": 25})   # Tamaño y transparencia de los puntos.\n",
    "plt.ylim(0)   "
   ]
  },
  {
   "cell_type": "code",
   "execution_count": 15,
   "id": "79c3e4f2",
   "metadata": {},
   "outputs": [
    {
     "data": {
      "text/plain": [
       "<AxesSubplot:xlabel='PBI', ylabel='Provincia'>"
      ]
     },
     "execution_count": 15,
     "metadata": {},
     "output_type": "execute_result"
    },
    {
     "data": {
      "image/png": "[encoded data removed]",
      "text/plain": [
       "<Figure size 432x288 with 1 Axes>"
      ]
     },
     "metadata": {
      "needs_background": "light"
     },
     "output_type": "display_data"
    }
   ],
   "source": [
    "sns.boxplot (x=\"PBI\", y=\"Provincia\", data=df) # Graficar en barras solo se usa cuando definimos en Y una variable categorica"
   ]
  },
  {
   "cell_type": "code",
   "execution_count": 35,
   "id": "c151b437",
   "metadata": {
    "scrolled": true
   },
   "outputs": [
    {
     "data": {
      "text/plain": [
       "Text(0.5, 0, 'Pobreza')"
      ]
     },
     "execution_count": 35,
     "metadata": {},
     "output_type": "execute_result"
    },
    {
     "data": {
      "image/png": "[encoded data removed]",
      "text/plain": [
       "<Figure size 432x288 with 1 Axes>"
      ]
     },
     "metadata": {},
     "output_type": "display_data"
    }
   ],
   "source": [
    "y=df [\"PBI\"]\n",
    "x=df [\"Pobreza\"]\n",
    "sns.set_style(\"whitegrid\")\n",
    "plt.scatter(x,y, color=\"orange\", marker=\"x\")\n",
    "\n",
    "plt.title(\"Diagrama de PBI segun la Pobreza\")  # Hacemos un diagrama de dispersión segun las variables definidas.\n",
    "plt.ylabel(\"PBI\")\n",
    "plt.xlabel(\"Pobreza\")"
   ]
  },
  {
   "cell_type": "markdown",
   "id": "5fb4080f-c796-407e-9dda-6693df5a9c80",
   "metadata": {},
   "source": [
    "<div class=\"alert alert-warning\">Correlación de Pearson:\n",
    "\n",
    "PEARSON = 1: Correlación lineal perfectamente positiva.\n",
    "\n",
    "PEARSON = 0: No hay relación lineal, las 2 variables no se afectan una a otra.\n",
    "\n",
    "PEARSON =-1: Perfectamente negativa seria la correlación lineal.\n",
    "\n",
    "P-VALUE\n",
    "\n",
    "P-Value  <  0.001: Fuerte evidencia de que la correlación es significante.\n",
    "\n",
    "P-Value  <  0.05: Moderada evidencia de que la correlación es significante.\n",
    "\n",
    "P-Value  <  0.1: Debil evidencia de que la correlación es significante.\n",
    "\n",
    "P-Value  >  0.1: No hay evidencia de que la correlación es significante.</div>\n",
    "\n",
    "\n"
   ]
  },
  {
   "cell_type": "code",
   "execution_count": 31,
   "id": "ff2ee8fe",
   "metadata": {},
   "outputs": [
    {
     "name": "stdout",
     "output_type": "stream",
     "text": [
      "La correlacion de Pearson tiene un coeficiente de -0.2481486511064968\n",
      "Con un P-Value de P = 0.265489800144572\n"
     ]
    }
   ],
   "source": [
    "from scipy import stats\n",
    "pearson_coef, p_value = stats.pearsonr(df['PBI'], df['Pobreza'])\n",
    "print(\"La correlacion de Pearson tiene un coeficiente de\", pearson_coef,) \n",
    "print (\"Con un P-Value de P =\", p_value) "
   ]
  },
  {
   "cell_type": "code",
   "execution_count": 32,
   "id": "ffa6e3ab",
   "metadata": {},
   "outputs": [
    {
     "name": "stdout",
     "output_type": "stream",
     "text": [
      "La correlacion de Pearson tiene un coeficiente de 0.7915068569015715\n",
      "Con un P-Value de P = 1.1468985161055699e-05\n"
     ]
    }
   ],
   "source": [
    "from scipy import stats\n",
    "pearson_coef, p_value = stats.pearsonr(df['Analfabetismo'], df['Sin atencion medica'])\n",
    "print(\"La correlacion de Pearson tiene un coeficiente de\", pearson_coef,)\n",
    "print(\"Con un P-Value de P =\", p_value) "
   ]
  },
  {
   "cell_type": "code",
   "execution_count": 36,
   "id": "687fef82",
   "metadata": {
    "scrolled": true
   },
   "outputs": [
    {
     "data": {
      "text/plain": [
       "Text(0.5, 0, 'Sin atencion medica')"
      ]
     },
     "execution_count": 36,
     "metadata": {},
     "output_type": "execute_result"
    },
    {
     "data": {
      "image/png": "[encoded data removed]",
      "text/plain": [
       "<Figure size 432x288 with 1 Axes>"
      ]
     },
     "metadata": {},
     "output_type": "display_data"
    }
   ],
   "source": [
    "y=df [\"Analfabetismo\"]\n",
    "x=df [\"Sin atencion medica\"]\n",
    "sns.set_style(\"whitegrid\")\n",
    "plt.scatter(x,y, color=\"orange\", marker=\"x\")\n",
    "\n",
    "plt.title(\"Diagrama de Atencion medica segun el Analfabetismo\")  # Hacemos un diagrama de dispersión segun las variables definidas.\n",
    "plt.ylabel(\"Analfabetismo\")\n",
    "plt.xlabel(\"Sin atencion medica\")"
   ]
  },
  {
   "cell_type": "markdown",
   "id": "9861ec0d-2ca0-4ff0-9553-ac305f34e42e",
   "metadata": {},
   "source": [
    "A modo de ejemplo como las variables de abajo tienen mejor correlación, me servira mejor para practicar las predicciones."
   ]
  },
  {
   "cell_type": "code",
   "execution_count": 37,
   "id": "fc33b51e",
   "metadata": {},
   "outputs": [
    {
     "data": {
      "text/plain": [
       "(0.0, 7.978834927796139)"
      ]
     },
     "execution_count": 37,
     "metadata": {},
     "output_type": "execute_result"
    },
    {
     "data": {
      "image/png": "[encoded data removed]",
      "text/plain": [
       "<Figure size 432x288 with 1 Axes>"
      ]
     },
     "metadata": {},
     "output_type": "display_data"
    }
   ],
   "source": [
    "sns.regplot(x=\"Sin atencion medica\", y=\"Analfabetismo\", data=df, color=\"orange\", marker=\"x\")   # Para hacer un grafico y ver la correlación que hay de forma grafica\n",
    "plt.ylim(0)"
   ]
  },
  {
   "cell_type": "markdown",
   "id": "e11c1cf1-6291-4ca1-a76a-4dd8092b1426",
   "metadata": {},
   "source": [
    "## <div style = 'background-color:Orange'> <center><font color='white'>③ Modelado y evaluación </font></div>"
   ]
  },
  {
   "cell_type": "markdown",
   "id": "a711df22",
   "metadata": {},
   "source": [
    "## ❑ Regresión Lineal (Univariable)"
   ]
  },
  {
   "cell_type": "code",
   "execution_count": 38,
   "id": "093870a4",
   "metadata": {},
   "outputs": [
    {
     "data": {
      "text/plain": [
       "array([[43.53807152],\n",
       "       [47.3094647 ],\n",
       "       [48.76166105],\n",
       "       [60.09774128],\n",
       "       [67.6144666 ]])"
      ]
     },
     "execution_count": 38,
     "metadata": {},
     "output_type": "execute_result"
    }
   ],
   "source": [
    "from sklearn.linear_model import LinearRegression   # Cargamos los modulos para regresión lineal\n",
    "\n",
    "lm = LinearRegression()  # Creando el objeto regresión lineal\n",
    "lm\n",
    "\n",
    "X = df[['Analfabetismo']]\n",
    "Y = df['Sin atencion medica']\n",
    "         \n",
    "lm.fit(df[['Analfabetismo']], df[['Sin atencion medica']])\n",
    "Yhat=lm.predict(X)\n",
    "Yhat[0:5]"
   ]
  },
  {
   "cell_type": "code",
   "execution_count": 39,
   "id": "d8e51e6f",
   "metadata": {},
   "outputs": [
    {
     "data": {
      "text/plain": [
       "array([38.10905508])"
      ]
     },
     "execution_count": 39,
     "metadata": {},
     "output_type": "execute_result"
    }
   ],
   "source": [
    "lm.intercept_        # Intercepción en el eje Y, que valor es cuando X es igual a 0"
   ]
  },
  {
   "cell_type": "code",
   "execution_count": 40,
   "id": "e1603a9b",
   "metadata": {},
   "outputs": [
    {
     "data": {
      "text/plain": [
       "array([[3.92485501]])"
      ]
     },
     "execution_count": 40,
     "metadata": {},
     "output_type": "execute_result"
    }
   ],
   "source": [
    "lm.coef_             # Esta es la pendiente de la fórmula."
   ]
  },
  {
   "cell_type": "markdown",
   "id": "89fb5a0b-74c8-45ef-b95a-7a317892ca34",
   "metadata": {},
   "source": [
    "<div class=\"alert alert-warning\">\n",
    "    \n",
    "#### Y = 38.10905508 + 3.92485501 X\n",
    "    \n",
    "#### Sin atencion medica = 38.10905508 + 3.92485501 x Analfabetismo\n",
    "\n",
    "Esta sería la fórmula que se usaría para poder predecir, de acuerdo al nivel de alfabetismo, cuantas personas no tienen atención médica.</div> "
   ]
  },
  {
   "cell_type": "markdown",
   "id": "f832efd9",
   "metadata": {},
   "source": [
    "### PREDICCION 1°: Buscamos predecir cuantas personas en el pais se encuentran sin atención medica por cada 30.000 analfabetos en la Argentina."
   ]
  },
  {
   "cell_type": "code",
   "execution_count": 25,
   "id": "0c5d33a6",
   "metadata": {},
   "outputs": [
    {
     "data": {
      "text/plain": [
       "('Por cada 30.000 Argentinos analfabetos nos encontramos con',\n",
       " 117783.75935508,\n",
       " 'que no tienen atención medica')"
      ]
     },
     "execution_count": 25,
     "metadata": {},
     "output_type": "execute_result"
    }
   ],
   "source": [
    "Prediccion = 38.10905508+3.92485501*30000\n",
    "\"Por cada 30.000 Argentinos analfabetos nos encontramos con\", Prediccion, \"que no tienen atención medica\""
   ]
  },
  {
   "cell_type": "markdown",
   "id": "0eb14644-9d93-4d3f-87eb-bb6819fb0291",
   "metadata": {},
   "source": [
    "## ❑ Regresión Lineal (Multivariable)"
   ]
  },
  {
   "cell_type": "markdown",
   "id": "f315db6d",
   "metadata": {},
   "source": [
    "### Ahora intentamos sacar una correlación de multiples variables tomando valores de 4 columnas."
   ]
  },
  {
   "cell_type": "code",
   "execution_count": 26,
   "id": "2e6f6370",
   "metadata": {},
   "outputs": [],
   "source": [
    "lm2 = LinearRegression()\n",
    "\n",
    "Z = df[[\"Analfabetismo\", \"Falta de infraestructura\", \"Pobreza\", \"Desercion escolar\"]]\n",
    "\n",
    "lm2.fit(Z, df[\"Sin atencion medica\"])  # Entrenamos el modelo\n",
    "\n",
    "Yhat=lm2.predict(Z)       # Obtenemos la predicción"
   ]
  },
  {
   "cell_type": "code",
   "execution_count": 27,
   "id": "75145710",
   "metadata": {},
   "outputs": [
    {
     "data": {
      "text/plain": [
       "33.17825562121239"
      ]
     },
     "execution_count": 27,
     "metadata": {},
     "output_type": "execute_result"
    }
   ],
   "source": [
    "lm2.intercept_"
   ]
  },
  {
   "cell_type": "code",
   "execution_count": 28,
   "id": "d614be40",
   "metadata": {},
   "outputs": [
    {
     "data": {
      "text/plain": [
       "array([ 2.65806909,  0.24040442,  0.66514447, -0.36686018])"
      ]
     },
     "execution_count": 28,
     "metadata": {},
     "output_type": "execute_result"
    }
   ],
   "source": [
    "lm2.coef_"
   ]
  },
  {
   "cell_type": "code",
   "execution_count": 29,
   "id": "9620c894",
   "metadata": {},
   "outputs": [],
   "source": [
    "# Sin atencion medica = 33.1782 + 2.65xAnalfabetismo + 0.24xFalta de infraestructura + 0.66xPobreza -0.36xDesercion escolar\n",
    "# Es la formula para predecir la cantidad de personas sin atención medica."
   ]
  },
  {
   "cell_type": "markdown",
   "id": "8a419a7a",
   "metadata": {},
   "source": [
    "### PREDICCION 2°: Buscamos predecir cuantas personas hay sin atención medica cuando tenemos las siguientes caracteristicas: hay 30.000 analfabetos en la Argentina, 10.000 sufren falta de infraestructura, 10.000 en la pobreza y 5000 personas con desertaron del colegio."
   ]
  },
  {
   "cell_type": "code",
   "execution_count": 30,
   "id": "af4a79ca",
   "metadata": {},
   "outputs": [
    {
     "data": {
      "text/plain": [
       "('Por cada 30.000 Argentinos analfabetos nos encontramos con',\n",
       " 168033.1782,\n",
       " 'que no tienen atención medica')"
      ]
     },
     "execution_count": 30,
     "metadata": {},
     "output_type": "execute_result"
    }
   ],
   "source": [
    "Prediccion = 33.1782 + (2.65*30000)+(2.65*30000)+(0.24*10000)+10000*0.66\n",
    "\"Por cada 30.000 Argentinos analfabetos nos encontramos con\", Prediccion, \"que no tienen atención medica\""
   ]
  },
  {
   "cell_type": "code",
   "execution_count": 31,
   "id": "fd1affce",
   "metadata": {},
   "outputs": [
    {
     "data": {
      "text/plain": [
       "(0.0, 79.1237846538996)"
      ]
     },
     "execution_count": 31,
     "metadata": {},
     "output_type": "execute_result"
    },
    {
     "data": {
      "image/png": "[encoded data removed]",
      "text/plain": [
       "<Figure size 432x360 with 1 Axes>"
      ]
     },
     "metadata": {
      "needs_background": "light"
     },
     "output_type": "display_data"
    }
   ],
   "source": [
    "# Otra forma de graficarlo\n",
    "import matplotlib.pyplot as plt\n",
    "import seaborn as sns\n",
    "%matplotlib inline\n",
    "\n",
    "width = 6\n",
    "height = 5\n",
    "plt.figure(figsize=(width, height))\n",
    "sns.regplot(x=\"Analfabetismo\", y=\"Sin atencion medica\", data=df)\n",
    "plt.ylim(0,)"
   ]
  },
  {
   "cell_type": "code",
   "execution_count": 32,
   "id": "7af792b4",
   "metadata": {},
   "outputs": [
    {
     "name": "stderr",
     "output_type": "stream",
     "text": [
      "c:\\users\\hector\\appdata\\local\\programs\\python\\python39\\lib\\site-packages\\seaborn\\_decorators.py:36: FutureWarning: Pass the following variables as keyword args: x, y. From version 0.12, the only valid positional argument will be `data`, and passing other arguments without an explicit keyword will result in an error or misinterpretation.\n",
      "  warnings.warn(\n"
     ]
    },
    {
     "data": {
      "image/png": "[encoded data removed]",
      "text/plain": [
       "<Figure size 576x432 with 1 Axes>"
      ]
     },
     "metadata": {
      "needs_background": "light"
     },
     "output_type": "display_data"
    }
   ],
   "source": [
    "# Residual Plot: Como la distribución de los valores es aleatoria, esto sugiere que la suposición lineal es correcta.\n",
    "\n",
    "width = 8\n",
    "height = 6\n",
    "plt.figure(figsize=(width, height))\n",
    "sns.residplot(df['Analfabetismo'], df['Sin atencion medica'])\n",
    "plt.show()"
   ]
  },
  {
   "cell_type": "code",
   "execution_count": 33,
   "id": "781b2fb9",
   "metadata": {},
   "outputs": [],
   "source": [
    "# Graficando una regresion de multiples variables\n",
    "\n",
    "Y_hat = lm2.predict(Z)"
   ]
  },
  {
   "cell_type": "code",
   "execution_count": 34,
   "id": "054dcf47",
   "metadata": {},
   "outputs": [
    {
     "name": "stderr",
     "output_type": "stream",
     "text": [
      "c:\\users\\hector\\appdata\\local\\programs\\python\\python39\\lib\\site-packages\\seaborn\\distributions.py:2557: FutureWarning: `distplot` is a deprecated function and will be removed in a future version. Please adapt your code to use either `displot` (a figure-level function with similar flexibility) or `kdeplot` (an axes-level function for kernel density plots).\n",
      "  warnings.warn(msg, FutureWarning)\n",
      "c:\\users\\hector\\appdata\\local\\programs\\python\\python39\\lib\\site-packages\\seaborn\\distributions.py:2557: FutureWarning: `distplot` is a deprecated function and will be removed in a future version. Please adapt your code to use either `displot` (a figure-level function with similar flexibility) or `kdeplot` (an axes-level function for kernel density plots).\n",
      "  warnings.warn(msg, FutureWarning)\n"
     ]
    },
    {
     "data": {
      "image/png": "[encoded data removed]",
      "text/plain": [
       "<Figure size 576x432 with 1 Axes>"
      ]
     },
     "metadata": {
      "needs_background": "light"
     },
     "output_type": "display_data"
    }
   ],
   "source": [
    "plt.figure(figsize=(width, height))\n",
    "\n",
    "ax1 = sns.distplot(df['Sin atencion medica'], hist=False, color=\"r\", label=\"Actual Value\")\n",
    "sns.distplot(Y_hat, hist=False, color=\"b\", label=\"Valores buscados\" , ax=ax1)\n",
    "\n",
    "\n",
    "plt.title('Actual vs Buscados de valores de Sin atencion medica')\n",
    "plt.xlabel('Sin atencion medica')\n",
    "plt.ylabel('Proporcion de x')\n",
    "\n",
    "plt.show()\n",
    "plt.close()"
   ]
  },
  {
   "cell_type": "markdown",
   "id": "90f1e0a5",
   "metadata": {},
   "source": [
    "### MATRIZ DE CORRELACION"
   ]
  },
  {
   "cell_type": "code",
   "execution_count": 35,
   "id": "50062368",
   "metadata": {},
   "outputs": [
    {
     "data": {
      "text/html": [
       "<div>\n",
       "<style scoped>\n",
       "    .dataframe tbody tr th:only-of-type {\n",
       "        vertical-align: middle;\n",
       "    }\n",
       "\n",
       "    .dataframe tbody tr th {\n",
       "        vertical-align: top;\n",
       "    }\n",
       "\n",
       "    .dataframe thead th {\n",
       "        text-align: right;\n",
       "    }\n",
       "</style>\n",
       "<table border=\"1\" class=\"dataframe\">\n",
       "  <thead>\n",
       "    <tr style=\"text-align: right;\">\n",
       "      <th></th>\n",
       "      <th>PBI</th>\n",
       "      <th>Analfabetismo</th>\n",
       "      <th>Pobreza</th>\n",
       "      <th>Falta de infraestructura</th>\n",
       "      <th>Desercion escolar</th>\n",
       "      <th>Sin atencion medica</th>\n",
       "      <th>Mortalidad al nacer</th>\n",
       "      <th>Poblacion</th>\n",
       "      <th>Cines por persona</th>\n",
       "      <th>Doctores por persona</th>\n",
       "    </tr>\n",
       "  </thead>\n",
       "  <tbody>\n",
       "    <tr>\n",
       "      <th>PBI</th>\n",
       "      <td>1.000000</td>\n",
       "      <td>-0.291704</td>\n",
       "      <td>-0.248149</td>\n",
       "      <td>-0.269605</td>\n",
       "      <td>-0.182342</td>\n",
       "      <td>-0.143599</td>\n",
       "      <td>-0.112779</td>\n",
       "      <td>0.990457</td>\n",
       "      <td>-0.006717</td>\n",
       "      <td>0.231281</td>\n",
       "    </tr>\n",
       "    <tr>\n",
       "      <th>Analfabetismo</th>\n",
       "      <td>-0.291704</td>\n",
       "      <td>1.000000</td>\n",
       "      <td>0.639461</td>\n",
       "      <td>0.576317</td>\n",
       "      <td>0.619712</td>\n",
       "      <td>0.791507</td>\n",
       "      <td>0.338452</td>\n",
       "      <td>-0.206791</td>\n",
       "      <td>-0.634247</td>\n",
       "      <td>-0.422702</td>\n",
       "    </tr>\n",
       "    <tr>\n",
       "      <th>Pobreza</th>\n",
       "      <td>-0.248149</td>\n",
       "      <td>0.639461</td>\n",
       "      <td>1.000000</td>\n",
       "      <td>0.501767</td>\n",
       "      <td>0.378745</td>\n",
       "      <td>0.693974</td>\n",
       "      <td>0.472627</td>\n",
       "      <td>-0.160277</td>\n",
       "      <td>-0.647118</td>\n",
       "      <td>-0.643937</td>\n",
       "    </tr>\n",
       "    <tr>\n",
       "      <th>Falta de infraestructura</th>\n",
       "      <td>-0.269605</td>\n",
       "      <td>0.576317</td>\n",
       "      <td>0.501767</td>\n",
       "      <td>1.000000</td>\n",
       "      <td>0.185644</td>\n",
       "      <td>0.626746</td>\n",
       "      <td>0.381544</td>\n",
       "      <td>-0.233857</td>\n",
       "      <td>-0.265632</td>\n",
       "      <td>-0.348995</td>\n",
       "    </tr>\n",
       "    <tr>\n",
       "      <th>Desercion escolar</th>\n",
       "      <td>-0.182342</td>\n",
       "      <td>0.619712</td>\n",
       "      <td>0.378745</td>\n",
       "      <td>0.185644</td>\n",
       "      <td>1.000000</td>\n",
       "      <td>0.424930</td>\n",
       "      <td>0.417245</td>\n",
       "      <td>-0.155070</td>\n",
       "      <td>-0.435447</td>\n",
       "      <td>-0.175279</td>\n",
       "    </tr>\n",
       "    <tr>\n",
       "      <th>Sin atencion medica</th>\n",
       "      <td>-0.143599</td>\n",
       "      <td>0.791507</td>\n",
       "      <td>0.693974</td>\n",
       "      <td>0.626746</td>\n",
       "      <td>0.424930</td>\n",
       "      <td>1.000000</td>\n",
       "      <td>0.353931</td>\n",
       "      <td>-0.052823</td>\n",
       "      <td>-0.677575</td>\n",
       "      <td>-0.426163</td>\n",
       "    </tr>\n",
       "    <tr>\n",
       "      <th>Mortalidad al nacer</th>\n",
       "      <td>-0.112779</td>\n",
       "      <td>0.338452</td>\n",
       "      <td>0.472627</td>\n",
       "      <td>0.381544</td>\n",
       "      <td>0.417245</td>\n",
       "      <td>0.353931</td>\n",
       "      <td>1.000000</td>\n",
       "      <td>-0.076125</td>\n",
       "      <td>-0.043900</td>\n",
       "      <td>-0.193167</td>\n",
       "    </tr>\n",
       "    <tr>\n",
       "      <th>Poblacion</th>\n",
       "      <td>0.990457</td>\n",
       "      <td>-0.206791</td>\n",
       "      <td>-0.160277</td>\n",
       "      <td>-0.233857</td>\n",
       "      <td>-0.155070</td>\n",
       "      <td>-0.052823</td>\n",
       "      <td>-0.076125</td>\n",
       "      <td>1.000000</td>\n",
       "      <td>-0.081282</td>\n",
       "      <td>0.159901</td>\n",
       "    </tr>\n",
       "    <tr>\n",
       "      <th>Cines por persona</th>\n",
       "      <td>-0.006717</td>\n",
       "      <td>-0.634247</td>\n",
       "      <td>-0.647118</td>\n",
       "      <td>-0.265632</td>\n",
       "      <td>-0.435447</td>\n",
       "      <td>-0.677575</td>\n",
       "      <td>-0.043900</td>\n",
       "      <td>-0.081282</td>\n",
       "      <td>1.000000</td>\n",
       "      <td>0.399421</td>\n",
       "    </tr>\n",
       "    <tr>\n",
       "      <th>Doctores por persona</th>\n",
       "      <td>0.231281</td>\n",
       "      <td>-0.422702</td>\n",
       "      <td>-0.643937</td>\n",
       "      <td>-0.348995</td>\n",
       "      <td>-0.175279</td>\n",
       "      <td>-0.426163</td>\n",
       "      <td>-0.193167</td>\n",
       "      <td>0.159901</td>\n",
       "      <td>0.399421</td>\n",
       "      <td>1.000000</td>\n",
       "    </tr>\n",
       "  </tbody>\n",
       "</table>\n",
       "</div>"
      ],
      "text/plain": [
       "                               PBI  Analfabetismo   Pobreza  \\\n",
       "PBI                       1.000000      -0.291704 -0.248149   \n",
       "Analfabetismo            -0.291704       1.000000  0.639461   \n",
       "Pobreza                  -0.248149       0.639461  1.000000   \n",
       "Falta de infraestructura -0.269605       0.576317  0.501767   \n",
       "Desercion escolar        -0.182342       0.619712  0.378745   \n",
       "Sin atencion medica      -0.143599       0.791507  0.693974   \n",
       "Mortalidad al nacer      -0.112779       0.338452  0.472627   \n",
       "Poblacion                 0.990457      -0.206791 -0.160277   \n",
       "Cines por persona        -0.006717      -0.634247 -0.647118   \n",
       "Doctores por persona      0.231281      -0.422702 -0.643937   \n",
       "\n",
       "                          Falta de infraestructura  Desercion escolar  \\\n",
       "PBI                                      -0.269605          -0.182342   \n",
       "Analfabetismo                             0.576317           0.619712   \n",
       "Pobreza                                   0.501767           0.378745   \n",
       "Falta de infraestructura                  1.000000           0.185644   \n",
       "Desercion escolar                         0.185644           1.000000   \n",
       "Sin atencion medica                       0.626746           0.424930   \n",
       "Mortalidad al nacer                       0.381544           0.417245   \n",
       "Poblacion                                -0.233857          -0.155070   \n",
       "Cines por persona                        -0.265632          -0.435447   \n",
       "Doctores por persona                     -0.348995          -0.175279   \n",
       "\n",
       "                          Sin atencion medica  Mortalidad al nacer  Poblacion  \\\n",
       "PBI                                 -0.143599            -0.112779   0.990457   \n",
       "Analfabetismo                        0.791507             0.338452  -0.206791   \n",
       "Pobreza                              0.693974             0.472627  -0.160277   \n",
       "Falta de infraestructura             0.626746             0.381544  -0.233857   \n",
       "Desercion escolar                    0.424930             0.417245  -0.155070   \n",
       "Sin atencion medica                  1.000000             0.353931  -0.052823   \n",
       "Mortalidad al nacer                  0.353931             1.000000  -0.076125   \n",
       "Poblacion                           -0.052823            -0.076125   1.000000   \n",
       "Cines por persona                   -0.677575            -0.043900  -0.081282   \n",
       "Doctores por persona                -0.426163            -0.193167   0.159901   \n",
       "\n",
       "                          Cines por persona  Doctores por persona  \n",
       "PBI                               -0.006717              0.231281  \n",
       "Analfabetismo                     -0.634247             -0.422702  \n",
       "Pobreza                           -0.647118             -0.643937  \n",
       "Falta de infraestructura          -0.265632             -0.348995  \n",
       "Desercion escolar                 -0.435447             -0.175279  \n",
       "Sin atencion medica               -0.677575             -0.426163  \n",
       "Mortalidad al nacer               -0.043900             -0.193167  \n",
       "Poblacion                         -0.081282              0.159901  \n",
       "Cines por persona                  1.000000              0.399421  \n",
       "Doctores por persona               0.399421              1.000000  "
      ]
     },
     "execution_count": 35,
     "metadata": {},
     "output_type": "execute_result"
    }
   ],
   "source": [
    "Cormat = df.corr()\n",
    "Cormat"
   ]
  },
  {
   "cell_type": "code",
   "execution_count": 36,
   "id": "fe4c1782",
   "metadata": {
    "scrolled": true
   },
   "outputs": [
    {
     "data": {
      "text/plain": [
       "<AxesSubplot:>"
      ]
     },
     "execution_count": 36,
     "metadata": {},
     "output_type": "execute_result"
    },
    {
     "data": {
      "image/png": "[encoded data removed]",
      "text/plain": [
       "<Figure size 864x648 with 2 Axes>"
      ]
     },
     "metadata": {
      "needs_background": "light"
     },
     "output_type": "display_data"
    }
   ],
   "source": [
    "f, ax = plt.subplots(figsize=(12,9))\n",
    "sns.heatmap(Cormat, vmax=.8, square=True)\n",
    "# vmax: Hasta donde llega el gradiente, el difuminado de color, si fuera 1 seria hasta ser totalmente blanco.\n",
    "\n",
    "# Interpretación: Mientras mas claro sean los colores, mayor correlación habra entre variables."
   ]
  },
  {
   "cell_type": "code",
   "execution_count": 37,
   "id": "5543e7fb",
   "metadata": {},
   "outputs": [],
   "source": [
    "# Simplificar el heatmap a uno mas chico y detallado."
   ]
  },
  {
   "cell_type": "code",
   "execution_count": 38,
   "id": "4434e962",
   "metadata": {},
   "outputs": [],
   "source": [
    "K = 5 # Definimos cuantas columnas me a seleccionar como las mas correlacionadas."
   ]
  },
  {
   "cell_type": "code",
   "execution_count": 39,
   "id": "700f7a38",
   "metadata": {},
   "outputs": [],
   "source": [
    "cols = Cormat.nlargest(K, \"PBI\")[\"PBI\"].index"
   ]
  },
  {
   "cell_type": "code",
   "execution_count": 40,
   "id": "24e63994",
   "metadata": {},
   "outputs": [
    {
     "data": {
      "text/plain": [
       "Index(['PBI', 'Poblacion', 'Doctores por persona', 'Cines por persona',\n",
       "       'Mortalidad al nacer'],\n",
       "      dtype='object')"
      ]
     },
     "execution_count": 40,
     "metadata": {},
     "output_type": "execute_result"
    }
   ],
   "source": [
    "cols # Me va a decir las 5 variables mas relacionadas con PBI"
   ]
  },
  {
   "cell_type": "code",
   "execution_count": 41,
   "id": "f169c7f3",
   "metadata": {},
   "outputs": [],
   "source": [
    "# Definimos una nueva variable, haciendo la matriz mas chica para ver mejor las relaciones\n",
    "cm = np.corrcoef(df[cols].values.T)"
   ]
  },
  {
   "cell_type": "code",
   "execution_count": 42,
   "id": "2c1a4ddd",
   "metadata": {},
   "outputs": [
    {
     "data": {
      "text/plain": [
       "array([[ 1.        ,  0.9904569 ,  0.23128138, -0.00671668, -0.11277905],\n",
       "       [ 0.9904569 ,  1.        ,  0.15990101, -0.08128173, -0.07612541],\n",
       "       [ 0.23128138,  0.15990101,  1.        ,  0.39942119, -0.19316706],\n",
       "       [-0.00671668, -0.08128173,  0.39942119,  1.        , -0.04390039],\n",
       "       [-0.11277905, -0.07612541, -0.19316706, -0.04390039,  1.        ]])"
      ]
     },
     "execution_count": 42,
     "metadata": {},
     "output_type": "execute_result"
    }
   ],
   "source": [
    "cm"
   ]
  },
  {
   "cell_type": "code",
   "execution_count": 43,
   "id": "339c3b40",
   "metadata": {},
   "outputs": [],
   "source": [
    "sns.set(font_scale=1.25) # Tamaño de la fuente del grafico"
   ]
  },
  {
   "cell_type": "code",
   "execution_count": 44,
   "id": "8a068a73",
   "metadata": {},
   "outputs": [
    {
     "data": {
      "image/png": "[encoded data removed]",
      "text/plain": [
       "<Figure size 432x288 with 2 Axes>"
      ]
     },
     "metadata": {},
     "output_type": "display_data"
    }
   ],
   "source": [
    "hm = sns.heatmap(cm, cbar=True, annot=True, square=True, fmt=\".2f\", annot_kws={\"size\":10,}, yticklabels=cols.values, xticklabels=cols.values)\n",
    "plt.show()"
   ]
  },
  {
   "cell_type": "markdown",
   "id": "864d754e",
   "metadata": {},
   "source": [
    "### Interpretando el ultimo heatmap graficado, se puede apreciar dentro del mismo que para correlacionarse con el PBI lo mas importante es primero la Población, luego sigue los \"Doctores por persona\" aunque no es tan importante su correlación puesto que esta lejos de valer 1 para ser perfectamente correlacionada."
   ]
  },
  {
   "cell_type": "markdown",
   "id": "06466baa",
   "metadata": {},
   "source": [
    "### Graficando los datos para ver cada correlación."
   ]
  },
  {
   "cell_type": "code",
   "execution_count": 45,
   "id": "7dea3fbd",
   "metadata": {},
   "outputs": [],
   "source": [
    "sns.set() # Le decimos a Seaborn que grafique con la configuracion de defecto."
   ]
  },
  {
   "cell_type": "code",
   "execution_count": 46,
   "id": "c594c316",
   "metadata": {},
   "outputs": [
    {
     "data": {
      "image/png": "[encoded data removed]",
      "text/plain": [
       "<Figure size 900x900 with 30 Axes>"
      ]
     },
     "metadata": {},
     "output_type": "display_data"
    }
   ],
   "source": [
    "cols = [\"PBI\", \"Poblacion\", \"Doctores por persona\", \"Cines por persona\", \"Mortalidad al nacer\"]\n",
    "\n",
    "sns.pairplot(df[cols], height=2.5)\n",
    "plt.show()"
   ]
  },
  {
   "cell_type": "code",
   "execution_count": null,
   "id": "7dfdadf8",
   "metadata": {},
   "outputs": [],
   "source": []
  }
 ],
 "metadata": {
  "kernelspec": {
   "display_name": "Python 3 (ipykernel)",
   "language": "python",
   "name": "python3"
  },
  "language_info": {
   "codemirror_mode": {
    "name": "ipython",
    "version": 3
   },
   "file_extension": ".py",
   "mimetype": "text/x-python",
   "name": "python",
   "nbconvert_exporter": "python",
   "pygments_lexer": "ipython3",
   "version": "3.9.4"
  }
 },
 "nbformat": 4,
 "nbformat_minor": 5
}
