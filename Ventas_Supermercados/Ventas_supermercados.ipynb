{
 "cells": [
  {
   "cell_type": "markdown",
   "id": "b79b494a",
   "metadata": {},
   "source": [
    "---\n",
    "\n",
    "## ANALISIS SOBRE VENTAS DE SUPERMERCADOS\n",
    "\n",
    "---"
   ]
  },
  {
   "cell_type": "code",
   "execution_count": 3,
   "id": "9f50688e",
   "metadata": {
    "scrolled": true
   },
   "outputs": [
    {
     "data": {
      "text/html": [
       "<div>\n",
       "<style scoped>\n",
       "    .dataframe tbody tr th:only-of-type {\n",
       "        vertical-align: middle;\n",
       "    }\n",
       "\n",
       "    .dataframe tbody tr th {\n",
       "        vertical-align: top;\n",
       "    }\n",
       "\n",
       "    .dataframe thead th {\n",
       "        text-align: right;\n",
       "    }\n",
       "</style>\n",
       "<table border=\"1\" class=\"dataframe\">\n",
       "  <thead>\n",
       "    <tr style=\"text-align: right;\">\n",
       "      <th></th>\n",
       "      <th>Fecha</th>\n",
       "      <th>Ventas Pr Corrientes</th>\n",
       "      <th>Ventas Pr Constantes</th>\n",
       "      <th>Ventas Totales</th>\n",
       "      <th>Ventas Salon</th>\n",
       "      <th>Ventas Online</th>\n",
       "      <th>Ventas Totales Medio de pago</th>\n",
       "      <th>Efectivo</th>\n",
       "      <th>Debito</th>\n",
       "      <th>Credito</th>\n",
       "      <th>...</th>\n",
       "      <th>Almacen</th>\n",
       "      <th>Panaderia</th>\n",
       "      <th>Lacteos</th>\n",
       "      <th>Carnes</th>\n",
       "      <th>Verduleria</th>\n",
       "      <th>Rotiseria</th>\n",
       "      <th>Limpieza/Perfumeria</th>\n",
       "      <th>Indumentaria/Calzados</th>\n",
       "      <th>Electronica</th>\n",
       "      <th>Otros</th>\n",
       "    </tr>\n",
       "  </thead>\n",
       "  <tbody>\n",
       "    <tr>\n",
       "      <th>13</th>\n",
       "      <td>2018-02-01</td>\n",
       "      <td>31736824552140013</td>\n",
       "      <td>25650688732106395</td>\n",
       "      <td>3173682455214</td>\n",
       "      <td>313574448335</td>\n",
       "      <td>37937971864</td>\n",
       "      <td>3173682455214</td>\n",
       "      <td>10720300947148008</td>\n",
       "      <td>86078592800684</td>\n",
       "      <td>11364650340209996</td>\n",
       "      <td>...</td>\n",
       "      <td>769939538065</td>\n",
       "      <td>110168647128</td>\n",
       "      <td>339847722028</td>\n",
       "      <td>313691174234</td>\n",
       "      <td>124846928659</td>\n",
       "      <td>38739660138</td>\n",
       "      <td>472527713508</td>\n",
       "      <td>9050827940100002</td>\n",
       "      <td>17817398561899997</td>\n",
       "      <td>29958418654899998</td>\n",
       "    </tr>\n",
       "    <tr>\n",
       "      <th>31</th>\n",
       "      <td>2019-08-01</td>\n",
       "      <td>5967210445566601</td>\n",
       "      <td>2432991041230039</td>\n",
       "      <td>5967210445567001</td>\n",
       "      <td>5864792647731001</td>\n",
       "      <td>10241779783600001</td>\n",
       "      <td>5967210445567001</td>\n",
       "      <td>19745340249500003</td>\n",
       "      <td>16044555337071996</td>\n",
       "      <td>21781404017981987</td>\n",
       "      <td>...</td>\n",
       "      <td>1712541536678</td>\n",
       "      <td>220509844878</td>\n",
       "      <td>735148251123</td>\n",
       "      <td>64195548615259975</td>\n",
       "      <td>19037518360299997</td>\n",
       "      <td>6176985666999999</td>\n",
       "      <td>8632826213410001</td>\n",
       "      <td>12080976759300001</td>\n",
       "      <td>30735679513399997</td>\n",
       "      <td>5064885080120002</td>\n",
       "    </tr>\n",
       "    <tr>\n",
       "      <th>22</th>\n",
       "      <td>2018-11-01</td>\n",
       "      <td>4484944600603298</td>\n",
       "      <td>2489171263312131</td>\n",
       "      <td>4484944600603998</td>\n",
       "      <td>4407696079194998</td>\n",
       "      <td>77248521409</td>\n",
       "      <td>4484944600603998</td>\n",
       "      <td>15412653112490004</td>\n",
       "      <td>11132996566479996</td>\n",
       "      <td>16773555452833004</td>\n",
       "      <td>...</td>\n",
       "      <td>11863636204099998</td>\n",
       "      <td>162397248984</td>\n",
       "      <td>4918020845369999</td>\n",
       "      <td>4504157019553</td>\n",
       "      <td>159021427644</td>\n",
       "      <td>4723856955100001</td>\n",
       "      <td>6809307630779999</td>\n",
       "      <td>10237266606099999</td>\n",
       "      <td>24377363168</td>\n",
       "      <td>36068065624000006</td>\n",
       "    </tr>\n",
       "    <tr>\n",
       "      <th>56</th>\n",
       "      <td>2021-09-01</td>\n",
       "      <td>12300225242975804</td>\n",
       "      <td>2296200248544334</td>\n",
       "      <td>12300225242976002</td>\n",
       "      <td>11844751236423002</td>\n",
       "      <td>4554740065529999</td>\n",
       "      <td>12300225242976002</td>\n",
       "      <td>3808075085783998</td>\n",
       "      <td>3457538128240999</td>\n",
       "      <td>4344591137943999</td>\n",
       "      <td>...</td>\n",
       "      <td>34298836964778006</td>\n",
       "      <td>4333686607450002</td>\n",
       "      <td>14491051625599997</td>\n",
       "      <td>1472197988949</td>\n",
       "      <td>418426609273</td>\n",
       "      <td>110382394535</td>\n",
       "      <td>16336755107219998</td>\n",
       "      <td>280593430525</td>\n",
       "      <td>79771854935800005</td>\n",
       "      <td>8585647017749999</td>\n",
       "    </tr>\n",
       "    <tr>\n",
       "      <th>36</th>\n",
       "      <td>2020-01-01</td>\n",
       "      <td>7014501027272303</td>\n",
       "      <td>23483345683378706</td>\n",
       "      <td>7014501027273001</td>\n",
       "      <td>6910412761199</td>\n",
       "      <td>104088266074</td>\n",
       "      <td>7014501027273001</td>\n",
       "      <td>25121140424074013</td>\n",
       "      <td>16421681807168407</td>\n",
       "      <td>26279836484293897</td>\n",
       "      <td>...</td>\n",
       "      <td>1748911437861</td>\n",
       "      <td>2513045890880001</td>\n",
       "      <td>7612363147730001</td>\n",
       "      <td>7726181492612999</td>\n",
       "      <td>26851476436800007</td>\n",
       "      <td>74366602359</td>\n",
       "      <td>11066696534919998</td>\n",
       "      <td>17751801644500005</td>\n",
       "      <td>37682852241500006</td>\n",
       "      <td>6038180458899999</td>\n",
       "    </tr>\n",
       "  </tbody>\n",
       "</table>\n",
       "<p>5 rows × 24 columns</p>\n",
       "</div>"
      ],
      "text/plain": [
       "         Fecha  Ventas Pr Corrientes  Ventas Pr Constantes     Ventas Totales  \\\n",
       "13  2018-02-01     31736824552140013     25650688732106395      3173682455214   \n",
       "31  2019-08-01      5967210445566601      2432991041230039   5967210445567001   \n",
       "22  2018-11-01      4484944600603298      2489171263312131   4484944600603998   \n",
       "56  2021-09-01     12300225242975804      2296200248544334  12300225242976002   \n",
       "36  2020-01-01      7014501027272303     23483345683378706   7014501027273001   \n",
       "\n",
       "         Ventas Salon      Ventas Online  Ventas Totales Medio de pago  \\\n",
       "13       313574448335        37937971864                 3173682455214   \n",
       "31   5864792647731001  10241779783600001              5967210445567001   \n",
       "22   4407696079194998        77248521409              4484944600603998   \n",
       "56  11844751236423002   4554740065529999             12300225242976002   \n",
       "36      6910412761199       104088266074              7014501027273001   \n",
       "\n",
       "             Efectivo             Debito            Credito  ...  \\\n",
       "13  10720300947148008     86078592800684  11364650340209996  ...   \n",
       "31  19745340249500003  16044555337071996  21781404017981987  ...   \n",
       "22  15412653112490004  11132996566479996  16773555452833004  ...   \n",
       "56   3808075085783998   3457538128240999   4344591137943999  ...   \n",
       "36  25121140424074013  16421681807168407  26279836484293897  ...   \n",
       "\n",
       "              Almacen         Panaderia            Lacteos             Carnes  \\\n",
       "13       769939538065      110168647128       339847722028       313691174234   \n",
       "31      1712541536678      220509844878       735148251123  64195548615259975   \n",
       "22  11863636204099998      162397248984   4918020845369999      4504157019553   \n",
       "56  34298836964778006  4333686607450002  14491051625599997      1472197988949   \n",
       "36      1748911437861  2513045890880001   7612363147730001   7726181492612999   \n",
       "\n",
       "           Verduleria         Rotiseria  Limpieza/Perfumeria  \\\n",
       "13       124846928659       38739660138         472527713508   \n",
       "31  19037518360299997  6176985666999999     8632826213410001   \n",
       "22       159021427644  4723856955100001     6809307630779999   \n",
       "56       418426609273      110382394535    16336755107219998   \n",
       "36  26851476436800007       74366602359    11066696534919998   \n",
       "\n",
       "    Indumentaria/Calzados        Electronica              Otros  \n",
       "13       9050827940100002  17817398561899997  29958418654899998  \n",
       "31      12080976759300001  30735679513399997   5064885080120002  \n",
       "22      10237266606099999        24377363168  36068065624000006  \n",
       "56           280593430525  79771854935800005   8585647017749999  \n",
       "36      17751801644500005  37682852241500006   6038180458899999  \n",
       "\n",
       "[5 rows x 24 columns]"
      ]
     },
     "execution_count": 3,
     "metadata": {},
     "output_type": "execute_result"
    }
   ],
   "source": [
    "import numpy as np   # Importamos librerias de calculo\n",
    "import pandas as pd  # Importamos librerias de uso de tablas o dataframes\n",
    "import sklearn\n",
    "\n",
    "df = pd.read_csv(\"ventas_supermercados.csv\",thousands='.')  # Leer el archivo\n",
    "df\n",
    "headers = [\"Fecha\", \"Ventas Pr Corrientes\",\"Ventas Pr Constantes\", \"Ventas Totales\", \"Ventas Salon\", \"Ventas Online\", \"Ventas Totales Medio de pago\", \"Efectivo\", \"Debito\", \"Credito\", \"Otros\", \"Totales por Articulo\", \"Alimentos\", \"Bebidas\", \"Almacen\", \"Panaderia\", \"Lacteos\", \"Carnes\", \"Verduleria\", \"Rotiseria\", \"Limpieza/Perfumeria\", \"Indumentaria/Calzados\", \"Electronica\",\"Otros\"]\n",
    "df.columns = headers # Cambiar los headers por los nombres de columna para ser mas descriptivos\n",
    "df.sample(5)"
   ]
  },
  {
   "cell_type": "code",
   "execution_count": 4,
   "id": "5e0b5328",
   "metadata": {},
   "outputs": [
    {
     "name": "stdout",
     "output_type": "stream",
     "text": [
      "<class 'pandas.core.frame.DataFrame'>\n",
      "RangeIndex: 61 entries, 0 to 60\n",
      "Data columns (total 24 columns):\n",
      " #   Column                        Non-Null Count  Dtype \n",
      "---  ------                        --------------  ----- \n",
      " 0   Fecha                         61 non-null     object\n",
      " 1   Ventas Pr Corrientes          61 non-null     int64 \n",
      " 2   Ventas Pr Constantes          61 non-null     int64 \n",
      " 3   Ventas Totales                61 non-null     int64 \n",
      " 4   Ventas Salon                  61 non-null     int64 \n",
      " 5   Ventas Online                 61 non-null     int64 \n",
      " 6   Ventas Totales Medio de pago  61 non-null     int64 \n",
      " 7   Efectivo                      61 non-null     int64 \n",
      " 8   Debito                        61 non-null     int64 \n",
      " 9   Credito                       61 non-null     int64 \n",
      " 10  Otros                         61 non-null     int64 \n",
      " 11  Totales por Articulo          61 non-null     int64 \n",
      " 12  Alimentos                     61 non-null     int64 \n",
      " 13  Bebidas                       61 non-null     int64 \n",
      " 14  Almacen                       61 non-null     int64 \n",
      " 15  Panaderia                     61 non-null     int64 \n",
      " 16  Lacteos                       61 non-null     int64 \n",
      " 17  Carnes                        61 non-null     int64 \n",
      " 18  Verduleria                    61 non-null     int64 \n",
      " 19  Rotiseria                     61 non-null     int64 \n",
      " 20  Limpieza/Perfumeria           61 non-null     int64 \n",
      " 21  Indumentaria/Calzados         61 non-null     int64 \n",
      " 22  Electronica                   61 non-null     int64 \n",
      " 23  Otros                         61 non-null     int64 \n",
      "dtypes: int64(23), object(1)\n",
      "memory usage: 11.6+ KB\n"
     ]
    }
   ],
   "source": [
    "df.info() "
   ]
  },
  {
   "cell_type": "code",
   "execution_count": 5,
   "id": "5eca34b5",
   "metadata": {},
   "outputs": [],
   "source": [
    "# Estandarizamos porque los valores son muy extensos y poco manejables.\n",
    "df [\"Ventas Salon\"] = df [\"Ventas Salon\"] / df [\"Ventas Salon\"].max()\n",
    "df [\"Ventas Online\"] = df [\"Ventas Online\"] / df [\"Ventas Online\"].max()\n",
    "df [\"Efectivo\"] = df [\"Efectivo\"] / df [\"Efectivo\"].max()\n",
    "df [\"Debito\"] = df [\"Debito\"] / df [\"Debito\"].max()\n",
    "df [\"Credito\"] = df [\"Credito\"] / df [\"Credito\"].max()\n",
    "df [\"Otros\"] = df [\"Otros\"] / df [\"Otros\"].max()\n",
    "df [\"Alimentos\"] = df [\"Alimentos\"] / df [\"Alimentos\"].max()\n",
    "df [\"Bebidas\"] = df [\"Bebidas\"] / df [\"Bebidas\"].max()\n",
    "df [\"Almacen\"] = df [\"Almacen\"] / df [\"Almacen\"].max()\n",
    "df [\"Panaderia\"] = df [\"Panaderia\"] / df [\"Panaderia\"].max()\n",
    "df [\"Lacteos\"] = df [\"Lacteos\"] / df [\"Lacteos\"].max()\n",
    "df [\"Carnes\"] = df [\"Carnes\"] / df [\"Carnes\"].max()\n",
    "df [\"Verduleria\"] = df [\"Verduleria\"] / df [\"Verduleria\"].max()\n",
    "df [\"Rotiseria\"] = df [\"Rotiseria\"] / df [\"Rotiseria\"].max()\n",
    "df [\"Limpieza/Perfumeria\"] = df [\"Limpieza/Perfumeria\"] / df [\"Limpieza/Perfumeria\"].max()\n",
    "df [\"Indumentaria/Calzados\"] = df [\"Indumentaria/Calzados\"] / df [\"Indumentaria/Calzados\"].max()\n",
    "df [\"Electronica\"] = df [\"Electronica\"] / df [\"Electronica\"].max()"
   ]
  },
  {
   "cell_type": "code",
   "execution_count": 6,
   "id": "5bceaba7",
   "metadata": {},
   "outputs": [],
   "source": [
    "df.drop(['Fecha','Ventas Pr Corrientes', 'Ventas Pr Constantes', 'Ventas Totales', 'Totales por Articulo', 'Ventas Totales Medio de pago' ], axis = 'columns', inplace=True) \n",
    "# Eliminamos columnas que no vamos a utilizar en el analisis"
   ]
  },
  {
   "cell_type": "code",
   "execution_count": 7,
   "id": "3ae90de7",
   "metadata": {},
   "outputs": [
    {
     "data": {
      "text/html": [
       "<div>\n",
       "<style scoped>\n",
       "    .dataframe tbody tr th:only-of-type {\n",
       "        vertical-align: middle;\n",
       "    }\n",
       "\n",
       "    .dataframe tbody tr th {\n",
       "        vertical-align: top;\n",
       "    }\n",
       "\n",
       "    .dataframe thead th {\n",
       "        text-align: right;\n",
       "    }\n",
       "</style>\n",
       "<table border=\"1\" class=\"dataframe\">\n",
       "  <thead>\n",
       "    <tr style=\"text-align: right;\">\n",
       "      <th></th>\n",
       "      <th>Ventas Salon</th>\n",
       "      <th>Ventas Online</th>\n",
       "      <th>Efectivo</th>\n",
       "      <th>Debito</th>\n",
       "      <th>Credito</th>\n",
       "      <th>Otros</th>\n",
       "      <th>Alimentos</th>\n",
       "      <th>Bebidas</th>\n",
       "      <th>Almacen</th>\n",
       "      <th>Panaderia</th>\n",
       "      <th>Lacteos</th>\n",
       "      <th>Carnes</th>\n",
       "      <th>Verduleria</th>\n",
       "      <th>Rotiseria</th>\n",
       "      <th>Limpieza/Perfumeria</th>\n",
       "      <th>Indumentaria/Calzados</th>\n",
       "      <th>Electronica</th>\n",
       "      <th>Otros</th>\n",
       "    </tr>\n",
       "  </thead>\n",
       "  <tbody>\n",
       "    <tr>\n",
       "      <th>48</th>\n",
       "      <td>0.000142</td>\n",
       "      <td>7.086912e-01</td>\n",
       "      <td>0.067861</td>\n",
       "      <td>0.575371</td>\n",
       "      <td>0.000637</td>\n",
       "      <td>1.681496e-04</td>\n",
       "      <td>0.109368</td>\n",
       "      <td>0.000016</td>\n",
       "      <td>0.293050</td>\n",
       "      <td>0.782111</td>\n",
       "      <td>0.000015</td>\n",
       "      <td>0.000184</td>\n",
       "      <td>1.000000</td>\n",
       "      <td>1.703265e-01</td>\n",
       "      <td>0.195747</td>\n",
       "      <td>0.544624</td>\n",
       "      <td>8.030170e-06</td>\n",
       "      <td>0.103358</td>\n",
       "    </tr>\n",
       "    <tr>\n",
       "      <th>41</th>\n",
       "      <td>0.112190</td>\n",
       "      <td>7.483612e-06</td>\n",
       "      <td>0.511567</td>\n",
       "      <td>0.044693</td>\n",
       "      <td>0.543087</td>\n",
       "      <td>1.383245e-05</td>\n",
       "      <td>0.874105</td>\n",
       "      <td>0.000009</td>\n",
       "      <td>0.271675</td>\n",
       "      <td>0.660992</td>\n",
       "      <td>0.000139</td>\n",
       "      <td>0.130482</td>\n",
       "      <td>0.640408</td>\n",
       "      <td>1.063548e-05</td>\n",
       "      <td>0.148875</td>\n",
       "      <td>0.000063</td>\n",
       "      <td>7.178226e-07</td>\n",
       "      <td>0.703534</td>\n",
       "    </tr>\n",
       "    <tr>\n",
       "      <th>42</th>\n",
       "      <td>0.114987</td>\n",
       "      <td>9.617941e-06</td>\n",
       "      <td>0.530818</td>\n",
       "      <td>0.481108</td>\n",
       "      <td>0.054747</td>\n",
       "      <td>1.445538e-06</td>\n",
       "      <td>0.000090</td>\n",
       "      <td>0.097147</td>\n",
       "      <td>0.281034</td>\n",
       "      <td>0.000007</td>\n",
       "      <td>0.000014</td>\n",
       "      <td>0.131836</td>\n",
       "      <td>0.665387</td>\n",
       "      <td>1.121346e-07</td>\n",
       "      <td>0.154219</td>\n",
       "      <td>0.617647</td>\n",
       "      <td>7.678480e-06</td>\n",
       "      <td>0.076826</td>\n",
       "    </tr>\n",
       "    <tr>\n",
       "      <th>25</th>\n",
       "      <td>0.066082</td>\n",
       "      <td>1.379436e-01</td>\n",
       "      <td>0.000033</td>\n",
       "      <td>0.267908</td>\n",
       "      <td>0.283835</td>\n",
       "      <td>4.712531e-07</td>\n",
       "      <td>0.499536</td>\n",
       "      <td>0.071225</td>\n",
       "      <td>0.000014</td>\n",
       "      <td>0.417108</td>\n",
       "      <td>0.000007</td>\n",
       "      <td>0.075726</td>\n",
       "      <td>0.394347</td>\n",
       "      <td>1.053070e-01</td>\n",
       "      <td>0.094902</td>\n",
       "      <td>0.000003</td>\n",
       "      <td>2.589375e-01</td>\n",
       "      <td>0.500235</td>\n",
       "    </tr>\n",
       "    <tr>\n",
       "      <th>11</th>\n",
       "      <td>0.000006</td>\n",
       "      <td>9.075479e-08</td>\n",
       "      <td>0.000029</td>\n",
       "      <td>0.240521</td>\n",
       "      <td>0.002699</td>\n",
       "      <td>4.536607e-01</td>\n",
       "      <td>0.004378</td>\n",
       "      <td>0.080156</td>\n",
       "      <td>0.000012</td>\n",
       "      <td>0.354106</td>\n",
       "      <td>0.554643</td>\n",
       "      <td>0.572462</td>\n",
       "      <td>0.343005</td>\n",
       "      <td>1.029149e-01</td>\n",
       "      <td>0.000007</td>\n",
       "      <td>0.000003</td>\n",
       "      <td>3.581868e-06</td>\n",
       "      <td>0.058277</td>\n",
       "    </tr>\n",
       "  </tbody>\n",
       "</table>\n",
       "</div>"
      ],
      "text/plain": [
       "    Ventas Salon  Ventas Online  Efectivo    Debito   Credito         Otros  \\\n",
       "48      0.000142   7.086912e-01  0.067861  0.575371  0.000637  1.681496e-04   \n",
       "41      0.112190   7.483612e-06  0.511567  0.044693  0.543087  1.383245e-05   \n",
       "42      0.114987   9.617941e-06  0.530818  0.481108  0.054747  1.445538e-06   \n",
       "25      0.066082   1.379436e-01  0.000033  0.267908  0.283835  4.712531e-07   \n",
       "11      0.000006   9.075479e-08  0.000029  0.240521  0.002699  4.536607e-01   \n",
       "\n",
       "    Alimentos   Bebidas   Almacen  Panaderia   Lacteos    Carnes  Verduleria  \\\n",
       "48   0.109368  0.000016  0.293050   0.782111  0.000015  0.000184    1.000000   \n",
       "41   0.874105  0.000009  0.271675   0.660992  0.000139  0.130482    0.640408   \n",
       "42   0.000090  0.097147  0.281034   0.000007  0.000014  0.131836    0.665387   \n",
       "25   0.499536  0.071225  0.000014   0.417108  0.000007  0.075726    0.394347   \n",
       "11   0.004378  0.080156  0.000012   0.354106  0.554643  0.572462    0.343005   \n",
       "\n",
       "       Rotiseria  Limpieza/Perfumeria  Indumentaria/Calzados   Electronica  \\\n",
       "48  1.703265e-01             0.195747               0.544624  8.030170e-06   \n",
       "41  1.063548e-05             0.148875               0.000063  7.178226e-07   \n",
       "42  1.121346e-07             0.154219               0.617647  7.678480e-06   \n",
       "25  1.053070e-01             0.094902               0.000003  2.589375e-01   \n",
       "11  1.029149e-01             0.000007               0.000003  3.581868e-06   \n",
       "\n",
       "       Otros  \n",
       "48  0.103358  \n",
       "41  0.703534  \n",
       "42  0.076826  \n",
       "25  0.500235  \n",
       "11  0.058277  "
      ]
     },
     "execution_count": 7,
     "metadata": {},
     "output_type": "execute_result"
    }
   ],
   "source": [
    "df.sample(5)"
   ]
  },
  {
   "cell_type": "markdown",
   "id": "c96df45e",
   "metadata": {},
   "source": [
    "### ANALISIS EXPLORATORIO DE LOS DATOS: MATRIZ DE CORRELACION"
   ]
  },
  {
   "cell_type": "code",
   "execution_count": 9,
   "id": "328ce468",
   "metadata": {},
   "outputs": [
    {
     "data": {
      "text/html": [
       "<div>\n",
       "<style scoped>\n",
       "    .dataframe tbody tr th:only-of-type {\n",
       "        vertical-align: middle;\n",
       "    }\n",
       "\n",
       "    .dataframe tbody tr th {\n",
       "        vertical-align: top;\n",
       "    }\n",
       "\n",
       "    .dataframe thead th {\n",
       "        text-align: right;\n",
       "    }\n",
       "</style>\n",
       "<table border=\"1\" class=\"dataframe\">\n",
       "  <thead>\n",
       "    <tr style=\"text-align: right;\">\n",
       "      <th></th>\n",
       "      <th>Ventas Salon</th>\n",
       "      <th>Ventas Online</th>\n",
       "      <th>Efectivo</th>\n",
       "      <th>Debito</th>\n",
       "      <th>Credito</th>\n",
       "      <th>Otros</th>\n",
       "      <th>Alimentos</th>\n",
       "      <th>Bebidas</th>\n",
       "      <th>Almacen</th>\n",
       "      <th>Panaderia</th>\n",
       "      <th>Lacteos</th>\n",
       "      <th>Carnes</th>\n",
       "      <th>Verduleria</th>\n",
       "      <th>Rotiseria</th>\n",
       "      <th>Limpieza/Perfumeria</th>\n",
       "      <th>Indumentaria/Calzados</th>\n",
       "      <th>Electronica</th>\n",
       "      <th>Otros</th>\n",
       "    </tr>\n",
       "  </thead>\n",
       "  <tbody>\n",
       "    <tr>\n",
       "      <th>Ventas Salon</th>\n",
       "      <td>1.000000</td>\n",
       "      <td>0.006008</td>\n",
       "      <td>-0.071666</td>\n",
       "      <td>-0.156615</td>\n",
       "      <td>-0.188860</td>\n",
       "      <td>0.281790</td>\n",
       "      <td>0.174983</td>\n",
       "      <td>0.067734</td>\n",
       "      <td>0.120419</td>\n",
       "      <td>0.131548</td>\n",
       "      <td>0.089551</td>\n",
       "      <td>-0.064669</td>\n",
       "      <td>-0.284985</td>\n",
       "      <td>0.201157</td>\n",
       "      <td>0.006830</td>\n",
       "      <td>-0.014244</td>\n",
       "      <td>-0.033674</td>\n",
       "      <td>-0.005901</td>\n",
       "    </tr>\n",
       "    <tr>\n",
       "      <th>Ventas Online</th>\n",
       "      <td>0.006008</td>\n",
       "      <td>1.000000</td>\n",
       "      <td>0.155613</td>\n",
       "      <td>0.384561</td>\n",
       "      <td>-0.162089</td>\n",
       "      <td>-0.074588</td>\n",
       "      <td>-0.046869</td>\n",
       "      <td>0.101548</td>\n",
       "      <td>0.042913</td>\n",
       "      <td>0.279529</td>\n",
       "      <td>0.113962</td>\n",
       "      <td>-0.006981</td>\n",
       "      <td>0.170871</td>\n",
       "      <td>0.187584</td>\n",
       "      <td>-0.027990</td>\n",
       "      <td>0.184694</td>\n",
       "      <td>0.227734</td>\n",
       "      <td>-0.033864</td>\n",
       "    </tr>\n",
       "    <tr>\n",
       "      <th>Efectivo</th>\n",
       "      <td>-0.071666</td>\n",
       "      <td>0.155613</td>\n",
       "      <td>1.000000</td>\n",
       "      <td>0.421505</td>\n",
       "      <td>0.208520</td>\n",
       "      <td>-0.039767</td>\n",
       "      <td>0.005177</td>\n",
       "      <td>-0.021073</td>\n",
       "      <td>-0.019556</td>\n",
       "      <td>0.019958</td>\n",
       "      <td>-0.133889</td>\n",
       "      <td>-0.096390</td>\n",
       "      <td>0.059116</td>\n",
       "      <td>-0.038089</td>\n",
       "      <td>0.089171</td>\n",
       "      <td>-0.065131</td>\n",
       "      <td>0.064813</td>\n",
       "      <td>0.205443</td>\n",
       "    </tr>\n",
       "    <tr>\n",
       "      <th>Debito</th>\n",
       "      <td>-0.156615</td>\n",
       "      <td>0.384561</td>\n",
       "      <td>0.421505</td>\n",
       "      <td>1.000000</td>\n",
       "      <td>0.201157</td>\n",
       "      <td>-0.014001</td>\n",
       "      <td>-0.043277</td>\n",
       "      <td>-0.005891</td>\n",
       "      <td>-0.022223</td>\n",
       "      <td>0.226167</td>\n",
       "      <td>-0.142983</td>\n",
       "      <td>0.077323</td>\n",
       "      <td>0.091828</td>\n",
       "      <td>-0.000949</td>\n",
       "      <td>0.159832</td>\n",
       "      <td>-0.019069</td>\n",
       "      <td>0.060354</td>\n",
       "      <td>-0.154527</td>\n",
       "    </tr>\n",
       "    <tr>\n",
       "      <th>Credito</th>\n",
       "      <td>-0.188860</td>\n",
       "      <td>-0.162089</td>\n",
       "      <td>0.208520</td>\n",
       "      <td>0.201157</td>\n",
       "      <td>1.000000</td>\n",
       "      <td>-0.179746</td>\n",
       "      <td>-0.038855</td>\n",
       "      <td>-0.136974</td>\n",
       "      <td>-0.081020</td>\n",
       "      <td>-0.094468</td>\n",
       "      <td>-0.247526</td>\n",
       "      <td>-0.129467</td>\n",
       "      <td>0.225971</td>\n",
       "      <td>0.003202</td>\n",
       "      <td>0.013398</td>\n",
       "      <td>0.237346</td>\n",
       "      <td>-0.035137</td>\n",
       "      <td>-0.052795</td>\n",
       "    </tr>\n",
       "    <tr>\n",
       "      <th>Otros</th>\n",
       "      <td>0.281790</td>\n",
       "      <td>-0.074588</td>\n",
       "      <td>-0.039767</td>\n",
       "      <td>-0.014001</td>\n",
       "      <td>-0.179746</td>\n",
       "      <td>1.000000</td>\n",
       "      <td>0.187393</td>\n",
       "      <td>0.108649</td>\n",
       "      <td>-0.165507</td>\n",
       "      <td>0.020108</td>\n",
       "      <td>0.013458</td>\n",
       "      <td>0.222070</td>\n",
       "      <td>-0.128793</td>\n",
       "      <td>-0.034020</td>\n",
       "      <td>0.109966</td>\n",
       "      <td>-0.051689</td>\n",
       "      <td>-0.042977</td>\n",
       "      <td>-0.042701</td>\n",
       "    </tr>\n",
       "    <tr>\n",
       "      <th>Alimentos</th>\n",
       "      <td>0.174983</td>\n",
       "      <td>-0.046869</td>\n",
       "      <td>0.005177</td>\n",
       "      <td>-0.043277</td>\n",
       "      <td>-0.038855</td>\n",
       "      <td>0.187393</td>\n",
       "      <td>1.000000</td>\n",
       "      <td>0.129498</td>\n",
       "      <td>0.198182</td>\n",
       "      <td>0.171321</td>\n",
       "      <td>-0.105760</td>\n",
       "      <td>0.037625</td>\n",
       "      <td>-0.227553</td>\n",
       "      <td>-0.136424</td>\n",
       "      <td>0.179594</td>\n",
       "      <td>-0.214048</td>\n",
       "      <td>0.058444</td>\n",
       "      <td>0.339391</td>\n",
       "    </tr>\n",
       "    <tr>\n",
       "      <th>Bebidas</th>\n",
       "      <td>0.067734</td>\n",
       "      <td>0.101548</td>\n",
       "      <td>-0.021073</td>\n",
       "      <td>-0.005891</td>\n",
       "      <td>-0.136974</td>\n",
       "      <td>0.108649</td>\n",
       "      <td>0.129498</td>\n",
       "      <td>1.000000</td>\n",
       "      <td>0.371708</td>\n",
       "      <td>0.113111</td>\n",
       "      <td>0.053568</td>\n",
       "      <td>0.084784</td>\n",
       "      <td>-0.087893</td>\n",
       "      <td>0.087650</td>\n",
       "      <td>-0.094109</td>\n",
       "      <td>0.010237</td>\n",
       "      <td>0.091448</td>\n",
       "      <td>0.047860</td>\n",
       "    </tr>\n",
       "    <tr>\n",
       "      <th>Almacen</th>\n",
       "      <td>0.120419</td>\n",
       "      <td>0.042913</td>\n",
       "      <td>-0.019556</td>\n",
       "      <td>-0.022223</td>\n",
       "      <td>-0.081020</td>\n",
       "      <td>-0.165507</td>\n",
       "      <td>0.198182</td>\n",
       "      <td>0.371708</td>\n",
       "      <td>1.000000</td>\n",
       "      <td>0.037757</td>\n",
       "      <td>0.048991</td>\n",
       "      <td>0.107647</td>\n",
       "      <td>0.127689</td>\n",
       "      <td>-0.050510</td>\n",
       "      <td>-0.073154</td>\n",
       "      <td>0.030868</td>\n",
       "      <td>0.095595</td>\n",
       "      <td>0.090709</td>\n",
       "    </tr>\n",
       "    <tr>\n",
       "      <th>Panaderia</th>\n",
       "      <td>0.131548</td>\n",
       "      <td>0.279529</td>\n",
       "      <td>0.019958</td>\n",
       "      <td>0.226167</td>\n",
       "      <td>-0.094468</td>\n",
       "      <td>0.020108</td>\n",
       "      <td>0.171321</td>\n",
       "      <td>0.113111</td>\n",
       "      <td>0.037757</td>\n",
       "      <td>1.000000</td>\n",
       "      <td>0.095872</td>\n",
       "      <td>-0.139226</td>\n",
       "      <td>0.088971</td>\n",
       "      <td>-0.109708</td>\n",
       "      <td>0.128068</td>\n",
       "      <td>-0.222912</td>\n",
       "      <td>0.065207</td>\n",
       "      <td>0.019274</td>\n",
       "    </tr>\n",
       "    <tr>\n",
       "      <th>Lacteos</th>\n",
       "      <td>0.089551</td>\n",
       "      <td>0.113962</td>\n",
       "      <td>-0.133889</td>\n",
       "      <td>-0.142983</td>\n",
       "      <td>-0.247526</td>\n",
       "      <td>0.013458</td>\n",
       "      <td>-0.105760</td>\n",
       "      <td>0.053568</td>\n",
       "      <td>0.048991</td>\n",
       "      <td>0.095872</td>\n",
       "      <td>1.000000</td>\n",
       "      <td>0.101946</td>\n",
       "      <td>0.012293</td>\n",
       "      <td>0.128639</td>\n",
       "      <td>-0.161114</td>\n",
       "      <td>-0.086512</td>\n",
       "      <td>-0.005951</td>\n",
       "      <td>0.109115</td>\n",
       "    </tr>\n",
       "    <tr>\n",
       "      <th>Carnes</th>\n",
       "      <td>-0.064669</td>\n",
       "      <td>-0.006981</td>\n",
       "      <td>-0.096390</td>\n",
       "      <td>0.077323</td>\n",
       "      <td>-0.129467</td>\n",
       "      <td>0.222070</td>\n",
       "      <td>0.037625</td>\n",
       "      <td>0.084784</td>\n",
       "      <td>0.107647</td>\n",
       "      <td>-0.139226</td>\n",
       "      <td>0.101946</td>\n",
       "      <td>1.000000</td>\n",
       "      <td>-0.021048</td>\n",
       "      <td>0.086566</td>\n",
       "      <td>-0.170081</td>\n",
       "      <td>-0.048665</td>\n",
       "      <td>0.080844</td>\n",
       "      <td>-0.121209</td>\n",
       "    </tr>\n",
       "    <tr>\n",
       "      <th>Verduleria</th>\n",
       "      <td>-0.284985</td>\n",
       "      <td>0.170871</td>\n",
       "      <td>0.059116</td>\n",
       "      <td>0.091828</td>\n",
       "      <td>0.225971</td>\n",
       "      <td>-0.128793</td>\n",
       "      <td>-0.227553</td>\n",
       "      <td>-0.087893</td>\n",
       "      <td>0.127689</td>\n",
       "      <td>0.088971</td>\n",
       "      <td>0.012293</td>\n",
       "      <td>-0.021048</td>\n",
       "      <td>1.000000</td>\n",
       "      <td>-0.052604</td>\n",
       "      <td>0.078565</td>\n",
       "      <td>0.487844</td>\n",
       "      <td>-0.079810</td>\n",
       "      <td>0.048617</td>\n",
       "    </tr>\n",
       "    <tr>\n",
       "      <th>Rotiseria</th>\n",
       "      <td>0.201157</td>\n",
       "      <td>0.187584</td>\n",
       "      <td>-0.038089</td>\n",
       "      <td>-0.000949</td>\n",
       "      <td>0.003202</td>\n",
       "      <td>-0.034020</td>\n",
       "      <td>-0.136424</td>\n",
       "      <td>0.087650</td>\n",
       "      <td>-0.050510</td>\n",
       "      <td>-0.109708</td>\n",
       "      <td>0.128639</td>\n",
       "      <td>0.086566</td>\n",
       "      <td>-0.052604</td>\n",
       "      <td>1.000000</td>\n",
       "      <td>-0.139993</td>\n",
       "      <td>-0.038710</td>\n",
       "      <td>-0.088126</td>\n",
       "      <td>-0.146842</td>\n",
       "    </tr>\n",
       "    <tr>\n",
       "      <th>Limpieza/Perfumeria</th>\n",
       "      <td>0.006830</td>\n",
       "      <td>-0.027990</td>\n",
       "      <td>0.089171</td>\n",
       "      <td>0.159832</td>\n",
       "      <td>0.013398</td>\n",
       "      <td>0.109966</td>\n",
       "      <td>0.179594</td>\n",
       "      <td>-0.094109</td>\n",
       "      <td>-0.073154</td>\n",
       "      <td>0.128068</td>\n",
       "      <td>-0.161114</td>\n",
       "      <td>-0.170081</td>\n",
       "      <td>0.078565</td>\n",
       "      <td>-0.139993</td>\n",
       "      <td>1.000000</td>\n",
       "      <td>0.047455</td>\n",
       "      <td>-0.037824</td>\n",
       "      <td>0.032084</td>\n",
       "    </tr>\n",
       "    <tr>\n",
       "      <th>Indumentaria/Calzados</th>\n",
       "      <td>-0.014244</td>\n",
       "      <td>0.184694</td>\n",
       "      <td>-0.065131</td>\n",
       "      <td>-0.019069</td>\n",
       "      <td>0.237346</td>\n",
       "      <td>-0.051689</td>\n",
       "      <td>-0.214048</td>\n",
       "      <td>0.010237</td>\n",
       "      <td>0.030868</td>\n",
       "      <td>-0.222912</td>\n",
       "      <td>-0.086512</td>\n",
       "      <td>-0.048665</td>\n",
       "      <td>0.487844</td>\n",
       "      <td>-0.038710</td>\n",
       "      <td>0.047455</td>\n",
       "      <td>1.000000</td>\n",
       "      <td>-0.047283</td>\n",
       "      <td>-0.135474</td>\n",
       "    </tr>\n",
       "    <tr>\n",
       "      <th>Electronica</th>\n",
       "      <td>-0.033674</td>\n",
       "      <td>0.227734</td>\n",
       "      <td>0.064813</td>\n",
       "      <td>0.060354</td>\n",
       "      <td>-0.035137</td>\n",
       "      <td>-0.042977</td>\n",
       "      <td>0.058444</td>\n",
       "      <td>0.091448</td>\n",
       "      <td>0.095595</td>\n",
       "      <td>0.065207</td>\n",
       "      <td>-0.005951</td>\n",
       "      <td>0.080844</td>\n",
       "      <td>-0.079810</td>\n",
       "      <td>-0.088126</td>\n",
       "      <td>-0.037824</td>\n",
       "      <td>-0.047283</td>\n",
       "      <td>1.000000</td>\n",
       "      <td>-0.053843</td>\n",
       "    </tr>\n",
       "    <tr>\n",
       "      <th>Otros</th>\n",
       "      <td>-0.005901</td>\n",
       "      <td>-0.033864</td>\n",
       "      <td>0.205443</td>\n",
       "      <td>-0.154527</td>\n",
       "      <td>-0.052795</td>\n",
       "      <td>-0.042701</td>\n",
       "      <td>0.339391</td>\n",
       "      <td>0.047860</td>\n",
       "      <td>0.090709</td>\n",
       "      <td>0.019274</td>\n",
       "      <td>0.109115</td>\n",
       "      <td>-0.121209</td>\n",
       "      <td>0.048617</td>\n",
       "      <td>-0.146842</td>\n",
       "      <td>0.032084</td>\n",
       "      <td>-0.135474</td>\n",
       "      <td>-0.053843</td>\n",
       "      <td>1.000000</td>\n",
       "    </tr>\n",
       "  </tbody>\n",
       "</table>\n",
       "</div>"
      ],
      "text/plain": [
       "                       Ventas Salon  Ventas Online  Efectivo    Debito  \\\n",
       "Ventas Salon               1.000000       0.006008 -0.071666 -0.156615   \n",
       "Ventas Online              0.006008       1.000000  0.155613  0.384561   \n",
       "Efectivo                  -0.071666       0.155613  1.000000  0.421505   \n",
       "Debito                    -0.156615       0.384561  0.421505  1.000000   \n",
       "Credito                   -0.188860      -0.162089  0.208520  0.201157   \n",
       "Otros                      0.281790      -0.074588 -0.039767 -0.014001   \n",
       "Alimentos                  0.174983      -0.046869  0.005177 -0.043277   \n",
       "Bebidas                    0.067734       0.101548 -0.021073 -0.005891   \n",
       "Almacen                    0.120419       0.042913 -0.019556 -0.022223   \n",
       "Panaderia                  0.131548       0.279529  0.019958  0.226167   \n",
       "Lacteos                    0.089551       0.113962 -0.133889 -0.142983   \n",
       "Carnes                    -0.064669      -0.006981 -0.096390  0.077323   \n",
       "Verduleria                -0.284985       0.170871  0.059116  0.091828   \n",
       "Rotiseria                  0.201157       0.187584 -0.038089 -0.000949   \n",
       "Limpieza/Perfumeria        0.006830      -0.027990  0.089171  0.159832   \n",
       "Indumentaria/Calzados     -0.014244       0.184694 -0.065131 -0.019069   \n",
       "Electronica               -0.033674       0.227734  0.064813  0.060354   \n",
       "Otros                     -0.005901      -0.033864  0.205443 -0.154527   \n",
       "\n",
       "                        Credito     Otros  Alimentos   Bebidas   Almacen  \\\n",
       "Ventas Salon          -0.188860  0.281790   0.174983  0.067734  0.120419   \n",
       "Ventas Online         -0.162089 -0.074588  -0.046869  0.101548  0.042913   \n",
       "Efectivo               0.208520 -0.039767   0.005177 -0.021073 -0.019556   \n",
       "Debito                 0.201157 -0.014001  -0.043277 -0.005891 -0.022223   \n",
       "Credito                1.000000 -0.179746  -0.038855 -0.136974 -0.081020   \n",
       "Otros                 -0.179746  1.000000   0.187393  0.108649 -0.165507   \n",
       "Alimentos             -0.038855  0.187393   1.000000  0.129498  0.198182   \n",
       "Bebidas               -0.136974  0.108649   0.129498  1.000000  0.371708   \n",
       "Almacen               -0.081020 -0.165507   0.198182  0.371708  1.000000   \n",
       "Panaderia             -0.094468  0.020108   0.171321  0.113111  0.037757   \n",
       "Lacteos               -0.247526  0.013458  -0.105760  0.053568  0.048991   \n",
       "Carnes                -0.129467  0.222070   0.037625  0.084784  0.107647   \n",
       "Verduleria             0.225971 -0.128793  -0.227553 -0.087893  0.127689   \n",
       "Rotiseria              0.003202 -0.034020  -0.136424  0.087650 -0.050510   \n",
       "Limpieza/Perfumeria    0.013398  0.109966   0.179594 -0.094109 -0.073154   \n",
       "Indumentaria/Calzados  0.237346 -0.051689  -0.214048  0.010237  0.030868   \n",
       "Electronica           -0.035137 -0.042977   0.058444  0.091448  0.095595   \n",
       "Otros                 -0.052795 -0.042701   0.339391  0.047860  0.090709   \n",
       "\n",
       "                       Panaderia   Lacteos    Carnes  Verduleria  Rotiseria  \\\n",
       "Ventas Salon            0.131548  0.089551 -0.064669   -0.284985   0.201157   \n",
       "Ventas Online           0.279529  0.113962 -0.006981    0.170871   0.187584   \n",
       "Efectivo                0.019958 -0.133889 -0.096390    0.059116  -0.038089   \n",
       "Debito                  0.226167 -0.142983  0.077323    0.091828  -0.000949   \n",
       "Credito                -0.094468 -0.247526 -0.129467    0.225971   0.003202   \n",
       "Otros                   0.020108  0.013458  0.222070   -0.128793  -0.034020   \n",
       "Alimentos               0.171321 -0.105760  0.037625   -0.227553  -0.136424   \n",
       "Bebidas                 0.113111  0.053568  0.084784   -0.087893   0.087650   \n",
       "Almacen                 0.037757  0.048991  0.107647    0.127689  -0.050510   \n",
       "Panaderia               1.000000  0.095872 -0.139226    0.088971  -0.109708   \n",
       "Lacteos                 0.095872  1.000000  0.101946    0.012293   0.128639   \n",
       "Carnes                 -0.139226  0.101946  1.000000   -0.021048   0.086566   \n",
       "Verduleria              0.088971  0.012293 -0.021048    1.000000  -0.052604   \n",
       "Rotiseria              -0.109708  0.128639  0.086566   -0.052604   1.000000   \n",
       "Limpieza/Perfumeria     0.128068 -0.161114 -0.170081    0.078565  -0.139993   \n",
       "Indumentaria/Calzados  -0.222912 -0.086512 -0.048665    0.487844  -0.038710   \n",
       "Electronica             0.065207 -0.005951  0.080844   -0.079810  -0.088126   \n",
       "Otros                   0.019274  0.109115 -0.121209    0.048617  -0.146842   \n",
       "\n",
       "                       Limpieza/Perfumeria  Indumentaria/Calzados  \\\n",
       "Ventas Salon                      0.006830              -0.014244   \n",
       "Ventas Online                    -0.027990               0.184694   \n",
       "Efectivo                          0.089171              -0.065131   \n",
       "Debito                            0.159832              -0.019069   \n",
       "Credito                           0.013398               0.237346   \n",
       "Otros                             0.109966              -0.051689   \n",
       "Alimentos                         0.179594              -0.214048   \n",
       "Bebidas                          -0.094109               0.010237   \n",
       "Almacen                          -0.073154               0.030868   \n",
       "Panaderia                         0.128068              -0.222912   \n",
       "Lacteos                          -0.161114              -0.086512   \n",
       "Carnes                           -0.170081              -0.048665   \n",
       "Verduleria                        0.078565               0.487844   \n",
       "Rotiseria                        -0.139993              -0.038710   \n",
       "Limpieza/Perfumeria               1.000000               0.047455   \n",
       "Indumentaria/Calzados             0.047455               1.000000   \n",
       "Electronica                      -0.037824              -0.047283   \n",
       "Otros                             0.032084              -0.135474   \n",
       "\n",
       "                       Electronica     Otros  \n",
       "Ventas Salon             -0.033674 -0.005901  \n",
       "Ventas Online             0.227734 -0.033864  \n",
       "Efectivo                  0.064813  0.205443  \n",
       "Debito                    0.060354 -0.154527  \n",
       "Credito                  -0.035137 -0.052795  \n",
       "Otros                    -0.042977 -0.042701  \n",
       "Alimentos                 0.058444  0.339391  \n",
       "Bebidas                   0.091448  0.047860  \n",
       "Almacen                   0.095595  0.090709  \n",
       "Panaderia                 0.065207  0.019274  \n",
       "Lacteos                  -0.005951  0.109115  \n",
       "Carnes                    0.080844 -0.121209  \n",
       "Verduleria               -0.079810  0.048617  \n",
       "Rotiseria                -0.088126 -0.146842  \n",
       "Limpieza/Perfumeria      -0.037824  0.032084  \n",
       "Indumentaria/Calzados    -0.047283 -0.135474  \n",
       "Electronica               1.000000 -0.053843  \n",
       "Otros                    -0.053843  1.000000  "
      ]
     },
     "execution_count": 9,
     "metadata": {},
     "output_type": "execute_result"
    }
   ],
   "source": [
    "Cormat = df.corr()\n",
    "Cormat"
   ]
  },
  {
   "cell_type": "code",
   "execution_count": 10,
   "id": "11c35888",
   "metadata": {},
   "outputs": [],
   "source": [
    "import matplotlib.pyplot as plt\n",
    "import seaborn as sns\n",
    "%matplotlib inline"
   ]
  },
  {
   "cell_type": "code",
   "execution_count": 11,
   "id": "3ba89b73",
   "metadata": {
    "scrolled": true
   },
   "outputs": [
    {
     "data": {
      "text/plain": [
       "<AxesSubplot:>"
      ]
     },
     "execution_count": 11,
     "metadata": {},
     "output_type": "execute_result"
    },
    {
     "data": {
      "image/png": "[encoded data removed]",
      "text/plain": [
       "<Figure size 864x648 with 2 Axes>"
      ]
     },
     "metadata": {
      "needs_background": "light"
     },
     "output_type": "display_data"
    }
   ],
   "source": [
    "f, ax = plt.subplots(figsize=(12,9))\n",
    "sns.heatmap(Cormat, vmax=.6, square=True)\n",
    "# vmax: Hasta donde llega el gradiente, el difuminado de color, si fuera 1 seria hasta ser totalmente blanco.\n",
    "\n",
    "# Interpretación: Mientras mas claro sean los colores, mayor correlación habra entre variables."
   ]
  },
  {
   "cell_type": "markdown",
   "id": "e5204f82",
   "metadata": {},
   "source": [
    "#### Simplificando:\n",
    "#### Vamos a simplificar mostrando las 7 mejores correlaciones que puedo encontrar."
   ]
  },
  {
   "cell_type": "code",
   "execution_count": 12,
   "id": "d713bc2e",
   "metadata": {},
   "outputs": [],
   "source": [
    "K = 7 # Definimos cuantas columnas me va a seleccionar como las mas correlacionadas."
   ]
  },
  {
   "cell_type": "code",
   "execution_count": 13,
   "id": "4b5ca5a0",
   "metadata": {},
   "outputs": [],
   "source": [
    "cols = Cormat.nlargest(K, \"Ventas Online\")[\"Ventas Online\"].index"
   ]
  },
  {
   "cell_type": "code",
   "execution_count": 14,
   "id": "be12112b",
   "metadata": {},
   "outputs": [
    {
     "data": {
      "text/plain": [
       "Index(['Ventas Online', 'Debito', 'Panaderia', 'Electronica', 'Rotiseria',\n",
       "       'Indumentaria/Calzados', 'Verduleria'],\n",
       "      dtype='object')"
      ]
     },
     "execution_count": 14,
     "metadata": {},
     "output_type": "execute_result"
    }
   ],
   "source": [
    "cols # Me va a decir las 5 variables mas relacionadas con Ventas Online"
   ]
  },
  {
   "cell_type": "code",
   "execution_count": 15,
   "id": "ed1840f4",
   "metadata": {},
   "outputs": [],
   "source": [
    "# Definimos una nueva variable, haciendo la matriz mas chica para ver mejor las relaciones\n",
    "cm = np.corrcoef(df[cols].values.T)"
   ]
  },
  {
   "cell_type": "code",
   "execution_count": 16,
   "id": "f6ad5129",
   "metadata": {},
   "outputs": [
    {
     "data": {
      "text/plain": [
       "array([[ 1.00000000e+00,  3.84560554e-01,  2.79529171e-01,\n",
       "         2.27733924e-01,  1.87584267e-01,  1.84693971e-01,\n",
       "         1.70870879e-01],\n",
       "       [ 3.84560554e-01,  1.00000000e+00,  2.26167470e-01,\n",
       "         6.03536374e-02, -9.48627834e-04, -1.90689693e-02,\n",
       "         9.18275668e-02],\n",
       "       [ 2.79529171e-01,  2.26167470e-01,  1.00000000e+00,\n",
       "         6.52066061e-02, -1.09708347e-01, -2.22912459e-01,\n",
       "         8.89713982e-02],\n",
       "       [ 2.27733924e-01,  6.03536374e-02,  6.52066061e-02,\n",
       "         1.00000000e+00, -8.81264402e-02, -4.72825591e-02,\n",
       "        -7.98096179e-02],\n",
       "       [ 1.87584267e-01, -9.48627834e-04, -1.09708347e-01,\n",
       "        -8.81264402e-02,  1.00000000e+00, -3.87103037e-02,\n",
       "        -5.26044598e-02],\n",
       "       [ 1.84693971e-01, -1.90689693e-02, -2.22912459e-01,\n",
       "        -4.72825591e-02, -3.87103037e-02,  1.00000000e+00,\n",
       "         4.87843857e-01],\n",
       "       [ 1.70870879e-01,  9.18275668e-02,  8.89713982e-02,\n",
       "        -7.98096179e-02, -5.26044598e-02,  4.87843857e-01,\n",
       "         1.00000000e+00]])"
      ]
     },
     "execution_count": 16,
     "metadata": {},
     "output_type": "execute_result"
    }
   ],
   "source": [
    "cm"
   ]
  },
  {
   "cell_type": "code",
   "execution_count": 14,
   "id": "23f6bce4",
   "metadata": {},
   "outputs": [],
   "source": [
    "sns.set(font_scale=1.25) # Tamaño de la fuente del grafico"
   ]
  },
  {
   "cell_type": "code",
   "execution_count": 15,
   "id": "11a20c23",
   "metadata": {},
   "outputs": [
    {
     "data": {
      "image/png": "[encoded data removed]",
      "text/plain": [
       "<Figure size 432x288 with 2 Axes>"
      ]
     },
     "metadata": {},
     "output_type": "display_data"
    }
   ],
   "source": [
    "hm = sns.heatmap(cm, cbar=True, annot=True, square=True, fmt=\".2f\", annot_kws={\"size\":10,}, yticklabels=cols.values, xticklabels=cols.values)\n",
    "plt.show()"
   ]
  },
  {
   "cell_type": "markdown",
   "id": "cd9699bb",
   "metadata": {},
   "source": [
    "#### Ahora probando con \"Alimentos\" para ver las mejores correlaciones."
   ]
  },
  {
   "cell_type": "code",
   "execution_count": 17,
   "id": "e6233e29",
   "metadata": {},
   "outputs": [],
   "source": [
    "cols = Cormat.nlargest(K, \"Alimentos\")[\"Alimentos\"].index"
   ]
  },
  {
   "cell_type": "code",
   "execution_count": 18,
   "id": "3feb4b8c",
   "metadata": {},
   "outputs": [
    {
     "data": {
      "text/plain": [
       "Index(['Alimentos', 'Otros', 'Almacen', 'Otros', 'Limpieza/Perfumeria',\n",
       "       'Ventas Salon', 'Panaderia'],\n",
       "      dtype='object')"
      ]
     },
     "execution_count": 18,
     "metadata": {},
     "output_type": "execute_result"
    }
   ],
   "source": [
    "cols # Me va a decir las 5 variables mas relacionadas con Ventas Online"
   ]
  },
  {
   "cell_type": "code",
   "execution_count": 19,
   "id": "7b9c7094",
   "metadata": {},
   "outputs": [],
   "source": [
    "# Definimos una nueva variable, haciendo la matriz mas chica para ver mejor las relaciones\n",
    "cm = np.corrcoef(df[cols].values.T)"
   ]
  },
  {
   "cell_type": "code",
   "execution_count": 20,
   "id": "ccb7d0e6",
   "metadata": {},
   "outputs": [
    {
     "data": {
      "text/plain": [
       "array([[ 1.        ,  0.18739296,  0.3393906 ,  0.19818218,  0.18739296,\n",
       "         0.3393906 ,  0.17959374,  0.17498267,  0.17132116],\n",
       "       [ 0.18739296,  1.        , -0.0427008 , -0.16550654,  1.        ,\n",
       "        -0.0427008 ,  0.10996597,  0.28178982,  0.02010787],\n",
       "       [ 0.3393906 , -0.0427008 ,  1.        ,  0.09070894, -0.0427008 ,\n",
       "         1.        ,  0.03208437, -0.00590065,  0.0192739 ],\n",
       "       [ 0.19818218, -0.16550654,  0.09070894,  1.        , -0.16550654,\n",
       "         0.09070894, -0.0731543 ,  0.12041895,  0.03775736],\n",
       "       [ 0.18739296,  1.        , -0.0427008 , -0.16550654,  1.        ,\n",
       "        -0.0427008 ,  0.10996597,  0.28178982,  0.02010787],\n",
       "       [ 0.3393906 , -0.0427008 ,  1.        ,  0.09070894, -0.0427008 ,\n",
       "         1.        ,  0.03208437, -0.00590065,  0.0192739 ],\n",
       "       [ 0.17959374,  0.10996597,  0.03208437, -0.0731543 ,  0.10996597,\n",
       "         0.03208437,  1.        ,  0.00683003,  0.12806793],\n",
       "       [ 0.17498267,  0.28178982, -0.00590065,  0.12041895,  0.28178982,\n",
       "        -0.00590065,  0.00683003,  1.        ,  0.13154762],\n",
       "       [ 0.17132116,  0.02010787,  0.0192739 ,  0.03775736,  0.02010787,\n",
       "         0.0192739 ,  0.12806793,  0.13154762,  1.        ]])"
      ]
     },
     "execution_count": 20,
     "metadata": {},
     "output_type": "execute_result"
    }
   ],
   "source": [
    "cm"
   ]
  },
  {
   "cell_type": "code",
   "execution_count": 20,
   "id": "952ce8a9",
   "metadata": {},
   "outputs": [],
   "source": [
    "sns.set(font_scale=1.25) # Tamaño de la fuente del grafico"
   ]
  },
  {
   "cell_type": "code",
   "execution_count": 21,
   "id": "33c67271",
   "metadata": {
    "scrolled": true
   },
   "outputs": [
    {
     "data": {
      "image/png": "[encoded data removed]",
      "text/plain": [
       "<Figure size 432x288 with 2 Axes>"
      ]
     },
     "metadata": {},
     "output_type": "display_data"
    }
   ],
   "source": [
    "hm = sns.heatmap(cm, cbar=True, annot=True, square=True, fmt=\".2f\", annot_kws={\"size\":10,}, yticklabels=cols.values, xticklabels=cols.values)\n",
    "plt.show()"
   ]
  },
  {
   "cell_type": "markdown",
   "id": "33202488",
   "metadata": {},
   "source": [
    "#### Graficando los datos para ver cada correlación."
   ]
  },
  {
   "cell_type": "code",
   "execution_count": 21,
   "id": "6e912817",
   "metadata": {},
   "outputs": [],
   "source": [
    "sns.set() # Le decimos a Seaborn que grafique con la configuracion de defecto."
   ]
  },
  {
   "cell_type": "code",
   "execution_count": 22,
   "id": "734c48d4",
   "metadata": {},
   "outputs": [
    {
     "data": {
      "image/png": "[encoded data removed]",
      "text/plain": [
       "<Figure size 540x540 with 12 Axes>"
      ]
     },
     "metadata": {},
     "output_type": "display_data"
    }
   ],
   "source": [
    "cols = [\"Almacen\", \"Ventas Salon\", \"Limpieza/Perfumeria\"]\n",
    "\n",
    "sns.pairplot(df[cols], height=2.5)\n",
    "plt.show()"
   ]
  },
  {
   "cell_type": "markdown",
   "id": "c7244bfc",
   "metadata": {},
   "source": [
    "#### Como resultado no hay fuentes de información que posean una correlación significante. Razon por la cual voy a proceder a aplicar arboles de decisión para tratar de predecir valores."
   ]
  },
  {
   "cell_type": "markdown",
   "id": "0efd95be",
   "metadata": {},
   "source": [
    "---\n",
    "### ARBOLES DE DECISION...\n",
    "---"
   ]
  },
  {
   "cell_type": "markdown",
   "id": "a16f9484",
   "metadata": {},
   "source": [
    "#### Importamos a continuación las librerias y modulos que vamos a utilizar, luego durante el analisis importare otras mas."
   ]
  },
  {
   "cell_type": "code",
   "execution_count": 23,
   "id": "78391f0f",
   "metadata": {},
   "outputs": [],
   "source": [
    "import urllib.request\n",
    "import pandas as pd\n",
    "from sklearn.model_selection import train_test_split\n",
    "from sklearn.ensemble import RandomForestClassifier\n",
    "from sklearn.tree import DecisionTreeClassifier\n",
    "\n",
    "import numpy as np"
   ]
  },
  {
   "cell_type": "code",
   "execution_count": 24,
   "id": "6e289f96",
   "metadata": {},
   "outputs": [],
   "source": [
    "# Cargamos los datos y los dividimos en conjuntos para entrenar y testear.\n",
    "data = df\n",
    "y = data[\"Alimentos\"]\n",
    "X = data.drop([\"Alimentos\"], axis=1)\n",
    "(X_train, X_test,\n",
    " y_train, y_test) = train_test_split(X,\n",
    "                                     y,\n",
    "                                     test_size=0.33,\n",
    "                                     random_state=42)"
   ]
  },
  {
   "cell_type": "code",
   "execution_count": 25,
   "id": "8abe107b",
   "metadata": {},
   "outputs": [
    {
     "ename": "ValueError",
     "evalue": "Unknown label type: 'continuous'",
     "output_type": "error",
     "traceback": [
      "\u001b[1;31m---------------------------------------------------------------------------\u001b[0m",
      "\u001b[1;31mValueError\u001b[0m                                Traceback (most recent call last)",
      "\u001b[1;32m<ipython-input-25-261d984673c0>\u001b[0m in \u001b[0;36m<module>\u001b[1;34m\u001b[0m\n\u001b[0;32m      1\u001b[0m \u001b[1;31m# Primero creamos un arbol de decisión para ver la precisión y poder compararla\u001b[0m\u001b[1;33m\u001b[0m\u001b[1;33m\u001b[0m\u001b[1;33m\u001b[0m\u001b[0m\n\u001b[0;32m      2\u001b[0m \u001b[0mtree\u001b[0m \u001b[1;33m=\u001b[0m \u001b[0mDecisionTreeClassifier\u001b[0m\u001b[1;33m(\u001b[0m\u001b[0mmax_depth\u001b[0m\u001b[1;33m=\u001b[0m\u001b[1;36m2\u001b[0m\u001b[1;33m,\u001b[0m \u001b[0mrandom_state\u001b[0m\u001b[1;33m=\u001b[0m\u001b[1;36m11\u001b[0m\u001b[1;33m)\u001b[0m \u001b[1;31m# Max depth acorta el arbol si no salia muy grande.\u001b[0m\u001b[1;33m\u001b[0m\u001b[1;33m\u001b[0m\u001b[0m\n\u001b[1;32m----> 3\u001b[1;33m \u001b[0mtree\u001b[0m\u001b[1;33m.\u001b[0m\u001b[0mfit\u001b[0m\u001b[1;33m(\u001b[0m\u001b[0mX_train\u001b[0m\u001b[1;33m,\u001b[0m \u001b[0my_train\u001b[0m\u001b[1;33m)\u001b[0m\u001b[1;33m\u001b[0m\u001b[1;33m\u001b[0m\u001b[0m\n\u001b[0m\u001b[0;32m      4\u001b[0m \u001b[0mprint\u001b[0m\u001b[1;33m(\u001b[0m\u001b[1;34mf\"La precisión del Arbol de decisión es de: {tree.score(X_test, y_test)}\"\u001b[0m\u001b[1;33m)\u001b[0m\u001b[1;33m\u001b[0m\u001b[1;33m\u001b[0m\u001b[0m\n",
      "\u001b[1;32mc:\\users\\hector\\appdata\\local\\programs\\python\\python39\\lib\\site-packages\\sklearn\\tree\\_classes.py\u001b[0m in \u001b[0;36mfit\u001b[1;34m(self, X, y, sample_weight, check_input, X_idx_sorted)\u001b[0m\n\u001b[0;32m    901\u001b[0m         \"\"\"\n\u001b[0;32m    902\u001b[0m \u001b[1;33m\u001b[0m\u001b[0m\n\u001b[1;32m--> 903\u001b[1;33m         super().fit(\n\u001b[0m\u001b[0;32m    904\u001b[0m             \u001b[0mX\u001b[0m\u001b[1;33m,\u001b[0m \u001b[0my\u001b[0m\u001b[1;33m,\u001b[0m\u001b[1;33m\u001b[0m\u001b[1;33m\u001b[0m\u001b[0m\n\u001b[0;32m    905\u001b[0m             \u001b[0msample_weight\u001b[0m\u001b[1;33m=\u001b[0m\u001b[0msample_weight\u001b[0m\u001b[1;33m,\u001b[0m\u001b[1;33m\u001b[0m\u001b[1;33m\u001b[0m\u001b[0m\n",
      "\u001b[1;32mc:\\users\\hector\\appdata\\local\\programs\\python\\python39\\lib\\site-packages\\sklearn\\tree\\_classes.py\u001b[0m in \u001b[0;36mfit\u001b[1;34m(self, X, y, sample_weight, check_input, X_idx_sorted)\u001b[0m\n\u001b[0;32m    189\u001b[0m \u001b[1;33m\u001b[0m\u001b[0m\n\u001b[0;32m    190\u001b[0m         \u001b[1;32mif\u001b[0m \u001b[0mis_classification\u001b[0m\u001b[1;33m:\u001b[0m\u001b[1;33m\u001b[0m\u001b[1;33m\u001b[0m\u001b[0m\n\u001b[1;32m--> 191\u001b[1;33m             \u001b[0mcheck_classification_targets\u001b[0m\u001b[1;33m(\u001b[0m\u001b[0my\u001b[0m\u001b[1;33m)\u001b[0m\u001b[1;33m\u001b[0m\u001b[1;33m\u001b[0m\u001b[0m\n\u001b[0m\u001b[0;32m    192\u001b[0m             \u001b[0my\u001b[0m \u001b[1;33m=\u001b[0m \u001b[0mnp\u001b[0m\u001b[1;33m.\u001b[0m\u001b[0mcopy\u001b[0m\u001b[1;33m(\u001b[0m\u001b[0my\u001b[0m\u001b[1;33m)\u001b[0m\u001b[1;33m\u001b[0m\u001b[1;33m\u001b[0m\u001b[0m\n\u001b[0;32m    193\u001b[0m \u001b[1;33m\u001b[0m\u001b[0m\n",
      "\u001b[1;32mc:\\users\\hector\\appdata\\local\\programs\\python\\python39\\lib\\site-packages\\sklearn\\utils\\multiclass.py\u001b[0m in \u001b[0;36mcheck_classification_targets\u001b[1;34m(y)\u001b[0m\n\u001b[0;32m    181\u001b[0m     if y_type not in ['binary', 'multiclass', 'multiclass-multioutput',\n\u001b[0;32m    182\u001b[0m                       'multilabel-indicator', 'multilabel-sequences']:\n\u001b[1;32m--> 183\u001b[1;33m         \u001b[1;32mraise\u001b[0m \u001b[0mValueError\u001b[0m\u001b[1;33m(\u001b[0m\u001b[1;34m\"Unknown label type: %r\"\u001b[0m \u001b[1;33m%\u001b[0m \u001b[0my_type\u001b[0m\u001b[1;33m)\u001b[0m\u001b[1;33m\u001b[0m\u001b[1;33m\u001b[0m\u001b[0m\n\u001b[0m\u001b[0;32m    184\u001b[0m \u001b[1;33m\u001b[0m\u001b[0m\n\u001b[0;32m    185\u001b[0m \u001b[1;33m\u001b[0m\u001b[0m\n",
      "\u001b[1;31mValueError\u001b[0m: Unknown label type: 'continuous'"
     ]
    }
   ],
   "source": [
    "# Primero creamos un arbol de decisión para ver la precisión y poder compararla\n",
    "tree = DecisionTreeClassifier(max_depth=2, random_state=11) # Max depth acorta el arbol si no salia muy grande.\n",
    "tree.fit(X_train, y_train)\n",
    "print(f\"La precisión del Arbol de decisión es de: {tree.score(X_test, y_test)}\")"
   ]
  },
  {
   "cell_type": "code",
   "execution_count": 26,
   "id": "12429af2",
   "metadata": {},
   "outputs": [
    {
     "data": {
      "text/plain": [
       "'continuous'"
      ]
     },
     "execution_count": 26,
     "metadata": {},
     "output_type": "execute_result"
    }
   ],
   "source": [
    "# Como tenemos el error \"Unknown label type: 'continuous'\" que es muy comun en sklearn, procedemos a ver que variables da Y\n",
    "sklearn.utils.multiclass.type_of_target(y_train)"
   ]
  },
  {
   "cell_type": "code",
   "execution_count": 27,
   "id": "7720ae18",
   "metadata": {},
   "outputs": [],
   "source": [
    "from sklearn import preprocessing\n",
    "label_encoder = preprocessing.LabelEncoder()\n",
    "y_train = label_encoder.fit_transform(y_train)"
   ]
  },
  {
   "cell_type": "code",
   "execution_count": 28,
   "id": "0d402a35",
   "metadata": {},
   "outputs": [
    {
     "data": {
      "text/plain": [
       "'multiclass'"
      ]
     },
     "execution_count": 28,
     "metadata": {},
     "output_type": "execute_result"
    }
   ],
   "source": [
    "sklearn.utils.multiclass.type_of_target(y_train)"
   ]
  },
  {
   "cell_type": "code",
   "execution_count": 29,
   "id": "77395d07",
   "metadata": {},
   "outputs": [
    {
     "data": {
      "text/plain": [
       "DecisionTreeClassifier(max_depth=3, random_state=11)"
      ]
     },
     "execution_count": 29,
     "metadata": {},
     "output_type": "execute_result"
    }
   ],
   "source": [
    "tree = DecisionTreeClassifier(max_depth=3, random_state=11) # Max depth acorta el arbol si no salia muy grande.\n",
    "tree.fit(X_train, y_train)\n"
   ]
  },
  {
   "cell_type": "code",
   "execution_count": 30,
   "id": "b568510c",
   "metadata": {},
   "outputs": [],
   "source": [
    "from sklearn.tree import plot_tree # Importamos para graficar el arbol de decisión.\n",
    "import matplotlib.pyplot as plt # Para manejar el tamaño del grafico del arbol."
   ]
  },
  {
   "cell_type": "markdown",
   "id": "b6365176",
   "metadata": {},
   "source": [
    "### A) Visualizando el modelo"
   ]
  },
  {
   "cell_type": "code",
   "execution_count": 31,
   "id": "a02938a1",
   "metadata": {},
   "outputs": [
    {
     "data": {
      "text/plain": [
       "<Figure size 720x720 with 0 Axes>"
      ]
     },
     "execution_count": 31,
     "metadata": {},
     "output_type": "execute_result"
    },
    {
     "data": {
      "image/png": "[encoded data removed]",
      "text/plain": [
       "<Figure size 432x288 with 1 Axes>"
      ]
     },
     "metadata": {},
     "output_type": "display_data"
    },
    {
     "data": {
      "text/plain": [
       "<Figure size 720x720 with 0 Axes>"
      ]
     },
     "metadata": {},
     "output_type": "display_data"
    }
   ],
   "source": [
    "plot_tree(decision_tree=tree, feature_names=X_train.columns, filled=True, fontsize=8); # Feature=nombre de columnas, Filled=Para colorear el arbol, el punto y coma al final es para que no salga todo el texto del arbol de decision y solo el grafico\n",
    "plt.figure(figsize=(10,10))"
   ]
  },
  {
   "cell_type": "code",
   "execution_count": 32,
   "id": "8b4d7006",
   "metadata": {},
   "outputs": [],
   "source": [
    "# Valores tan grandes en el dataframe distorsionan el resultado para mostrarlo en un arbol de decisión."
   ]
  },
  {
   "cell_type": "code",
   "execution_count": null,
   "id": "ca85efba",
   "metadata": {},
   "outputs": [],
   "source": []
  }
 ],
 "metadata": {
  "kernelspec": {
   "display_name": "Python 3",
   "language": "python",
   "name": "python3"
  },
  "language_info": {
   "codemirror_mode": {
    "name": "ipython",
    "version": 3
   },
   "file_extension": ".py",
   "mimetype": "text/x-python",
   "name": "python",
   "nbconvert_exporter": "python",
   "pygments_lexer": "ipython3",
   "version": "3.9.4"
  }
 },
 "nbformat": 4,
 "nbformat_minor": 5
}
