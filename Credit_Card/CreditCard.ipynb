{
 "cells": [
  {
   "cell_type": "markdown",
   "id": "d82cb38f",
   "metadata": {},
   "source": [
    "# <div style = 'background-color:green'> <center><font color='white'>Tarjetas de crédito: usando Machine Learning para predecir elegibilidad</div>\n",
    "---"
   ]
  },
  {
   "cell_type": "markdown",
   "id": "9ba3f415",
   "metadata": {},
   "source": [
    "#### En este proyecto, se realiza un análisis de clasificación sobre un conjunto de datos personales de clientes de tarjetas de crédito. El objetivo principal es desarrollar y comparar distintos modelos de Machine Learning para identificar aquellos clientes que podrían ser elegibles para recibir una tarjeta, proporcionando así información útil y confiable para la toma de decisiones comerciales.\n",
    "#### Para iniciar, se cuenta con la siguiente base de datos, que contiene información relevante de los clientes, incluyendo variables como edad, ingresos, historial crediticio, familia, educación, entre otras. Estos datos servirán como punto de partida para el entrenamiento y validación de los modelos"
   ]
  },
  {
   "cell_type": "markdown",
   "id": "37c4e668",
   "metadata": {},
   "source": [
    "⌧Column Name\tDescription\n",
    "\n",
    "⌧ID\tAn identifier for each individual (customer).\n",
    "\n",
    "⌧Gender\tThe gender of the individual.\n",
    "\n",
    "⌧Own_car\tA binary feature indicating whether the individual owns a car.\n",
    "\n",
    "⌧Own_property\tA binary feature indicating whether the individual owns a property.\n",
    "\n",
    "⌧Work_phone\tA binary feature indicating whether the individual has a work phone.\n",
    "\n",
    "⌧Phone\tA binary feature indicating whether the individual has a phone.\n",
    "\n",
    "⌧Email\tA binary feature indicating whether the individual has provided an email address.\n",
    "\n",
    "⌧Unemployed\tA binary feature indicating whether the individual is unemployed.\n",
    "\n",
    "⌧Num_children\tThe number of children the individual has.\n",
    "\n",
    "⌧Num_family\tThe total number of family members.\n",
    "\n",
    "⌧Account_length\tThe length of the individual's account with a bank or financial institution.\n",
    "\n",
    "⌧Total_income\tThe total income of the individual.\n",
    "\n",
    "⌧Age\tThe age of the individual.\n",
    "\n",
    "⌧Years_employed\tThe number of years the individual has been employed.\n",
    "\n",
    "⌧Income_type\tThe type of income (e.g., employed, self-employed, etc.).\n",
    "\n",
    "⌧Education_type\tThe education level of the individual.\n",
    "\n",
    "⌧Family_status\tThe family status of the individual.\n",
    "\n",
    "⌧Housing_type\tThe type of housing the individual lives in.\n",
    "\n",
    "⌧Occupation_type\tThe type of occupation the individual is engaged in.\n",
    "\n",
    "⌧Target\tThe target variable for the classification task, indicating whether the individual is eligible for a credit card or not (e.g., Yes/No, 1/0)."
   ]
  },
  {
   "cell_type": "markdown",
   "id": "0cdf631a",
   "metadata": {},
   "source": [
    "## <div style = 'background-color:green'> <center><font color='white'>① Analisis exploratorio de los datos (EDA) </font></div>\n",
    "Se comienza con examinar la estructura del dataset y se describen las variables disponibles.  \n",
    "En esta etapa se busca:\n",
    "- Conocer la cantidad de registros y variables.  \n",
    "- Identificar valores nulos o duplicados.  \n",
    "- Revisar tipos de datos.  \n",
    "- Obtener estadísticas descriptivas básicas.  \n",
    "- Visualizar relaciones entre las variables mediante gráficos."
   ]
  },
  {
   "cell_type": "code",
   "execution_count": 1,
   "id": "7b17fe76",
   "metadata": {},
   "outputs": [],
   "source": [
    "# Importo librerias a utilizar\n",
    "import numpy as np\n",
    "import pandas as pd\n",
    "import seaborn as sns # Librerias de graficos\n",
    "%matplotlib inline \n",
    "import matplotlib.pyplot as plt"
   ]
  },
  {
   "cell_type": "code",
   "execution_count": 2,
   "id": "29180e3f",
   "metadata": {},
   "outputs": [
    {
     "data": {
      "text/html": [
       "<div>\n",
       "<style scoped>\n",
       "    .dataframe tbody tr th:only-of-type {\n",
       "        vertical-align: middle;\n",
       "    }\n",
       "\n",
       "    .dataframe tbody tr th {\n",
       "        vertical-align: top;\n",
       "    }\n",
       "\n",
       "    .dataframe thead th {\n",
       "        text-align: right;\n",
       "    }\n",
       "</style>\n",
       "<table border=\"1\" class=\"dataframe\">\n",
       "  <thead>\n",
       "    <tr style=\"text-align: right;\">\n",
       "      <th></th>\n",
       "      <th>ID</th>\n",
       "      <th>Gender</th>\n",
       "      <th>Own_car</th>\n",
       "      <th>Own_property</th>\n",
       "      <th>Work_phone</th>\n",
       "      <th>Phone</th>\n",
       "      <th>Email</th>\n",
       "      <th>Unemployed</th>\n",
       "      <th>Num_children</th>\n",
       "      <th>Num_family</th>\n",
       "      <th>Account_length</th>\n",
       "      <th>Total_income</th>\n",
       "      <th>Age</th>\n",
       "      <th>Years_employed</th>\n",
       "      <th>Income_type</th>\n",
       "      <th>Education_type</th>\n",
       "      <th>Family_status</th>\n",
       "      <th>Housing_type</th>\n",
       "      <th>Occupation_type</th>\n",
       "      <th>Target</th>\n",
       "    </tr>\n",
       "  </thead>\n",
       "  <tbody>\n",
       "    <tr>\n",
       "      <th>5082</th>\n",
       "      <td>5088059</td>\n",
       "      <td>0</td>\n",
       "      <td>1</td>\n",
       "      <td>1</td>\n",
       "      <td>0</td>\n",
       "      <td>0</td>\n",
       "      <td>0</td>\n",
       "      <td>0</td>\n",
       "      <td>1</td>\n",
       "      <td>3</td>\n",
       "      <td>45</td>\n",
       "      <td>360000.0</td>\n",
       "      <td>31.811742</td>\n",
       "      <td>6.776320</td>\n",
       "      <td>Working</td>\n",
       "      <td>Higher education</td>\n",
       "      <td>Married</td>\n",
       "      <td>House / apartment</td>\n",
       "      <td>Other</td>\n",
       "      <td>0</td>\n",
       "    </tr>\n",
       "    <tr>\n",
       "      <th>1278</th>\n",
       "      <td>5025245</td>\n",
       "      <td>1</td>\n",
       "      <td>1</td>\n",
       "      <td>0</td>\n",
       "      <td>0</td>\n",
       "      <td>0</td>\n",
       "      <td>0</td>\n",
       "      <td>0</td>\n",
       "      <td>0</td>\n",
       "      <td>2</td>\n",
       "      <td>41</td>\n",
       "      <td>270000.0</td>\n",
       "      <td>32.340158</td>\n",
       "      <td>1.757736</td>\n",
       "      <td>Working</td>\n",
       "      <td>Higher education</td>\n",
       "      <td>Married</td>\n",
       "      <td>House / apartment</td>\n",
       "      <td>High skill tech staff</td>\n",
       "      <td>0</td>\n",
       "    </tr>\n",
       "    <tr>\n",
       "      <th>8126</th>\n",
       "      <td>5118520</td>\n",
       "      <td>0</td>\n",
       "      <td>0</td>\n",
       "      <td>1</td>\n",
       "      <td>0</td>\n",
       "      <td>0</td>\n",
       "      <td>0</td>\n",
       "      <td>0</td>\n",
       "      <td>0</td>\n",
       "      <td>2</td>\n",
       "      <td>38</td>\n",
       "      <td>180000.0</td>\n",
       "      <td>60.754156</td>\n",
       "      <td>1.431925</td>\n",
       "      <td>Commercial associate</td>\n",
       "      <td>Higher education</td>\n",
       "      <td>Married</td>\n",
       "      <td>House / apartment</td>\n",
       "      <td>Other</td>\n",
       "      <td>0</td>\n",
       "    </tr>\n",
       "  </tbody>\n",
       "</table>\n",
       "</div>"
      ],
      "text/plain": [
       "           ID  Gender  Own_car  Own_property  Work_phone  Phone  Email  \\\n",
       "5082  5088059       0        1             1           0      0      0   \n",
       "1278  5025245       1        1             0           0      0      0   \n",
       "8126  5118520       0        0             1           0      0      0   \n",
       "\n",
       "      Unemployed  Num_children  Num_family  Account_length  Total_income  \\\n",
       "5082           0             1           3              45      360000.0   \n",
       "1278           0             0           2              41      270000.0   \n",
       "8126           0             0           2              38      180000.0   \n",
       "\n",
       "            Age  Years_employed           Income_type    Education_type  \\\n",
       "5082  31.811742        6.776320               Working  Higher education   \n",
       "1278  32.340158        1.757736               Working  Higher education   \n",
       "8126  60.754156        1.431925  Commercial associate  Higher education   \n",
       "\n",
       "     Family_status       Housing_type        Occupation_type  Target  \n",
       "5082       Married  House / apartment                  Other       0  \n",
       "1278       Married  House / apartment  High skill tech staff       0  \n",
       "8126       Married  House / apartment                  Other       0  "
      ]
     },
     "execution_count": 2,
     "metadata": {},
     "output_type": "execute_result"
    }
   ],
   "source": [
    "df = pd.read_csv(\"Creditcard.csv\")\n",
    "df.sample(3)"
   ]
  },
  {
   "cell_type": "code",
   "execution_count": 3,
   "id": "4be42e76",
   "metadata": {},
   "outputs": [],
   "source": [
    "# Cambio los encabezados de las columnas\n",
    "headers = [\"ID\", \"Genero\", \"Auto\", \"Inmueble\", \"Telefono Laboral\", \"Telefono\", \"Email\", \"Desempleado\", \"Hijos\", \"Familia\", \"Saldo\", \"Ingreso\", \"Edad\", \"Antigüedad\", \"Tipo de Ingreso\", \"Educacion\", \"Estado Civil\", \"Tipo de Casa\", \"Empleo\", \"Target\"]\n",
    "df.columns = headers"
   ]
  },
  {
   "cell_type": "code",
   "execution_count": 4,
   "id": "6cf90ccc",
   "metadata": {},
   "outputs": [
    {
     "data": {
      "text/html": [
       "<div>\n",
       "<style scoped>\n",
       "    .dataframe tbody tr th:only-of-type {\n",
       "        vertical-align: middle;\n",
       "    }\n",
       "\n",
       "    .dataframe tbody tr th {\n",
       "        vertical-align: top;\n",
       "    }\n",
       "\n",
       "    .dataframe thead th {\n",
       "        text-align: right;\n",
       "    }\n",
       "</style>\n",
       "<table border=\"1\" class=\"dataframe\">\n",
       "  <thead>\n",
       "    <tr style=\"text-align: right;\">\n",
       "      <th></th>\n",
       "      <th>ID</th>\n",
       "      <th>Genero</th>\n",
       "      <th>Auto</th>\n",
       "      <th>Inmueble</th>\n",
       "      <th>Telefono Laboral</th>\n",
       "      <th>Telefono</th>\n",
       "      <th>Email</th>\n",
       "      <th>Desempleado</th>\n",
       "      <th>Hijos</th>\n",
       "      <th>Familia</th>\n",
       "      <th>Saldo</th>\n",
       "      <th>Ingreso</th>\n",
       "      <th>Edad</th>\n",
       "      <th>Antigüedad</th>\n",
       "      <th>Tipo de Ingreso</th>\n",
       "      <th>Educacion</th>\n",
       "      <th>Estado Civil</th>\n",
       "      <th>Tipo de Casa</th>\n",
       "      <th>Empleo</th>\n",
       "      <th>Target</th>\n",
       "    </tr>\n",
       "  </thead>\n",
       "  <tbody>\n",
       "    <tr>\n",
       "      <th>5505</th>\n",
       "      <td>5090354</td>\n",
       "      <td>0</td>\n",
       "      <td>0</td>\n",
       "      <td>1</td>\n",
       "      <td>0</td>\n",
       "      <td>0</td>\n",
       "      <td>0</td>\n",
       "      <td>0</td>\n",
       "      <td>1</td>\n",
       "      <td>3</td>\n",
       "      <td>15</td>\n",
       "      <td>121500.0</td>\n",
       "      <td>42.276022</td>\n",
       "      <td>1.185514</td>\n",
       "      <td>Commercial associate</td>\n",
       "      <td>Secondary / secondary special</td>\n",
       "      <td>Civil marriage</td>\n",
       "      <td>House / apartment</td>\n",
       "      <td>Other</td>\n",
       "      <td>0</td>\n",
       "    </tr>\n",
       "    <tr>\n",
       "      <th>444</th>\n",
       "      <td>5021448</td>\n",
       "      <td>0</td>\n",
       "      <td>0</td>\n",
       "      <td>1</td>\n",
       "      <td>0</td>\n",
       "      <td>0</td>\n",
       "      <td>0</td>\n",
       "      <td>0</td>\n",
       "      <td>0</td>\n",
       "      <td>2</td>\n",
       "      <td>16</td>\n",
       "      <td>196650.0</td>\n",
       "      <td>58.632279</td>\n",
       "      <td>7.512817</td>\n",
       "      <td>Commercial associate</td>\n",
       "      <td>Secondary / secondary special</td>\n",
       "      <td>Married</td>\n",
       "      <td>House / apartment</td>\n",
       "      <td>Cleaning staff</td>\n",
       "      <td>0</td>\n",
       "    </tr>\n",
       "    <tr>\n",
       "      <th>3578</th>\n",
       "      <td>5053610</td>\n",
       "      <td>0</td>\n",
       "      <td>0</td>\n",
       "      <td>1</td>\n",
       "      <td>0</td>\n",
       "      <td>0</td>\n",
       "      <td>0</td>\n",
       "      <td>0</td>\n",
       "      <td>0</td>\n",
       "      <td>2</td>\n",
       "      <td>12</td>\n",
       "      <td>112500.0</td>\n",
       "      <td>56.370767</td>\n",
       "      <td>10.075498</td>\n",
       "      <td>Working</td>\n",
       "      <td>Secondary / secondary special</td>\n",
       "      <td>Married</td>\n",
       "      <td>Municipal apartment</td>\n",
       "      <td>Other</td>\n",
       "      <td>0</td>\n",
       "    </tr>\n",
       "  </tbody>\n",
       "</table>\n",
       "</div>"
      ],
      "text/plain": [
       "           ID  Genero  Auto  Inmueble  Telefono Laboral  Telefono  Email  \\\n",
       "5505  5090354       0     0         1                 0         0      0   \n",
       "444   5021448       0     0         1                 0         0      0   \n",
       "3578  5053610       0     0         1                 0         0      0   \n",
       "\n",
       "      Desempleado  Hijos  Familia  Saldo   Ingreso       Edad  Antigüedad  \\\n",
       "5505            0      1        3     15  121500.0  42.276022    1.185514   \n",
       "444             0      0        2     16  196650.0  58.632279    7.512817   \n",
       "3578            0      0        2     12  112500.0  56.370767   10.075498   \n",
       "\n",
       "           Tipo de Ingreso                      Educacion    Estado Civil  \\\n",
       "5505  Commercial associate  Secondary / secondary special  Civil marriage   \n",
       "444   Commercial associate  Secondary / secondary special         Married   \n",
       "3578               Working  Secondary / secondary special         Married   \n",
       "\n",
       "             Tipo de Casa          Empleo  Target  \n",
       "5505    House / apartment           Other       0  \n",
       "444     House / apartment  Cleaning staff       0  \n",
       "3578  Municipal apartment           Other       0  "
      ]
     },
     "execution_count": 4,
     "metadata": {},
     "output_type": "execute_result"
    }
   ],
   "source": [
    "df.sample(3)"
   ]
  },
  {
   "cell_type": "code",
   "execution_count": 5,
   "id": "2b8557df",
   "metadata": {},
   "outputs": [
    {
     "name": "stdout",
     "output_type": "stream",
     "text": [
      "<class 'pandas.core.frame.DataFrame'>\n",
      "RangeIndex: 9709 entries, 0 to 9708\n",
      "Data columns (total 20 columns):\n",
      " #   Column            Non-Null Count  Dtype  \n",
      "---  ------            --------------  -----  \n",
      " 0   ID                9709 non-null   int64  \n",
      " 1   Genero            9709 non-null   int64  \n",
      " 2   Auto              9709 non-null   int64  \n",
      " 3   Inmueble          9709 non-null   int64  \n",
      " 4   Telefono Laboral  9709 non-null   int64  \n",
      " 5   Telefono          9709 non-null   int64  \n",
      " 6   Email             9709 non-null   int64  \n",
      " 7   Desempleado       9709 non-null   int64  \n",
      " 8   Hijos             9709 non-null   int64  \n",
      " 9   Familia           9709 non-null   int64  \n",
      " 10  Saldo             9709 non-null   int64  \n",
      " 11  Ingreso           9709 non-null   float64\n",
      " 12  Edad              9709 non-null   float64\n",
      " 13  Antigüedad        9709 non-null   float64\n",
      " 14  Tipo de Ingreso   9709 non-null   object \n",
      " 15  Educacion         9709 non-null   object \n",
      " 16  Estado Civil      9709 non-null   object \n",
      " 17  Tipo de Casa      9709 non-null   object \n",
      " 18  Empleo            9709 non-null   object \n",
      " 19  Target            9709 non-null   int64  \n",
      "dtypes: float64(3), int64(12), object(5)\n",
      "memory usage: 1.5+ MB\n"
     ]
    }
   ],
   "source": [
    "df.info()"
   ]
  },
  {
   "cell_type": "code",
   "execution_count": 6,
   "id": "34cb7417",
   "metadata": {},
   "outputs": [
    {
     "data": {
      "text/plain": [
       "0    6323\n",
       "1    3386\n",
       "Name: Genero, dtype: int64"
      ]
     },
     "execution_count": 6,
     "metadata": {},
     "output_type": "execute_result"
    }
   ],
   "source": [
    "df.Genero.value_counts()"
   ]
  },
  {
   "cell_type": "code",
   "execution_count": 7,
   "id": "dc857d45",
   "metadata": {},
   "outputs": [
    {
     "data": {
      "image/png": "[encoded data removed]",
      "text/plain": [
       "<Figure size 576x432 with 1 Axes>"
      ]
     },
     "metadata": {},
     "output_type": "display_data"
    }
   ],
   "source": [
    "import matplotlib.pyplot as plt\n",
    "\n",
    "# Contar la cantidad de cada categoría\n",
    "counts = df['Genero'].value_counts()  # por ejemplo: {'Masculino': 60, 'Femenino': 40}\n",
    "\n",
    "# Colores personalizados\n",
    "colors = ['lightblue', 'orange']\n",
    "\n",
    "# Crear gráfico de torta\n",
    "plt.figure(figsize=(8, 6))\n",
    "plt.pie(counts, labels = ['Hombres', 'Mujeres'], autopct='%1.1f%%', startangle=90, colors=colors, explode=[0.05,0.05])\n",
    "plt.title('Distribución de Género', fontsize=10)\n",
    "plt.axis('equal')  # Para que el gráfico sea circular\n",
    "plt.show()"
   ]
  },
  {
   "cell_type": "code",
   "execution_count": 8,
   "id": "20bdd14f",
   "metadata": {},
   "outputs": [
    {
     "data": {
      "text/plain": [
       "Secondary / secondary special    6761\n",
       "Higher education                 2457\n",
       "Incomplete higher                 371\n",
       "Lower secondary                   114\n",
       "Academic degree                     6\n",
       "Name: Educacion, dtype: int64"
      ]
     },
     "execution_count": 8,
     "metadata": {},
     "output_type": "execute_result"
    }
   ],
   "source": [
    "df.Educacion.value_counts()"
   ]
  },
  {
   "cell_type": "code",
   "execution_count": 9,
   "id": "8b08ab69",
   "metadata": {},
   "outputs": [
    {
     "data": {
      "image/png": "[encoded data removed]",
      "text/plain": [
       "<Figure size 1296x432 with 1 Axes>"
      ]
     },
     "metadata": {
      "needs_background": "light"
     },
     "output_type": "display_data"
    },
    {
     "data": {
      "text/plain": [
       "<Figure size 576x396 with 0 Axes>"
      ]
     },
     "metadata": {},
     "output_type": "display_data"
    }
   ],
   "source": [
    "df['Educacion'].hist(bins=10, color='lightblue') # Vemos graficamente su distribución\n",
    "plt.title('Educación', fontsize=10)\n",
    "plt.grid(False)\n",
    "\n",
    "plt.gcf().set_size_inches(18, 6)  # Tamaño de la figura (ancho, alto)\n",
    "plt.style.use('seaborn')  # Cambiar un estilo predefinido de fondo(como 'ggplot', 'seaborn', etc.)\n",
    "plt.xticks(rotation=30) # Para rotar las etiquetas del eje X porque si no se superponen unas con otras.\n",
    "\n",
    "plt.show()\n",
    "plt.clf()"
   ]
  },
  {
   "cell_type": "code",
   "execution_count": 10,
   "id": "87e3d04e",
   "metadata": {},
   "outputs": [
    {
     "data": {
      "text/plain": [
       "0     6819\n",
       "1     1886\n",
       "2      852\n",
       "3      126\n",
       "4       18\n",
       "5        5\n",
       "19       1\n",
       "14       1\n",
       "7        1\n",
       "Name: Hijos, dtype: int64"
      ]
     },
     "execution_count": 10,
     "metadata": {},
     "output_type": "execute_result"
    }
   ],
   "source": [
    "df.Hijos.value_counts()"
   ]
  },
  {
   "cell_type": "code",
   "execution_count": 11,
   "id": "9f246a15",
   "metadata": {},
   "outputs": [
    {
     "data": {
      "image/png": "[encoded data removed]",
      "text/plain": [
       "<Figure size 1296x72 with 1 Axes>"
      ]
     },
     "metadata": {},
     "output_type": "display_data"
    }
   ],
   "source": [
    "plt.figure(figsize=(18, 1))  \n",
    "sns.boxplot(x=df['Hijos'], color=\"lightblue\")\n",
    "plt.title(\"Distribución de la variable 'Hijos'\")\n",
    "plt.show()"
   ]
  },
  {
   "cell_type": "code",
   "execution_count": 12,
   "id": "4fecd28a",
   "metadata": {},
   "outputs": [],
   "source": [
    "# Para intentar corregir estos valores extremos los reemplazo por otros mas habituales entendiendo que son pocos los outliers.\n",
    "df.Hijos = df.Hijos.replace([19], 3)\n",
    "df.Hijos = df.Hijos.replace([14], 2)\n",
    "df.Hijos = df.Hijos.replace([7], 1)"
   ]
  },
  {
   "cell_type": "code",
   "execution_count": 13,
   "id": "5d85c4e6",
   "metadata": {},
   "outputs": [
    {
     "data": {
      "image/png": "[encoded data removed]",
      "text/plain": [
       "<Figure size 1296x72 with 1 Axes>"
      ]
     },
     "metadata": {},
     "output_type": "display_data"
    }
   ],
   "source": [
    "plt.figure(figsize=(18, 1))  \n",
    "sns.boxplot(x=df['Hijos'], color=\"lightblue\")\n",
    "plt.title(\"Distribución de la variable 'Hijos'\")\n",
    "plt.show()"
   ]
  },
  {
   "cell_type": "code",
   "execution_count": 14,
   "id": "8b9c95ab",
   "metadata": {},
   "outputs": [
    {
     "data": {
      "text/plain": [
       "0    6819\n",
       "1    1887\n",
       "2     853\n",
       "3     127\n",
       "4      18\n",
       "5       5\n",
       "Name: Hijos, dtype: int64"
      ]
     },
     "execution_count": 14,
     "metadata": {},
     "output_type": "execute_result"
    }
   ],
   "source": [
    "df.Hijos.value_counts()"
   ]
  },
  {
   "cell_type": "code",
   "execution_count": 15,
   "id": "f79f6a74",
   "metadata": {
    "scrolled": true
   },
   "outputs": [
    {
     "data": {
      "image/png": "[encoded data removed]",
      "text/plain": [
       "<Figure size 1296x432 with 1 Axes>"
      ]
     },
     "metadata": {},
     "output_type": "display_data"
    },
    {
     "data": {
      "text/plain": [
       "<Figure size 576x396 with 0 Axes>"
      ]
     },
     "metadata": {},
     "output_type": "display_data"
    }
   ],
   "source": [
    "df['Hijos'].hist(bins=10, color='lightblue') # Vemos graficamente su distribución\n",
    "plt.title('Cantidad de Hijos', fontsize=10)\n",
    "plt.grid(False)\n",
    "\n",
    "plt.gcf().set_size_inches(18, 6)  # Tamaño de la figura (ancho, alto)\n",
    "plt.style.use('seaborn')  # Cambiar un estilo predefinido de fondo(como 'ggplot', 'seaborn', etc.)\n",
    "\n",
    "plt.show()\n",
    "plt.clf()"
   ]
  },
  {
   "cell_type": "code",
   "execution_count": 16,
   "id": "96c5e769",
   "metadata": {},
   "outputs": [
    {
     "data": {
      "text/html": [
       "<div>\n",
       "<style scoped>\n",
       "    .dataframe tbody tr th:only-of-type {\n",
       "        vertical-align: middle;\n",
       "    }\n",
       "\n",
       "    .dataframe tbody tr th {\n",
       "        vertical-align: top;\n",
       "    }\n",
       "\n",
       "    .dataframe thead th {\n",
       "        text-align: right;\n",
       "    }\n",
       "</style>\n",
       "<table border=\"1\" class=\"dataframe\">\n",
       "  <thead>\n",
       "    <tr style=\"text-align: right;\">\n",
       "      <th></th>\n",
       "      <th>ID</th>\n",
       "      <th>Genero</th>\n",
       "      <th>Auto</th>\n",
       "      <th>Inmueble</th>\n",
       "      <th>Telefono Laboral</th>\n",
       "      <th>Telefono</th>\n",
       "      <th>Email</th>\n",
       "      <th>Desempleado</th>\n",
       "      <th>Hijos</th>\n",
       "      <th>Familia</th>\n",
       "      <th>Saldo</th>\n",
       "      <th>Ingreso</th>\n",
       "      <th>Edad</th>\n",
       "      <th>Antigüedad</th>\n",
       "      <th>Target</th>\n",
       "    </tr>\n",
       "  </thead>\n",
       "  <tbody>\n",
       "    <tr>\n",
       "      <th>count</th>\n",
       "      <td>9.709000e+03</td>\n",
       "      <td>9709.000000</td>\n",
       "      <td>9709.000000</td>\n",
       "      <td>9709.000000</td>\n",
       "      <td>9709.000000</td>\n",
       "      <td>9709.000000</td>\n",
       "      <td>9709.000000</td>\n",
       "      <td>9709.000000</td>\n",
       "      <td>9709.000000</td>\n",
       "      <td>9709.000000</td>\n",
       "      <td>9709.000000</td>\n",
       "      <td>9.709000e+03</td>\n",
       "      <td>9709.000000</td>\n",
       "      <td>9709.000000</td>\n",
       "      <td>9709.000000</td>\n",
       "    </tr>\n",
       "    <tr>\n",
       "      <th>mean</th>\n",
       "      <td>5.076105e+06</td>\n",
       "      <td>0.348749</td>\n",
       "      <td>0.367700</td>\n",
       "      <td>0.671542</td>\n",
       "      <td>0.217427</td>\n",
       "      <td>0.287671</td>\n",
       "      <td>0.087548</td>\n",
       "      <td>0.174683</td>\n",
       "      <td>0.419302</td>\n",
       "      <td>2.182614</td>\n",
       "      <td>27.270059</td>\n",
       "      <td>1.812282e+05</td>\n",
       "      <td>43.784093</td>\n",
       "      <td>5.664730</td>\n",
       "      <td>0.132145</td>\n",
       "    </tr>\n",
       "    <tr>\n",
       "      <th>std</th>\n",
       "      <td>4.080270e+04</td>\n",
       "      <td>0.476599</td>\n",
       "      <td>0.482204</td>\n",
       "      <td>0.469677</td>\n",
       "      <td>0.412517</td>\n",
       "      <td>0.452700</td>\n",
       "      <td>0.282650</td>\n",
       "      <td>0.379716</td>\n",
       "      <td>0.728208</td>\n",
       "      <td>0.932918</td>\n",
       "      <td>16.648057</td>\n",
       "      <td>9.927731e+04</td>\n",
       "      <td>11.625768</td>\n",
       "      <td>6.342241</td>\n",
       "      <td>0.338666</td>\n",
       "    </tr>\n",
       "    <tr>\n",
       "      <th>min</th>\n",
       "      <td>5.008804e+06</td>\n",
       "      <td>0.000000</td>\n",
       "      <td>0.000000</td>\n",
       "      <td>0.000000</td>\n",
       "      <td>0.000000</td>\n",
       "      <td>0.000000</td>\n",
       "      <td>0.000000</td>\n",
       "      <td>0.000000</td>\n",
       "      <td>0.000000</td>\n",
       "      <td>1.000000</td>\n",
       "      <td>0.000000</td>\n",
       "      <td>2.700000e+04</td>\n",
       "      <td>20.504186</td>\n",
       "      <td>0.000000</td>\n",
       "      <td>0.000000</td>\n",
       "    </tr>\n",
       "    <tr>\n",
       "      <th>25%</th>\n",
       "      <td>5.036955e+06</td>\n",
       "      <td>0.000000</td>\n",
       "      <td>0.000000</td>\n",
       "      <td>0.000000</td>\n",
       "      <td>0.000000</td>\n",
       "      <td>0.000000</td>\n",
       "      <td>0.000000</td>\n",
       "      <td>0.000000</td>\n",
       "      <td>0.000000</td>\n",
       "      <td>2.000000</td>\n",
       "      <td>13.000000</td>\n",
       "      <td>1.125000e+05</td>\n",
       "      <td>34.059563</td>\n",
       "      <td>0.928150</td>\n",
       "      <td>0.000000</td>\n",
       "    </tr>\n",
       "    <tr>\n",
       "      <th>50%</th>\n",
       "      <td>5.069449e+06</td>\n",
       "      <td>0.000000</td>\n",
       "      <td>0.000000</td>\n",
       "      <td>1.000000</td>\n",
       "      <td>0.000000</td>\n",
       "      <td>0.000000</td>\n",
       "      <td>0.000000</td>\n",
       "      <td>0.000000</td>\n",
       "      <td>0.000000</td>\n",
       "      <td>2.000000</td>\n",
       "      <td>26.000000</td>\n",
       "      <td>1.575000e+05</td>\n",
       "      <td>42.741466</td>\n",
       "      <td>3.761884</td>\n",
       "      <td>0.000000</td>\n",
       "    </tr>\n",
       "    <tr>\n",
       "      <th>75%</th>\n",
       "      <td>5.112986e+06</td>\n",
       "      <td>1.000000</td>\n",
       "      <td>1.000000</td>\n",
       "      <td>1.000000</td>\n",
       "      <td>0.000000</td>\n",
       "      <td>1.000000</td>\n",
       "      <td>0.000000</td>\n",
       "      <td>0.000000</td>\n",
       "      <td>1.000000</td>\n",
       "      <td>3.000000</td>\n",
       "      <td>41.000000</td>\n",
       "      <td>2.250000e+05</td>\n",
       "      <td>53.567151</td>\n",
       "      <td>8.200031</td>\n",
       "      <td>0.000000</td>\n",
       "    </tr>\n",
       "    <tr>\n",
       "      <th>max</th>\n",
       "      <td>5.150479e+06</td>\n",
       "      <td>1.000000</td>\n",
       "      <td>1.000000</td>\n",
       "      <td>1.000000</td>\n",
       "      <td>1.000000</td>\n",
       "      <td>1.000000</td>\n",
       "      <td>1.000000</td>\n",
       "      <td>1.000000</td>\n",
       "      <td>5.000000</td>\n",
       "      <td>20.000000</td>\n",
       "      <td>60.000000</td>\n",
       "      <td>1.575000e+06</td>\n",
       "      <td>68.863837</td>\n",
       "      <td>43.020733</td>\n",
       "      <td>1.000000</td>\n",
       "    </tr>\n",
       "  </tbody>\n",
       "</table>\n",
       "</div>"
      ],
      "text/plain": [
       "                 ID       Genero         Auto     Inmueble  Telefono Laboral  \\\n",
       "count  9.709000e+03  9709.000000  9709.000000  9709.000000       9709.000000   \n",
       "mean   5.076105e+06     0.348749     0.367700     0.671542          0.217427   \n",
       "std    4.080270e+04     0.476599     0.482204     0.469677          0.412517   \n",
       "min    5.008804e+06     0.000000     0.000000     0.000000          0.000000   \n",
       "25%    5.036955e+06     0.000000     0.000000     0.000000          0.000000   \n",
       "50%    5.069449e+06     0.000000     0.000000     1.000000          0.000000   \n",
       "75%    5.112986e+06     1.000000     1.000000     1.000000          0.000000   \n",
       "max    5.150479e+06     1.000000     1.000000     1.000000          1.000000   \n",
       "\n",
       "          Telefono        Email  Desempleado        Hijos      Familia  \\\n",
       "count  9709.000000  9709.000000  9709.000000  9709.000000  9709.000000   \n",
       "mean      0.287671     0.087548     0.174683     0.419302     2.182614   \n",
       "std       0.452700     0.282650     0.379716     0.728208     0.932918   \n",
       "min       0.000000     0.000000     0.000000     0.000000     1.000000   \n",
       "25%       0.000000     0.000000     0.000000     0.000000     2.000000   \n",
       "50%       0.000000     0.000000     0.000000     0.000000     2.000000   \n",
       "75%       1.000000     0.000000     0.000000     1.000000     3.000000   \n",
       "max       1.000000     1.000000     1.000000     5.000000    20.000000   \n",
       "\n",
       "             Saldo       Ingreso         Edad   Antigüedad       Target  \n",
       "count  9709.000000  9.709000e+03  9709.000000  9709.000000  9709.000000  \n",
       "mean     27.270059  1.812282e+05    43.784093     5.664730     0.132145  \n",
       "std      16.648057  9.927731e+04    11.625768     6.342241     0.338666  \n",
       "min       0.000000  2.700000e+04    20.504186     0.000000     0.000000  \n",
       "25%      13.000000  1.125000e+05    34.059563     0.928150     0.000000  \n",
       "50%      26.000000  1.575000e+05    42.741466     3.761884     0.000000  \n",
       "75%      41.000000  2.250000e+05    53.567151     8.200031     0.000000  \n",
       "max      60.000000  1.575000e+06    68.863837    43.020733     1.000000  "
      ]
     },
     "execution_count": 16,
     "metadata": {},
     "output_type": "execute_result"
    }
   ],
   "source": [
    "df.describe()"
   ]
  },
  {
   "cell_type": "code",
   "execution_count": 17,
   "id": "320bd9dc",
   "metadata": {},
   "outputs": [
    {
     "data": {
      "image/png": "[encoded data removed]",
      "text/plain": [
       "<Figure size 1296x720 with 2 Axes>"
      ]
     },
     "metadata": {},
     "output_type": "display_data"
    }
   ],
   "source": [
    "corr_matrix = df.corr()\n",
    "plt.figure(figsize=(18, 10))\n",
    "sns.heatmap(corr_matrix, annot=True, fmt=\".2f\", cmap='Blues')\n",
    "plt.title('Mapa de calor - Correlaciones')\n",
    "plt.show()"
   ]
  },
  {
   "cell_type": "markdown",
   "id": "018123e6",
   "metadata": {},
   "source": [
    "## <div style = 'background-color:Lightblue'> <center><font color='white'>② Preparación y limpieza de los datos </font></div>\n",
    "  \n",
    "En esta etapa se realiza la preparación del conjunto de datos para el modelado.\n",
    "El objetivo es garantizar que la información sea coherente, completa y utilizable por los algoritmos de aprendizaje automático.\n",
    "Se incluyen tareas:\n",
    "- Tratamiento de valores faltantes.\n",
    "- Codificación de variables categóricas.\n",
    "- Escalado o normalización de variables numéricas.    \n",
    "De este modo, los datos quedarán listos para desarrollar modelos confiables y precisos."
   ]
  },
  {
   "cell_type": "code",
   "execution_count": 18,
   "id": "22276240",
   "metadata": {},
   "outputs": [
    {
     "name": "stdout",
     "output_type": "stream",
     "text": [
      "False\n"
     ]
    }
   ],
   "source": [
    "# Chequeo de valores nulos\n",
    "check_for_nan = df.isnull().values.any()\n",
    "print (check_for_nan)"
   ]
  },
  {
   "cell_type": "code",
   "execution_count": 19,
   "id": "a6c3624c",
   "metadata": {},
   "outputs": [
    {
     "data": {
      "text/plain": [
       "ID                    int64\n",
       "Genero                int64\n",
       "Auto                  int64\n",
       "Inmueble              int64\n",
       "Telefono Laboral      int64\n",
       "Telefono              int64\n",
       "Email                 int64\n",
       "Desempleado           int64\n",
       "Hijos                 int64\n",
       "Familia               int64\n",
       "Saldo                 int64\n",
       "Ingreso             float64\n",
       "Edad                float64\n",
       "Antigüedad          float64\n",
       "Tipo de Ingreso      object\n",
       "Educacion            object\n",
       "Estado Civil         object\n",
       "Tipo de Casa         object\n",
       "Empleo               object\n",
       "Target                int64\n",
       "dtype: object"
      ]
     },
     "execution_count": 19,
     "metadata": {},
     "output_type": "execute_result"
    }
   ],
   "source": [
    "df.dtypes"
   ]
  },
  {
   "cell_type": "code",
   "execution_count": 20,
   "id": "4a3cfa87",
   "metadata": {},
   "outputs": [
    {
     "data": {
      "text/html": [
       "<div>\n",
       "<style scoped>\n",
       "    .dataframe tbody tr th:only-of-type {\n",
       "        vertical-align: middle;\n",
       "    }\n",
       "\n",
       "    .dataframe tbody tr th {\n",
       "        vertical-align: top;\n",
       "    }\n",
       "\n",
       "    .dataframe thead th {\n",
       "        text-align: right;\n",
       "    }\n",
       "</style>\n",
       "<table border=\"1\" class=\"dataframe\">\n",
       "  <thead>\n",
       "    <tr style=\"text-align: right;\">\n",
       "      <th></th>\n",
       "      <th>ID</th>\n",
       "      <th>Genero</th>\n",
       "      <th>Auto</th>\n",
       "      <th>Inmueble</th>\n",
       "      <th>Telefono Laboral</th>\n",
       "      <th>Telefono</th>\n",
       "      <th>Email</th>\n",
       "      <th>Desempleado</th>\n",
       "      <th>Hijos</th>\n",
       "      <th>Familia</th>\n",
       "      <th>Saldo</th>\n",
       "      <th>Ingreso</th>\n",
       "      <th>Edad</th>\n",
       "      <th>Antigüedad</th>\n",
       "      <th>Tipo de Ingreso</th>\n",
       "      <th>Educacion</th>\n",
       "      <th>Estado Civil</th>\n",
       "      <th>Tipo de Casa</th>\n",
       "      <th>Empleo</th>\n",
       "      <th>Target</th>\n",
       "    </tr>\n",
       "  </thead>\n",
       "  <tbody>\n",
       "    <tr>\n",
       "      <th>9009</th>\n",
       "      <td>5142698</td>\n",
       "      <td>0</td>\n",
       "      <td>1</td>\n",
       "      <td>0</td>\n",
       "      <td>1</td>\n",
       "      <td>0</td>\n",
       "      <td>0</td>\n",
       "      <td>0</td>\n",
       "      <td>0</td>\n",
       "      <td>2</td>\n",
       "      <td>29</td>\n",
       "      <td>95850.0</td>\n",
       "      <td>51.831318</td>\n",
       "      <td>18.283743</td>\n",
       "      <td>Commercial associate</td>\n",
       "      <td>Secondary / secondary special</td>\n",
       "      <td>Married</td>\n",
       "      <td>House / apartment</td>\n",
       "      <td>Laborers</td>\n",
       "      <td>0</td>\n",
       "    </tr>\n",
       "    <tr>\n",
       "      <th>5143</th>\n",
       "      <td>5088805</td>\n",
       "      <td>1</td>\n",
       "      <td>1</td>\n",
       "      <td>1</td>\n",
       "      <td>1</td>\n",
       "      <td>1</td>\n",
       "      <td>0</td>\n",
       "      <td>0</td>\n",
       "      <td>0</td>\n",
       "      <td>2</td>\n",
       "      <td>12</td>\n",
       "      <td>225000.0</td>\n",
       "      <td>37.558608</td>\n",
       "      <td>10.113828</td>\n",
       "      <td>State servant</td>\n",
       "      <td>Secondary / secondary special</td>\n",
       "      <td>Married</td>\n",
       "      <td>House / apartment</td>\n",
       "      <td>High skill tech staff</td>\n",
       "      <td>0</td>\n",
       "    </tr>\n",
       "    <tr>\n",
       "      <th>787</th>\n",
       "      <td>5023407</td>\n",
       "      <td>0</td>\n",
       "      <td>0</td>\n",
       "      <td>1</td>\n",
       "      <td>0</td>\n",
       "      <td>1</td>\n",
       "      <td>0</td>\n",
       "      <td>0</td>\n",
       "      <td>0</td>\n",
       "      <td>2</td>\n",
       "      <td>11</td>\n",
       "      <td>135000.0</td>\n",
       "      <td>54.147587</td>\n",
       "      <td>15.058489</td>\n",
       "      <td>Working</td>\n",
       "      <td>Secondary / secondary special</td>\n",
       "      <td>Married</td>\n",
       "      <td>House / apartment</td>\n",
       "      <td>Cooking staff</td>\n",
       "      <td>0</td>\n",
       "    </tr>\n",
       "  </tbody>\n",
       "</table>\n",
       "</div>"
      ],
      "text/plain": [
       "           ID  Genero  Auto  Inmueble  Telefono Laboral  Telefono  Email  \\\n",
       "9009  5142698       0     1         0                 1         0      0   \n",
       "5143  5088805       1     1         1                 1         1      0   \n",
       "787   5023407       0     0         1                 0         1      0   \n",
       "\n",
       "      Desempleado  Hijos  Familia  Saldo   Ingreso       Edad  Antigüedad  \\\n",
       "9009            0      0        2     29   95850.0  51.831318   18.283743   \n",
       "5143            0      0        2     12  225000.0  37.558608   10.113828   \n",
       "787             0      0        2     11  135000.0  54.147587   15.058489   \n",
       "\n",
       "           Tipo de Ingreso                      Educacion Estado Civil  \\\n",
       "9009  Commercial associate  Secondary / secondary special      Married   \n",
       "5143         State servant  Secondary / secondary special      Married   \n",
       "787                Working  Secondary / secondary special      Married   \n",
       "\n",
       "           Tipo de Casa                 Empleo  Target  \n",
       "9009  House / apartment               Laborers       0  \n",
       "5143  House / apartment  High skill tech staff       0  \n",
       "787   House / apartment          Cooking staff       0  "
      ]
     },
     "execution_count": 20,
     "metadata": {},
     "output_type": "execute_result"
    }
   ],
   "source": [
    "df.sample(3)"
   ]
  },
  {
   "cell_type": "code",
   "execution_count": 21,
   "id": "c1ed2e4a",
   "metadata": {},
   "outputs": [],
   "source": [
    "# La variable \"Edad\" y \"Antiguedad\" presentan valores con decimales, no es muy apropiado usar los con valores representados\n",
    "# de esa forma, por lo que procedo a convertir a numeros enteros."
   ]
  },
  {
   "cell_type": "code",
   "execution_count": 22,
   "id": "2c74c455",
   "metadata": {},
   "outputs": [],
   "source": [
    "df['Edad'] = df['Edad'].round(0).astype(int)\n",
    "# round(0) para redondear\n",
    "# astype(int) convierte en enteros asi no quedan decimales\n",
    "df['Antigüedad'] = df['Antigüedad'].round(0).astype(int)"
   ]
  },
  {
   "cell_type": "code",
   "execution_count": 23,
   "id": "8d6c518f",
   "metadata": {},
   "outputs": [
    {
     "data": {
      "text/plain": [
       "0    8426\n",
       "1    1283\n",
       "Name: Target, dtype: int64"
      ]
     },
     "execution_count": 23,
     "metadata": {},
     "output_type": "execute_result"
    }
   ],
   "source": [
    "df['Target'].value_counts()"
   ]
  },
  {
   "cell_type": "code",
   "execution_count": 24,
   "id": "ac7e5741",
   "metadata": {},
   "outputs": [
    {
     "data": {
      "text/html": [
       "<div>\n",
       "<style scoped>\n",
       "    .dataframe tbody tr th:only-of-type {\n",
       "        vertical-align: middle;\n",
       "    }\n",
       "\n",
       "    .dataframe tbody tr th {\n",
       "        vertical-align: top;\n",
       "    }\n",
       "\n",
       "    .dataframe thead th {\n",
       "        text-align: right;\n",
       "    }\n",
       "</style>\n",
       "<table border=\"1\" class=\"dataframe\">\n",
       "  <thead>\n",
       "    <tr style=\"text-align: right;\">\n",
       "      <th></th>\n",
       "      <th>ID</th>\n",
       "      <th>Genero</th>\n",
       "      <th>Auto</th>\n",
       "      <th>Inmueble</th>\n",
       "      <th>Telefono Laboral</th>\n",
       "      <th>Telefono</th>\n",
       "      <th>Email</th>\n",
       "      <th>Desempleado</th>\n",
       "      <th>Hijos</th>\n",
       "      <th>Familia</th>\n",
       "      <th>Saldo</th>\n",
       "      <th>Ingreso</th>\n",
       "      <th>Edad</th>\n",
       "      <th>Antigüedad</th>\n",
       "      <th>Tipo de Ingreso</th>\n",
       "      <th>Educacion</th>\n",
       "      <th>Estado Civil</th>\n",
       "      <th>Tipo de Casa</th>\n",
       "      <th>Empleo</th>\n",
       "      <th>Target</th>\n",
       "    </tr>\n",
       "  </thead>\n",
       "  <tbody>\n",
       "    <tr>\n",
       "      <th>2887</th>\n",
       "      <td>5045286</td>\n",
       "      <td>0</td>\n",
       "      <td>0</td>\n",
       "      <td>1</td>\n",
       "      <td>0</td>\n",
       "      <td>0</td>\n",
       "      <td>0</td>\n",
       "      <td>0</td>\n",
       "      <td>0</td>\n",
       "      <td>1</td>\n",
       "      <td>37</td>\n",
       "      <td>67500.0</td>\n",
       "      <td>48</td>\n",
       "      <td>25</td>\n",
       "      <td>Working</td>\n",
       "      <td>Secondary / secondary special</td>\n",
       "      <td>Single / not married</td>\n",
       "      <td>House / apartment</td>\n",
       "      <td>Medicine staff</td>\n",
       "      <td>1</td>\n",
       "    </tr>\n",
       "    <tr>\n",
       "      <th>817</th>\n",
       "      <td>5023594</td>\n",
       "      <td>1</td>\n",
       "      <td>0</td>\n",
       "      <td>1</td>\n",
       "      <td>0</td>\n",
       "      <td>0</td>\n",
       "      <td>0</td>\n",
       "      <td>1</td>\n",
       "      <td>0</td>\n",
       "      <td>2</td>\n",
       "      <td>34</td>\n",
       "      <td>135000.0</td>\n",
       "      <td>63</td>\n",
       "      <td>0</td>\n",
       "      <td>Pensioner</td>\n",
       "      <td>Secondary / secondary special</td>\n",
       "      <td>Married</td>\n",
       "      <td>House / apartment</td>\n",
       "      <td>Other</td>\n",
       "      <td>0</td>\n",
       "    </tr>\n",
       "    <tr>\n",
       "      <th>758</th>\n",
       "      <td>5023257</td>\n",
       "      <td>1</td>\n",
       "      <td>1</td>\n",
       "      <td>1</td>\n",
       "      <td>0</td>\n",
       "      <td>0</td>\n",
       "      <td>0</td>\n",
       "      <td>0</td>\n",
       "      <td>0</td>\n",
       "      <td>2</td>\n",
       "      <td>40</td>\n",
       "      <td>180000.0</td>\n",
       "      <td>58</td>\n",
       "      <td>5</td>\n",
       "      <td>Commercial associate</td>\n",
       "      <td>Secondary / secondary special</td>\n",
       "      <td>Married</td>\n",
       "      <td>House / apartment</td>\n",
       "      <td>Drivers</td>\n",
       "      <td>0</td>\n",
       "    </tr>\n",
       "  </tbody>\n",
       "</table>\n",
       "</div>"
      ],
      "text/plain": [
       "           ID  Genero  Auto  Inmueble  Telefono Laboral  Telefono  Email  \\\n",
       "2887  5045286       0     0         1                 0         0      0   \n",
       "817   5023594       1     0         1                 0         0      0   \n",
       "758   5023257       1     1         1                 0         0      0   \n",
       "\n",
       "      Desempleado  Hijos  Familia  Saldo   Ingreso  Edad  Antigüedad  \\\n",
       "2887            0      0        1     37   67500.0    48          25   \n",
       "817             1      0        2     34  135000.0    63           0   \n",
       "758             0      0        2     40  180000.0    58           5   \n",
       "\n",
       "           Tipo de Ingreso                      Educacion  \\\n",
       "2887               Working  Secondary / secondary special   \n",
       "817              Pensioner  Secondary / secondary special   \n",
       "758   Commercial associate  Secondary / secondary special   \n",
       "\n",
       "              Estado Civil       Tipo de Casa          Empleo  Target  \n",
       "2887  Single / not married  House / apartment  Medicine staff       1  \n",
       "817                Married  House / apartment           Other       0  \n",
       "758                Married  House / apartment         Drivers       0  "
      ]
     },
     "execution_count": 24,
     "metadata": {},
     "output_type": "execute_result"
    }
   ],
   "source": [
    "df.sample(3)"
   ]
  },
  {
   "cell_type": "code",
   "execution_count": null,
   "id": "d81f0ee1",
   "metadata": {},
   "outputs": [],
   "source": []
  }
 ],
 "metadata": {
  "kernelspec": {
   "display_name": "Python 3",
   "language": "python",
   "name": "python3"
  },
  "language_info": {
   "codemirror_mode": {
    "name": "ipython",
    "version": 3
   },
   "file_extension": ".py",
   "mimetype": "text/x-python",
   "name": "python",
   "nbconvert_exporter": "python",
   "pygments_lexer": "ipython3",
   "version": "3.9.4"
  }
 },
 "nbformat": 4,
 "nbformat_minor": 5
}
