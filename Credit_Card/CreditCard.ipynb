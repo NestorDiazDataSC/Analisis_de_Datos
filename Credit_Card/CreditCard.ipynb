{
 "cells": [
  {
   "cell_type": "markdown",
   "id": "d82cb38f",
   "metadata": {},
   "source": [
    "# <div style = 'background-color:green'> <center><font color='white'>Tarjetas de crédito: usando Machine Learning para predecir elegibilidad</div>\n",
    "---"
   ]
  },
  {
   "cell_type": "markdown",
   "id": "0491e173",
   "metadata": {},
   "source": [
    "#### En este proyecto, se realiza un análisis de clasificación sobre un conjunto de datos personales de clientes de tarjetas de crédito. El objetivo principal es desarrollar y comparar distintos modelos de Machine Learning para identificar aquellos clientes que podrían ser elegibles para recibir una tarjeta, proporcionando así información útil y confiable para la toma de decisiones comerciales.\n",
    "#### Para iniciar, se cuenta con la siguiente base de datos, que contiene información relevante de los clientes, incluyendo variables como edad, ingresos, historial crediticio, familia, educación, entre otras. Estos datos servirán como punto de partida para el entrenamiento y validación de los modelos"
   ]
  },
  {
   "cell_type": "markdown",
   "id": "891448f3",
   "metadata": {},
   "source": [
    "⌧Column Name\tDescription\n",
    "\n",
    "⌧ID\tAn identifier for each individual (customer).\n",
    "\n",
    "⌧Gender\tThe gender of the individual.\n",
    "\n",
    "⌧Own_car\tA binary feature indicating whether the individual owns a car.\n",
    "\n",
    "⌧Own_property\tA binary feature indicating whether the individual owns a property.\n",
    "\n",
    "⌧Work_phone\tA binary feature indicating whether the individual has a work phone.\n",
    "\n",
    "⌧Phone\tA binary feature indicating whether the individual has a phone.\n",
    "\n",
    "⌧Email\tA binary feature indicating whether the individual has provided an email address.\n",
    "\n",
    "⌧Unemployed\tA binary feature indicating whether the individual is unemployed.\n",
    "\n",
    "⌧Num_children\tThe number of children the individual has.\n",
    "\n",
    "⌧Num_family\tThe total number of family members.\n",
    "\n",
    "⌧Account_length\tThe length of the individual's account with a bank or financial institution.\n",
    "\n",
    "⌧Total_income\tThe total income of the individual.\n",
    "\n",
    "⌧Age\tThe age of the individual.\n",
    "\n",
    "⌧Years_employed\tThe number of years the individual has been employed.\n",
    "\n",
    "⌧Income_type\tThe type of income (e.g., employed, self-employed, etc.).\n",
    "\n",
    "⌧Education_type\tThe education level of the individual.\n",
    "\n",
    "⌧Family_status\tThe family status of the individual.\n",
    "\n",
    "⌧Housing_type\tThe type of housing the individual lives in.\n",
    "\n",
    "⌧Occupation_type\tThe type of occupation the individual is engaged in.\n",
    "\n",
    "⌧Target\tThe target variable for the classification task, indicating whether the individual is eligible for a credit card or not (e.g., Yes/No, 1/0)."
   ]
  },
  {
   "cell_type": "markdown",
   "id": "4e7b2b3b",
   "metadata": {},
   "source": [
    "## <div style = 'background-color:green'> <center><font color='white'>① Analisis exploratorio de los datos (EDA) </font></div>\n",
    "Se comienza con examinar la estructura del dataset y se describen las variables disponibles.  \n",
    "En esta etapa se busca:\n",
    "- Conocer la cantidad de registros y variables.  \n",
    "- Identificar valores nulos o duplicados.  \n",
    "- Revisar tipos de datos.  \n",
    "- Obtener estadísticas descriptivas básicas.  \n",
    "- Visualizar relaciones entre las variables mediante gráficos."
   ]
  },
  {
   "cell_type": "code",
   "execution_count": 1,
   "id": "7b17fe76",
   "metadata": {},
   "outputs": [],
   "source": [
    "# Importo librerias a utilizar\n",
    "import numpy as np\n",
    "import pandas as pd\n",
    "import seaborn as sns # Librerias de graficos\n",
    "%matplotlib inline \n",
    "import matplotlib.pyplot as plt"
   ]
  },
  {
   "cell_type": "code",
   "execution_count": 2,
   "id": "29180e3f",
   "metadata": {},
   "outputs": [
    {
     "data": {
      "text/html": [
       "<div>\n",
       "<style scoped>\n",
       "    .dataframe tbody tr th:only-of-type {\n",
       "        vertical-align: middle;\n",
       "    }\n",
       "\n",
       "    .dataframe tbody tr th {\n",
       "        vertical-align: top;\n",
       "    }\n",
       "\n",
       "    .dataframe thead th {\n",
       "        text-align: right;\n",
       "    }\n",
       "</style>\n",
       "<table border=\"1\" class=\"dataframe\">\n",
       "  <thead>\n",
       "    <tr style=\"text-align: right;\">\n",
       "      <th></th>\n",
       "      <th>ID</th>\n",
       "      <th>Gender</th>\n",
       "      <th>Own_car</th>\n",
       "      <th>Own_property</th>\n",
       "      <th>Work_phone</th>\n",
       "      <th>Phone</th>\n",
       "      <th>Email</th>\n",
       "      <th>Unemployed</th>\n",
       "      <th>Num_children</th>\n",
       "      <th>Num_family</th>\n",
       "      <th>Account_length</th>\n",
       "      <th>Total_income</th>\n",
       "      <th>Age</th>\n",
       "      <th>Years_employed</th>\n",
       "      <th>Income_type</th>\n",
       "      <th>Education_type</th>\n",
       "      <th>Family_status</th>\n",
       "      <th>Housing_type</th>\n",
       "      <th>Occupation_type</th>\n",
       "      <th>Target</th>\n",
       "    </tr>\n",
       "  </thead>\n",
       "  <tbody>\n",
       "    <tr>\n",
       "      <th>260</th>\n",
       "      <td>5010317</td>\n",
       "      <td>1</td>\n",
       "      <td>0</td>\n",
       "      <td>0</td>\n",
       "      <td>0</td>\n",
       "      <td>0</td>\n",
       "      <td>1</td>\n",
       "      <td>0</td>\n",
       "      <td>0</td>\n",
       "      <td>2</td>\n",
       "      <td>45</td>\n",
       "      <td>135000.0</td>\n",
       "      <td>25.990951</td>\n",
       "      <td>0.355928</td>\n",
       "      <td>Commercial associate</td>\n",
       "      <td>Higher education</td>\n",
       "      <td>Married</td>\n",
       "      <td>House / apartment</td>\n",
       "      <td>Cooking staff</td>\n",
       "      <td>0</td>\n",
       "    </tr>\n",
       "    <tr>\n",
       "      <th>4477</th>\n",
       "      <td>5067567</td>\n",
       "      <td>1</td>\n",
       "      <td>0</td>\n",
       "      <td>1</td>\n",
       "      <td>0</td>\n",
       "      <td>0</td>\n",
       "      <td>1</td>\n",
       "      <td>0</td>\n",
       "      <td>0</td>\n",
       "      <td>2</td>\n",
       "      <td>4</td>\n",
       "      <td>157500.0</td>\n",
       "      <td>25.495390</td>\n",
       "      <td>2.998008</td>\n",
       "      <td>Working</td>\n",
       "      <td>Secondary / secondary special</td>\n",
       "      <td>Civil marriage</td>\n",
       "      <td>House / apartment</td>\n",
       "      <td>Laborers</td>\n",
       "      <td>0</td>\n",
       "    </tr>\n",
       "    <tr>\n",
       "      <th>3713</th>\n",
       "      <td>5054454</td>\n",
       "      <td>1</td>\n",
       "      <td>1</td>\n",
       "      <td>1</td>\n",
       "      <td>1</td>\n",
       "      <td>1</td>\n",
       "      <td>0</td>\n",
       "      <td>0</td>\n",
       "      <td>0</td>\n",
       "      <td>1</td>\n",
       "      <td>10</td>\n",
       "      <td>157500.0</td>\n",
       "      <td>22.746531</td>\n",
       "      <td>3.581182</td>\n",
       "      <td>Working</td>\n",
       "      <td>Secondary / secondary special</td>\n",
       "      <td>Single / not married</td>\n",
       "      <td>House / apartment</td>\n",
       "      <td>Other</td>\n",
       "      <td>0</td>\n",
       "    </tr>\n",
       "  </tbody>\n",
       "</table>\n",
       "</div>"
      ],
      "text/plain": [
       "           ID  Gender  Own_car  Own_property  Work_phone  Phone  Email  \\\n",
       "260   5010317       1        0             0           0      0      1   \n",
       "4477  5067567       1        0             1           0      0      1   \n",
       "3713  5054454       1        1             1           1      1      0   \n",
       "\n",
       "      Unemployed  Num_children  Num_family  Account_length  Total_income  \\\n",
       "260            0             0           2              45      135000.0   \n",
       "4477           0             0           2               4      157500.0   \n",
       "3713           0             0           1              10      157500.0   \n",
       "\n",
       "            Age  Years_employed           Income_type  \\\n",
       "260   25.990951        0.355928  Commercial associate   \n",
       "4477  25.495390        2.998008               Working   \n",
       "3713  22.746531        3.581182               Working   \n",
       "\n",
       "                     Education_type         Family_status       Housing_type  \\\n",
       "260                Higher education               Married  House / apartment   \n",
       "4477  Secondary / secondary special        Civil marriage  House / apartment   \n",
       "3713  Secondary / secondary special  Single / not married  House / apartment   \n",
       "\n",
       "     Occupation_type  Target  \n",
       "260    Cooking staff       0  \n",
       "4477        Laborers       0  \n",
       "3713           Other       0  "
      ]
     },
     "execution_count": 2,
     "metadata": {},
     "output_type": "execute_result"
    }
   ],
   "source": [
    "df = pd.read_csv(\"Creditcard.csv\")\n",
    "df.sample(3)"
   ]
  },
  {
   "cell_type": "code",
   "execution_count": 3,
   "id": "4be42e76",
   "metadata": {},
   "outputs": [],
   "source": [
    "# Cambio los encabezados de las columnas\n",
    "headers = [\"ID\", \"Genero\", \"Auto\", \"Inmueble\", \"Telefono Laboral\", \"Telefono\", \"Email\", \"Desempleado\", \"Hijos\", \"Familia\", \"Saldo\", \"Ingreso\", \"Edad\", \"Antigüedad\", \"Tipo de Ingreso\", \"Educacion\", \"Estado Civil\", \"Tipo de Casa\", \"Empleo\", \"Target\"]\n",
    "df.columns = headers"
   ]
  },
  {
   "cell_type": "code",
   "execution_count": 4,
   "id": "6cf90ccc",
   "metadata": {},
   "outputs": [
    {
     "data": {
      "text/html": [
       "<div>\n",
       "<style scoped>\n",
       "    .dataframe tbody tr th:only-of-type {\n",
       "        vertical-align: middle;\n",
       "    }\n",
       "\n",
       "    .dataframe tbody tr th {\n",
       "        vertical-align: top;\n",
       "    }\n",
       "\n",
       "    .dataframe thead th {\n",
       "        text-align: right;\n",
       "    }\n",
       "</style>\n",
       "<table border=\"1\" class=\"dataframe\">\n",
       "  <thead>\n",
       "    <tr style=\"text-align: right;\">\n",
       "      <th></th>\n",
       "      <th>ID</th>\n",
       "      <th>Genero</th>\n",
       "      <th>Auto</th>\n",
       "      <th>Inmueble</th>\n",
       "      <th>Telefono Laboral</th>\n",
       "      <th>Telefono</th>\n",
       "      <th>Email</th>\n",
       "      <th>Desempleado</th>\n",
       "      <th>Hijos</th>\n",
       "      <th>Familia</th>\n",
       "      <th>Saldo</th>\n",
       "      <th>Ingreso</th>\n",
       "      <th>Edad</th>\n",
       "      <th>Antigüedad</th>\n",
       "      <th>Tipo de Ingreso</th>\n",
       "      <th>Educacion</th>\n",
       "      <th>Estado Civil</th>\n",
       "      <th>Tipo de Casa</th>\n",
       "      <th>Empleo</th>\n",
       "      <th>Target</th>\n",
       "    </tr>\n",
       "  </thead>\n",
       "  <tbody>\n",
       "    <tr>\n",
       "      <th>8557</th>\n",
       "      <td>5135270</td>\n",
       "      <td>0</td>\n",
       "      <td>0</td>\n",
       "      <td>1</td>\n",
       "      <td>0</td>\n",
       "      <td>0</td>\n",
       "      <td>0</td>\n",
       "      <td>1</td>\n",
       "      <td>0</td>\n",
       "      <td>2</td>\n",
       "      <td>53</td>\n",
       "      <td>216000.0</td>\n",
       "      <td>63.281245</td>\n",
       "      <td>0.000000</td>\n",
       "      <td>Pensioner</td>\n",
       "      <td>Secondary / secondary special</td>\n",
       "      <td>Married</td>\n",
       "      <td>House / apartment</td>\n",
       "      <td>Other</td>\n",
       "      <td>0</td>\n",
       "    </tr>\n",
       "    <tr>\n",
       "      <th>3868</th>\n",
       "      <td>5058382</td>\n",
       "      <td>0</td>\n",
       "      <td>0</td>\n",
       "      <td>0</td>\n",
       "      <td>0</td>\n",
       "      <td>0</td>\n",
       "      <td>0</td>\n",
       "      <td>0</td>\n",
       "      <td>0</td>\n",
       "      <td>1</td>\n",
       "      <td>6</td>\n",
       "      <td>112500.0</td>\n",
       "      <td>25.821201</td>\n",
       "      <td>0.391521</td>\n",
       "      <td>Working</td>\n",
       "      <td>Higher education</td>\n",
       "      <td>Single / not married</td>\n",
       "      <td>House / apartment</td>\n",
       "      <td>Core staff</td>\n",
       "      <td>0</td>\n",
       "    </tr>\n",
       "    <tr>\n",
       "      <th>9067</th>\n",
       "      <td>5143040</td>\n",
       "      <td>0</td>\n",
       "      <td>0</td>\n",
       "      <td>0</td>\n",
       "      <td>1</td>\n",
       "      <td>0</td>\n",
       "      <td>0</td>\n",
       "      <td>0</td>\n",
       "      <td>0</td>\n",
       "      <td>1</td>\n",
       "      <td>38</td>\n",
       "      <td>135000.0</td>\n",
       "      <td>28.392096</td>\n",
       "      <td>3.789263</td>\n",
       "      <td>State servant</td>\n",
       "      <td>Higher education</td>\n",
       "      <td>Single / not married</td>\n",
       "      <td>House / apartment</td>\n",
       "      <td>Accountants</td>\n",
       "      <td>0</td>\n",
       "    </tr>\n",
       "  </tbody>\n",
       "</table>\n",
       "</div>"
      ],
      "text/plain": [
       "           ID  Genero  Auto  Inmueble  Telefono Laboral  Telefono  Email  \\\n",
       "8557  5135270       0     0         1                 0         0      0   \n",
       "3868  5058382       0     0         0                 0         0      0   \n",
       "9067  5143040       0     0         0                 1         0      0   \n",
       "\n",
       "      Desempleado  Hijos  Familia  Saldo   Ingreso       Edad  Antigüedad  \\\n",
       "8557            1      0        2     53  216000.0  63.281245    0.000000   \n",
       "3868            0      0        1      6  112500.0  25.821201    0.391521   \n",
       "9067            0      0        1     38  135000.0  28.392096    3.789263   \n",
       "\n",
       "     Tipo de Ingreso                      Educacion          Estado Civil  \\\n",
       "8557       Pensioner  Secondary / secondary special               Married   \n",
       "3868         Working               Higher education  Single / not married   \n",
       "9067   State servant               Higher education  Single / not married   \n",
       "\n",
       "           Tipo de Casa       Empleo  Target  \n",
       "8557  House / apartment        Other       0  \n",
       "3868  House / apartment   Core staff       0  \n",
       "9067  House / apartment  Accountants       0  "
      ]
     },
     "execution_count": 4,
     "metadata": {},
     "output_type": "execute_result"
    }
   ],
   "source": [
    "df.sample(3)"
   ]
  },
  {
   "cell_type": "code",
   "execution_count": 5,
   "id": "2b8557df",
   "metadata": {},
   "outputs": [
    {
     "name": "stdout",
     "output_type": "stream",
     "text": [
      "<class 'pandas.core.frame.DataFrame'>\n",
      "RangeIndex: 9709 entries, 0 to 9708\n",
      "Data columns (total 20 columns):\n",
      " #   Column            Non-Null Count  Dtype  \n",
      "---  ------            --------------  -----  \n",
      " 0   ID                9709 non-null   int64  \n",
      " 1   Genero            9709 non-null   int64  \n",
      " 2   Auto              9709 non-null   int64  \n",
      " 3   Inmueble          9709 non-null   int64  \n",
      " 4   Telefono Laboral  9709 non-null   int64  \n",
      " 5   Telefono          9709 non-null   int64  \n",
      " 6   Email             9709 non-null   int64  \n",
      " 7   Desempleado       9709 non-null   int64  \n",
      " 8   Hijos             9709 non-null   int64  \n",
      " 9   Familia           9709 non-null   int64  \n",
      " 10  Saldo             9709 non-null   int64  \n",
      " 11  Ingreso           9709 non-null   float64\n",
      " 12  Edad              9709 non-null   float64\n",
      " 13  Antigüedad        9709 non-null   float64\n",
      " 14  Tipo de Ingreso   9709 non-null   object \n",
      " 15  Educacion         9709 non-null   object \n",
      " 16  Estado Civil      9709 non-null   object \n",
      " 17  Tipo de Casa      9709 non-null   object \n",
      " 18  Empleo            9709 non-null   object \n",
      " 19  Target            9709 non-null   int64  \n",
      "dtypes: float64(3), int64(12), object(5)\n",
      "memory usage: 1.5+ MB\n"
     ]
    }
   ],
   "source": [
    "df.info()"
   ]
  },
  {
   "cell_type": "code",
   "execution_count": 6,
   "id": "34cb7417",
   "metadata": {},
   "outputs": [
    {
     "data": {
      "text/plain": [
       "0    6323\n",
       "1    3386\n",
       "Name: Genero, dtype: int64"
      ]
     },
     "execution_count": 6,
     "metadata": {},
     "output_type": "execute_result"
    }
   ],
   "source": [
    "df.Genero.value_counts()"
   ]
  },
  {
   "cell_type": "code",
   "execution_count": 7,
   "id": "349b5f79",
   "metadata": {},
   "outputs": [
    {
     "data": {
      "image/png": "[encoded data removed]",
      "text/plain": [
       "<Figure size 576x432 with 1 Axes>"
      ]
     },
     "metadata": {},
     "output_type": "display_data"
    }
   ],
   "source": [
    "import matplotlib.pyplot as plt\n",
    "\n",
    "# Contar la cantidad de cada categoría\n",
    "counts = df['Genero'].value_counts()  # por ejemplo: {'Masculino': 60, 'Femenino': 40}\n",
    "\n",
    "# Colores personalizados\n",
    "colors = ['lightblue', 'orange']\n",
    "\n",
    "# Crear gráfico de torta\n",
    "plt.figure(figsize=(8, 6))\n",
    "plt.pie(counts, labels = ['Hombres', 'Mujeres'], autopct='%1.1f%%', startangle=90, colors=colors, explode=[0.05,0.05])\n",
    "plt.title('Distribución de Género', fontsize=10)\n",
    "plt.axis('equal')  # Para que el gráfico sea circular\n",
    "plt.show()"
   ]
  },
  {
   "cell_type": "code",
   "execution_count": 8,
   "id": "20bdd14f",
   "metadata": {},
   "outputs": [
    {
     "data": {
      "text/plain": [
       "Secondary / secondary special    6761\n",
       "Higher education                 2457\n",
       "Incomplete higher                 371\n",
       "Lower secondary                   114\n",
       "Academic degree                     6\n",
       "Name: Educacion, dtype: int64"
      ]
     },
     "execution_count": 8,
     "metadata": {},
     "output_type": "execute_result"
    }
   ],
   "source": [
    "df.Educacion.value_counts()"
   ]
  },
  {
   "cell_type": "code",
   "execution_count": 9,
   "id": "8b08ab69",
   "metadata": {},
   "outputs": [
    {
     "data": {
      "image/png": "[encoded data removed]",
      "text/plain": [
       "<Figure size 1296x432 with 1 Axes>"
      ]
     },
     "metadata": {
      "needs_background": "light"
     },
     "output_type": "display_data"
    },
    {
     "data": {
      "text/plain": [
       "<Figure size 576x396 with 0 Axes>"
      ]
     },
     "metadata": {},
     "output_type": "display_data"
    }
   ],
   "source": [
    "df['Educacion'].hist(bins=10, color='lightblue') # Vemos graficamente su distribución\n",
    "plt.title('Educación', fontsize=10)\n",
    "plt.grid(False)\n",
    "\n",
    "plt.gcf().set_size_inches(18, 6)  # Tamaño de la figura (ancho, alto)\n",
    "plt.style.use('seaborn')  # Cambiar un estilo predefinido de fondo(como 'ggplot', 'seaborn', etc.)\n",
    "plt.xticks(rotation=30) # Para rotar las etiquetas del eje X porque si no se superponen unas con otras.\n",
    "\n",
    "plt.show()\n",
    "plt.clf()"
   ]
  },
  {
   "cell_type": "code",
   "execution_count": 10,
   "id": "87e3d04e",
   "metadata": {},
   "outputs": [
    {
     "data": {
      "text/plain": [
       "0     6819\n",
       "1     1886\n",
       "2      852\n",
       "3      126\n",
       "4       18\n",
       "5        5\n",
       "19       1\n",
       "14       1\n",
       "7        1\n",
       "Name: Hijos, dtype: int64"
      ]
     },
     "execution_count": 10,
     "metadata": {},
     "output_type": "execute_result"
    }
   ],
   "source": [
    "df.Hijos.value_counts()"
   ]
  },
  {
   "cell_type": "code",
   "execution_count": 11,
   "id": "41a9b020",
   "metadata": {},
   "outputs": [
    {
     "data": {
      "image/png": "[encoded data removed]",
      "text/plain": [
       "<Figure size 1296x72 with 1 Axes>"
      ]
     },
     "metadata": {},
     "output_type": "display_data"
    }
   ],
   "source": [
    "plt.figure(figsize=(18, 1))  \n",
    "sns.boxplot(x=df['Hijos'], color=\"lightblue\")\n",
    "plt.title(\"Distribución de la variable 'Hijos'\")\n",
    "plt.show()"
   ]
  },
  {
   "cell_type": "code",
   "execution_count": 12,
   "id": "4fecd28a",
   "metadata": {},
   "outputs": [],
   "source": [
    "# Para intentar corregir estos valores extremos los reemplazo por otros mas habituales entendiendo que son pocos los outliers.\n",
    "df.Hijos = df.Hijos.replace([19], 3)\n",
    "df.Hijos = df.Hijos.replace([14], 2)\n",
    "df.Hijos = df.Hijos.replace([7], 1)"
   ]
  },
  {
   "cell_type": "code",
   "execution_count": 13,
   "id": "76c93a24",
   "metadata": {},
   "outputs": [
    {
     "data": {
      "image/png": "[encoded data removed]",
      "text/plain": [
       "<Figure size 1296x72 with 1 Axes>"
      ]
     },
     "metadata": {},
     "output_type": "display_data"
    }
   ],
   "source": [
    "plt.figure(figsize=(18, 1))  \n",
    "sns.boxplot(x=df['Hijos'], color=\"lightblue\")\n",
    "plt.title(\"Distribución de la variable 'Hijos'\")\n",
    "plt.show()"
   ]
  },
  {
   "cell_type": "code",
   "execution_count": 14,
   "id": "8b9c95ab",
   "metadata": {},
   "outputs": [
    {
     "data": {
      "text/plain": [
       "0    6819\n",
       "1    1887\n",
       "2     853\n",
       "3     127\n",
       "4      18\n",
       "5       5\n",
       "Name: Hijos, dtype: int64"
      ]
     },
     "execution_count": 14,
     "metadata": {},
     "output_type": "execute_result"
    }
   ],
   "source": [
    "df.Hijos.value_counts()"
   ]
  },
  {
   "cell_type": "code",
   "execution_count": 15,
   "id": "f79f6a74",
   "metadata": {
    "scrolled": true
   },
   "outputs": [
    {
     "data": {
      "image/png": "[encoded data removed]",
      "text/plain": [
       "<Figure size 1296x360 with 1 Axes>"
      ]
     },
     "metadata": {},
     "output_type": "display_data"
    },
    {
     "data": {
      "text/plain": [
       "<Figure size 576x396 with 0 Axes>"
      ]
     },
     "metadata": {},
     "output_type": "display_data"
    }
   ],
   "source": [
    "df['Hijos'].hist(bins=10, color='lightblue') # Vemos graficamente su distribución\n",
    "plt.title('Cantidad de Hijos', fontsize=10)\n",
    "plt.grid(False)\n",
    "\n",
    "plt.gcf().set_size_inches(18, 5)  # Tamaño de la figura (ancho, alto)\n",
    "plt.style.use('seaborn')  # Cambiar un estilo predefinido de fondo(como 'ggplot', 'seaborn', etc.)\n",
    "\n",
    "plt.show()\n",
    "plt.clf()"
   ]
  },
  {
   "cell_type": "code",
   "execution_count": 16,
   "id": "ec99e1ce",
   "metadata": {},
   "outputs": [
    {
     "data": {
      "text/plain": [
       "0    8426\n",
       "1    1283\n",
       "Name: Target, dtype: int64"
      ]
     },
     "execution_count": 16,
     "metadata": {},
     "output_type": "execute_result"
    }
   ],
   "source": [
    "df.Target.value_counts()"
   ]
  },
  {
   "cell_type": "code",
   "execution_count": 17,
   "id": "7dfdd174",
   "metadata": {},
   "outputs": [
    {
     "data": {
      "image/png": "[encoded data removed]",
      "text/plain": [
       "<Figure size 576x432 with 1 Axes>"
      ]
     },
     "metadata": {},
     "output_type": "display_data"
    }
   ],
   "source": [
    "counts = df['Target'].value_counts() \n",
    "\n",
    "# Colores personalizados\n",
    "colors = ['lightblue', 'orange']\n",
    "\n",
    "# Crear gráfico de torta\n",
    "plt.figure(figsize=(8, 6))\n",
    "plt.pie(counts, labels = ['No se le otorga la Tarjeta', 'Se le otorga Tarjeta'], autopct='%1.1f%%', startangle=90, colors=colors, explode=[0.05,0.05])\n",
    "plt.title('Distribución de Clientes', fontsize=10)\n",
    "plt.axis('equal')  # Para que el gráfico sea circular\n",
    "plt.show()"
   ]
  },
  {
   "cell_type": "markdown",
   "id": "24fd4c60",
   "metadata": {},
   "source": [
    "<div class=\"alert alert-warning\">La variable objetivo es si un cliente recibe o no la tarjeta de crédito:\n",
    "    \n",
    "\n",
    "    \n",
    "- Clase positiva: “Se le otorga tarjeta” → pocos casos.\n",
    "\n",
    "- Clase negativa: “No se le otorga” → mayoría de casos.\n",
    "    \n",
    "\n",
    "Esto genera un desequilibrio fuerte entre clases. Por ejemplo:\n",
    "\n",
    "- No aprobado\t8,000\t87%\n",
    "- Se le otorga tarjeta\t1,200\t13%\n",
    "\n",
    "Lo que pasa si no se corrige el desequilibrio, es que como los modelos tienden a predecir siempre la clase mayoritaria (“No aprobado” en este caso) e ignorar la clase que es mas rara, porque eso minimiza el error global, voy a tener resultados como el Accuracy que parece en numeros que es bueno y pero tambien obtendre que no detecta ningun cliente aprobable. Las métricas en esta situación engañan: un modelo que parece exacto en realidad no sirve para detectar clientes que sí podrían obtener la tarjeta.\n",
    "\n",
    "</div>"
   ]
  },
  {
   "cell_type": "code",
   "execution_count": 18,
   "id": "96c5e769",
   "metadata": {},
   "outputs": [
    {
     "data": {
      "text/html": [
       "<div>\n",
       "<style scoped>\n",
       "    .dataframe tbody tr th:only-of-type {\n",
       "        vertical-align: middle;\n",
       "    }\n",
       "\n",
       "    .dataframe tbody tr th {\n",
       "        vertical-align: top;\n",
       "    }\n",
       "\n",
       "    .dataframe thead th {\n",
       "        text-align: right;\n",
       "    }\n",
       "</style>\n",
       "<table border=\"1\" class=\"dataframe\">\n",
       "  <thead>\n",
       "    <tr style=\"text-align: right;\">\n",
       "      <th></th>\n",
       "      <th>ID</th>\n",
       "      <th>Genero</th>\n",
       "      <th>Auto</th>\n",
       "      <th>Inmueble</th>\n",
       "      <th>Telefono Laboral</th>\n",
       "      <th>Telefono</th>\n",
       "      <th>Email</th>\n",
       "      <th>Desempleado</th>\n",
       "      <th>Hijos</th>\n",
       "      <th>Familia</th>\n",
       "      <th>Saldo</th>\n",
       "      <th>Ingreso</th>\n",
       "      <th>Edad</th>\n",
       "      <th>Antigüedad</th>\n",
       "      <th>Target</th>\n",
       "    </tr>\n",
       "  </thead>\n",
       "  <tbody>\n",
       "    <tr>\n",
       "      <th>count</th>\n",
       "      <td>9.709000e+03</td>\n",
       "      <td>9709.000000</td>\n",
       "      <td>9709.000000</td>\n",
       "      <td>9709.000000</td>\n",
       "      <td>9709.000000</td>\n",
       "      <td>9709.000000</td>\n",
       "      <td>9709.000000</td>\n",
       "      <td>9709.000000</td>\n",
       "      <td>9709.000000</td>\n",
       "      <td>9709.000000</td>\n",
       "      <td>9709.000000</td>\n",
       "      <td>9.709000e+03</td>\n",
       "      <td>9709.000000</td>\n",
       "      <td>9709.000000</td>\n",
       "      <td>9709.000000</td>\n",
       "    </tr>\n",
       "    <tr>\n",
       "      <th>mean</th>\n",
       "      <td>5.076105e+06</td>\n",
       "      <td>0.348749</td>\n",
       "      <td>0.367700</td>\n",
       "      <td>0.671542</td>\n",
       "      <td>0.217427</td>\n",
       "      <td>0.287671</td>\n",
       "      <td>0.087548</td>\n",
       "      <td>0.174683</td>\n",
       "      <td>0.419302</td>\n",
       "      <td>2.182614</td>\n",
       "      <td>27.270059</td>\n",
       "      <td>1.812282e+05</td>\n",
       "      <td>43.784093</td>\n",
       "      <td>5.664730</td>\n",
       "      <td>0.132145</td>\n",
       "    </tr>\n",
       "    <tr>\n",
       "      <th>std</th>\n",
       "      <td>4.080270e+04</td>\n",
       "      <td>0.476599</td>\n",
       "      <td>0.482204</td>\n",
       "      <td>0.469677</td>\n",
       "      <td>0.412517</td>\n",
       "      <td>0.452700</td>\n",
       "      <td>0.282650</td>\n",
       "      <td>0.379716</td>\n",
       "      <td>0.728208</td>\n",
       "      <td>0.932918</td>\n",
       "      <td>16.648057</td>\n",
       "      <td>9.927731e+04</td>\n",
       "      <td>11.625768</td>\n",
       "      <td>6.342241</td>\n",
       "      <td>0.338666</td>\n",
       "    </tr>\n",
       "    <tr>\n",
       "      <th>min</th>\n",
       "      <td>5.008804e+06</td>\n",
       "      <td>0.000000</td>\n",
       "      <td>0.000000</td>\n",
       "      <td>0.000000</td>\n",
       "      <td>0.000000</td>\n",
       "      <td>0.000000</td>\n",
       "      <td>0.000000</td>\n",
       "      <td>0.000000</td>\n",
       "      <td>0.000000</td>\n",
       "      <td>1.000000</td>\n",
       "      <td>0.000000</td>\n",
       "      <td>2.700000e+04</td>\n",
       "      <td>20.504186</td>\n",
       "      <td>0.000000</td>\n",
       "      <td>0.000000</td>\n",
       "    </tr>\n",
       "    <tr>\n",
       "      <th>25%</th>\n",
       "      <td>5.036955e+06</td>\n",
       "      <td>0.000000</td>\n",
       "      <td>0.000000</td>\n",
       "      <td>0.000000</td>\n",
       "      <td>0.000000</td>\n",
       "      <td>0.000000</td>\n",
       "      <td>0.000000</td>\n",
       "      <td>0.000000</td>\n",
       "      <td>0.000000</td>\n",
       "      <td>2.000000</td>\n",
       "      <td>13.000000</td>\n",
       "      <td>1.125000e+05</td>\n",
       "      <td>34.059563</td>\n",
       "      <td>0.928150</td>\n",
       "      <td>0.000000</td>\n",
       "    </tr>\n",
       "    <tr>\n",
       "      <th>50%</th>\n",
       "      <td>5.069449e+06</td>\n",
       "      <td>0.000000</td>\n",
       "      <td>0.000000</td>\n",
       "      <td>1.000000</td>\n",
       "      <td>0.000000</td>\n",
       "      <td>0.000000</td>\n",
       "      <td>0.000000</td>\n",
       "      <td>0.000000</td>\n",
       "      <td>0.000000</td>\n",
       "      <td>2.000000</td>\n",
       "      <td>26.000000</td>\n",
       "      <td>1.575000e+05</td>\n",
       "      <td>42.741466</td>\n",
       "      <td>3.761884</td>\n",
       "      <td>0.000000</td>\n",
       "    </tr>\n",
       "    <tr>\n",
       "      <th>75%</th>\n",
       "      <td>5.112986e+06</td>\n",
       "      <td>1.000000</td>\n",
       "      <td>1.000000</td>\n",
       "      <td>1.000000</td>\n",
       "      <td>0.000000</td>\n",
       "      <td>1.000000</td>\n",
       "      <td>0.000000</td>\n",
       "      <td>0.000000</td>\n",
       "      <td>1.000000</td>\n",
       "      <td>3.000000</td>\n",
       "      <td>41.000000</td>\n",
       "      <td>2.250000e+05</td>\n",
       "      <td>53.567151</td>\n",
       "      <td>8.200031</td>\n",
       "      <td>0.000000</td>\n",
       "    </tr>\n",
       "    <tr>\n",
       "      <th>max</th>\n",
       "      <td>5.150479e+06</td>\n",
       "      <td>1.000000</td>\n",
       "      <td>1.000000</td>\n",
       "      <td>1.000000</td>\n",
       "      <td>1.000000</td>\n",
       "      <td>1.000000</td>\n",
       "      <td>1.000000</td>\n",
       "      <td>1.000000</td>\n",
       "      <td>5.000000</td>\n",
       "      <td>20.000000</td>\n",
       "      <td>60.000000</td>\n",
       "      <td>1.575000e+06</td>\n",
       "      <td>68.863837</td>\n",
       "      <td>43.020733</td>\n",
       "      <td>1.000000</td>\n",
       "    </tr>\n",
       "  </tbody>\n",
       "</table>\n",
       "</div>"
      ],
      "text/plain": [
       "                 ID       Genero         Auto     Inmueble  Telefono Laboral  \\\n",
       "count  9.709000e+03  9709.000000  9709.000000  9709.000000       9709.000000   \n",
       "mean   5.076105e+06     0.348749     0.367700     0.671542          0.217427   \n",
       "std    4.080270e+04     0.476599     0.482204     0.469677          0.412517   \n",
       "min    5.008804e+06     0.000000     0.000000     0.000000          0.000000   \n",
       "25%    5.036955e+06     0.000000     0.000000     0.000000          0.000000   \n",
       "50%    5.069449e+06     0.000000     0.000000     1.000000          0.000000   \n",
       "75%    5.112986e+06     1.000000     1.000000     1.000000          0.000000   \n",
       "max    5.150479e+06     1.000000     1.000000     1.000000          1.000000   \n",
       "\n",
       "          Telefono        Email  Desempleado        Hijos      Familia  \\\n",
       "count  9709.000000  9709.000000  9709.000000  9709.000000  9709.000000   \n",
       "mean      0.287671     0.087548     0.174683     0.419302     2.182614   \n",
       "std       0.452700     0.282650     0.379716     0.728208     0.932918   \n",
       "min       0.000000     0.000000     0.000000     0.000000     1.000000   \n",
       "25%       0.000000     0.000000     0.000000     0.000000     2.000000   \n",
       "50%       0.000000     0.000000     0.000000     0.000000     2.000000   \n",
       "75%       1.000000     0.000000     0.000000     1.000000     3.000000   \n",
       "max       1.000000     1.000000     1.000000     5.000000    20.000000   \n",
       "\n",
       "             Saldo       Ingreso         Edad   Antigüedad       Target  \n",
       "count  9709.000000  9.709000e+03  9709.000000  9709.000000  9709.000000  \n",
       "mean     27.270059  1.812282e+05    43.784093     5.664730     0.132145  \n",
       "std      16.648057  9.927731e+04    11.625768     6.342241     0.338666  \n",
       "min       0.000000  2.700000e+04    20.504186     0.000000     0.000000  \n",
       "25%      13.000000  1.125000e+05    34.059563     0.928150     0.000000  \n",
       "50%      26.000000  1.575000e+05    42.741466     3.761884     0.000000  \n",
       "75%      41.000000  2.250000e+05    53.567151     8.200031     0.000000  \n",
       "max      60.000000  1.575000e+06    68.863837    43.020733     1.000000  "
      ]
     },
     "execution_count": 18,
     "metadata": {},
     "output_type": "execute_result"
    }
   ],
   "source": [
    "df.describe()"
   ]
  },
  {
   "cell_type": "code",
   "execution_count": 19,
   "id": "320bd9dc",
   "metadata": {},
   "outputs": [
    {
     "data": {
      "image/png": "[encoded data removed]",
      "text/plain": [
       "<Figure size 1296x720 with 2 Axes>"
      ]
     },
     "metadata": {},
     "output_type": "display_data"
    }
   ],
   "source": [
    "corr_matrix = df.corr()\n",
    "plt.figure(figsize=(18, 10))\n",
    "sns.heatmap(corr_matrix, annot=True, fmt=\".2f\", cmap='Blues')\n",
    "plt.title('Mapa de calor - Correlaciones')\n",
    "plt.show()"
   ]
  },
  {
   "cell_type": "markdown",
   "id": "53daa8f2",
   "metadata": {},
   "source": [
    "## <div style = 'background-color:Lightblue'> <center><font color='white'>② Preparación y limpieza de los datos </font></div>\n",
    "  \n",
    "En esta etapa se realiza la preparación del conjunto de datos para el modelado.\n",
    "El objetivo es garantizar que la información sea coherente, completa y utilizable por los algoritmos de aprendizaje automático.\n",
    "Se incluyen tareas:\n",
    "- Tratamiento de valores faltantes.\n",
    "- Codificación de variables categóricas.\n",
    "- Escalado o normalización de variables numéricas.    \n",
    "De este modo, los datos quedarán listos para desarrollar modelos confiables y precisos."
   ]
  },
  {
   "cell_type": "code",
   "execution_count": 20,
   "id": "4c1444cb",
   "metadata": {},
   "outputs": [
    {
     "name": "stdout",
     "output_type": "stream",
     "text": [
      "False\n"
     ]
    }
   ],
   "source": [
    "# Chequeo de valores nulos\n",
    "check_for_nan = df.isnull().values.any()\n",
    "print (check_for_nan)"
   ]
  },
  {
   "cell_type": "code",
   "execution_count": 21,
   "id": "b9be4642",
   "metadata": {},
   "outputs": [
    {
     "data": {
      "text/plain": [
       "ID                    int64\n",
       "Genero                int64\n",
       "Auto                  int64\n",
       "Inmueble              int64\n",
       "Telefono Laboral      int64\n",
       "Telefono              int64\n",
       "Email                 int64\n",
       "Desempleado           int64\n",
       "Hijos                 int64\n",
       "Familia               int64\n",
       "Saldo                 int64\n",
       "Ingreso             float64\n",
       "Edad                float64\n",
       "Antigüedad          float64\n",
       "Tipo de Ingreso      object\n",
       "Educacion            object\n",
       "Estado Civil         object\n",
       "Tipo de Casa         object\n",
       "Empleo               object\n",
       "Target                int64\n",
       "dtype: object"
      ]
     },
     "execution_count": 21,
     "metadata": {},
     "output_type": "execute_result"
    }
   ],
   "source": [
    "df.dtypes"
   ]
  },
  {
   "cell_type": "code",
   "execution_count": 22,
   "id": "9a038d95",
   "metadata": {},
   "outputs": [
    {
     "data": {
      "text/html": [
       "<div>\n",
       "<style scoped>\n",
       "    .dataframe tbody tr th:only-of-type {\n",
       "        vertical-align: middle;\n",
       "    }\n",
       "\n",
       "    .dataframe tbody tr th {\n",
       "        vertical-align: top;\n",
       "    }\n",
       "\n",
       "    .dataframe thead th {\n",
       "        text-align: right;\n",
       "    }\n",
       "</style>\n",
       "<table border=\"1\" class=\"dataframe\">\n",
       "  <thead>\n",
       "    <tr style=\"text-align: right;\">\n",
       "      <th></th>\n",
       "      <th>ID</th>\n",
       "      <th>Genero</th>\n",
       "      <th>Auto</th>\n",
       "      <th>Inmueble</th>\n",
       "      <th>Telefono Laboral</th>\n",
       "      <th>Telefono</th>\n",
       "      <th>Email</th>\n",
       "      <th>Desempleado</th>\n",
       "      <th>Hijos</th>\n",
       "      <th>Familia</th>\n",
       "      <th>Saldo</th>\n",
       "      <th>Ingreso</th>\n",
       "      <th>Edad</th>\n",
       "      <th>Antigüedad</th>\n",
       "      <th>Tipo de Ingreso</th>\n",
       "      <th>Educacion</th>\n",
       "      <th>Estado Civil</th>\n",
       "      <th>Tipo de Casa</th>\n",
       "      <th>Empleo</th>\n",
       "      <th>Target</th>\n",
       "    </tr>\n",
       "  </thead>\n",
       "  <tbody>\n",
       "    <tr>\n",
       "      <th>1406</th>\n",
       "      <td>5028346</td>\n",
       "      <td>0</td>\n",
       "      <td>0</td>\n",
       "      <td>1</td>\n",
       "      <td>1</td>\n",
       "      <td>1</td>\n",
       "      <td>0</td>\n",
       "      <td>0</td>\n",
       "      <td>0</td>\n",
       "      <td>2</td>\n",
       "      <td>8</td>\n",
       "      <td>157500.0</td>\n",
       "      <td>47.979082</td>\n",
       "      <td>5.974113</td>\n",
       "      <td>Commercial associate</td>\n",
       "      <td>Secondary / secondary special</td>\n",
       "      <td>Married</td>\n",
       "      <td>House / apartment</td>\n",
       "      <td>Laborers</td>\n",
       "      <td>0</td>\n",
       "    </tr>\n",
       "    <tr>\n",
       "      <th>4349</th>\n",
       "      <td>5066799</td>\n",
       "      <td>0</td>\n",
       "      <td>1</td>\n",
       "      <td>1</td>\n",
       "      <td>0</td>\n",
       "      <td>0</td>\n",
       "      <td>0</td>\n",
       "      <td>0</td>\n",
       "      <td>0</td>\n",
       "      <td>2</td>\n",
       "      <td>10</td>\n",
       "      <td>144000.0</td>\n",
       "      <td>45.282244</td>\n",
       "      <td>1.015763</td>\n",
       "      <td>Commercial associate</td>\n",
       "      <td>Secondary / secondary special</td>\n",
       "      <td>Married</td>\n",
       "      <td>House / apartment</td>\n",
       "      <td>Laborers</td>\n",
       "      <td>0</td>\n",
       "    </tr>\n",
       "    <tr>\n",
       "      <th>375</th>\n",
       "      <td>5010981</td>\n",
       "      <td>1</td>\n",
       "      <td>1</td>\n",
       "      <td>0</td>\n",
       "      <td>0</td>\n",
       "      <td>0</td>\n",
       "      <td>0</td>\n",
       "      <td>0</td>\n",
       "      <td>1</td>\n",
       "      <td>3</td>\n",
       "      <td>25</td>\n",
       "      <td>270000.0</td>\n",
       "      <td>41.213714</td>\n",
       "      <td>9.270553</td>\n",
       "      <td>Working</td>\n",
       "      <td>Incomplete higher</td>\n",
       "      <td>Married</td>\n",
       "      <td>House / apartment</td>\n",
       "      <td>Managers</td>\n",
       "      <td>0</td>\n",
       "    </tr>\n",
       "  </tbody>\n",
       "</table>\n",
       "</div>"
      ],
      "text/plain": [
       "           ID  Genero  Auto  Inmueble  Telefono Laboral  Telefono  Email  \\\n",
       "1406  5028346       0     0         1                 1         1      0   \n",
       "4349  5066799       0     1         1                 0         0      0   \n",
       "375   5010981       1     1         0                 0         0      0   \n",
       "\n",
       "      Desempleado  Hijos  Familia  Saldo   Ingreso       Edad  Antigüedad  \\\n",
       "1406            0      0        2      8  157500.0  47.979082    5.974113   \n",
       "4349            0      0        2     10  144000.0  45.282244    1.015763   \n",
       "375             0      1        3     25  270000.0  41.213714    9.270553   \n",
       "\n",
       "           Tipo de Ingreso                      Educacion Estado Civil  \\\n",
       "1406  Commercial associate  Secondary / secondary special      Married   \n",
       "4349  Commercial associate  Secondary / secondary special      Married   \n",
       "375                Working              Incomplete higher      Married   \n",
       "\n",
       "           Tipo de Casa    Empleo  Target  \n",
       "1406  House / apartment  Laborers       0  \n",
       "4349  House / apartment  Laborers       0  \n",
       "375   House / apartment  Managers       0  "
      ]
     },
     "execution_count": 22,
     "metadata": {},
     "output_type": "execute_result"
    }
   ],
   "source": [
    "df.sample(3)"
   ]
  },
  {
   "cell_type": "code",
   "execution_count": 23,
   "id": "0d6d013a",
   "metadata": {},
   "outputs": [],
   "source": [
    "# La variable \"Edad\" y \"Antiguedad\" presentan valores con decimales, no es muy apropiado usar los con valores representados\n",
    "# de esa forma, por lo que procedo a convertir a numeros enteros."
   ]
  },
  {
   "cell_type": "code",
   "execution_count": 24,
   "id": "f352929a",
   "metadata": {},
   "outputs": [],
   "source": [
    "df['Edad'] = df['Edad'].round(0).astype(int)\n",
    "# round(0) para redondear\n",
    "# astype(int) convierte en enteros asi no quedan decimales\n",
    "df['Antigüedad'] = df['Antigüedad'].round(0).astype(int)"
   ]
  },
  {
   "cell_type": "code",
   "execution_count": 25,
   "id": "3a47a2ae",
   "metadata": {},
   "outputs": [
    {
     "data": {
      "text/plain": [
       "0    8426\n",
       "1    1283\n",
       "Name: Target, dtype: int64"
      ]
     },
     "execution_count": 25,
     "metadata": {},
     "output_type": "execute_result"
    }
   ],
   "source": [
    "df['Target'].value_counts()"
   ]
  },
  {
   "cell_type": "code",
   "execution_count": 26,
   "id": "aa2d1376",
   "metadata": {},
   "outputs": [
    {
     "data": {
      "text/html": [
       "<div>\n",
       "<style scoped>\n",
       "    .dataframe tbody tr th:only-of-type {\n",
       "        vertical-align: middle;\n",
       "    }\n",
       "\n",
       "    .dataframe tbody tr th {\n",
       "        vertical-align: top;\n",
       "    }\n",
       "\n",
       "    .dataframe thead th {\n",
       "        text-align: right;\n",
       "    }\n",
       "</style>\n",
       "<table border=\"1\" class=\"dataframe\">\n",
       "  <thead>\n",
       "    <tr style=\"text-align: right;\">\n",
       "      <th></th>\n",
       "      <th>ID</th>\n",
       "      <th>Genero</th>\n",
       "      <th>Auto</th>\n",
       "      <th>Inmueble</th>\n",
       "      <th>Telefono Laboral</th>\n",
       "      <th>Telefono</th>\n",
       "      <th>Email</th>\n",
       "      <th>Desempleado</th>\n",
       "      <th>Hijos</th>\n",
       "      <th>Familia</th>\n",
       "      <th>Saldo</th>\n",
       "      <th>Ingreso</th>\n",
       "      <th>Edad</th>\n",
       "      <th>Antigüedad</th>\n",
       "      <th>Tipo de Ingreso</th>\n",
       "      <th>Educacion</th>\n",
       "      <th>Estado Civil</th>\n",
       "      <th>Tipo de Casa</th>\n",
       "      <th>Empleo</th>\n",
       "      <th>Target</th>\n",
       "    </tr>\n",
       "  </thead>\n",
       "  <tbody>\n",
       "    <tr>\n",
       "      <th>0</th>\n",
       "      <td>5008804</td>\n",
       "      <td>1</td>\n",
       "      <td>1</td>\n",
       "      <td>1</td>\n",
       "      <td>1</td>\n",
       "      <td>0</td>\n",
       "      <td>0</td>\n",
       "      <td>0</td>\n",
       "      <td>0</td>\n",
       "      <td>2</td>\n",
       "      <td>15</td>\n",
       "      <td>427500.0</td>\n",
       "      <td>33</td>\n",
       "      <td>12</td>\n",
       "      <td>Working</td>\n",
       "      <td>Higher education</td>\n",
       "      <td>Civil marriage</td>\n",
       "      <td>Rented apartment</td>\n",
       "      <td>Other</td>\n",
       "      <td>1</td>\n",
       "    </tr>\n",
       "    <tr>\n",
       "      <th>1</th>\n",
       "      <td>5008806</td>\n",
       "      <td>1</td>\n",
       "      <td>1</td>\n",
       "      <td>1</td>\n",
       "      <td>0</td>\n",
       "      <td>0</td>\n",
       "      <td>0</td>\n",
       "      <td>0</td>\n",
       "      <td>0</td>\n",
       "      <td>2</td>\n",
       "      <td>29</td>\n",
       "      <td>112500.0</td>\n",
       "      <td>59</td>\n",
       "      <td>3</td>\n",
       "      <td>Working</td>\n",
       "      <td>Secondary / secondary special</td>\n",
       "      <td>Married</td>\n",
       "      <td>House / apartment</td>\n",
       "      <td>Security staff</td>\n",
       "      <td>0</td>\n",
       "    </tr>\n",
       "    <tr>\n",
       "      <th>2</th>\n",
       "      <td>5008808</td>\n",
       "      <td>0</td>\n",
       "      <td>0</td>\n",
       "      <td>1</td>\n",
       "      <td>0</td>\n",
       "      <td>1</td>\n",
       "      <td>1</td>\n",
       "      <td>0</td>\n",
       "      <td>0</td>\n",
       "      <td>1</td>\n",
       "      <td>4</td>\n",
       "      <td>270000.0</td>\n",
       "      <td>52</td>\n",
       "      <td>8</td>\n",
       "      <td>Commercial associate</td>\n",
       "      <td>Secondary / secondary special</td>\n",
       "      <td>Single / not married</td>\n",
       "      <td>House / apartment</td>\n",
       "      <td>Sales staff</td>\n",
       "      <td>0</td>\n",
       "    </tr>\n",
       "  </tbody>\n",
       "</table>\n",
       "</div>"
      ],
      "text/plain": [
       "        ID  Genero  Auto  Inmueble  Telefono Laboral  Telefono  Email  \\\n",
       "0  5008804       1     1         1                 1         0      0   \n",
       "1  5008806       1     1         1                 0         0      0   \n",
       "2  5008808       0     0         1                 0         1      1   \n",
       "\n",
       "   Desempleado  Hijos  Familia  Saldo   Ingreso  Edad  Antigüedad  \\\n",
       "0            0      0        2     15  427500.0    33          12   \n",
       "1            0      0        2     29  112500.0    59           3   \n",
       "2            0      0        1      4  270000.0    52           8   \n",
       "\n",
       "        Tipo de Ingreso                      Educacion          Estado Civil  \\\n",
       "0               Working               Higher education        Civil marriage   \n",
       "1               Working  Secondary / secondary special               Married   \n",
       "2  Commercial associate  Secondary / secondary special  Single / not married   \n",
       "\n",
       "        Tipo de Casa          Empleo  Target  \n",
       "0   Rented apartment           Other       1  \n",
       "1  House / apartment  Security staff       0  \n",
       "2  House / apartment     Sales staff       0  "
      ]
     },
     "execution_count": 26,
     "metadata": {},
     "output_type": "execute_result"
    }
   ],
   "source": [
    "df.head(3)"
   ]
  },
  {
   "cell_type": "code",
   "execution_count": 27,
   "id": "ccd22ef2",
   "metadata": {},
   "outputs": [
    {
     "data": {
      "text/plain": [
       "Working                 4960\n",
       "Commercial associate    2312\n",
       "Pensioner               1712\n",
       "State servant            722\n",
       "Student                    3\n",
       "Name: Tipo de Ingreso, dtype: int64"
      ]
     },
     "execution_count": 27,
     "metadata": {},
     "output_type": "execute_result"
    }
   ],
   "source": [
    "# Ver como esta compuesto el campo \"Tipo de Ingreso\"\n",
    "df[\"Tipo de Ingreso\"].value_counts()"
   ]
  },
  {
   "cell_type": "code",
   "execution_count": 28,
   "id": "80b70105",
   "metadata": {},
   "outputs": [],
   "source": [
    "# Como los valores no tienen un orden de prelación se puede asignaar un valor determinado a cada tipo de observación.\n",
    "from sklearn.preprocessing import LabelEncoder\n",
    "\n",
    "le = LabelEncoder()\n",
    "df['Tipo de Ingreso'] = le.fit_transform(df['Tipo de Ingreso'])"
   ]
  },
  {
   "cell_type": "code",
   "execution_count": 29,
   "id": "acf7b403",
   "metadata": {},
   "outputs": [
    {
     "data": {
      "text/html": [
       "<div>\n",
       "<style scoped>\n",
       "    .dataframe tbody tr th:only-of-type {\n",
       "        vertical-align: middle;\n",
       "    }\n",
       "\n",
       "    .dataframe tbody tr th {\n",
       "        vertical-align: top;\n",
       "    }\n",
       "\n",
       "    .dataframe thead th {\n",
       "        text-align: right;\n",
       "    }\n",
       "</style>\n",
       "<table border=\"1\" class=\"dataframe\">\n",
       "  <thead>\n",
       "    <tr style=\"text-align: right;\">\n",
       "      <th></th>\n",
       "      <th>ID</th>\n",
       "      <th>Genero</th>\n",
       "      <th>Auto</th>\n",
       "      <th>Inmueble</th>\n",
       "      <th>Telefono Laboral</th>\n",
       "      <th>Telefono</th>\n",
       "      <th>Email</th>\n",
       "      <th>Desempleado</th>\n",
       "      <th>Hijos</th>\n",
       "      <th>Familia</th>\n",
       "      <th>Saldo</th>\n",
       "      <th>Ingreso</th>\n",
       "      <th>Edad</th>\n",
       "      <th>Antigüedad</th>\n",
       "      <th>Tipo de Ingreso</th>\n",
       "      <th>Educacion</th>\n",
       "      <th>Estado Civil</th>\n",
       "      <th>Tipo de Casa</th>\n",
       "      <th>Empleo</th>\n",
       "      <th>Target</th>\n",
       "    </tr>\n",
       "  </thead>\n",
       "  <tbody>\n",
       "    <tr>\n",
       "      <th>0</th>\n",
       "      <td>5008804</td>\n",
       "      <td>1</td>\n",
       "      <td>1</td>\n",
       "      <td>1</td>\n",
       "      <td>1</td>\n",
       "      <td>0</td>\n",
       "      <td>0</td>\n",
       "      <td>0</td>\n",
       "      <td>0</td>\n",
       "      <td>2</td>\n",
       "      <td>15</td>\n",
       "      <td>427500.0</td>\n",
       "      <td>33</td>\n",
       "      <td>12</td>\n",
       "      <td>4</td>\n",
       "      <td>Higher education</td>\n",
       "      <td>Civil marriage</td>\n",
       "      <td>Rented apartment</td>\n",
       "      <td>Other</td>\n",
       "      <td>1</td>\n",
       "    </tr>\n",
       "    <tr>\n",
       "      <th>1</th>\n",
       "      <td>5008806</td>\n",
       "      <td>1</td>\n",
       "      <td>1</td>\n",
       "      <td>1</td>\n",
       "      <td>0</td>\n",
       "      <td>0</td>\n",
       "      <td>0</td>\n",
       "      <td>0</td>\n",
       "      <td>0</td>\n",
       "      <td>2</td>\n",
       "      <td>29</td>\n",
       "      <td>112500.0</td>\n",
       "      <td>59</td>\n",
       "      <td>3</td>\n",
       "      <td>4</td>\n",
       "      <td>Secondary / secondary special</td>\n",
       "      <td>Married</td>\n",
       "      <td>House / apartment</td>\n",
       "      <td>Security staff</td>\n",
       "      <td>0</td>\n",
       "    </tr>\n",
       "    <tr>\n",
       "      <th>2</th>\n",
       "      <td>5008808</td>\n",
       "      <td>0</td>\n",
       "      <td>0</td>\n",
       "      <td>1</td>\n",
       "      <td>0</td>\n",
       "      <td>1</td>\n",
       "      <td>1</td>\n",
       "      <td>0</td>\n",
       "      <td>0</td>\n",
       "      <td>1</td>\n",
       "      <td>4</td>\n",
       "      <td>270000.0</td>\n",
       "      <td>52</td>\n",
       "      <td>8</td>\n",
       "      <td>0</td>\n",
       "      <td>Secondary / secondary special</td>\n",
       "      <td>Single / not married</td>\n",
       "      <td>House / apartment</td>\n",
       "      <td>Sales staff</td>\n",
       "      <td>0</td>\n",
       "    </tr>\n",
       "  </tbody>\n",
       "</table>\n",
       "</div>"
      ],
      "text/plain": [
       "        ID  Genero  Auto  Inmueble  Telefono Laboral  Telefono  Email  \\\n",
       "0  5008804       1     1         1                 1         0      0   \n",
       "1  5008806       1     1         1                 0         0      0   \n",
       "2  5008808       0     0         1                 0         1      1   \n",
       "\n",
       "   Desempleado  Hijos  Familia  Saldo   Ingreso  Edad  Antigüedad  \\\n",
       "0            0      0        2     15  427500.0    33          12   \n",
       "1            0      0        2     29  112500.0    59           3   \n",
       "2            0      0        1      4  270000.0    52           8   \n",
       "\n",
       "   Tipo de Ingreso                      Educacion          Estado Civil  \\\n",
       "0                4               Higher education        Civil marriage   \n",
       "1                4  Secondary / secondary special               Married   \n",
       "2                0  Secondary / secondary special  Single / not married   \n",
       "\n",
       "        Tipo de Casa          Empleo  Target  \n",
       "0   Rented apartment           Other       1  \n",
       "1  House / apartment  Security staff       0  \n",
       "2  House / apartment     Sales staff       0  "
      ]
     },
     "execution_count": 29,
     "metadata": {},
     "output_type": "execute_result"
    }
   ],
   "source": [
    "df.head(3)"
   ]
  },
  {
   "cell_type": "code",
   "execution_count": 30,
   "id": "c33286d4",
   "metadata": {},
   "outputs": [
    {
     "data": {
      "text/plain": [
       "4    4960\n",
       "0    2312\n",
       "1    1712\n",
       "2     722\n",
       "3       3\n",
       "Name: Tipo de Ingreso, dtype: int64"
      ]
     },
     "execution_count": 30,
     "metadata": {},
     "output_type": "execute_result"
    }
   ],
   "source": [
    "# Asi quedaria el campo con valores numéricos.\n",
    "df[\"Tipo de Ingreso\"].value_counts()"
   ]
  },
  {
   "cell_type": "markdown",
   "id": "105c7ac4",
   "metadata": {},
   "source": [
    "Ahora identifico los demas campos que estan como texto y analizo la posibilidad de como pasarlos a expresar en numeros."
   ]
  },
  {
   "cell_type": "code",
   "execution_count": 31,
   "id": "ba3bded8",
   "metadata": {},
   "outputs": [
    {
     "data": {
      "text/plain": [
       "Secondary / secondary special    6761\n",
       "Higher education                 2457\n",
       "Incomplete higher                 371\n",
       "Lower secondary                   114\n",
       "Academic degree                     6\n",
       "Name: Educacion, dtype: int64"
      ]
     },
     "execution_count": 31,
     "metadata": {},
     "output_type": "execute_result"
    }
   ],
   "source": [
    "# En este caso como es un estudio o analisis economico, la codificación debe ser ordinal (tener un orden de importancia) , \n",
    "# porque el nivel educativo tiene un orden lógico: a más educación → más valor numérico.\n",
    "df[\"Educacion\"].value_counts()"
   ]
  },
  {
   "cell_type": "code",
   "execution_count": 32,
   "id": "95d3bfe9",
   "metadata": {},
   "outputs": [],
   "source": [
    "# Mapeo_educacion sera el diccionario a consultar para establecer los valores numéricos.\n",
    "mapeo_educacion = {\n",
    "    'Lower secondary': 1,\n",
    "    'Secondary / secondary special': 2,\n",
    "    'Incomplete higher': 3,\n",
    "    'Higher education': 4,\n",
    "    'Academic degree': 5\n",
    "}\n",
    "\n",
    "df['Educacion'] = df['Educacion'].map(mapeo_educacion) # En la misma columna pongo los valores expresados en numeros con un orden. "
   ]
  },
  {
   "cell_type": "code",
   "execution_count": 33,
   "id": "e9865fda",
   "metadata": {},
   "outputs": [
    {
     "data": {
      "text/html": [
       "<div>\n",
       "<style scoped>\n",
       "    .dataframe tbody tr th:only-of-type {\n",
       "        vertical-align: middle;\n",
       "    }\n",
       "\n",
       "    .dataframe tbody tr th {\n",
       "        vertical-align: top;\n",
       "    }\n",
       "\n",
       "    .dataframe thead th {\n",
       "        text-align: right;\n",
       "    }\n",
       "</style>\n",
       "<table border=\"1\" class=\"dataframe\">\n",
       "  <thead>\n",
       "    <tr style=\"text-align: right;\">\n",
       "      <th></th>\n",
       "      <th>ID</th>\n",
       "      <th>Genero</th>\n",
       "      <th>Auto</th>\n",
       "      <th>Inmueble</th>\n",
       "      <th>Telefono Laboral</th>\n",
       "      <th>Telefono</th>\n",
       "      <th>Email</th>\n",
       "      <th>Desempleado</th>\n",
       "      <th>Hijos</th>\n",
       "      <th>Familia</th>\n",
       "      <th>Saldo</th>\n",
       "      <th>Ingreso</th>\n",
       "      <th>Edad</th>\n",
       "      <th>Antigüedad</th>\n",
       "      <th>Tipo de Ingreso</th>\n",
       "      <th>Educacion</th>\n",
       "      <th>Estado Civil</th>\n",
       "      <th>Tipo de Casa</th>\n",
       "      <th>Empleo</th>\n",
       "      <th>Target</th>\n",
       "    </tr>\n",
       "  </thead>\n",
       "  <tbody>\n",
       "    <tr>\n",
       "      <th>0</th>\n",
       "      <td>5008804</td>\n",
       "      <td>1</td>\n",
       "      <td>1</td>\n",
       "      <td>1</td>\n",
       "      <td>1</td>\n",
       "      <td>0</td>\n",
       "      <td>0</td>\n",
       "      <td>0</td>\n",
       "      <td>0</td>\n",
       "      <td>2</td>\n",
       "      <td>15</td>\n",
       "      <td>427500.0</td>\n",
       "      <td>33</td>\n",
       "      <td>12</td>\n",
       "      <td>4</td>\n",
       "      <td>4</td>\n",
       "      <td>Civil marriage</td>\n",
       "      <td>Rented apartment</td>\n",
       "      <td>Other</td>\n",
       "      <td>1</td>\n",
       "    </tr>\n",
       "    <tr>\n",
       "      <th>1</th>\n",
       "      <td>5008806</td>\n",
       "      <td>1</td>\n",
       "      <td>1</td>\n",
       "      <td>1</td>\n",
       "      <td>0</td>\n",
       "      <td>0</td>\n",
       "      <td>0</td>\n",
       "      <td>0</td>\n",
       "      <td>0</td>\n",
       "      <td>2</td>\n",
       "      <td>29</td>\n",
       "      <td>112500.0</td>\n",
       "      <td>59</td>\n",
       "      <td>3</td>\n",
       "      <td>4</td>\n",
       "      <td>2</td>\n",
       "      <td>Married</td>\n",
       "      <td>House / apartment</td>\n",
       "      <td>Security staff</td>\n",
       "      <td>0</td>\n",
       "    </tr>\n",
       "    <tr>\n",
       "      <th>2</th>\n",
       "      <td>5008808</td>\n",
       "      <td>0</td>\n",
       "      <td>0</td>\n",
       "      <td>1</td>\n",
       "      <td>0</td>\n",
       "      <td>1</td>\n",
       "      <td>1</td>\n",
       "      <td>0</td>\n",
       "      <td>0</td>\n",
       "      <td>1</td>\n",
       "      <td>4</td>\n",
       "      <td>270000.0</td>\n",
       "      <td>52</td>\n",
       "      <td>8</td>\n",
       "      <td>0</td>\n",
       "      <td>2</td>\n",
       "      <td>Single / not married</td>\n",
       "      <td>House / apartment</td>\n",
       "      <td>Sales staff</td>\n",
       "      <td>0</td>\n",
       "    </tr>\n",
       "  </tbody>\n",
       "</table>\n",
       "</div>"
      ],
      "text/plain": [
       "        ID  Genero  Auto  Inmueble  Telefono Laboral  Telefono  Email  \\\n",
       "0  5008804       1     1         1                 1         0      0   \n",
       "1  5008806       1     1         1                 0         0      0   \n",
       "2  5008808       0     0         1                 0         1      1   \n",
       "\n",
       "   Desempleado  Hijos  Familia  Saldo   Ingreso  Edad  Antigüedad  \\\n",
       "0            0      0        2     15  427500.0    33          12   \n",
       "1            0      0        2     29  112500.0    59           3   \n",
       "2            0      0        1      4  270000.0    52           8   \n",
       "\n",
       "   Tipo de Ingreso  Educacion          Estado Civil       Tipo de Casa  \\\n",
       "0                4          4        Civil marriage   Rented apartment   \n",
       "1                4          2               Married  House / apartment   \n",
       "2                0          2  Single / not married  House / apartment   \n",
       "\n",
       "           Empleo  Target  \n",
       "0           Other       1  \n",
       "1  Security staff       0  \n",
       "2     Sales staff       0  "
      ]
     },
     "execution_count": 33,
     "metadata": {},
     "output_type": "execute_result"
    }
   ],
   "source": [
    "df.head(3)"
   ]
  },
  {
   "cell_type": "code",
   "execution_count": 34,
   "id": "1db60db6",
   "metadata": {},
   "outputs": [
    {
     "data": {
      "text/plain": [
       "Married                 6530\n",
       "Single / not married    1359\n",
       "Civil marriage           836\n",
       "Separated                574\n",
       "Widow                    410\n",
       "Name: Estado Civil, dtype: int64"
      ]
     },
     "execution_count": 34,
     "metadata": {},
     "output_type": "execute_result"
    }
   ],
   "source": [
    "# En un análisis de crédito o financiero, el estado civil es muy importante porque suele relacionarse con la estabilidad \n",
    "# económica y social, esto puede influir en la probabilidad de pago de los servicios analizados.\n",
    "# La justificación sobre los valores que asignaré\n",
    "# Casados (5) → suelen tener ingresos y gastos compartidos, lo que disminuye el riesgo de impago.\n",
    "# Viudos (4) → suelen ser personas de mayor edad o más estables económicamente.\n",
    "# Unión civil (3) → hay una estructura familiar, mas informal que los anteriores.\n",
    "# Separados (2) → pueden atravesar situaciones financieras transitorias por lo que su riesgo aumenta.\n",
    "# Solteros (1) → ingresos individuales, menor estabilidad familiar, a veces menor tiempo de antigüedad laboral.\n",
    "\n",
    "df[\"Estado Civil\"].value_counts()"
   ]
  },
  {
   "cell_type": "code",
   "execution_count": 35,
   "id": "e568449b",
   "metadata": {},
   "outputs": [],
   "source": [
    "mapeo_estado_civil = {\n",
    "    'Single / not married': 1,\n",
    "    'Separated': 2,\n",
    "    'Civil marriage': 3,\n",
    "    'Widow': 4,\n",
    "    'Married': 5\n",
    "}\n",
    "\n",
    "df['Estado Civil'] = df['Estado Civil'].map(mapeo_estado_civil)"
   ]
  },
  {
   "cell_type": "code",
   "execution_count": 36,
   "id": "256ba00e",
   "metadata": {},
   "outputs": [
    {
     "data": {
      "text/plain": [
       "House / apartment      8684\n",
       "With parents            448\n",
       "Municipal apartment     323\n",
       "Rented apartment        144\n",
       "Office apartment         76\n",
       "Co-op apartment          34\n",
       "Name: Tipo de Casa, dtype: int64"
      ]
     },
     "execution_count": 36,
     "metadata": {},
     "output_type": "execute_result"
    }
   ],
   "source": [
    "# En este caso voy a numerar un poco de forma arbitraria segun lo que identifico que se interpretaria en una empresa crediticia\n",
    "# o en un analisis de scoring bancario.\n",
    "# Rented y Whit parents tendrían el menor valor, y luego va subiendo segun considero tiene mejor valoración crediticia.\n",
    "\n",
    "df[\"Tipo de Casa\"].value_counts()"
   ]
  },
  {
   "cell_type": "code",
   "execution_count": 37,
   "id": "706627f2",
   "metadata": {},
   "outputs": [],
   "source": [
    "mapeo_Tipo_de_Casa = {\n",
    "    'Rented apartment': 1,\n",
    "    'With parents': 1,\n",
    "    'Co-op apartment': 2,\n",
    "    'Municipal apartment': 2,\n",
    "    'House / apartment': 3,\n",
    "    'Office apartment': 3\n",
    "}\n",
    "\n",
    "df['Tipo de Casa'] = df['Tipo de Casa'].map(mapeo_Tipo_de_Casa)"
   ]
  },
  {
   "cell_type": "code",
   "execution_count": 38,
   "id": "2208235f",
   "metadata": {},
   "outputs": [
    {
     "data": {
      "text/plain": [
       "Other                    2994\n",
       "Laborers                 1724\n",
       "Sales staff               959\n",
       "Core staff                877\n",
       "Managers                  782\n",
       "Drivers                   623\n",
       "High skill tech staff     357\n",
       "Accountants               300\n",
       "Medicine staff            291\n",
       "Cooking staff             193\n",
       "Security staff            182\n",
       "Cleaning staff            146\n",
       "Private service staff      86\n",
       "Low-skill Laborers         53\n",
       "Secretaries                46\n",
       "Waiters/barmen staff       40\n",
       "HR staff                   22\n",
       "IT staff                   18\n",
       "Realty agents              16\n",
       "Name: Empleo, dtype: int64"
      ]
     },
     "execution_count": 38,
     "metadata": {},
     "output_type": "execute_result"
    }
   ],
   "source": [
    "# En este caso igual, hay un orden que se puede establecer en los tipos de trabajo, desde los de menor ingreso y estabilidad\n",
    "# hasta los de mayor ingresos, estabilidad y por ende mas aptos para servicios crediticios.\n",
    "# 6 (Valor mas alto): son para cargos jerárquicos o profesionales técnicos.\n",
    "# 5 (Profesionales/administrativos): formación profesional, sueldos medios-altos.\n",
    "# 4 (Empleados comunes): estabilidad laboral media.\n",
    "# 3 (Servicios personales): ingresos bajos/medios o irregulares ni tan estables.\n",
    "# 2 (Trabajos manuales no calificados): trabajo físico, bajo ingreso.\n",
    "# 1 (Muy baja calificación): tienen una alta rotación y con una alta vulnerabilidad económica.\n",
    "\n",
    "df[\"Empleo\"].value_counts()"
   ]
  },
  {
   "cell_type": "code",
   "execution_count": 39,
   "id": "e2a4c18e",
   "metadata": {},
   "outputs": [],
   "source": [
    "mapeo_ocupacion = {\n",
    "    'Low-skill Laborers': 1,\n",
    "    'Laborers': 2,\n",
    "    'Cleaning staff': 3,\n",
    "    'Private service staff': 3,\n",
    "    'Waiters/barmen staff': 3,\n",
    "    'Security staff': 3,\n",
    "    'Cooking staff': 3,\n",
    "    'Drivers': 4,\n",
    "    'Sales staff': 4,\n",
    "    'Core staff': 4,\n",
    "    'Accountants': 5,\n",
    "    'Medicine staff': 5,\n",
    "    'Secretaries': 5,\n",
    "    'HR staff': 5,\n",
    "    'IT staff': 5,\n",
    "    'Managers': 6,\n",
    "    'High skill tech staff': 6,\n",
    "    'Realty agents': 6,\n",
    "    'Other': 3\n",
    "}\n",
    "\n",
    "df['Empleo'] = df['Empleo'].map(mapeo_ocupacion)"
   ]
  },
  {
   "cell_type": "code",
   "execution_count": 40,
   "id": "ae34ce04",
   "metadata": {},
   "outputs": [
    {
     "data": {
      "text/html": [
       "<div>\n",
       "<style scoped>\n",
       "    .dataframe tbody tr th:only-of-type {\n",
       "        vertical-align: middle;\n",
       "    }\n",
       "\n",
       "    .dataframe tbody tr th {\n",
       "        vertical-align: top;\n",
       "    }\n",
       "\n",
       "    .dataframe thead th {\n",
       "        text-align: right;\n",
       "    }\n",
       "</style>\n",
       "<table border=\"1\" class=\"dataframe\">\n",
       "  <thead>\n",
       "    <tr style=\"text-align: right;\">\n",
       "      <th></th>\n",
       "      <th>ID</th>\n",
       "      <th>Genero</th>\n",
       "      <th>Auto</th>\n",
       "      <th>Inmueble</th>\n",
       "      <th>Telefono Laboral</th>\n",
       "      <th>Telefono</th>\n",
       "      <th>Email</th>\n",
       "      <th>Desempleado</th>\n",
       "      <th>Hijos</th>\n",
       "      <th>Familia</th>\n",
       "      <th>Saldo</th>\n",
       "      <th>Ingreso</th>\n",
       "      <th>Edad</th>\n",
       "      <th>Antigüedad</th>\n",
       "      <th>Tipo de Ingreso</th>\n",
       "      <th>Educacion</th>\n",
       "      <th>Estado Civil</th>\n",
       "      <th>Tipo de Casa</th>\n",
       "      <th>Empleo</th>\n",
       "      <th>Target</th>\n",
       "    </tr>\n",
       "  </thead>\n",
       "  <tbody>\n",
       "    <tr>\n",
       "      <th>0</th>\n",
       "      <td>5008804</td>\n",
       "      <td>1</td>\n",
       "      <td>1</td>\n",
       "      <td>1</td>\n",
       "      <td>1</td>\n",
       "      <td>0</td>\n",
       "      <td>0</td>\n",
       "      <td>0</td>\n",
       "      <td>0</td>\n",
       "      <td>2</td>\n",
       "      <td>15</td>\n",
       "      <td>427500.0</td>\n",
       "      <td>33</td>\n",
       "      <td>12</td>\n",
       "      <td>4</td>\n",
       "      <td>4</td>\n",
       "      <td>3</td>\n",
       "      <td>1</td>\n",
       "      <td>3</td>\n",
       "      <td>1</td>\n",
       "    </tr>\n",
       "    <tr>\n",
       "      <th>1</th>\n",
       "      <td>5008806</td>\n",
       "      <td>1</td>\n",
       "      <td>1</td>\n",
       "      <td>1</td>\n",
       "      <td>0</td>\n",
       "      <td>0</td>\n",
       "      <td>0</td>\n",
       "      <td>0</td>\n",
       "      <td>0</td>\n",
       "      <td>2</td>\n",
       "      <td>29</td>\n",
       "      <td>112500.0</td>\n",
       "      <td>59</td>\n",
       "      <td>3</td>\n",
       "      <td>4</td>\n",
       "      <td>2</td>\n",
       "      <td>5</td>\n",
       "      <td>3</td>\n",
       "      <td>3</td>\n",
       "      <td>0</td>\n",
       "    </tr>\n",
       "    <tr>\n",
       "      <th>2</th>\n",
       "      <td>5008808</td>\n",
       "      <td>0</td>\n",
       "      <td>0</td>\n",
       "      <td>1</td>\n",
       "      <td>0</td>\n",
       "      <td>1</td>\n",
       "      <td>1</td>\n",
       "      <td>0</td>\n",
       "      <td>0</td>\n",
       "      <td>1</td>\n",
       "      <td>4</td>\n",
       "      <td>270000.0</td>\n",
       "      <td>52</td>\n",
       "      <td>8</td>\n",
       "      <td>0</td>\n",
       "      <td>2</td>\n",
       "      <td>1</td>\n",
       "      <td>3</td>\n",
       "      <td>4</td>\n",
       "      <td>0</td>\n",
       "    </tr>\n",
       "    <tr>\n",
       "      <th>3</th>\n",
       "      <td>5008812</td>\n",
       "      <td>0</td>\n",
       "      <td>0</td>\n",
       "      <td>1</td>\n",
       "      <td>0</td>\n",
       "      <td>0</td>\n",
       "      <td>0</td>\n",
       "      <td>1</td>\n",
       "      <td>0</td>\n",
       "      <td>1</td>\n",
       "      <td>20</td>\n",
       "      <td>283500.0</td>\n",
       "      <td>62</td>\n",
       "      <td>0</td>\n",
       "      <td>1</td>\n",
       "      <td>4</td>\n",
       "      <td>2</td>\n",
       "      <td>3</td>\n",
       "      <td>3</td>\n",
       "      <td>0</td>\n",
       "    </tr>\n",
       "    <tr>\n",
       "      <th>4</th>\n",
       "      <td>5008815</td>\n",
       "      <td>1</td>\n",
       "      <td>1</td>\n",
       "      <td>1</td>\n",
       "      <td>1</td>\n",
       "      <td>1</td>\n",
       "      <td>1</td>\n",
       "      <td>0</td>\n",
       "      <td>0</td>\n",
       "      <td>2</td>\n",
       "      <td>5</td>\n",
       "      <td>270000.0</td>\n",
       "      <td>46</td>\n",
       "      <td>2</td>\n",
       "      <td>4</td>\n",
       "      <td>4</td>\n",
       "      <td>5</td>\n",
       "      <td>3</td>\n",
       "      <td>5</td>\n",
       "      <td>0</td>\n",
       "    </tr>\n",
       "    <tr>\n",
       "      <th>5</th>\n",
       "      <td>5008819</td>\n",
       "      <td>1</td>\n",
       "      <td>1</td>\n",
       "      <td>1</td>\n",
       "      <td>0</td>\n",
       "      <td>0</td>\n",
       "      <td>0</td>\n",
       "      <td>0</td>\n",
       "      <td>0</td>\n",
       "      <td>2</td>\n",
       "      <td>17</td>\n",
       "      <td>135000.0</td>\n",
       "      <td>49</td>\n",
       "      <td>3</td>\n",
       "      <td>0</td>\n",
       "      <td>2</td>\n",
       "      <td>5</td>\n",
       "      <td>3</td>\n",
       "      <td>2</td>\n",
       "      <td>0</td>\n",
       "    </tr>\n",
       "    <tr>\n",
       "      <th>6</th>\n",
       "      <td>5008825</td>\n",
       "      <td>0</td>\n",
       "      <td>1</td>\n",
       "      <td>0</td>\n",
       "      <td>0</td>\n",
       "      <td>0</td>\n",
       "      <td>0</td>\n",
       "      <td>0</td>\n",
       "      <td>0</td>\n",
       "      <td>2</td>\n",
       "      <td>25</td>\n",
       "      <td>130500.0</td>\n",
       "      <td>29</td>\n",
       "      <td>3</td>\n",
       "      <td>4</td>\n",
       "      <td>3</td>\n",
       "      <td>5</td>\n",
       "      <td>3</td>\n",
       "      <td>5</td>\n",
       "      <td>1</td>\n",
       "    </tr>\n",
       "  </tbody>\n",
       "</table>\n",
       "</div>"
      ],
      "text/plain": [
       "        ID  Genero  Auto  Inmueble  Telefono Laboral  Telefono  Email  \\\n",
       "0  5008804       1     1         1                 1         0      0   \n",
       "1  5008806       1     1         1                 0         0      0   \n",
       "2  5008808       0     0         1                 0         1      1   \n",
       "3  5008812       0     0         1                 0         0      0   \n",
       "4  5008815       1     1         1                 1         1      1   \n",
       "5  5008819       1     1         1                 0         0      0   \n",
       "6  5008825       0     1         0                 0         0      0   \n",
       "\n",
       "   Desempleado  Hijos  Familia  Saldo   Ingreso  Edad  Antigüedad  \\\n",
       "0            0      0        2     15  427500.0    33          12   \n",
       "1            0      0        2     29  112500.0    59           3   \n",
       "2            0      0        1      4  270000.0    52           8   \n",
       "3            1      0        1     20  283500.0    62           0   \n",
       "4            0      0        2      5  270000.0    46           2   \n",
       "5            0      0        2     17  135000.0    49           3   \n",
       "6            0      0        2     25  130500.0    29           3   \n",
       "\n",
       "   Tipo de Ingreso  Educacion  Estado Civil  Tipo de Casa  Empleo  Target  \n",
       "0                4          4             3             1       3       1  \n",
       "1                4          2             5             3       3       0  \n",
       "2                0          2             1             3       4       0  \n",
       "3                1          4             2             3       3       0  \n",
       "4                4          4             5             3       5       0  \n",
       "5                0          2             5             3       2       0  \n",
       "6                4          3             5             3       5       1  "
      ]
     },
     "execution_count": 40,
     "metadata": {},
     "output_type": "execute_result"
    }
   ],
   "source": [
    "# Con esto queda modificado y limpio todo el set de datos, todas los campos con textos fueron reemplazados por numéricos.\n",
    "df.head(7)"
   ]
  },
  {
   "cell_type": "markdown",
   "id": "56d81507",
   "metadata": {},
   "source": [
    "## <div style = 'background-color:Orangered'> <center><font color='white'>③ Modelado y evaluación </font></div>\n",
    "  \n",
    "Aca aplicaré 3 modelos de clasificación para determinar si un cliente X puede ser o no aprobado para un producto financiero.\n",
    "\n",
    "Modelos a usar:\n",
    "\n",
    "- Regresión Logística (modelo clásico en el análisis de scoring crediticio, es el mas aceptado generalmente)\n",
    "- Random Forest (mas robusto y con mejor balance entre potencia e interpretabilidad)\n",
    "- XGBoost (Es el más preciso pero no tan interpretable)\n",
    "\n",
    "Se evalúan utilizando métricas como:\n",
    "\n",
    "- Accuracy (% de predicciones correctas sobre el total de los casos)\n",
    "- Recall (Mide cuantos clientes que podrían ser aprobados fueron correctamente detectados).\n",
    "- Auc (Mide como el modelo es capas de diferenciar entre aprobados y no aprobados, que tan bien los ordena de un lado y del otro)."
   ]
  },
  {
   "cell_type": "markdown",
   "id": "2fff8eab",
   "metadata": {},
   "source": [
    "## ❑ Regresión Logística"
   ]
  },
  {
   "cell_type": "markdown",
   "id": "60e3917b",
   "metadata": {},
   "source": [
    "Primero antes que nada hay que escalar variables, ya que por ejemplo \"edad\" está en un rango de entre 0 a 100, \"ingreso\" tiene rangos mayores por ejemplo de 10.000 hasta 1.000.000 y \"educacion\" tiene valores de 0 a 4. Por esta causa al escalar las variables se previene que alguna de estas, sobretodo los valores muy grandes dominen el modelo solo por su escala. En definitiva transforma los valores para que tengan una media cero y DS (Desviación Estandar) de 1.\n",
    "Sin escalar, algunas variables podrían parecer menos importantes de lo que realmente son, solo por tener un rango más pequeño."
   ]
  },
  {
   "cell_type": "code",
   "execution_count": 41,
   "id": "db8c004f",
   "metadata": {},
   "outputs": [],
   "source": [
    "columnas = ['Edad', 'Ingreso', 'Hijos', 'Desempleado', 'Inmueble', 'Auto', 'Educacion', 'Estado Civil', 'Tipo de Casa', 'Empleo']"
   ]
  },
  {
   "cell_type": "code",
   "execution_count": 42,
   "id": "c18c0012",
   "metadata": {},
   "outputs": [],
   "source": [
    "X = df[columnas]    \n",
    "y = df['Target']"
   ]
  },
  {
   "cell_type": "code",
   "execution_count": 43,
   "id": "18538155",
   "metadata": {},
   "outputs": [],
   "source": [
    "from sklearn.preprocessing import StandardScaler\n",
    "scaler = StandardScaler()\n",
    "X_scaled = scaler.fit_transform(X)"
   ]
  },
  {
   "cell_type": "markdown",
   "id": "101a1f2b",
   "metadata": {},
   "source": [
    "Como comenté al comienzo del análisis, hay un desbalance puesto que los aprobados son pocos por lo que puede distorcionar los resultados, \n",
    "por esto hay que balancear las clases"
   ]
  },
  {
   "cell_type": "code",
   "execution_count": 44,
   "id": "8e3680ba",
   "metadata": {},
   "outputs": [],
   "source": [
    "from sklearn.linear_model import LogisticRegression\n",
    "lr = LogisticRegression(class_weight='balanced', random_state=42) # Aqui balanceo las clases"
   ]
  },
  {
   "cell_type": "code",
   "execution_count": 45,
   "id": "33c46ccd",
   "metadata": {},
   "outputs": [
    {
     "ename": "NameError",
     "evalue": "name 'X_test' is not defined",
     "output_type": "error",
     "traceback": [
      "\u001b[1;31m---------------------------------------------------------------------------\u001b[0m",
      "\u001b[1;31mNameError\u001b[0m                                 Traceback (most recent call last)",
      "\u001b[1;32m<ipython-input-45-e17bf9bad03a>\u001b[0m in \u001b[0;36m<module>\u001b[1;34m\u001b[0m\n\u001b[0;32m      1\u001b[0m \u001b[1;31m# Acá estoy ajustando el umbral de decisión que por defecto el modelo usa 0.5. Al bajar a 0.3 mas obvservaciones se clasifican como 1.\u001b[0m\u001b[1;33m\u001b[0m\u001b[1;33m\u001b[0m\u001b[1;33m\u001b[0m\u001b[0m\n\u001b[1;32m----> 2\u001b[1;33m \u001b[0my_prob\u001b[0m \u001b[1;33m=\u001b[0m \u001b[0mlr\u001b[0m\u001b[1;33m.\u001b[0m\u001b[0mpredict_proba\u001b[0m\u001b[1;33m(\u001b[0m\u001b[0mX_test\u001b[0m\u001b[1;33m)\u001b[0m\u001b[1;33m[\u001b[0m\u001b[1;33m:\u001b[0m\u001b[1;33m,\u001b[0m \u001b[1;36m1\u001b[0m\u001b[1;33m]\u001b[0m\u001b[1;33m\u001b[0m\u001b[1;33m\u001b[0m\u001b[0m\n\u001b[0m\u001b[0;32m      3\u001b[0m \u001b[0mthreshold\u001b[0m \u001b[1;33m=\u001b[0m \u001b[1;36m0.3\u001b[0m\u001b[1;33m\u001b[0m\u001b[1;33m\u001b[0m\u001b[0m\n\u001b[0;32m      4\u001b[0m \u001b[0my_pred\u001b[0m \u001b[1;33m=\u001b[0m \u001b[1;33m(\u001b[0m\u001b[0my_prob\u001b[0m \u001b[1;33m>=\u001b[0m \u001b[0mthreshold\u001b[0m\u001b[1;33m)\u001b[0m\u001b[1;33m.\u001b[0m\u001b[0mastype\u001b[0m\u001b[1;33m(\u001b[0m\u001b[0mint\u001b[0m\u001b[1;33m)\u001b[0m\u001b[1;33m\u001b[0m\u001b[1;33m\u001b[0m\u001b[0m\n",
      "\u001b[1;31mNameError\u001b[0m: name 'X_test' is not defined"
     ]
    }
   ],
   "source": [
    "# Acá estoy ajustando el umbral de decisión que por defecto el modelo usa 0.5. Al bajar a 0.3 mas obvservaciones se clasifican como 1.\n",
    "y_prob = lr.predict_proba(X_test)[:, 1]\n",
    "threshold = 0.3  \n",
    "y_pred = (y_prob >= threshold).astype(int)"
   ]
  },
  {
   "cell_type": "code",
   "execution_count": null,
   "id": "cfef5b8c",
   "metadata": {},
   "outputs": [],
   "source": [
    "y_prob = predict_proba(X_test)[:, 1]"
   ]
  },
  {
   "cell_type": "code",
   "execution_count": null,
   "id": "73c14678",
   "metadata": {},
   "outputs": [],
   "source": [
    "from sklearn.model_selection import train_test_split\n",
    "X_train, X_test, y_train, y_test = train_test_split(X, y, test_size=0.3, random_state=42, stratify=y)"
   ]
  },
  {
   "cell_type": "code",
   "execution_count": null,
   "id": "f7a6df98",
   "metadata": {},
   "outputs": [],
   "source": [
    "lr.fit(X_train, y_train)\n",
    "y_pred = lr.predict(X_test)\n",
    "y_prob = lr.predict_proba(X_test)[:,1]"
   ]
  },
  {
   "cell_type": "code",
   "execution_count": null,
   "id": "3ee722db",
   "metadata": {
    "scrolled": true
   },
   "outputs": [],
   "source": [
    "from sklearn.metrics import accuracy_score, recall_score, roc_auc_score, confusion_matrix\n",
    "print(\"Accuracy:\", accuracy_score(y_test, y_pred))\n",
    "print(\"Recall:\", recall_score(y_test, y_pred))\n",
    "print(\"AUC:\", roc_auc_score(y_test, y_prob))\n",
    "print()\n",
    "print(\"Matriz de confusión:\\n\", confusion_matrix(y_test, y_pred))\n",
    "\n",
    "cm = confusion_matrix(y_test, y_pred)\n",
    "\n",
    "labels = np.array([[\"Verdaderos Negativos = {}\".format(cm[0,0]), \"Falsos Positivos = {}\".format(cm[0,1])],\n",
    "                   [\"Falso Negativos = {}\".format(cm[1,0]), \"Verdaderos Positivos = {}\".format(cm[1,1])]])\n",
    "\n",
    "sns.heatmap(cm, annot=labels, fmt='', cmap='Blues', cbar=False)\n",
    "\n",
    "plt.title('Matriz de Confusión modelo Logístico')\n",
    "plt.xlabel('Clase Predicha')\n",
    "plt.ylabel('Clase Real')\n",
    "\n",
    "# Mostrar el gráfico\n",
    "plt.show()"
   ]
  },
  {
   "cell_type": "markdown",
   "id": "691e3fa9",
   "metadata": {},
   "source": [
    "<div class=\"alert alert-warning\">Aunque la regresión logística ya está optimizada (con escalado de variables, umbral ajustado y balanceo de clases), los valores de AUC y recall siguen siendo bajos. Dado que busco mejorar la capacidad predictiva, incluso a costa de perder algo de interpretabilidad, optaré por probar otros algoritmos más complejos para continuar el análisis</div>"
   ]
  },
  {
   "cell_type": "code",
   "execution_count": null,
   "id": "eb41a815",
   "metadata": {},
   "outputs": [],
   "source": [
    "import pandas as pd\n",
    "from sklearn.model_selection import train_test_split\n",
    "from sklearn.preprocessing import StandardScaler\n",
    "from sklearn.metrics import accuracy_score, recall_score, roc_auc_score\n",
    "from sklearn.linear_model import LogisticRegression\n",
    "from sklearn.ensemble import RandomForestClassifier\n",
    "import xgboost as xgb\n",
    "\n",
    "# Supongamos que df ya tiene tus variables numéricas codificadas y la columna objetivo 'Approved'\n",
    "# df = pd.read_csv('datos_clientes.csv')\n",
    "\n",
    "# Variables predictoras\n",
    "X = df[['Educacion', 'Estado Civil', 'Tipo de Casa', 'Empleo']]\n",
    "y = df['Target']\n",
    "\n",
    "# Dividir en entrenamiento y prueba\n",
    "X_train, X_test, y_train, y_test = train_test_split(X, y, test_size=0.3, random_state=42, stratify=y)\n",
    "\n",
    "# Escalar variables para regresión logística (opcional pero recomendable)\n",
    "scaler = StandardScaler()\n",
    "X_train_scaled = scaler.fit_transform(X_train)\n",
    "X_test_scaled = scaler.transform(X_test)\n",
    "\n",
    "# 1️⃣ Regresión Logística\n",
    "lr = LogisticRegression(class_weight='balanced', random_state=42)\n",
    "lr.fit(X_train_scaled, y_train)\n",
    "y_pred_lr = lr.predict(X_test_scaled)\n",
    "y_prob_lr = lr.predict_proba(X_test_scaled)[:,1]\n",
    "\n",
    "# 2️⃣ Random Forest\n",
    "rf = RandomForestClassifier(n_estimators=100, max_depth=5, random_state=42)\n",
    "rf.fit(X_train, y_train)\n",
    "y_pred_rf = rf.predict(X_test)\n",
    "y_prob_rf = rf.predict_proba(X_test)[:,1]\n",
    "\n",
    "# 3️⃣ XGBoost\n",
    "xgb_model = xgb.XGBClassifier(n_estimators=100, max_depth=4, learning_rate=0.1, random_state=42, eval_metric='logloss')\n",
    "xgb_model.fit(X_train, y_train)\n",
    "y_pred_xgb = xgb_model.predict(X_test)\n",
    "y_prob_xgb = xgb_model.predict_proba(X_test)[:,1]\n",
    "\n",
    "# Función para mostrar métricas\n",
    "def mostrar_metricas(y_true, y_pred, y_prob, modelo):\n",
    "    acc = accuracy_score(y_true, y_pred)\n",
    "    rec = recall_score(y_true, y_pred)\n",
    "    auc = roc_auc_score(y_true, y_prob)\n",
    "    print(f\"{modelo}: Accuracy={acc:.3f}, Recall={rec:.3f}, AUC={auc:.3f}\")\n",
    "\n",
    "# Mostrar métricas de los tres modelos\n",
    "mostrar_metricas(y_test, y_pred_lr, y_prob_lr, \"Regresión Logística\")\n",
    "mostrar_metricas(y_test, y_pred_rf, y_prob_rf, \"Random Forest\")\n",
    "mostrar_metricas(y_test, y_pred_xgb, y_prob_xgb, \"XGBoost\")"
   ]
  },
  {
   "cell_type": "code",
   "execution_count": null,
   "id": "998874ec",
   "metadata": {},
   "outputs": [],
   "source": []
  }
 ],
 "metadata": {
  "kernelspec": {
   "display_name": "Python 3",
   "language": "python",
   "name": "python3"
  },
  "language_info": {
   "codemirror_mode": {
    "name": "ipython",
    "version": 3
   },
   "file_extension": ".py",
   "mimetype": "text/x-python",
   "name": "python",
   "nbconvert_exporter": "python",
   "pygments_lexer": "ipython3",
   "version": "3.9.3"
  }
 },
 "nbformat": 4,
 "nbformat_minor": 5
}
